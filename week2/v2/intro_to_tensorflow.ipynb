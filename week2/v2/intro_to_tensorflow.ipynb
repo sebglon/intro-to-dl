{
  "nbformat": 4,
  "nbformat_minor": 0,
  "metadata": {
    "kernelspec": {
      "display_name": "Python 3",
      "language": "python",
      "name": "python3"
    },
    "language_info": {
      "codemirror_mode": {
        "name": "ipython",
        "version": 3
      },
      "file_extension": ".py",
      "mimetype": "text/x-python",
      "name": "python",
      "nbconvert_exporter": "python",
      "pygments_lexer": "ipython3",
      "version": "3.6.5"
    },
    "colab": {
      "name": "intro_to_tensorflow.ipynb",
      "provenance": [],
      "include_colab_link": true
    }
  },
  "cells": [
    {
      "cell_type": "markdown",
      "metadata": {
        "id": "view-in-github",
        "colab_type": "text"
      },
      "source": [
        "<a href=\"https://colab.research.google.com/github/sebglon/intro-to-dl/blob/master/week2/v2/intro_to_tensorflow.ipynb\" target=\"_parent\"><img src=\"https://colab.research.google.com/assets/colab-badge.svg\" alt=\"Open In Colab\"/></a>"
      ]
    },
    {
      "cell_type": "markdown",
      "metadata": {
        "id": "EGIAzweuHfGQ",
        "colab_type": "text"
      },
      "source": [
        "# Intro to TensorFlow\n",
        "\n",
        "This notebook covers the basics of TF and shows you an animation with gradient descent trajectory.\n",
        "<img src=\"https://github.com/sebglon/intro-to-dl/blob/master/week2/v2/images/gradient_descent.png?raw=1\" style=\"width:50%\">"
      ]
    },
    {
      "cell_type": "markdown",
      "metadata": {
        "id": "aX13oKmGHfGT",
        "colab_type": "text"
      },
      "source": [
        "# TensorBoard"
      ]
    },
    {
      "cell_type": "markdown",
      "metadata": {
        "id": "e-qv2JRSHfGV",
        "colab_type": "text"
      },
      "source": [
        "**Plase note that if you are running on the Coursera platform, you won't be able to access the tensorboard instance due to the network setup there.**\n",
        "\n",
        "Run `tensorboard --logdir=./tensorboard_logs --port=7007` in bash.\n",
        "\n",
        "If you run the notebook locally, you should be able to access TensorBoard on http://127.0.0.1:7007/"
      ]
    },
    {
      "cell_type": "code",
      "metadata": {
        "id": "SkD4wBVGHfGW",
        "colab_type": "code",
        "colab": {
          "base_uri": "https://localhost:8080/",
          "height": 34
        },
        "outputId": "c6e135dd-b10e-4b8e-a8f6-53cd37b991db"
      },
      "source": [
        "import tensorflow as tf\n",
        "import sys\n",
        "sys.path.append(\"../..\")\n",
        "from keras_utils import reset_tf_session\n",
        "s = reset_tf_session()\n",
        "print(\"We're using TF\", tf.__version__)"
      ],
      "execution_count": 16,
      "outputs": [
        {
          "output_type": "stream",
          "text": [
            "We're using TF 1.15.0\n"
          ],
          "name": "stdout"
        }
      ]
    },
    {
      "cell_type": "markdown",
      "metadata": {
        "id": "K7J-62KVHfGb",
        "colab_type": "text"
      },
      "source": [
        "# Warming up\n",
        "For starters, let's implement a python function that computes the sum of squares of numbers from 0 to N-1."
      ]
    },
    {
      "cell_type": "code",
      "metadata": {
        "id": "5eOwXdEyHfGc",
        "colab_type": "code",
        "colab": {}
      },
      "source": [
        "import numpy as np\n",
        "\n",
        "def sum_python(N):\n",
        "    return np.sum(np.arange(N)**2)"
      ],
      "execution_count": 0,
      "outputs": []
    },
    {
      "cell_type": "code",
      "metadata": {
        "id": "RYyLa0TxHfGg",
        "colab_type": "code",
        "colab": {
          "base_uri": "https://localhost:8080/",
          "height": 68
        },
        "outputId": "df707203-c2c9-4e14-ec36-f076a0228a73"
      },
      "source": [
        "%%time\n",
        "sum_python(10**5)"
      ],
      "execution_count": 18,
      "outputs": [
        {
          "output_type": "stream",
          "text": [
            "CPU times: user 1.46 ms, sys: 859 µs, total: 2.32 ms\n",
            "Wall time: 1.55 ms\n"
          ],
          "name": "stdout"
        },
        {
          "output_type": "execute_result",
          "data": {
            "text/plain": [
              "333328333350000"
            ]
          },
          "metadata": {
            "tags": []
          },
          "execution_count": 18
        }
      ]
    },
    {
      "cell_type": "markdown",
      "metadata": {
        "id": "4FM_vJAYHfGj",
        "colab_type": "text"
      },
      "source": [
        "# Tensoflow teaser\n",
        "\n",
        "Doing the very same thing"
      ]
    },
    {
      "cell_type": "code",
      "metadata": {
        "id": "CdT0V9AVHfGk",
        "colab_type": "code",
        "colab": {}
      },
      "source": [
        "# An integer parameter\n",
        "N = tf.placeholder('int64', name=\"input_to_your_function\")\n",
        "\n",
        "# A recipe on how to produce the same result\n",
        "result = tf.reduce_sum(tf.range(N)**2)"
      ],
      "execution_count": 0,
      "outputs": []
    },
    {
      "cell_type": "code",
      "metadata": {
        "id": "n1m43LPHHfGn",
        "colab_type": "code",
        "colab": {
          "base_uri": "https://localhost:8080/",
          "height": 34
        },
        "outputId": "34d08797-dfb5-4bb8-9b36-f9b46f90f63d"
      },
      "source": [
        "# just a graph definition\n",
        "result"
      ],
      "execution_count": 20,
      "outputs": [
        {
          "output_type": "execute_result",
          "data": {
            "text/plain": [
              "<tf.Tensor 'Sum:0' shape=() dtype=int64>"
            ]
          },
          "metadata": {
            "tags": []
          },
          "execution_count": 20
        }
      ]
    },
    {
      "cell_type": "code",
      "metadata": {
        "id": "2aPNs4Q3HfGp",
        "colab_type": "code",
        "colab": {
          "base_uri": "https://localhost:8080/",
          "height": 68
        },
        "outputId": "afc4bfd7-b163-4711-a013-67114562832c"
      },
      "source": [
        "%%time\n",
        "# actually executing\n",
        "result.eval({N: 10**5})"
      ],
      "execution_count": 21,
      "outputs": [
        {
          "output_type": "stream",
          "text": [
            "CPU times: user 4.93 ms, sys: 978 µs, total: 5.91 ms\n",
            "Wall time: 10.9 ms\n"
          ],
          "name": "stdout"
        },
        {
          "output_type": "execute_result",
          "data": {
            "text/plain": [
              "333328333350000"
            ]
          },
          "metadata": {
            "tags": []
          },
          "execution_count": 21
        }
      ]
    },
    {
      "cell_type": "code",
      "metadata": {
        "id": "RD7lx0V9HfGs",
        "colab_type": "code",
        "colab": {}
      },
      "source": [
        "# logger for tensorboard\n",
        "writer = tf.summary.FileWriter(\"tensorboard_logs\", graph=s.graph)"
      ],
      "execution_count": 0,
      "outputs": []
    },
    {
      "cell_type": "markdown",
      "metadata": {
        "id": "qye8DDRcHfGv",
        "colab_type": "text"
      },
      "source": [
        "# How does it work?\n",
        "1. Define placeholders where you'll send inputs\n",
        "2. Make a symbolic graph: a recipe for mathematical transformation of those placeholders\n",
        "3. Compute outputs of your graph with particular values for each placeholder\n",
        "  * `output.eval({placeholder: value})`\n",
        "  * `s.run(output, {placeholder: value})`\n",
        "\n",
        "So far there are two main entities: \"placeholder\" and \"transformation\" (operation output)\n",
        "* Both can be numbers, vectors, matrices, tensors, etc.\n",
        "* Both can be int32/64, floats, booleans (uint8) of various size.\n",
        "\n",
        "* You can define new transformations as an arbitrary operation on placeholders and other transformations\n",
        " * `tf.reduce_sum(tf.arange(N)**2)` are 3 sequential transformations of placeholder `N`\n",
        " * There's a tensorflow symbolic version for every numpy function\n",
        "   * `a+b, a/b, a**b, ...` behave just like in numpy\n",
        "   * `np.mean` -> `tf.reduce_mean`\n",
        "   * `np.arange` -> `tf.range`\n",
        "   * `np.cumsum` -> `tf.cumsum`\n",
        "   * If you can't find the operation you need, see the [docs](https://www.tensorflow.org/versions/r1.3/api_docs/python).\n",
        "   \n",
        "`tf.contrib` has many high-level features, may be worth a look."
      ]
    },
    {
      "cell_type": "code",
      "metadata": {
        "id": "umvE69HDHfGw",
        "colab_type": "code",
        "colab": {}
      },
      "source": [
        "with tf.name_scope(\"Placeholders_examples\"):\n",
        "    # Default placeholder that can be arbitrary float32\n",
        "    # scalar, vertor, matrix, etc.\n",
        "    arbitrary_input = tf.placeholder('float32')\n",
        "\n",
        "    # Input vector of arbitrary length\n",
        "    input_vector = tf.placeholder('float32', shape=(None,))\n",
        "\n",
        "    # Input vector that _must_ have 10 elements and integer type\n",
        "    fixed_vector = tf.placeholder('int32', shape=(10,))\n",
        "\n",
        "    # Matrix of arbitrary n_rows and 15 columns\n",
        "    # (e.g. a minibatch of your data table)\n",
        "    input_matrix = tf.placeholder('float32', shape=(None, 15))\n",
        "    \n",
        "    # You can generally use None whenever you don't need a specific shape\n",
        "    input1 = tf.placeholder('float64', shape=(None, 100, None))\n",
        "    input2 = tf.placeholder('int32', shape=(None, None, 3, 224, 224))\n",
        "\n",
        "    # elementwise multiplication\n",
        "    double_the_vector = input_vector*2\n",
        "\n",
        "    # elementwise cosine\n",
        "    elementwise_cosine = tf.cos(input_vector)\n",
        "\n",
        "    # difference between squared vector and vector itself plus one\n",
        "    vector_squares = input_vector**2 - input_vector + 1"
      ],
      "execution_count": 0,
      "outputs": []
    },
    {
      "cell_type": "code",
      "metadata": {
        "id": "a_newkheHfGy",
        "colab_type": "code",
        "colab": {}
      },
      "source": [
        "my_vector =  tf.placeholder('float32', shape=(None,), name=\"VECTOR_1\")\n",
        "my_vector2 = tf.placeholder('float32', shape=(None,))\n",
        "my_transformation = my_vector * my_vector2 / (tf.sin(my_vector) + 1)"
      ],
      "execution_count": 0,
      "outputs": []
    },
    {
      "cell_type": "code",
      "metadata": {
        "id": "fB6kpEZoHfG1",
        "colab_type": "code",
        "colab": {
          "base_uri": "https://localhost:8080/",
          "height": 34
        },
        "outputId": "e0a17103-d1b7-4849-d409-7a95783741a3"
      },
      "source": [
        "print(my_transformation)"
      ],
      "execution_count": 27,
      "outputs": [
        {
          "output_type": "stream",
          "text": [
            "Tensor(\"truediv_1:0\", shape=(?,), dtype=float32)\n"
          ],
          "name": "stdout"
        }
      ]
    },
    {
      "cell_type": "code",
      "metadata": {
        "id": "sxlswmkxHfG3",
        "colab_type": "code",
        "colab": {
          "base_uri": "https://localhost:8080/",
          "height": 68
        },
        "outputId": "1fc8caeb-1973-4474-aeec-c6ed03b34c6b"
      },
      "source": [
        "dummy = np.arange(5).astype('float32')\n",
        "print(dummy)\n",
        "my_transformation.eval({my_vector: dummy, my_vector2: dummy[::-1]})"
      ],
      "execution_count": 29,
      "outputs": [
        {
          "output_type": "stream",
          "text": [
            "[0. 1. 2. 3. 4.]\n"
          ],
          "name": "stdout"
        },
        {
          "output_type": "execute_result",
          "data": {
            "text/plain": [
              "array([0.       , 1.6291324, 2.0950115, 2.6289961, 0.       ],\n",
              "      dtype=float32)"
            ]
          },
          "metadata": {
            "tags": []
          },
          "execution_count": 29
        }
      ]
    },
    {
      "cell_type": "code",
      "metadata": {
        "id": "xOJDM6rzHfG5",
        "colab_type": "code",
        "colab": {}
      },
      "source": [
        "writer.add_graph(my_transformation.graph)\n",
        "writer.flush()"
      ],
      "execution_count": 0,
      "outputs": []
    },
    {
      "cell_type": "markdown",
      "metadata": {
        "id": "flylmBDlHfG8",
        "colab_type": "text"
      },
      "source": [
        "TensorBoard allows writing scalars, images, audio, histogram. You can read more on tensorboard usage [here](https://www.tensorflow.org/get_started/graph_viz)."
      ]
    },
    {
      "cell_type": "markdown",
      "metadata": {
        "id": "BfoD1DqgHfG9",
        "colab_type": "text"
      },
      "source": [
        "# Summary\n",
        "* Tensorflow is based on computation graphs\n",
        "* A graph consists of placeholders and transformations"
      ]
    },
    {
      "cell_type": "markdown",
      "metadata": {
        "id": "XFaKDcvNHfG9",
        "colab_type": "text"
      },
      "source": [
        "# Loss function: Mean Squared Error\n",
        "\n",
        "Loss function must be a part of the graph as well, so that we can do backpropagation."
      ]
    },
    {
      "cell_type": "code",
      "metadata": {
        "id": "j3yC0YCRHfG-",
        "colab_type": "code",
        "colab": {}
      },
      "source": [
        "with tf.name_scope(\"MSE\"):\n",
        "    y_true = tf.placeholder(\"float32\", shape=(None,), name=\"y_true\")\n",
        "    y_predicted = tf.placeholder(\"float32\", shape=(None,), name=\"y_predicted\")\n",
        "    # Implement MSE(y_true, y_predicted), use tf.reduce_mean(...)\n",
        "    # mse = ### YOUR CODE HERE ###\n",
        "    mse=tf.reduce_mean(tf.squared_difference(y_true, y_predicted))\n",
        "\n",
        "def compute_mse(vector1, vector2):\n",
        "    return mse.eval({y_true: vector1, y_predicted: vector2})"
      ],
      "execution_count": 0,
      "outputs": []
    },
    {
      "cell_type": "code",
      "metadata": {
        "id": "4gp6Qsg9HfHA",
        "colab_type": "code",
        "colab": {}
      },
      "source": [
        "writer.add_graph(mse.graph)\n",
        "writer.flush()"
      ],
      "execution_count": 0,
      "outputs": []
    },
    {
      "cell_type": "code",
      "metadata": {
        "id": "I0OmHSX7HfHD",
        "colab_type": "code",
        "colab": {}
      },
      "source": [
        "# Rigorous local testing of MSE implementation\n",
        "import sklearn.metrics\n",
        "for n in [1, 5, 10, 10**3]:\n",
        "    elems = [np.arange(n), np.arange(n, 0, -1), np.zeros(n),\n",
        "             np.ones(n), np.random.random(n), np.random.randint(100, size=n)]\n",
        "    for el in elems:\n",
        "        for el_2 in elems:\n",
        "            true_mse = np.array(sklearn.metrics.mean_squared_error(el, el_2))\n",
        "            my_mse = compute_mse(el, el_2)\n",
        "            if not np.allclose(true_mse, my_mse):\n",
        "                print('mse(%s,%s)' % (el, el_2))\n",
        "                print(\"should be: %f, but your function returned %f\" % (true_mse, my_mse))\n",
        "                raise ValueError('Wrong result')"
      ],
      "execution_count": 0,
      "outputs": []
    },
    {
      "cell_type": "markdown",
      "metadata": {
        "id": "QzxT0pt6HfHH",
        "colab_type": "text"
      },
      "source": [
        "# Variables\n",
        "\n",
        "Placeholder and transformation values are not stored in the graph once the execution is finished. This isn't too comfortable if you want your model to have parameters (e.g. network weights) that are always present, but can change their value over time.\n",
        "\n",
        "Tensorflow solves this with `tf.Variable` objects.\n",
        "* You can assign variable a value at any time in your graph\n",
        "* Unlike placeholders, there's no need to explicitly pass values to variables when `s.run(...)`-ing\n",
        "* You can use variables the same way you use transformations \n",
        " "
      ]
    },
    {
      "cell_type": "code",
      "metadata": {
        "id": "DCbdriWbHfHI",
        "colab_type": "code",
        "colab": {}
      },
      "source": [
        "# Creating a shared variable\n",
        "shared_vector_1 = tf.Variable(initial_value=np.ones(5),\n",
        "                              name=\"example_variable\")"
      ],
      "execution_count": 0,
      "outputs": []
    },
    {
      "cell_type": "code",
      "metadata": {
        "id": "RljM-UupHfHK",
        "colab_type": "code",
        "colab": {
          "base_uri": "https://localhost:8080/",
          "height": 34
        },
        "outputId": "ff1ee553-a632-4a67-9b5c-0353efaa4454"
      },
      "source": [
        "# Initialize variable(s) with initial values\n",
        "s.run(tf.global_variables_initializer())\n",
        "\n",
        "# Evaluating the shared variable\n",
        "print(\"Initial value\", s.run(shared_vector_1))"
      ],
      "execution_count": 36,
      "outputs": [
        {
          "output_type": "stream",
          "text": [
            "Initial value [1. 1. 1. 1. 1.]\n"
          ],
          "name": "stdout"
        }
      ]
    },
    {
      "cell_type": "code",
      "metadata": {
        "id": "OnMkcSMLHfHN",
        "colab_type": "code",
        "colab": {
          "base_uri": "https://localhost:8080/",
          "height": 34
        },
        "outputId": "824fcfbd-57e3-42c3-f87c-d230567fed7b"
      },
      "source": [
        "# Setting a new value\n",
        "s.run(shared_vector_1.assign(np.arange(5)))\n",
        "\n",
        "# Getting that new value\n",
        "print(\"New value\", s.run(shared_vector_1))"
      ],
      "execution_count": 37,
      "outputs": [
        {
          "output_type": "stream",
          "text": [
            "New value [0. 1. 2. 3. 4.]\n"
          ],
          "name": "stdout"
        }
      ]
    },
    {
      "cell_type": "markdown",
      "metadata": {
        "id": "6G22panMHfHR",
        "colab_type": "text"
      },
      "source": [
        "# tf.gradients - why graphs matter\n",
        "* Tensorflow can compute derivatives and gradients automatically using the computation graph\n",
        "* True to its name it can manage matrix derivatives\n",
        "* Gradients are computed as a product of elementary derivatives via the chain rule:\n",
        "\n",
        "$$ {\\partial f(g(x)) \\over \\partial x} = {\\partial f(g(x)) \\over \\partial g(x)}\\cdot {\\partial g(x) \\over \\partial x} $$\n",
        "\n",
        "It can get you the derivative of any graph as long as it knows how to differentiate elementary operations"
      ]
    },
    {
      "cell_type": "code",
      "metadata": {
        "id": "fmdVjiZ7HfHT",
        "colab_type": "code",
        "colab": {
          "base_uri": "https://localhost:8080/",
          "height": 88
        },
        "outputId": "0af2b0fd-a162-4992-bbb4-3de8fb53cd5e"
      },
      "source": [
        "my_scalar = tf.placeholder('float32')\n",
        "\n",
        "scalar_squared = my_scalar**2\n",
        "\n",
        "# A derivative of scalar_squared by my_scalar\n",
        "derivative = tf.gradients(scalar_squared, [my_scalar, ])"
      ],
      "execution_count": 38,
      "outputs": [
        {
          "output_type": "stream",
          "text": [
            "WARNING:tensorflow:From /usr/local/lib/python3.6/dist-packages/tensorflow_core/python/ops/math_grad.py:1375: where (from tensorflow.python.ops.array_ops) is deprecated and will be removed in a future version.\n",
            "Instructions for updating:\n",
            "Use tf.where in 2.0, which has the same broadcast rule as np.where\n"
          ],
          "name": "stdout"
        }
      ]
    },
    {
      "cell_type": "code",
      "metadata": {
        "id": "j4iJIpHhHfHV",
        "colab_type": "code",
        "colab": {
          "base_uri": "https://localhost:8080/",
          "height": 34
        },
        "outputId": "18116c59-124e-400b-8e8d-deb700bea077"
      },
      "source": [
        "derivative"
      ],
      "execution_count": 39,
      "outputs": [
        {
          "output_type": "execute_result",
          "data": {
            "text/plain": [
              "[<tf.Tensor 'gradients/pow_1_grad/Reshape:0' shape=<unknown> dtype=float32>]"
            ]
          },
          "metadata": {
            "tags": []
          },
          "execution_count": 39
        }
      ]
    },
    {
      "cell_type": "code",
      "metadata": {
        "id": "e3jhxthuHfHX",
        "colab_type": "code",
        "colab": {
          "base_uri": "https://localhost:8080/",
          "height": 265
        },
        "outputId": "41db64fd-dd08-453f-b3de-f60c7bf776b9"
      },
      "source": [
        "import matplotlib.pyplot as plt\n",
        "%matplotlib inline\n",
        "\n",
        "x = np.linspace(-3, 3)\n",
        "x_squared, x_squared_der = s.run([scalar_squared, derivative[0]],\n",
        "                                 {my_scalar:x})\n",
        "\n",
        "plt.plot(x, x_squared,label=\"$x^2$\")\n",
        "plt.plot(x, x_squared_der, label=r\"$\\frac{dx^2}{dx}$\")\n",
        "plt.legend();"
      ],
      "execution_count": 40,
      "outputs": [
        {
          "output_type": "display_data",
          "data": {
            "image/png": "[encoded data removed]",
            "text/plain": [
              "<Figure size 432x288 with 1 Axes>"
            ]
          },
          "metadata": {
            "tags": []
          }
        }
      ]
    },
    {
      "cell_type": "markdown",
      "metadata": {
        "id": "c34GY4aCHfHZ",
        "colab_type": "text"
      },
      "source": [
        "# Why that rocks"
      ]
    },
    {
      "cell_type": "code",
      "metadata": {
        "id": "bHqI5nN-HfHZ",
        "colab_type": "code",
        "colab": {}
      },
      "source": [
        "my_vector = tf.placeholder('float32', [None])\n",
        "# Compute the gradient of the next weird function over my_scalar and my_vector\n",
        "# Warning! Trying to understand the meaning of that function may result in permanent brain damage\n",
        "weird_psychotic_function = tf.reduce_mean(\n",
        "    (my_vector+my_scalar)**(1+tf.nn.moments(my_vector,[0])[1]) + \n",
        "    1./ tf.atan(my_scalar))/(my_scalar**2 + 1) + 0.01*tf.sin(\n",
        "    2*my_scalar**1.5)*(tf.reduce_sum(my_vector)* my_scalar**2\n",
        "                      )*tf.exp((my_scalar-4)**2)/(\n",
        "    1+tf.exp((my_scalar-4)**2))*(1.-(tf.exp(-(my_scalar-4)**2)\n",
        "                                    )/(1+tf.exp(-(my_scalar-4)**2)))**2\n",
        "\n",
        "der_by_scalar = tf.gradients(weird_psychotic_function, my_scalar)\n",
        "der_by_vector = tf.gradients(weird_psychotic_function, my_vector)"
      ],
      "execution_count": 0,
      "outputs": []
    },
    {
      "cell_type": "code",
      "metadata": {
        "id": "DtQxvUDPHfHb",
        "colab_type": "code",
        "colab": {
          "base_uri": "https://localhost:8080/",
          "height": 265
        },
        "outputId": "e42f77ff-125d-4e66-9e81-2b2164848cde"
      },
      "source": [
        "# Plotting the derivative\n",
        "scalar_space = np.linspace(1, 7, 100)\n",
        "\n",
        "y = [s.run(weird_psychotic_function, {my_scalar:x, my_vector:[1, 2, 3]})\n",
        "     for x in scalar_space]\n",
        "\n",
        "plt.plot(scalar_space, y, label='function')\n",
        "\n",
        "y_der_by_scalar = [s.run(der_by_scalar,\n",
        "                         {my_scalar:x, my_vector:[1, 2, 3]})\n",
        "                   for x in scalar_space]\n",
        "\n",
        "plt.plot(scalar_space, y_der_by_scalar, label='derivative')\n",
        "plt.grid()\n",
        "plt.legend();"
      ],
      "execution_count": 42,
      "outputs": [
        {
          "output_type": "display_data",
          "data": {
            "image/png": "[encoded data removed]",
            "text/plain": [
              "<Figure size 432x288 with 1 Axes>"
            ]
          },
          "metadata": {
            "tags": []
          }
        }
      ]
    },
    {
      "cell_type": "markdown",
      "metadata": {
        "id": "nCaIkGTxHfHe",
        "colab_type": "text"
      },
      "source": [
        "# Almost done - optimizers\n",
        "\n",
        "While you can perform gradient descent by hand with automatic gradients from above, tensorflow also has some optimization methods implemented for you. Recall momentum & rmsprop?"
      ]
    },
    {
      "cell_type": "code",
      "metadata": {
        "id": "IyewO-GlHfHe",
        "colab_type": "code",
        "colab": {}
      },
      "source": [
        "y_guess = tf.Variable(np.zeros(2, dtype='float32'))\n",
        "y_true = tf.range(1, 3, dtype='float32')\n",
        "\n",
        "loss = tf.reduce_mean((y_guess - y_true + 0.5*tf.random_normal([2]))**2) \n",
        "\n",
        "step = tf.train.MomentumOptimizer(0.03, 0.5).minimize(loss, var_list=y_guess)"
      ],
      "execution_count": 0,
      "outputs": []
    },
    {
      "cell_type": "markdown",
      "metadata": {
        "id": "ZSvvDSH6HfHg",
        "colab_type": "text"
      },
      "source": [
        "Let's draw a trajectory of a gradient descent in 2D"
      ]
    },
    {
      "cell_type": "code",
      "metadata": {
        "id": "pKEp5lO5HfHh",
        "colab_type": "code",
        "colab": {
          "base_uri": "https://localhost:8080/",
          "height": 269
        },
        "outputId": "3d5274ac-e333-4a61-8ed4-4aa3ae912cd1"
      },
      "source": [
        "from matplotlib import animation, rc\n",
        "import matplotlib_utils\n",
        "from IPython.display import HTML, display_html\n",
        "\n",
        "# nice figure settings\n",
        "fig, ax = plt.subplots()\n",
        "y_true_value = s.run(y_true)\n",
        "level_x = np.arange(0, 2, 0.02)\n",
        "level_y = np.arange(0, 3, 0.02)\n",
        "X, Y = np.meshgrid(level_x, level_y)\n",
        "Z = (X - y_true_value[0])**2 + (Y - y_true_value[1])**2\n",
        "ax.set_xlim(-0.02, 2)\n",
        "ax.set_ylim(-0.02, 3)\n",
        "s.run(tf.global_variables_initializer())\n",
        "ax.scatter(*s.run(y_true), c='red')\n",
        "contour = ax.contour(X, Y, Z, 10)\n",
        "ax.clabel(contour, inline=1, fontsize=10)\n",
        "line, = ax.plot([], [], lw=2)\n",
        "\n",
        "# start animation with empty trajectory\n",
        "def init():\n",
        "    line.set_data([], [])\n",
        "    return (line,)\n",
        "\n",
        "trajectory = [s.run(y_guess)]\n",
        "\n",
        "# one animation step (make one GD step)\n",
        "def animate(i):\n",
        "    s.run(step)\n",
        "    trajectory.append(s.run(y_guess))\n",
        "    line.set_data(*zip(*trajectory))\n",
        "    return (line,)\n",
        "\n",
        "anim = animation.FuncAnimation(fig, animate, init_func=init,\n",
        "                               frames=100, interval=20, blit=True)"
      ],
      "execution_count": 44,
      "outputs": [
        {
          "output_type": "display_data",
          "data": {
            "image/png": "[encoded data removed]",
            "text/plain": [
              "<Figure size 432x288 with 1 Axes>"
            ]
          },
          "metadata": {
            "tags": []
          }
        }
      ]
    },
    {
      "cell_type": "code",
      "metadata": {
        "id": "eqcYrLYKHfHj",
        "colab_type": "code",
        "colab": {
          "base_uri": "https://localhost:8080/",
          "height": 309
        },
        "outputId": "a651226a-f3fe-491e-d7ff-3ab0ea007a4b"
      },
      "source": [
        "try:\n",
        "    display_html(HTML(anim.to_html5_video()))\n",
        "except (RuntimeError, KeyError):\n",
        "    # In case the build-in renderers are unaviable, fall back to\n",
        "    # a custom one, that doesn't require external libraries\n",
        "    anim.save(None, writer=matplotlib_utils.SimpleMovieWriter(0.001))"
      ],
      "execution_count": 45,
      "outputs": [
        {
          "output_type": "display_data",
          "data": {
            "text/html": [
              "<video width=\"432\" height=\"288\" controls autoplay loop>\n",
              "  <source type=\"video/mp4\" src=\"data:video/mp4;base64,AAAAHGZ0eXBNNFYgAAACAGlzb21pc28yYXZjMQAAAAhmcmVlAABL4m1kYXQAAAKuBgX//6rcRem9\n",
              "5tlIt5Ys2CDZI+7veDI2NCAtIGNvcmUgMTUyIHIyODU0IGU5YTU5MDMgLSBILjI2NC9NUEVHLTQg\n",
              "QVZDIGNvZGVjIC0gQ29weWxlZnQgMjAwMy0yMDE3IC0gaHR0cDovL3d3dy52aWRlb2xhbi5vcmcv\n",
              "eDI2NC5odG1sIC0gb3B0aW9uczogY2FiYWM9MSByZWY9MyBkZWJsb2NrPTE6MDowIGFuYWx5c2U9\n",
              "MHgzOjB4MTEzIG1lPWhleCBzdWJtZT03IHBzeT0xIHBzeV9yZD0xLjAwOjAuMDAgbWl4ZWRfcmVm\n",
              "PTEgbWVfcmFuZ2U9MTYgY2hyb21hX21lPTEgdHJlbGxpcz0xIDh4OGRjdD0xIGNxbT0wIGRlYWR6\n",
              "b25lPTIxLDExIGZhc3RfcHNraXA9MSBjaHJvbWFfcXBfb2Zmc2V0PS0yIHRocmVhZHM9MyBsb29r\n",
              "YWhlYWRfdGhyZWFkcz0xIHNsaWNlZF90aHJlYWRzPTAgbnI9MCBkZWNpbWF0ZT0xIGludGVybGFj\n",
              "ZWQ9MCBibHVyYXlfY29tcGF0PTAgY29uc3RyYWluZWRfaW50cmE9MCBiZnJhbWVzPTMgYl9weXJh\n",
              "bWlkPTIgYl9hZGFwdD0xIGJfYmlhcz0wIGRpcmVjdD0xIHdlaWdodGI9MSBvcGVuX2dvcD0wIHdl\n",
              "aWdodHA9MiBrZXlpbnQ9MjUwIGtleWludF9taW49MjUgc2NlbmVjdXQ9NDAgaW50cmFfcmVmcmVz\n",
              "aD0wIHJjX2xvb2thaGVhZD00MCByYz1jcmYgbWJ0cmVlPTEgY3JmPTIzLjAgcWNvbXA9MC42MCBx\n",
              "cG1pbj0wIHFwbWF4PTY5IHFwc3RlcD00IGlwX3JhdGlvPTEuNDAgYXE9MToxLjAwAIAAADJnZYiE\n",
              "AC///vau/MsrRwuVLh1Ze7NR8uhJcv2IMH1oAAADAADVayF8oYJVUBjg5Cl8UC950wnQObmxLpMS\n",
              "eTd2N1o7ZvU7nZLqidQWs9IRqH4qZFuUNOvgrgAArGB7WlESNB735J/CfrjEy3i5zjzWx5r7oD4b\n",
              "7vRGf5YZpSE2SfCltWRnqtLPBS3FxRjhpp/BEdar5txSfEu67R/ppgZwAi2i8ff512MwmU2ndVwZ\n",
              "0/IypwbXeLiexIGKwjGLSLtuFQ6Y/OKysfXRdbpNhUrKtfRj7PsZ4sEuP5y4zl61S+z6VZzYCdA7\n",
              "422O/g7ogLDysqUE24GpHGaJCX2wbS68ujTHQP6XxiSrNlnDwZHgbp5EeVkCuMJlhlbRejAAAW5E\n",
              "i95ObYO5PsuB/yXJXIr296w2R4KtEWts2QxCeaTyILNtSj0FAa6n+Sm+7xuX2JriZx97d2rE/cAU\n",
              "Qsh/+Ymis26EZW9S/cjgVqTEtyVS3CIlK2Ezdp99jK7/nX0GHUivuh8QdJ4bhVPEmo5B7TQYe9Nv\n",
              "n+ebyMRkTx7hvj05vOEfMTes/dwPLUI91WSm8NQ11fuo1LrBS7pJhE73vxY1JjcZWnegaFLpPjAo\n",
              "+BqceCYe5S3Av97ANnEBmzojm/SDmWarQluOhREg6XGZMu4a7snjhzyH4/KonlxVMyXTB8Ya3dGT\n",
              "vrxM2T8GRxsFP+Ki2XIeafZhzaICPKgU1x2LYZqQc9bRDlrWDpuTNmcCbrO7DXBPWt4+vc4y9j4O\n",
              "nmehjy3+29CwtFTKfeNDtJqpsgh9q2E1nXMB/b67agis4/9zgOkKQTrSKTL/ETxrRLU+M6bDF5Hw\n",
              "Mkk0WQCW3/aB4rOdB/mjy0qnw4YqFkBjk8S3abocW1VP5xCX6kQu/S+pHlRN6K+k0MK67uDbQpak\n",
              "Tg3oFCVnZYtI4fIdaw6N4CrUmzN3+T+U2DAvRHNB/dqFoMjErvCTrUOM5i6sgMFnPlzXuzglEx3r\n",
              "tNS/ihpBKoZOTd1ViyEWuvp6CRVIYeDAf+u+GRvSyJD0uB2YFMYXUoJNAnwTcmSYyZTb5a4nxvDl\n",
              "TOC8jlarLZ59F/D69SA66HYNiutMC2dploDTw52cruOXTwGu6T12mOk1kVNnQZriDnZ5c7I+N9HQ\n",
              "a5ZPa57KaQLMuwNl5cmGiFp4HWwZktokWS6ak4lEXjSXXAiOxi7qBV49WigxIGR33VW8wRNdN3Dv\n",
              "xgLQBmCInEdpSYWVa/7NpJBBH7cIb8ttDQIp2sXitLdMBUvDn63XlKb2/rqFXm4DJl2Woi2N3Ol0\n",
              "XloGi675i1F6emt9/LLYQhVVKflHygiF0G+O9AVc2N/8DsTZJwFSpbyMG/Tst2fF3Nvy0sScZcTV\n",
              "4KwHspWfq9YHyH4DdFDKVMWM1BaNsqek0yKv6K+jX0LsoL5Vr8KjZJ+RihiRjHS1R2byBoCqoi0P\n",
              "rEI0pWor53obQeyY52ReSt/DWLCDSWlOgDG1tlMEleKmjysrE3aS59PR9hA8bdC7kPhnQ2tV0gSL\n",
              "26GNMIDjsMBRW/3SowhuZbrNmTlxmBYV3hCRfvFysfKbzpg5k1qs459I2wsyLeKD4f8dcrcvCUg7\n",
              "oa5G0vn+lToJZzDw2LcJk1HdFaIWUgC+woiUDqCzpfSNceg028zPwTXzCmJDKwJOvcBGFhwXmp4z\n",
              "wi9Vr56d6r3XzmGGMexwaChFdcX3+RnqS6Fw1gLH+WHqMHBf88Ng0IQKG0O7KY1SfRF+RNUMAqRU\n",
              "kBDnE+T7CsIWk+iAI54usYhOf3ZzwGkFSFlrZlHY9TRsZ15m0U1+pVprAMA4MsGtUeFB07K6uyAV\n",
              "hk2T8AkUAGDGt4sbuxuZG7PcrbYaj8llFH8rxyn95ylTaRabhsAziWWC7fnI6NQXfyLMhYWCHoVI\n",
              "r/iEsCfCLQj0d8obYU/KyGIJsSVNrRLeMmc00DlWyv/ZHiAjr7+xLTQlAoP7yT5iaVIfVSZ9+b+Z\n",
              "WeCsaCl25Ys9K99tuM5jvlafGWZkFq1spKlVeojxVAAMpL8DFV2WUfJVGDMyE1ct046A1kPeiiRG\n",
              "MndQwdVptxma2zKIvc2BRolDDSa8/LEF/DjiwriNa9wikvvaZARq+hDDcPuIcAKXtTPQq2ohiVuw\n",
              "uarMf2mA9MkFrneFjnQM/0s+uU5jgquFlKj9kUf//Lh34l2T6bAG0DTd5uCP6eT02CYSX3QIXsLL\n",
              "vy+OY3KnRyizGufKPRrjje2TuAigKjeqH7cYeCWz1iPtwQykwnhsY3/FF/HX986703GJVFl1p/be\n",
              "f1tDkb3B0ULSUcf1tgTlTn8Myoh4A1wgOqpDaNHzXmTBg9pH/cMjBYQQuTtpURQKVbwIHZWR0Uyy\n",
              "u1MxcZgaHnIFqJXEdLsje/wFD8aC1GUFwM6/CSYeMQWp3u2I+3S4yNoI3fHZfah0u4c1vvNbiEcK\n",
              "Nz6vsG6t0IfQVVeKqAoiOUqHAsu3ZOaFvOwn5EIaLhRH1bjVxyA4jOYhY8mJ6SrGdsncxO1mEKJp\n",
              "VZpQgC5hyDeyoH+/ZrHoyH01UpsZxzfvl2U6PuiBIVCWlKAUfiiMyg9tS1LiqfTp3pNXVZkOglxU\n",
              "AVXLxhAvM7ve5ct6bpU3I6pDH2Liipvmm6CmJ3v7FLEMFSAH/fleCoqOjQA3ybCj248xQb5sNOJN\n",
              "DBHEnP5YJ4jTDtzYbvfyC24/Wz9K1LK057yAuT51mRhoEj3ok2srA2J0BF5mI/th3bLiMXqrnoFv\n",
              "F7Jbp85SUJzo/otG3/hBE2m5kolxd9TFo2JMmdD15GataI/wfXGq2K2K1KbW8DrtvpHzbROuO3e3\n",
              "AQB0lsTn1SgiUtDwLeQEhMGpdUuL6vUzrtIR/MfSIDUT444AOMTmTBjCApv5r3nbK+LIB53KuKMh\n",
              "E4P1gWIqhgveyuzjO5LMBk124zNjbyfuFpbvJkP5N0RiqBr+L+fr2qzU35QRvVND8DrK1gqls4Q0\n",
              "q4dbNY0Tr7219x0kShy+1x091tFmqEtxT5hAvLfmxbXE/XnVzdSgCgvaAJ+1mAWA0FCAq5GobAr0\n",
              "N+TPlx9cYh2BDinM3jlCtpKPgK2CC8NvRXjG+kQKLslf3wmNPLMgmX0pKqEAwj4TnrNZeaQwItkC\n",
              "GMRcLyhDXKlFJ+5NkMfnhv1xR888TU36NlRBZiRS5fVt+ECMzqb/qhATDHMTLPYZD37bRJyRVR1q\n",
              "B7yIuFp7L7cZIHwy8537GsmiyiEFVe9Oq0XlJsdCLfMKR3dCkUZbvaWNeVFG4KL0SSa+LclD1tcg\n",
              "c0Xu89/prve6hu54fkOX1h4qYmlwzbDbXdiTdUmQkwS3w2CPRd7EUL7vOufafBaORx4Aec/B4cH0\n",
              "lbtgc8L3GyoPK7UZXLMD9b2XALIDvq1LhTqkC6ohjqsYhspIkkmO250o/5m0vaLETfSle7pzIxBj\n",
              "nrkuH0hNrni9s093qkhN0l/3/HDjsTLC77bQeisJKBywBMy5YBhoIMGYyjOzCZMyRWdZHlMTBWKM\n",
              "+JQlXemyMQMXvjvaelulNnV3SX9VfRC47Kh5v9ODGZf1ZOXpODmjPGmolHS7mED5TACZ6vGex71K\n",
              "8++6rlWmPYFs/Bwcbmi8DukqdEEgVScQYLOPNxCeGG0++cHzUVK6IEwMfYti4YwZWNUWlyMzSCJD\n",
              "EgfSESp7CggmWqefyps6Xqhim8ym0VRT2UySQM306LsyM07IC1hjfiX9LUJFgmyeisKYdBenJbMR\n",
              "2VIJAYgmEo6rKL/sGSDZ2ataZAAhLeep6V/TKCVH5rIxzY7k7Vd33VG5oV7XSWbS2tcgnB1APyNd\n",
              "RbM1ofcrW0kFbw4A8vJ5WcCd8hp+esUDnDA/VntRBv4ibKWp3LmJhI967fO1HhIgqD2PkVoYiW30\n",
              "BVkY3DLHQe77Xexw3BXacrByzpDr3Boq6MXfbmdf6tTteDhLiBOZKaHkGBHC6GdpLC1tXP/+F7bp\n",
              "vZZIhLaDWG0QUOAsNB0uTWxf2S2VexdiQd5mw9s9iPmmjaGtHRbM4eAbXkSw+SVDscSSDS16GdSZ\n",
              "Yf7DTDhJ+DrfD1ad6ncHnrRTm3XjHXEgrGvYDeovml3qNFPoqWZN/dDGzjHQ+FsLTR/5J9grPjIl\n",
              "0LSA00cRVSjvmby+5cMEDBHZfWLX1Lav+jlgSMJkNqa9M0rxUnwpYGXwIqWkfwqK2Cvu3oH4Y0VW\n",
              "7FmGO6/ui/+1AyRnoSz/aZQ/vGo1AiKTbKTObiQuDkuEhqO/a2y6ZPzndAtpP4In//9JZM1FKY8N\n",
              "vrPYoIURvgGFKo0GN237DJq0gz1qrsZJSu0d3xAm5tibVYBhmSIv3TFu7BEyJN7QRxzKJhkDNZdN\n",
              "KC6ajWybJLHgkhV2EQkct7uxl2pDieqwVD4dA86iUsJp/8xzdfe00sXJo3WVMgNuAW9lshhBUd5i\n",
              "8BEVkR615Vy2shSx6Y8vlrbkgftpB6C3+NzJmlADASCtXVBWPaii/0E0D+jewYZRd4ZpGE1JhyPS\n",
              "7mSpZnhMJpMyLie9F02IpegPgVkywrF5mukkczLcZl/axkF0A7Usg10M2HrRwl85fQFOyTT2GlOU\n",
              "vAqWZ2iQvDZnQMnFUcC4GGqKW2KQFb/CDjTfJBZXIh0mncwrAI6EPiG9JasKKo+b9nZKDDqCq/oZ\n",
              "XlxJJeMjwtoCbJFTkN39glqxkDsAtGl9Rp8UDH/VGy9L2IPbk0WheUmHMzGbthJwFrV6OS9VcUWm\n",
              "O970oaNwvII/k/haGMl6AsbC9NxIRjACZLEGXCyWd0+lJdpN40L//7NgI8lJluwu4ljiSF4nfrLX\n",
              "XKFgVBiqaOdz05xuLnh8KsKWwL05F/2L6ezSDl8OuOfeZbArvbSmWhHV3CQcEZAiR54SWF5oAi7M\n",
              "6w/l0rVoqaozoFU09gKzo+WF/qmdX5jFrDWidvDGSVnbU7NWrqnDp2Dqd+hpjgxMzoUs1YGnfgEc\n",
              "341kEE414+nBqvlrB6S3bbMHPILZ2xzfLIzeQIDF7KRYmubmSYC40+gAAA+nK59+fB2/7CAwGxuZ\n",
              "cb8WJsEF6nhuzecXC61Fb+pKf1lgH7YlDrvb9yh166sbgs+SZ50Nm9lv8y/27T52b4uncriPm4yQ\n",
              "XvVatnOw8q5H0mKIw+ZQND8xwYlBM1SVj2U5SxzE9obzh5dZBoNzwOROZkJ6PeWvhF01ND/U1nZx\n",
              "3HBtGMvtdZhS2aTDbWHXEaIqXFR9+VWHjUFkNln2MkOcwBiP7V1rZ1gtKPfzSePMk9EoC4ri8ND3\n",
              "S0c0TutCatJzl6n8BgNnGpM2GLiRHRlbvRkJDpIdLjHETigERJ3GpvCv86M8YCPu5ov17gHiFWwN\n",
              "I944IuVFa+lDUAl/ar5qznMQDT0TnkgGk2s+n2fsYFdZMqHWzcCKfY1BzkFZGkhCnmPGnqgbK7n+\n",
              "Qtx/18GvXwTv1N9YA+PGD/wfs1sP3dHJdj9KklwS+bBGMHaCYjKB2MROkxJ6R0GopyEmmDLITCcH\n",
              "09prgwLrKxmzd4mc30IgrBsemqoyQwuNkbbFCC6GOYCd9xTlXD40n0D6LNz8LUEGpwcIiAmj8j5D\n",
              "QXRDGo2juQNIWan48mTIRG9uPDLszg9OhY5HMJnoVs0A3RDatlgCEVkf8J/GSB6oC2WE7DPsN7yq\n",
              "LoCFk73jnahDK/6epXOPFuN9a8iDb/QtjbsmJuQSYsi2Z7Rmtz1qEdVdgQKocQjCuaTw1d79LvGu\n",
              "NJqvqGMu0B54SRfJzkbgthU7PZV0nenCexNzncFk0tlLUTgKyG8RGkS785LKkzzWCWY2nomH0dB1\n",
              "Xxa3Cq0mqQCV5oS4iFsfjpXdkhm2IcK7uRhI0+mcIq9iqmzZaGr22TUl5OXqmR/qPP6V6XDPZUiF\n",
              "u8a4+fEUtYvtlXAlBOn8JFrDT7PWbEf/cuq7TSqbI0XLe5xb+D+smJt3iGs2Bg+iZLYdC5t7bbuC\n",
              "7s3EY8Zee+l+HcFBMZzv7vjJq+GQvVck30kdvzDORQOyexFNZZfdhWGmpemTmgRPoJvThku7H9wt\n",
              "+Js9fmnsa7iWcFBQArsfTaCpehb7Il9LsrXjHpK6kLG5EH4601YD4iJV9Pl5rr+6dwBa/iW/IC+9\n",
              "BD2e+DLD6Uq29MaRgtJ6u1ny+k/pMl+rK185QYUNWDnPn7yJS8POFV6CF3m2LuBe99QbyuFLAmNW\n",
              "VbU8fo8pCQagB4ODYPzcSXiahx4UgbYMqcIssXrfZz76Y/2U0kuzuJF9h18R5VT+ZR6BWojXqjuu\n",
              "JN1/Dlk6CBc9aQ9bao6VLZYH0DX+4pFEzXI+clNJ7ghvbIfjQNBMC47BCinHBuqz5+yyUqlzk3Gc\n",
              "skHQ2dhDwmFc2c53SXn1IVMecj4nwoZjNMzVx2xhD1r+SfhqqxOAUVX69Ei3Vu+JoumGqkxHxR+j\n",
              "osT+YgxFW7unMEitCx0sxANWkMbxNESq8WvawOvFWNpJguqcatdCGLt1P3deHvrrGqmGwai/5Z13\n",
              "AQo+5yXP+Qhe05nDlv7BPaB4Qx0LTgc7LQHjyPGen+VpbDvyfuKgt41PwpcvOopbe/C4z78Yfxgl\n",
              "vtTsVYMIzECOxMn1aYGCo57sAAv5BGyTy4Sb77TVPETNUrT4TlbqIYOi2w/CFjgL9UjAUiGYeN9a\n",
              "NwiO3mdWH40O9DAy7wo2/cFwkDKpM3h+SXpOuD8xJ550qSWz1R3kPYaPBkqn7Ikpw2X1KbRtDB9+\n",
              "xiQsXufOEZzkPz8qmnmk05ntg2exS75Nyb5j+tvyZUWyjZhVsnpjgbjzUMOU+hd5e3XEzL8aAJs7\n",
              "rGrwkUHFFr7G33sXVlSsoe+ah/0zUUQNd2oIOmcEVPC1QAMffFhB5w79WfVBzs+3GoR3ke+rf2Gh\n",
              "Qsu+VApLbAfw0eoOykc/3Vm6eIHSzLnH5re3lmhTra9YJWP9Nh4gAbFs2cvQbPMsobfT9ZTbSP8J\n",
              "kEQDwUdKqTF0k0gmTKxEyMZ5vWBMtAOhp/1AhZVElutqX0TWNAGX4RBSe5LHpoVADVo9NgfOeHTD\n",
              "Fml2pZP/LB6AIF8AldKM9/6vkeRNbPTKgm/psLE36lxKx3a1y3hcuz0lgCgXSV+tUdrMJNgzTB3r\n",
              "2IbQHLsa3izT5bM/TKriDK/ve7l9lh/ylgcfhUF0gBqQss0HLrzZx5DxRkQ+WwGwupWnY2jnX0IB\n",
              "r3TUTKIHY9MtfxeLXZa6QZFr+SYekIEFCJQVYClUhptWAp6Ptax7a6i7kTPHan1EYMdEqkWf3KJS\n",
              "J9x296cwUlXWxxDivlbr2Rcpn6qhc1Kvi2Y4F1BrlZlgzrfn6WEhRLrTCCg/2kUn/oFTC1IlLURN\n",
              "YLOQKnelygIznQNsrY7KVrzfIKdfzuiQIH4h8HitkC1f/mhGOp7B+Lewz6Z0jTm4+5w9IqxNp2EL\n",
              "A4NdWKAVHGE5+iU20EvcPbWGUBUyVIvPkbfa5Mme1CQzyLjYa8bTwrO/3w5rrlVQ/RCrPt9Z8/n0\n",
              "wFH4qc6nQmWdLB+0oooO6iLmzW7qWIAmB0/bTlqo/wUFspdJifnZPtMTXnhsFLQXHNTD1OqZQFf9\n",
              "57hoOQR3JtndPu7GrC/AVPONUxG4bl6teK/8ePDB2a1iT+/EmdgYrBW8IIqFfmlvLoqcNNYYXAI0\n",
              "6VBY7FKIT0xgelhsPRgxPOGeYF4sjGEob28+Baln+iXRYUmjgyYH9FY/3pfd58Fkn6o9rWThtly0\n",
              "RsMpL3QohuKvH3xr5kofkSJZJumIZej7hRR8AtdWG8/Htv0ooD9S5msdBdUpDhELmNFLfFpVPbKJ\n",
              "X6wmRaeuUYgacacJ2RBfxJYVuBDLjeG9fCoukPbVltsE1Dd6e+UzJJCtc4101dk95cKpNSyOJUAB\n",
              "GqTLSE7qZ8poNzGWpBCFpVG05KBW7AM+6+9KZWe8iRirMZhRJxylbunydtg1BQL7guR6Pnbs7deL\n",
              "rg/kk417w9rOlWZwuqxA7ibE/AxcKkrLO2qMk47aWW+1b4Na8EulPjgw60fqwuH3+PXpNTWB0E97\n",
              "hJ3qQ21QcDQNSUOCJndm/R4LgDrCuc2CuzFcYoDsKfwi4gDfu8dKkK9NG83OblT9ua7dd1eQiq1K\n",
              "K92UzSI/+M2K4HjZ4aafsKhXI8Dz/C63PDLY9cFz5ioyDZpjHp0Vop0BiZBMThl+Z4hShoeoAk2W\n",
              "wARKFD/1mDurynYM6U6g2QucFLHHt1CNuDwLVV8PgfTiD+lssWQaXIDyu8xQoOzgSBbvc+E82doA\n",
              "fmRtxoD4uzpDFbOBImQnVL+MPpPXFGMzBASyOFAghBSwHX+gIr7MCYadM3KXq00DN5u/D+NA+ily\n",
              "4rgtq3oN8e+fidpijk9WG9BUwrSeuT1oMgC2bl0MX/JKMkX4QwqWmNQCJonVviiRzP5/gk4Q4ISw\n",
              "BIJw3zHcrwfE12SUFgORQS56Vn94dg+14Zti5e55cWoU+SwdoRgWj1XX9uXMWXJnvo5SBlpyW+no\n",
              "KDkinKmDvtaWT0k0kYYEVZrXHSsLrrFo5m7bSdamZGiYCxtYG/7DsVCFq8IbPFVrZISfUxz5k6jA\n",
              "db/Ge2oJ6u0Ra+hvk9ZbuuqFy1FpQ+F7zq0ZkqK/YPyH9ot8RaPkwTr1/0nz4AZBk/kWTSp3TWNI\n",
              "7LbXH7m6TebBVZ4uAuvV98CaZJWWYnoghIAW7vRAwwj1T1IPFDnxVBpgTgstgcNye/WEsCf4DM2g\n",
              "B7kLnpjcrXcEiqa3VDteqQIfapKkyXLufq95gljWEw2IIIgCxsxbbEMKinFQ7Fz+tp7DqF2elhso\n",
              "42xkJ/pK42wEFPf4oufDIfHdWM9t2bqmL4/S9HUGg1Cp6+NZ9C6lpYAo2m/1QfbWxC9p2TvRDjCJ\n",
              "435O229gk+7FlW47Hal0Ndp0Lkew4dGzoE5xhVRE8fYB9INI2NM62qT+PZAwlboRnWr6nmfCQUMK\n",
              "AB0msQ/y3OYR5MAdv0qiTJfh5421qIG/sqXX++1RKNVpPRn4uWeVrzDjxoDciXXsNgeORyx8UC3W\n",
              "mgEPR3KzaQga7lC/Kvgek89/+Hfjev7Wns7s/Rest1vOo6eY4AALMnOq9rHWKjUF2HrIsr571JzH\n",
              "06HQa2MQhJCU3L4AWMv16mDypnPneuodtuItIA1pMxLs564usUP8cpHJVHz3zr7AOMr8fzwYDrlG\n",
              "SuCGonHdZ6jDnKvCi1raYHbRFzORwZawKEbdIsu/Itw7OF96i82N8028AZ7K4qyQgbjqQFGOpf2P\n",
              "XWv3srxE4vDvos1kvZNzK8gj8saG5TH9YgsNHi9r6nWylMd+UM/nbm5ITSpR/rOUDLRfuhB/Evpk\n",
              "1BALangVSLMrK/PpExnJNWmN0huUfnYJOETIlSFYMPr13+vJPrR42iY5YJ8HhNfITzBqG9vF5ADw\n",
              "LxBec4Z4t+G1FoFrEOwUoS5nYSN8taE/lj46EWo23s57EKEPpMh5xjPfECFkwxzdeVG4U+9omXhk\n",
              "6wn/xI6rNh5v50EobVv2vy7b9nO8zFy+QuHimPKTySjTZZNygX4K0iWGYcwpl3JBMsnMX9lf9ymJ\n",
              "HScfJir5gk2clUxyJP9ePYhvmo/Z2C+JhaSh1WNGPedLxi3AEhbw6pp3zQFN2wwtcPITRAcJN6N2\n",
              "bNr3B7EjDY3rBwBPaih9ssMXKLQjdruOspQVuvBr2HWI8i5YdfwN2SaYAHN5Px9Rri6Td3B1lzIO\n",
              "fE6Rm5XPfF6f3wrjJYcSb9TuNLJ6/GbDfNOluYap30BAC0ai1+98WXyKRsm2Qs0q9J6GS3JE2m/j\n",
              "WLCZoMzRpfzpw+myNcBJ6XuSJb5O2MlQbPUgTt6epp/+J2Joc//BrSNFasnI9FxCW/tB8iVfzbkk\n",
              "K6UwhuZxZ3x67/sZaQeXRstg3Z7vqA3WvvWQb1xgLedYNm9LYDaNr47/2jSxfwAgywLjkwPS6Af+\n",
              "qISg/7saLq6fUSOqcBfo1yYapjPYK07eU3PT9W671UUs4XAOapDW37Eg+xqIEtOO1yKN6/79AlvZ\n",
              "B9nfAJ95ZmUDUsVbZxj/xlOg0uK3qYD0N/gux5IGYUK0n4M4eoB6qbc6hYJ8PET0Sh9z1X+mbhr6\n",
              "wesYGmmwb/TcuLD/Lub6LEmaTziaSPvVFSR6LmyarfK0Tm9ARnefx++XYn2yHbMtt8vogSoDbLzE\n",
              "gWlklRZeOIYvOg5SQW3kZALcIGsmmhRJ7DPbkPeAaq96RB2YtWj0Nu6/MSs6BDbXcCkUZMpRDWEA\n",
              "qajanZp95jyIeIZYRFbEsdpFyweHai1xuCvxntu6IsebmagqmxPnNaLvyVeIHTSyxubslJQJSeX9\n",
              "73tpmKqj84FkKgA8nR6xikITYROlcwmAmv6viXJOw0FK8HXbC/blV0izNiFWSNZ3OnWHq5UnikEn\n",
              "2sPvkqPUvuN2NRxiH3rDchhmu8L5OhWUMjTTdMC/pgYwroJidLViDikmsjnxFcnr1VuyrQXrPfzM\n",
              "TX/4ndKEPhnxjs7K10yBZA1JIGX0lM8RGAJ/JlDR54/rovC4cufw8rRml0mj9deX/GfhkzVvUbIY\n",
              "IwPJfdipVb5Gs2z6DmGUaSmijIiC8I6UXgYCh6+ZZQe8OBl+qQbXfYc0i/hDq5hxqsYMPJd328rB\n",
              "qQARIgVjE+pMlfiq0f1ECOggp9Em6GGWMs27bNrXEMGbDyVGPCrmrAsLW6A/+DOSQa7DWTRlwdRi\n",
              "wchrUfgZj7bR9EcckIUdK8c7kz8FwtJz7AcMcejbus3J8o5xKv60H0XoXjA4QSNN8R9GLGtDjNIN\n",
              "V+6baFdwH4U5E3kC3tf7qtDvzGaDmb7d0uCVqubIkthFiPlYWuZ4RO55GkwMa3mXzuN1ax16U2aj\n",
              "C3g4z2q7slYaHQeNaQxoZnaTQsIiE/TmiDnx78FDJzj9CZG5IDibf/BftPGKq2Q5pWu6oDnyXK1r\n",
              "OHCReXJXxPQzYRFNyq9NtdfmgFtq4zs9oqw9GhykzCaoNFrSTxr0dX1fqEVnmvAfod/QiSpBmhBg\n",
              "c/isf+fRcMujqZgSHC7zETzKjROx3Gjyifdirf0Gp/9j9lZrdzAl3X42ST0uUCsG128/uRUWN2x4\n",
              "PKWpKU8WhuGY7fHXsYbgAhA0htAFk3rupJv67htq2MAx7LWGnxFYdP5V5XVrLQnUPbd+8EbQKKxj\n",
              "LMIcogKqaGq05KKx3MvknZDIMCUwyZk/I6ECheaWgJ79rFNJG0PuFfuwgB+AgWFos4FbOjutwNsV\n",
              "zS9MNOuegCrlzfbXCOAEYPI8ZbK3CMXvusxRf9cTT9w5lKGvx5VTNQt4+W7mm6WQSL3qft5D2YeL\n",
              "EAA6skwJ4fJ1KN8CW6YNWdkecOM63rlZ/BSpRAy2YgYQk2rlbGlC9BCPRK6y4oH+opvuqsfkk6a9\n",
              "j5z0udilYHBjDZPQ29FWCDydh7dbEb5CYOWSWZKCDXNnqaF4MRBXDc1fl6FBqvLHnphlk0pNI9oV\n",
              "e4x148bemf3UkB/UI0ea8fU+kK3z4n8Xw4xkj1vLJWm0nvMKp9XK/SnwI5VCdXYEw1ugy7TZIF1N\n",
              "u60M4Sl4bCGErDtZ2xG1MptYHq6ESEvHLbWL714kaImS7J87vvAg6YKsY2g7CafhfXUwWJatV3Vf\n",
              "croPPn/29d/qhUSD+UkbOK4qtG04Gg7b/yqKtREzWc7fcNZH41CavtLZyoAVHOxgm3oqXkAypDX6\n",
              "LiF2ITTN1x+CqO3b5Qg5l1U/KtEwsgFMSjnHUIhH745mtE8GSd7mmO6cIXi/S7Z+UKHNCoUd7AB0\n",
              "MuUCl+vtdW22JG+YE/Q9sNyr2RjYDp2WBMpY8WpNZtpS5l0214Epmt+x533DoVw05e2rW5F7sEs8\n",
              "LwvUzy+/ozkHmPB/kL994bpmLpsrWGLCEucFI104ZPHHZx6X8n9NZtnuz4ZCfa4XBNkB3/b8CJkF\n",
              "stUobLxQ7pn8fUi8gfCM8T6Jrqg1b/VVACErqUWgdAJsPnViJlNVL4kQXdtHAcum9DtM8fjSfVoL\n",
              "PUM33yD+r2uByxXMjDkIU66duPDhXTF1NZ+/NYx/pt4fBYVC59z0//GzpmGPu3NNiW8F5WgPvNvz\n",
              "F+rpdrQ2dIk/6u2jY870xmkfaYJnhHGolu/BMxEIZwJGkForHxdSOzegtRrRpY4ifxEDLfT4dZb9\n",
              "B/DI4+RT2KEGz2femSEGrc87f3edr8n8FWt9mo8F2Epl1+YXyJ7+u9NaCF1XXeRT8WaJ0xQo1+GO\n",
              "eFXtzx6gXVlfFpnsZXKzJn1kOaONvxxeX6ygbJbOhALcvRg2Q6vGwH1DeAzhsm1Al234uxiJPAps\n",
              "pFaoVOdtpK2UzRfcXODrJbauUgj3OrRfohrTduIk9kjC8JVLNMQrb5DjdBKMEiBPLIl1c2jVVbZL\n",
              "W5lWCV+bfISCYPwmCumjJWqro0hHHNUC6DMGVGqcbAzyvlywrqZa4sGCosPMXsRqvhljepOYuhi+\n",
              "gjj5MPK1BO5OAU9cMvkS9EjpRvta2QjLgM8dOauwkk1wmCyd6oC0DydV94FWXND+cmdik0r6wnmf\n",
              "D+/vgKO8W/Bghyso7QmVSp3ozHzqyBvAePlCwqw927JyYcrXxbX07STWcoiw9KL9bg7/P5PdMm27\n",
              "RG/PYR139yxcHTAcgg0V8SuI9oBl7bqQXe9bnLYM1t9BZScuUPgbLGnEPR00CKCGVHiT8v96Y1In\n",
              "tzzbZxn48+fyJVyN9/ij+FOOC4SplKEJtsHyzkHf20tKBj3yDUiyb+qdseXyphMGLzPTryc7QrwZ\n",
              "Ds73PfIxE6UOgGVMkZgzq1ipx6O9W3xWyLyQiF52ALLkGuEQVcLnp4cJrfIQClxFaXG/g/n3bb3c\n",
              "0fWbs9houkdQJKk7W7Atpu9kdQgSvRUTganhjyNTi3xbapcflIUce8W+Xtcz8GcrK+NUIg4FlcrU\n",
              "pERjBtVXsqxgrt9QnXzMUigmOQapKlgTOg8rg+hg6qHLoDa0SkcwYntemiTZZzwxRjvc3ljDknWm\n",
              "LXNRrCcj66hE3QEUYh+GYLRyQV9oGe1A2d3av1KiCVPsrSoVIElU0zLBfuBiGZ7kSQTNGoPoA+Z3\n",
              "Nfp+uHYVarvD6pPUFvVp6YpZ05lNLyP8uf/dcPt0eLP41d0xtomPHqqb2qtjqE2Xu+wXYfFBxxmY\n",
              "blj9Y+Usdmv5sUj4FQODSzT0MCRbZYyYEO7yFwTvS4GG8+vsdEeC4BaSZBRKd5W5atS3MJCh5Y55\n",
              "i/uNIw3m0xdtNkCsujnrm0Iu3VMsvhD5CGQ6BM4GTX71sjkcMdj+b8KLc/UxgXZgcOKdbhjE6ucH\n",
              "MNa0CNIcIMQxEJiOdFVaj5QN9ysc/mOqdA7cqFy65omxL5sWA1D84MvrVc1/YDqUb4Ua6N9PYJGe\n",
              "Cw9aZK9gp2j51T8z0wxE10Yu5ZynMeJkqb6E52dVszO3ogi7BWwFCMy5tvGN2gVttQjLLWItSZRk\n",
              "b3bqKuIEtsW9hq5yqgNXQC0muRzeGkCN2d9/BxuTX1q3TX+xF/XOwg1OXO7PbLl4BX21YzJVny/Z\n",
              "6efStvrs2DMD53AxmrbmqbOWYPOCPGHoD9IMn2m1xokyVtEj6Ekg2N7T6IR5x6KQ4bX4Q0geCwRV\n",
              "5OfAPu1fTbYns8W2uy9uQiva0Q4962AQip2aMN0VdomE5KfFhgq/2tKVKiNzZaRXu4VxOpnee/Uv\n",
              "Vru/xpwO2HWyM+hyORWhPrSzD8xsbjb5d6WaM2pArCH8sfbmGp1qkI5usv3JNzdy8zjsKWEiWPAl\n",
              "AwlNuRVrfMll7/8lZlrCA9T37uoi4SEic9PqnhQiAuQ+Oh7bXjkOADRYMDFBhyLDll1looRZ3eZg\n",
              "l8+84ip1alGw1q8Fqo3MRCCYgRLEhqBVBJA3alTn+8R8a6ovBiOxwybe1hfcfzU/rUnRAmVXJDcs\n",
              "q5HM81ceTWiONB3G3lN9zWw2m/k6bmvmrNo9AP+ie6vgC5VLLHCJAurWC8mtdJX//HdR7nszF7uC\n",
              "+hXK7TLYV4kl6OyQPa4i3jYJsscWIjtdW6cShg7lPmFCf8msjVoBl7DQl2/HTYlKu64HOIBIEV47\n",
              "TY9zWemO1IcCF/t241Ue9kwKnex5GBu9NHqfZl2kZBqzGq29EdluhieK8CrcvDjTKOGCUil2jsBr\n",
              "eFif23rkNGpgABI+5fiRBx/MySwfRzwwLIRQC1nVq0z2Tab0ZwT6dk6g4nKwOM1MxPa7ojzf+fcc\n",
              "Ill9mg4QJhA3Vni35+1b4famrtYYactWDgtNWFGewuLFhsnxYBltkBy7ptCdrXj/9UDDoufpWTLW\n",
              "Vcfn/AdhgGtQVgIUJfYxqA8YNYMZkZL747POB0Ey5LQySLg8SABEjYdOeiaXNW1WccewQSPeRPaG\n",
              "q6CRgYaVF5+N606r0YD/aULoRrRIlnVGnCcFUFQ0vugMwQCGp9eMuPIaMQun9UGT5R5J/u/cCrvX\n",
              "XKe0IpFi9FSapcgw5ZtOLqKmXUtsbdDpkEVM+eB6NprAbIdF9DIEo7YoKLofAAY/8Wqc+xHE/sY8\n",
              "OQ4P0lr7+sDNcp7ly5iscfMzjzu+EGZSOkZDmH6vuGEE/xpM7e5/NfsGGMCBBRT/XhVQdllP1zeX\n",
              "0OyN1XZDuS4YM5emQeDwE6YszbOV8ujcVth3eW0V5RGcJTY/KIuvk7KIGhDctJsxDa0x68RNRUr2\n",
              "AAgxxBAW8r8P87zolusr/Ci2YvIbIF6LJG5229ajryRfQXUZnhoBKF9otm7fwSp+XK+lPZXDo482\n",
              "M86TQ1FiETvZfjeatdQwIBwFfuKKvFEhL9o6vRoTN+nCqX7QpQB0aGAWOUkgPCy20uRqhjy//0PF\n",
              "YWtXh9Wz0aUYmYWN4/AWUngyNsB5PPbq/ddnqy6O8oYT1UpoAnG+dOZ9szvYlltWJciOLFgaqocE\n",
              "26NqU7q2QqvyRTH656//8pv8AyTQt8NeQjTq5QafAe/5VH3iSaG+zMFsebQiDb/LfR0qZ/cXWBDa\n",
              "OHP32gEcvK2QEkoVGYRyj1L2GeY6sjqdPmBwxNIQjD5Q8OjEcf9LXq2fZeccWD5Gapyx5R2Yjl8C\n",
              "Twn/Flqy/epPiicjEclRzp0KPvCUcgi6eoEIwJcgxUdOW2FAt1+l+9eGWw6d2PUT/3hHOtR68knN\n",
              "hBpxEoRMPktqPPYlomUpllUtjK9EK+CgalEujNG6uJJFohR2AdjVP1UVsJvuUv21skE0FkWxkx9d\n",
              "qxBCT+p3cUG+MOrHxoU/ADjKDG+7EwNL/84nRPoJOn+G/29P8w0JWx3FNA1BP26DM87WfmkMMWh6\n",
              "JYHkc2kI+kAeG+ZtJ9uauqGekfYhepHpD9xtRGgWcxG3XOFLKI7m6qvHCebppQVdNDq48EOB+p+P\n",
              "alxLsD8+AlF8HR3TNOwPnM6uERSO9N4BOdInTzRs6fakT2+fdLnXh/TMsgfCJTicBbh6CopTxC62\n",
              "MYkbkqg042aD90TkCBNIJgfvw8lDYxCFBGkN01mdHjDT1Qi+nYSwYaRROomFXzhzkrb0fzelpHVm\n",
              "M4HAuzC3OdnhF+FDWl+9QztEXachNOgI2SAmRvwmeJA9mmIi2TtN/ZUxKvfxVQzkoqJzvef6vL7g\n",
              "ttFsloBvQRpvmbdGvzRxSdeOZXsV1xUZ3K521HY4/JpU4JmIqG4q0RgGgiE7inUz1RatGKmwV8uc\n",
              "lelMYaffxTZCXUecqB4JfRWHOtiYxLAnUWa5MY39ZwNBxjeJeqP79SUt2RHtPfSXVvD99fmaKwrj\n",
              "gGl6kOeiDLsVErnp3MQI42FoE22+fXR7F8SMlggM5nL5gPUrg0HMGmN+6DaVJuTKoNxy4th+/eB/\n",
              "ejKAiHeHQxLJVu/rTqSERCLbxqY3zLG8VjZf6gxCWHz6kpH4XyUlUIJxncr/Y3lwMK9zCgrkLca3\n",
              "Xtg2AwNZtMmXBC7a7e1mWgCaKliZ7OwWeIj6p6bGr9k/RUmQQ/Hjklmpc3jlblxzj2sV+UVmNKvq\n",
              "PW0aUCDYWtC+VZHfXN23jYi+aHtY7NU5ZBI6j9gPe2iOlXk04vYVvDdg56cKQuLHsvNE3sWRwYdE\n",
              "DSCmP9Qf/3zlkDXHTzwbzxRV1MJttmcLRp+sdRTIQM4he68sqElz4aT6UaDaEwRlqNbqfBTxX5NX\n",
              "YdDBFE4bFMbwUOD2JXtoJArWmcN6cUn8QDsVPUItjRqD+tDpFdt9Zm+SySUT23zf+3ywEun9xN35\n",
              "F27wKzeiPSwzvy+c5PSSeSyNAOBA14k7E/j3kUAE69v2Q90jXZpbJl24gDOcsSHAUh4E3NzJLCHo\n",
              "XIfmrbWAAm0p4pDo1xSsZNbNe1mlv+mSudJAdrIKEMqS6is7NaSVURRIIvgQewy6NAKi7t70r1lm\n",
              "y3nWARQ9H03/NNKIuG3vwOlwwQ6RQKZit26sDcu2uCgFOfW398WwuAnwPDGZ0WeXWCvJS+JKCWm6\n",
              "Wkz/Vs2/CQ+7mkEmQF86HilKudQIv1K3OXVXu8aC2ed34AqwkPJ99gJIK+dqCWxM/ZuiXZDnKX9Y\n",
              "da9JJ/G3Kt1l75xIFl4bdEAoY4LBA90tfs/sx9KAfFa1Sgl9CT3xNKRVdnZlYAbfXB/rhWBxdOQA\n",
              "ytfs37JDYceE8EgLKD8bwYl3ksKNoo12/c9m0X9TAfTNwx+k9nfTklL0KfHMABKg2rLtDR6SM8uK\n",
              "rNrSJoo+jnquBF3A0ES2iOAEbLnDBd4UKNT5g2kCJrNWT7IgnDmr+U5jQ4/IziWmjvdbxz8/mx1O\n",
              "aGT64cSYJAdLuTbonZ+HXrl7h/I65IFVIWQAQRKzVzQfxfyGq/ScBcZvcn0xmf9qZasv59BHgegu\n",
              "7IZtzcxoEpHJ/aVtqlhcTYVB/pjFfZOxkBVA8EP4V7bzgddbLX4t3EPO4q8Jo5FKUAZLlG1Q1yec\n",
              "UQWdQt9OsoevJu6lRTV/h0FMtw6lhxnWIStu1IvlX6xdp8ipbg0Vu9xGoAw7ooKjxMJcoIxwBc8l\n",
              "qZH5vmLC7OPw8vzqzphqBTMVutlPXbkKbYX5UBo/5O9jFzd2LtETdPzf+e77JjQ+sWXL7eIQClfB\n",
              "p90zZ45JSa3Cw/RMZPSUjcigTkk0rE0FLtONgD9qJXprETuKC419ZPX1ly/gGdosRtbs5YvT/7MH\n",
              "bK3tFHmpEtIVzXRc650tOeNn+v1skNfZpkKORgkvQrrfsnItxZosikCLqURKKpFC5lgfqX8S2kdv\n",
              "D5tU/exhKHkX3r4lQlCAYIgwLlmO44+yjS3VfmCPL6paY+lc4Hj4LY2AkfNHY7/ovoull89ZbHf4\n",
              "TBgAXnLA4orI6+eCjzxYxRuJAAADDkGaImxC//6MsBzcTk5z4AeykO/0G2QDWqi/hcjUMSVj+XIX\n",
              "ovUOPaWGhX9+Y8rwZgYATyTQKKoNFutJot9TK54Yxq05MzCIdokG+VIr6LShG9H7LAy/2Xnc61km\n",
              "zCsue4xry3ALfbGYH4P6f4jo+YsyCaPKoQdo8lfiMp9uzyvlUKo611wjzqNMRS6zGDb5PyDqKhp+\n",
              "SeLxh+OolEqEDOizkK+92lv3eLfXUb5VAPRvGl03Z7TP2hR41bz6ufPnUXz/Ecs7h80jJrgr+IjT\n",
              "GC6aJVKkepnWx+DoY0FsSubS7Yw4Of1mzRCVxYCjj+YbBTqOaK70WFEL3AHRvl9/u/d5bBlg/Q0I\n",
              "hV7Iu21+fE7kVa7FJRk2vhljkn8+3IRPJNf7pyRIQbRysjwefwNgGTlVDX6H18mnFaYqg0bH1EZl\n",
              "WC7nIfWMFrnzgZYkv2Q3kfPPLaRuygVVmgrMlo8VlMQspDJBu051l4c7+Q+maFv7UEr6lERRM+uA\n",
              "bRADsZIWGlbPhTMvovhYesXyGvOO3NSkc/8JALGnF+tDsxHTdhPAU3gA+qAktwH3gMVp08CvbiS8\n",
              "3KT+vtcTb1KzcAD3Ps6+SlB2bw/Cf4ArQcEuBYaG3pTLnSW5LTABKhlJkJEZC0Pj9ELmJZ0F3esN\n",
              "PbNobTGAMNkaqlwLTczdffcofumi7Mv3eQBoVuJNI0kdfiPMDzUq0i/I8umb+iQN/vCfMV6Kc+Eq\n",
              "HBskoLEcTiYzJnii6TYnfrq5ZkG+Hmp+OmnxgHMSOQbl0NSuDE9naMMQph2AG5k61UGIwIa+vIry\n",
              "pEYr+LUV9CFI5RyipeKC/3YTZgkhZvs+5iRKPRa/fpgXbGGwzJMfA0AdwNsdqbK8kv9anfhmHBDZ\n",
              "kAaZOVCtS6d8Bi4Q5W8nf/DLwsRIdRydVkRnJgchENqwpNIdiw/9K+Md02DyVkct+MiCAxtw8PqP\n",
              "N31tKVPPeLP1JxQx112iUx0edx9QKKSnfu0aAexqEDDmj7mEpEduberd8uhuh2T/ZIih2KQxf6sR\n",
              "A8h6jIx4AAAAVAGeQXkf/wfrvFIPqfZbvoRH2psSMrLT7xqbfYnp4mtnk8f5JKZ2A9Z8XYNrWZmS\n",
              "F2pCsZYCzXrfThBOZ07j33cA7mvjQAerpin2Hf4U/8rTFGolIQAAAPRBmkQ8IZMphC///oywhOJy\n",
              "c58APZJh2sqwnsuAo3dimou5oLVvTAHxn8v3Q+PsH3A+TT4pAk/hAIWijaf9Qu5YA4NUjTK+Kbwh\n",
              "GiIR78EjHfptiivGqTqMOUKFWx4biWrai801z7hJKHfGEvWZrNC2ecO43WsUAZ1ZqWRPar9UWllx\n",
              "1mb2WOc0c4atx20vnq+RBIwlS3J7RxLfGskDI8S8WbOeI+3BoY0F0MGeFoVlyz9YE5AGhrdujKkS\n",
              "MX5xPnaeobIpWlQVrXycGebSfK0Bd6iwkIDmYfAb+T5OoyzMrLj7JbIWjlJiX81xmGUfAzwL7hCw\n",
              "AAAANwGeY2pH/wfkijKKSqTfFYHOQpndu3QhXMIXp3HgaaeN3yd7Cehu4tf9bAu5PVqNB58/kZ4C\n",
              "Ki8AAACjQZpmSeEPJlMFPC///oywFR3NBrU5XMLNjqX0trLEe2sY01ORLAgBUscXrR2+6KvntxlS\n",
              "BbY4E1sNKvGeGSBsmM33YjFqgP1NOxHqUc2DphyfHWedV1zUSw8lmX+ktO6JAbQc0INUPhP3H8Vt\n",
              "RtBDfiC1ZVXL7wyIQH1svaYDbBee45bMOjrRXXQPkKtKGlhg17XcZj2dQq1a1xgRrjqHn4WtUwAA\n",
              "AB0BnoVqR/8E8kiI6uvN0pqyED9d5Gkl5TXPsYoP4QAAAExBmodJ4Q8mUwIX//6MsAABlIe24AXm\n",
              "gEfE9TyrAsqomtQXYcyg9GuIuiEqjPlxr25url/ziL83OQEhdM1jRK1APQ0ICC1ocqnRxEUxAAAA\n",
              "pUGaqknhDyZTAhf//oywAAMo71oAMBlccfc7Pc6zm7WGw7bdLnlG84n9LEoMj9RVqlRhdwEczwhC\n",
              "Y7cxT28a0kfGGLcmupTShCPEtN2yXnksdn6tkVp3f/8Pd58xK/0DjbudqeuemQZesc5dAYlqNA0P\n",
              "62chd5dSi9W7EKJM4puYoR+7BZ2Po9tkHxOi8naeAY6UGp0GoJxUtOVwNZB0/6lm4YDZuAAAACNB\n",
              "nshFETwj/wCRKKlkNQxbK+a5jFPW4AAnWRM4itGPxbWH1wAAABoBnulqR/8AI78elLkfgBavwLEi\n",
              "sjt7fAGHCQAAAMVBmu1JqEFomUwIZ//+nhAABh3nRgDmH3CqdzBrOghuWLLtjqlm2jfeZNnqTQ0u\n",
              "91VO1gMj1mDGkThgbbbnH1HenLxy0lPTtVRI6UCt0lTtVUGGW2PVdk6AVtGDt6m0K14tHhgDSjHW\n",
              "POOPpBbcWzxIwnM3X0FtWMwqu29SWQLb25CfcolTDY1mvhOMvadNHP4hakfbVEX//nfM6Sunf+XH\n",
              "dKr0hrHD1EL8yoVmTsyvyHOD6kYpnAQyoKVK6NjIv2qqwFsAQAAAAB9BnwtFESwj/wCTFQgZlTfW\n",
              "d2ybOTjd5YU39VSMCCAlAAAAGQGfLGpH/wAjvx78cj8AJloMmbBUvL7WuzkAAACJQZsxSahBbJlM\n",
              "CF///oywAAwDu2wE8FRFLRRF0tteBGKQaNttILIfI+BVdwEczwhChl+JPNDTRWE56VZec5rJNIK0\n",
              "NgKHXmUbpnfhPyEd7546MRLGOUBP2ZL2+UfjSzNata9hRVcpXIWf8mm4o+N1e0YGSNjQhPeRz7CR\n",
              "FhC6YL2my6/Fl3CVQ1sAAAAuQZ9PRRUsI/8A3Nx7msLke8wnfOqfBdKr0AACMjJjzYHhkCQd9b7X\n",
              "GL5BdEMCQQAAABMBn250R/8AI6xC/eQVEosJoJRCAAAAHAGfcGpH/wAjvx/G5H4AbX+6SNCKzNFY\n",
              "PonVPnUAAAC3QZt1SahBbJlMCF///oywABb98ffTN7yAAgfChLeZUKEkRdsz36EEh6tQVQEDLhha\n",
              "TT47T2cE45vNIlId2VxGtyTvZ9LgLxyE4SeBenydte96Jc9Ujl34b2M6lBRbMFzhiF3KVQ7GiHNp\n",
              "tYTD6qdgFEjlt98nUmyGS3UZeBxgwrTEKhuq9ISca03XQJTwJ3aFKacs5GvbiefSy837y2r793Ut\n",
              "zuM41dvoqyOl4Tv6rDG2tEAPOtQRAAAAIUGfk0UVLCP/ANzce5rC5HvMJ3zq2cJzi50EYhqGnEMr\n",
              "IgAAABkBn7J0R/8AI6xC5o4eHABODWmwLQmkeuTcAAAAEAGftGpH/wAjvyEz2XZPu8kAAACPQZu4\n",
              "SahBbJlMCF///oywABbWZS8auUAG36SORlkUcxWR4hWa978rrz/ZmHTw0Zy47888aHKKhpKhUl3H\n",
              "kuMcxt2N2Dr/cX338Tfe75jxLfZiqw8wV4n6JRTzJ79cdsIBr/DqoUtZAsxY6LTtI1PC7SdJJ+8O\n",
              "Oi4mDv6Z1IuSH1j0K7TmhVSvfYiJ8BtXJIAAAAAqQZ/WRRUsI/8AkxUIGZU31nds1AYikcoAX4Y2\n",
              "Moxvkyd+rO4+1HWUB03pAAAAHwGf92pH/wAjvyfC906orhD3+GgA2z+JJCeC2S48wWEAAAB0QZv8\n",
              "SahBbJlMCF///oywACzHNFsPACg2wEKI2YgLYXEoIH5LPP/7oNnjO3FpppwR/AjRS+338atyXB6w\n",
              "xzwJ10BR1sYQ1MY8wSuP/tTEsHRp3ZlyQ45dqjYYr594ReE+BdAxwfpe/0JABhGqtO5KzIpRjqQA\n",
              "AAArQZ4aRRUsI/8A3Nx7msLke8wnfOxLfZBD3kAKAE8n9HW9Z3jlw5KOPt0OMQAAABYBnjl0R/8A\n",
              "I6xPi4vVNJERcBghD7NzAAAAFAGeO2pH/wAjvyeX+nwrkwqL4auHAAAAN0GaP0moQWyZTAhf//6M\n",
              "sAAssp/qbrVwDV8ZesAtKtRfih2KXu/cXcycrOlBdZB7p2TOCA3zF3EAAAAlQZ5dRRUsI/8AkxUI\n",
              "GZU31ndtZJuoAW4NTZSlsp4/h2Z1oOz8MAAAACEBnn5qR/8AI78nhKsBTwHKAGXBL90nzVghtErp\n",
              "i4Fw8KAAAABpQZpjSahBbJlMCF///oywACyY7bAMlQtwzV++B2hpTizbbRtBoR0y7umO8mi3q76v\n",
              "pzpgItOF19VMEH4YZuTgGsX8FWpCcIK9qmDuKnTIxIr4+8qWVVdO0Nldj6oPpXZqt1ENtN7KmYk5\n",
              "AAAAKkGegUUVLCP/ANzce5rC5HvMJ3zsV6vkL3b2ADMgLCWDBG/gmP408Rd4QAAAABQBnqB0R/8A\n",
              "I6xPqZHs8gydx0IQgQAAAB0BnqJqR/8AI78m9oMe6wAbTmhpi/XDj2uiC49wggAAADZBmqZJqEFs\n",
              "mUwIX//+jLAAK20Ghxh7VSmNgwA6R373tb6CIiCG8sMYBZxjBstz8aES0U+QpIEAAAAjQZ7ERRUs\n",
              "I/8AkxUIGZU31ndtTdyGmwAmWwOgGT8hvwo00m0AAAATAZ7lakf/ACO/JtsoSZNtdGAr4QAAAEhB\n",
              "mudJqEFsmUwIZ//+nhAAKxA+icnhfyAKn43phrk1nQzcscGHGSZ45+xm709uLFgrRxn+I76vRgmk\n",
              "cZahxruPOCm8q3Pw3oEAAABiQZsLSeEKUmUwIZ/+nhAAKxnHuAI0xQqkt24oVQsrIbHyMvKycyNg\n",
              "i1axlLJKbaPudnqDeY45SwIJWQybeEOADsjHo1bEbQoNRMKbXeoEukcTHtM/UUBNFv7JZ9STVBSf\n",
              "kTcAAAAjQZ8pRTRMI/8A3Nx7h73shsKd3/5nQVpLJjAMLVOOSsr7acYAAAARAZ9IdEf/ACxDDvck\n",
              "FeDI4y8AAAASAZ9Kakf/ACxZz4u8ewZlnFP8AAAAQ0GbT0moQWiZTAhn//6eEAAqFRzASu5YAWqY\n",
              "hg4tiZM68C8qygpfQJxLoTEBS7vyE8+nDZyuHM7wQpZFbiPaWfkQYEAAAAAvQZ9tRREsI/8A3Nx7\n",
              "msLke8wnfOwiAD5q7KHb8AC1z8I6GwpInQvj3gApM8ChU0EAAAAXAZ+MdEf/ACOsTQXD9E5HTnT0\n",
              "PjfTpCEAAAAbAZ+Oakf/ACO/JlmggAF09WUZD6DTxFP16FGLAAAAK0Gbk0moQWyZTAhn//6eEAAp\n",
              "+q0SADdeTC1s40fZvj1hXxqpIse+MZJwm4AAAAAfQZ+xRRUsI/8A3Nx7msLke8wnfOwsdj6TzkTg\n",
              "Z6QQ2gAAAA4Bn9B0R/8AI6xNiJFR/wAAAA0Bn9JqR/8AI78eKPuAAAAAQUGb10moQWyZTAhn//6e\n",
              "EABT8bjgDlG36chmqNts/06qstMe2sYYI+uNNXykYqlqJJsr9iFU/aOBxdS11fAjAG9AAAAAKUGf\n",
              "9UUVLCP/ANzce5rC5HvMKHFZ34kQwADZBJcIayjOH8hz+M6SvLUlAAAAEQGeFHRH/wAjrEAl4I+p\n",
              "M83AAAAAGgGeFmpH/wArRBzoB5WoAE40U5MSRWByD/whAAAAaEGaG0moQWyZTAhf//6MsABUw3C4\n",
              "AbfqF4crHHCiX4PU41jQ947susm4M8SSRSsktBGNB/STKHUuxfOSoxgb5wIJw6Or7Ek+gptRQh3b\n",
              "B9asDeYYpJrRkhSGXdgCpuDM7+7r0jwviKH/AAAAJkGeOUUVLCP/ANzce5rC5HvMKGuElwAC3Bhp\n",
              "wog0Kwc8Ve6cEa1AAAAAEwGeWHRH/wArIrlbrGWEIaC+Ql0AAAAPAZ5aakf/ACNLzPEu9EoWAAAA\n",
              "REGaX0moQWyZTAhf//6MsACMI4I5cVrANSs6eaSGCMM/agBHzytTJKjtLREDZKK2bXE6oMwGdFMA\n",
              "yGFGrbwBJRBOGEPBAAAAIkGefUUVLCP/ANzce5rC5HvMKDyD1Ie6wPDpJgZ3eb9mMUEAAAAQAZ6c\n",
              "dEf/ACoDF48szAAHBAAAAA0Bnp5qR/8AI78eKPuAAAAARkGagUmoQWyZTBRMM//+nhAARVIHA/i9\n",
              "UgAtca2Etnrk79DX97U/M0qUvdSWni61UwquGdkwTyT+SKWZfUzHnX1ppgxXIeEAAAAiAZ6gakf/\n",
              "AOh3yFRq8i4DjU/3EAFghwDzOruyEVCjWFLmxAAAAFdBmqVJ4QpSZTAhn/6eEAAqJ0jDeABdR4O/\n",
              "IKEE4CQ1oPm8ZU/9d+X0e/go+tpoRTE+tucDJ30XHaMnaTbi6pDhZcXjSS3cK+uxAvAHUfcLCeOZ\n",
              "M7cOIeEAAAApQZ7DRTRMI/8A3Nx7h73shsKcWV4rgATt3sGO+lAnniuVX/Z1tRF18oAAAAASAZ7i\n",
              "dEf/ABWfJdI5LkJT78khAAAAGQGe5GpH/wAVSYdge+QAmOXcwfpTiFz9y4EAAABZQZrpSahBaJlM\n",
              "CGf//p4QACsfKQABYfJZa1qui+v4JduX082pyRsZoIX3XoBNZjD2GeZXU2AD1KqT9/7/yi1ywRJK\n",
              "kQFgKqV3HL7ka5HlnE7t/K3rABq0XkEAAAApQZ8HRREsI/8A3Nx7msLke8wopm70visAFzpidobw\n",
              "scWxU+LFTz2AxNEAAAAWAZ8mdEf/ABYuykA+RhVCFSyUU7migAAAABUBnyhqR/8ALFm0J4wqXvQ9\n",
              "schO4IAAAAA8QZstSahBbJlMCGf//p4QACnyaOM71scAUy+FUWdAbZ8Qy+Dg6Ya/9JilK4tzOzPO\n",
              "Ki/NnY+SE0+uFhdxAAAAK0GfS0UVLCP/ANzce5rC5HvMKIZumRzTNAB7K4orQM4vZeXYY5Mq5q9t\n",
              "MfYAAAATAZ9qdEf/ACxC6RKmv/8+kIzMMAAAABEBn2xqR/8ALFmsJMJ/N/WGgQAAADVBm3FJqEFs\n",
              "mUwIZ//+nhAAKxnHuADb1TAz3Vz8IZOiJ/fQdS4qa+YfWji+CfWVMlw2y0LDZwAAACRBn49FFSwj\n",
              "/wDc3HuawuR7zCiowGHkIAF1C9IGOmfZUXmHW4EAAAARAZ+udEf/ACxC6ROQG6oCI+AAAAARAZ+w\n",
              "akf/ACxZqc4KUw7BGJAAAAA2QZu1SahBbJlMCF///oywACtuPgx82AIfEA4+8YifaUkhwQaMGyA9\n",
              "3BTf65a/NlAIiHuWNGKrAAAAJEGf00UVLCP/ANzce5rC5HvMKKi/vQecAARvhqd2gnFnpXOwMAAA\n",
              "ABEBn/J0R/8ALELpE5AbqgIj4AAAABgBn/RqR/8ALFmg19PwAEwDXMqD6G5JZCsAAAAyQZv5SahB\n",
              "bJlMCF///oywACt55vAA28nDLBVL7XDhutX62UdbmhcihKSjurOllkug44AAAAAgQZ4XRRUsI/8A\n",
              "3Nx7msLke8wmpwOpTIVhnoXUPPByd80AAAAVAZ42dEf/ABYiivABMflNJwzsFNCBAAAACwGeOGpH\n",
              "/wAAAwO6AAAAMEGaPUmoQWyZTAhf//6MsAArbMo6U3FqwAkhofa9EHlN4wsiwhobaAZBlVX/RoxV\n",
              "QQAAACNBnltFFSwj/wDc3HuawuR7zCalTDuPjB05MEsnyyAm3hHecwAAABgBnnp0R/8AFjmOAA9+\n",
              "WLQYRXoqhX8WCNkAAAALAZ58akf/AAADA7sAAAAiQZphSahBbJlMCE///fEAAZD6/47dwAkIXAPh\n",
              "Yg0ezxxDUgAAAB9Bnp9FFSwj/wDc3HuawuR7zCajYyPvSEJL5ZDhTpeAAAAACwGevnRH/wAAAwO7\n",
              "AAAADAGeoGpH/wAVnNYReQAAACJBmqNJqEFsmUwUTH/8hAAJp0PgADYnfy4RxtLJnhzEkEPBAAAA\n",
              "GAGewmpH/wDod8hUavIsmLSbdijSM6wIeAAAB7Ztb292AAAAbG12aGQAAAAAAAAAAAAAAAAAAAPo\n",
              "AAAH0AABAAABAAAAAAAAAAAAAAAAAQAAAAAAAAAAAAAAAAAAAAEAAAAAAAAAAAAAAAAAAEAAAAAA\n",
              "AAAAAAAAAAAAAAAAAAAAAAAAAAAAAAAAAAACAAAG4HRyYWsAAABcdGtoZAAAAAMAAAAAAAAAAAAA\n",
              "AAEAAAAAAAAH0AAAAAAAAAAAAAAAAAAAAAAAAQAAAAAAAAAAAAAAAAAAAAEAAAAAAAAAAAAAAAAA\n",
              "AEAAAAABsAAAASAAAAAAACRlZHRzAAAAHGVsc3QAAAAAAAAAAQAAB9AAAAIAAAEAAAAABlhtZGlh\n",
              "AAAAIG1kaGQAAAAAAAAAAAAAAAAAADIAAABkAFXEAAAAAAAtaGRscgAAAAAAAAAAdmlkZQAAAAAA\n",
              "AAAAAAAAAFZpZGVvSGFuZGxlcgAAAAYDbWluZgAAABR2bWhkAAAAAQAAAAAAAAAAAAAAJGRpbmYA\n",
              "AAAcZHJlZgAAAAAAAAABAAAADHVybCAAAAABAAAFw3N0YmwAAACzc3RzZAAAAAAAAAABAAAAo2F2\n",
              "YzEAAAAAAAAAAQAAAAAAAAAAAAAAAAAAAAABsAEgAEgAAABIAAAAAAAAAAEAAAAAAAAAAAAAAAAA\n",
              "AAAAAAAAAAAAAAAAAAAAAAAAAAAY//8AAAAxYXZjQwFkAB7/4QAYZ2QAHqzZQbCWhAAAAwAEAAAD\n",
              "AZA8WLZYAQAGaOvjyyLAAAAAHHV1aWRraEDyXyRPxbo5pRvPAyPzAAAAAAAAABhzdHRzAAAAAAAA\n",
              "AAEAAABkAAABAAAAABRzdHNzAAAAAAAAAAEAAAABAAADCGN0dHMAAAAAAAAAXwAAAAEAAAIAAAAA\n",
              "AQAAAwAAAAABAAABAAAAAAEAAAMAAAAAAQAAAQAAAAABAAADAAAAAAEAAAEAAAAAAQAAAgAAAAAB\n",
              "AAAEAAAAAAIAAAEAAAAAAQAABAAAAAACAAABAAAAAAEAAAUAAAAAAQAAAgAAAAABAAAAAAAAAAEA\n",
              "AAEAAAAAAQAABQAAAAABAAACAAAAAAEAAAAAAAAAAQAAAQAAAAABAAAEAAAAAAIAAAEAAAAAAQAA\n",
              "BQAAAAABAAACAAAAAAEAAAAAAAAAAQAAAQAAAAABAAAEAAAAAAIAAAEAAAAAAQAABQAAAAABAAAC\n",
              "AAAAAAEAAAAAAAAAAQAAAQAAAAABAAAEAAAAAAIAAAEAAAAAAQAAAgAAAAABAAAFAAAAAAEAAAIA\n",
              "AAAAAQAAAAAAAAABAAABAAAAAAEAAAUAAAAAAQAAAgAAAAABAAAAAAAAAAEAAAEAAAAAAQAABQAA\n",
              "AAABAAACAAAAAAEAAAAAAAAAAQAAAQAAAAABAAAFAAAAAAEAAAIAAAAAAQAAAAAAAAABAAABAAAA\n",
              "AAEAAAUAAAAAAQAAAgAAAAABAAAAAAAAAAEAAAEAAAAAAQAABQAAAAABAAACAAAAAAEAAAAAAAAA\n",
              "AQAAAQAAAAABAAADAAAAAAEAAAEAAAAAAQAABQAAAAABAAACAAAAAAEAAAAAAAAAAQAAAQAAAAAB\n",
              "AAAFAAAAAAEAAAIAAAAAAQAAAAAAAAABAAABAAAAAAEAAAUAAAAAAQAAAgAAAAABAAAAAAAAAAEA\n",
              "AAEAAAAAAQAABQAAAAABAAACAAAAAAEAAAAAAAAAAQAAAQAAAAABAAAFAAAAAAEAAAIAAAAAAQAA\n",
              "AAAAAAABAAABAAAAAAEAAAUAAAAAAQAAAgAAAAABAAAAAAAAAAEAAAEAAAAAAQAABQAAAAABAAAC\n",
              "AAAAAAEAAAAAAAAAAQAAAQAAAAABAAAFAAAAAAEAAAIAAAAAAQAAAAAAAAABAAABAAAAAAEAAAMA\n",
              "AAAAAQAAAQAAAAAcc3RzYwAAAAAAAAABAAAAAQAAAGQAAAABAAABpHN0c3oAAAAAAAAAAAAAAGQA\n",
              "ADUdAAADEgAAAFgAAAD4AAAAOwAAAKcAAAAhAAAAUAAAAKkAAAAnAAAAHgAAAMkAAAAjAAAAHQAA\n",
              "AI0AAAAyAAAAFwAAACAAAAC7AAAAJQAAAB0AAAAUAAAAkwAAAC4AAAAjAAAAeAAAAC8AAAAaAAAA\n",
              "GAAAADsAAAApAAAAJQAAAG0AAAAuAAAAGAAAACEAAAA6AAAAJwAAABcAAABMAAAAZgAAACcAAAAV\n",
              "AAAAFgAAAEcAAAAzAAAAGwAAAB8AAAAvAAAAIwAAABIAAAARAAAARQAAAC0AAAAVAAAAHgAAAGwA\n",
              "AAAqAAAAFwAAABMAAABIAAAAJgAAABQAAAARAAAASgAAACYAAABbAAAALQAAABYAAAAdAAAAXQAA\n",
              "AC0AAAAaAAAAGQAAAEAAAAAvAAAAFwAAABUAAAA5AAAAKAAAABUAAAAVAAAAOgAAACgAAAAVAAAA\n",
              "HAAAADYAAAAkAAAAGQAAAA8AAAA0AAAAJwAAABwAAAAPAAAAJgAAACMAAAAPAAAAEAAAACYAAAAc\n",
              "AAAAFHN0Y28AAAAAAAAAAQAAACwAAABidWR0YQAAAFptZXRhAAAAAAAAACFoZGxyAAAAAAAAAABt\n",
              "ZGlyYXBwbAAAAAAAAAAAAAAAAC1pbHN0AAAAJal0b28AAAAdZGF0YQAAAAEAAAAATGF2ZjU3Ljgz\n",
              "LjEwMA==\n",
              "\">\n",
              "  Your browser does not support the video tag.\n",
              "</video>"
            ]
          },
          "metadata": {
            "tags": []
          }
        }
      ]
    }
  ]
}
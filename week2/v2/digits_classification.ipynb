{
  "nbformat": 4,
  "nbformat_minor": 0,
  "metadata": {
    "kernelspec": {
      "name": "python3",
      "display_name": "Python 3"
    },
    "language_info": {
      "codemirror_mode": {
        "name": "ipython",
        "version": 3
      },
      "file_extension": ".py",
      "mimetype": "text/x-python",
      "name": "python",
      "nbconvert_exporter": "python",
      "pygments_lexer": "ipython3",
      "version": "3.6.5"
    },
    "colab": {
      "name": "digits_classification.ipynb",
      "provenance": [],
      "include_colab_link": true
    },
    "accelerator": "GPU"
  },
  "cells": [
    {
      "cell_type": "markdown",
      "metadata": {
        "id": "view-in-github",
        "colab_type": "text"
      },
      "source": [
        "<a href=\"https://colab.research.google.com/github/sebglon/intro-to-dl/blob/master/week2/v2/digits_classification.ipynb\" target=\"_parent\"><img src=\"https://colab.research.google.com/assets/colab-badge.svg\" alt=\"Open In Colab\"/></a>"
      ]
    },
    {
      "cell_type": "markdown",
      "metadata": {
        "id": "tfTzs8htPzHA",
        "colab_type": "text"
      },
      "source": [
        "# MNIST digits classification with TensorFlow"
      ]
    },
    {
      "cell_type": "markdown",
      "metadata": {
        "id": "i6Cxx52APzHE",
        "colab_type": "text"
      },
      "source": [
        "<img src=\"https://github.com/sebglon/intro-to-dl/blob/master/week2/v2/images/mnist_sample.png?raw=1\" style=\"width:30%\">"
      ]
    },
    {
      "cell_type": "code",
      "metadata": {
        "id": "s_Q48DtvQEeb",
        "colab_type": "code",
        "colab": {
          "base_uri": "https://localhost:8080/",
          "height": 306
        },
        "outputId": "5757f77f-7ddf-431c-f96c-b452c356b1bd"
      },
      "source": [
        "! shred -u setup_google_colab.py\n",
        "! wget https://raw.githubusercontent.com/hse-aml/intro-to-dl/master/setup_google_colab.py -O setup_google_colab.py\n",
        "import setup_google_colab\n",
        "# please, uncomment the week you're working on\n",
        "# setup_google_colab.setup_week1()\n",
        "setup_google_colab.setup_week2()\n",
        "# setup_google_colab.setup_week3()\n",
        "# setup_google_colab.setup_week4()\n",
        "# setup_google_colab.setup_week5()\n",
        "# setup_google_colab.setup_week6()\n",
        "\n",
        "# If you're using the old version of the course (check a path of notebook on Coursera, you'll see v1 or v2),\n",
        "# use setup_week2_old()."
      ],
      "execution_count": 1,
      "outputs": [
        {
          "output_type": "stream",
          "text": [
            "--2019-10-24 21:40:38--  https://raw.githubusercontent.com/hse-aml/intro-to-dl/master/setup_google_colab.py\n",
            "Resolving raw.githubusercontent.com (raw.githubusercontent.com)... 151.101.0.133, 151.101.64.133, 151.101.128.133, ...\n",
            "Connecting to raw.githubusercontent.com (raw.githubusercontent.com)|151.101.0.133|:443... connected.\n",
            "HTTP request sent, awaiting response... 200 OK\n",
            "Length: 3792 (3.7K) [text/plain]\n",
            "Saving to: ‘setup_google_colab.py’\n",
            "\n",
            "\rsetup_google_colab.   0%[                    ]       0  --.-KB/s               \rsetup_google_colab. 100%[===================>]   3.70K  --.-KB/s    in 0s      \n",
            "\n",
            "2019-10-24 21:40:38 (76.4 MB/s) - ‘setup_google_colab.py’ saved [3792/3792]\n",
            "\n",
            "**************************************************\n",
            "inception_v3_weights_tf_dim_ordering_tf_kernels_notop.h5\n",
            "**************************************************\n",
            "cifar-10-batches-py.tar.gz\n",
            "**************************************************\n",
            "mnist.npz\n"
          ],
          "name": "stdout"
        }
      ]
    },
    {
      "cell_type": "code",
      "metadata": {
        "id": "v2OMNF6yPzHG",
        "colab_type": "code",
        "colab": {
          "base_uri": "https://localhost:8080/",
          "height": 51
        },
        "outputId": "3cd2b48d-bf50-402b-d32c-ba4ee6eb9b17"
      },
      "source": [
        "import numpy as np\n",
        "from sklearn.metrics import accuracy_score\n",
        "from matplotlib import pyplot as plt\n",
        "%matplotlib inline\n",
        "import tensorflow as tf\n",
        "print(\"We're using TF\", tf.__version__)\n",
        "\n",
        "import sys\n",
        "sys.path.append(\"../..\")\n",
        "import grading\n",
        "\n",
        "import matplotlib_utils\n",
        "from importlib import reload\n",
        "reload(matplotlib_utils)\n",
        "\n",
        "import grading_utils\n",
        "reload(grading_utils)\n",
        "\n",
        "import keras_utils\n",
        "from keras_utils import reset_tf_session"
      ],
      "execution_count": 2,
      "outputs": [
        {
          "output_type": "stream",
          "text": [
            "We're using TF 1.15.0\n"
          ],
          "name": "stdout"
        },
        {
          "output_type": "stream",
          "text": [
            "Using TensorFlow backend.\n"
          ],
          "name": "stderr"
        }
      ]
    },
    {
      "cell_type": "markdown",
      "metadata": {
        "id": "q-irhW6YPzHL",
        "colab_type": "text"
      },
      "source": [
        "# Fill in your Coursera token and email\n",
        "To successfully submit your answers to our grader, please fill in your Coursera submission token and email"
      ]
    },
    {
      "cell_type": "code",
      "metadata": {
        "id": "VaKY6ny_PzHM",
        "colab_type": "code",
        "colab": {}
      },
      "source": [
        "grader = grading.Grader(assignment_key=\"XtD7ho3TEeiHQBLWejjYAA\", \n",
        "                        all_parts=[\"9XaAS\", \"vmogZ\", \"RMv95\", \"i8bgs\", \"rE763\"])"
      ],
      "execution_count": 0,
      "outputs": []
    },
    {
      "cell_type": "code",
      "metadata": {
        "id": "9t6z9M5dPzHQ",
        "colab_type": "code",
        "colab": {}
      },
      "source": [
        "# token expires every 30 min\n",
        "COURSERA_TOKEN = \"s5MWQrdWJIFsFzXL\"\n",
        "COURSERA_EMAIL = \"sebglon@gmail.com\""
      ],
      "execution_count": 0,
      "outputs": []
    },
    {
      "cell_type": "markdown",
      "metadata": {
        "id": "YvNW3d5FPzHU",
        "colab_type": "text"
      },
      "source": [
        "# Look at the data\n",
        "\n",
        "In this task we have 50000 28x28 images of digits from 0 to 9.\n",
        "We will train a classifier on this data."
      ]
    },
    {
      "cell_type": "code",
      "metadata": {
        "id": "Ddvhul-CPzHV",
        "colab_type": "code",
        "colab": {}
      },
      "source": [
        "import preprocessed_mnist\n",
        "X_train, y_train, X_val, y_val, X_test, y_test = preprocessed_mnist.load_dataset()"
      ],
      "execution_count": 0,
      "outputs": []
    },
    {
      "cell_type": "code",
      "metadata": {
        "id": "Dvwi4n2fPzHY",
        "colab_type": "code",
        "colab": {
          "base_uri": "https://localhost:8080/",
          "height": 683
        },
        "outputId": "b1517984-f0a7-4576-f62d-92aee857933d"
      },
      "source": [
        "# X contains rgb values divided by 255\n",
        "print(\"X_train [shape %s] sample patch:\\n\" % (str(X_train.shape)), X_train[1, 15:20, 5:10])\n",
        "print(\"A closeup of a sample patch:\")\n",
        "plt.imshow(X_train[1, 15:20, 5:10], cmap=\"Greys\")\n",
        "plt.show()\n",
        "print(\"And the whole sample:\")\n",
        "plt.imshow(X_train[1], cmap=\"Greys\")\n",
        "plt.show()\n",
        "print(\"y_train [shape %s] 10 samples:\\n\" % (str(y_train.shape)), y_train[:10])"
      ],
      "execution_count": 6,
      "outputs": [
        {
          "output_type": "stream",
          "text": [
            "X_train [shape (50000, 28, 28)] sample patch:\n",
            " [[0.         0.29803922 0.96470588 0.98823529 0.43921569]\n",
            " [0.         0.33333333 0.98823529 0.90196078 0.09803922]\n",
            " [0.         0.33333333 0.98823529 0.8745098  0.        ]\n",
            " [0.         0.33333333 0.98823529 0.56862745 0.        ]\n",
            " [0.         0.3372549  0.99215686 0.88235294 0.        ]]\n",
            "A closeup of a sample patch:\n"
          ],
          "name": "stdout"
        },
        {
          "output_type": "display_data",
          "data": {
            "image/png": "[encoded data removed]",
            "text/plain": [
              "<Figure size 432x288 with 1 Axes>"
            ]
          },
          "metadata": {
            "tags": []
          }
        },
        {
          "output_type": "stream",
          "text": [
            "And the whole sample:\n"
          ],
          "name": "stdout"
        },
        {
          "output_type": "display_data",
          "data": {
            "image/png": "[encoded data removed]",
            "text/plain": [
              "<Figure size 432x288 with 1 Axes>"
            ]
          },
          "metadata": {
            "tags": []
          }
        },
        {
          "output_type": "stream",
          "text": [
            "y_train [shape (50000,)] 10 samples:\n",
            " [5 0 4 1 9 2 1 3 1 4]\n"
          ],
          "name": "stdout"
        }
      ]
    },
    {
      "cell_type": "markdown",
      "metadata": {
        "id": "KjOkeFasPzHc",
        "colab_type": "text"
      },
      "source": [
        "# Linear model\n",
        "\n",
        "Your task is to train a linear classifier $\\vec{x} \\rightarrow y$ with SGD using TensorFlow.\n",
        "\n",
        "You will need to calculate a logit (a linear transformation) $z_k$ for each class: \n",
        "$$z_k = \\vec{x} \\cdot \\vec{w_k} + b_k \\quad k = 0..9$$\n",
        "\n",
        "And transform logits $z_k$ to valid probabilities $p_k$ with softmax: \n",
        "$$p_k = \\frac{e^{z_k}}{\\sum_{i=0}^{9}{e^{z_i}}} \\quad k = 0..9$$\n",
        "\n",
        "We will use a cross-entropy loss to train our multi-class classifier:\n",
        "$$\\text{cross-entropy}(y, p) = -\\sum_{k=0}^{9}{\\log(p_k)[y = k]}$$ \n",
        "\n",
        "where \n",
        "$$\n",
        "[x]=\\begin{cases}\n",
        "       1, \\quad \\text{if $x$ is true} \\\\\n",
        "       0, \\quad \\text{otherwise}\n",
        "    \\end{cases}\n",
        "$$\n",
        "\n",
        "Cross-entropy minimization pushes $p_k$ close to 1 when $y = k$, which is what we want.\n",
        "\n",
        "Here's the plan:\n",
        "* Flatten the images (28x28 -> 784) with `X_train.reshape((X_train.shape[0], -1))` to simplify our linear model implementation\n",
        "* Use a matrix placeholder for flattened `X_train`\n",
        "* Convert `y_train` to one-hot encoded vectors that are needed for cross-entropy\n",
        "* Use a shared variable `W` for all weights (a column $\\vec{w_k}$ per class) and `b` for all biases.\n",
        "* Aim for ~0.93 validation accuracy"
      ]
    },
    {
      "cell_type": "code",
      "metadata": {
        "id": "esNB7gi3PzHd",
        "colab_type": "code",
        "colab": {
          "base_uri": "https://localhost:8080/",
          "height": 51
        },
        "outputId": "604672b3-93c5-4d16-c342-c35336e24932"
      },
      "source": [
        "X_train_flat = X_train.reshape((X_train.shape[0], -1))\n",
        "print(X_train_flat.shape)\n",
        "\n",
        "X_val_flat = X_val.reshape((X_val.shape[0], -1))\n",
        "print(X_val_flat.shape)"
      ],
      "execution_count": 7,
      "outputs": [
        {
          "output_type": "stream",
          "text": [
            "(50000, 784)\n",
            "(10000, 784)\n"
          ],
          "name": "stdout"
        }
      ]
    },
    {
      "cell_type": "code",
      "metadata": {
        "id": "DqZvLKzOPzHg",
        "colab_type": "code",
        "colab": {
          "base_uri": "https://localhost:8080/",
          "height": 85
        },
        "outputId": "e7267c5d-1d55-4451-aa5c-275816254fe1"
      },
      "source": [
        "import keras\n",
        "\n",
        "y_train_oh = keras.utils.to_categorical(y_train, 10)\n",
        "y_val_oh = keras.utils.to_categorical(y_val, 10)\n",
        "\n",
        "print(y_train_oh.shape)\n",
        "print(y_train_oh[:3], y_train[:3])"
      ],
      "execution_count": 8,
      "outputs": [
        {
          "output_type": "stream",
          "text": [
            "(50000, 10)\n",
            "[[0. 0. 0. 0. 0. 1. 0. 0. 0. 0.]\n",
            " [1. 0. 0. 0. 0. 0. 0. 0. 0. 0.]\n",
            " [0. 0. 0. 0. 1. 0. 0. 0. 0. 0.]] [5 0 4]\n"
          ],
          "name": "stdout"
        }
      ]
    },
    {
      "cell_type": "code",
      "metadata": {
        "id": "zMOHgKZAPzHj",
        "colab_type": "code",
        "colab": {
          "base_uri": "https://localhost:8080/",
          "height": 221
        },
        "outputId": "cf704a73-b370-421a-d25e-d03c76603004"
      },
      "source": [
        "# run this again if you remake your graph\n",
        "s = reset_tf_session()"
      ],
      "execution_count": 9,
      "outputs": [
        {
          "output_type": "stream",
          "text": [
            "WARNING:tensorflow:From /content/keras_utils.py:68: The name tf.get_default_session is deprecated. Please use tf.compat.v1.get_default_session instead.\n",
            "\n",
            "WARNING:tensorflow:From /usr/local/lib/python3.6/dist-packages/keras/backend/tensorflow_backend.py:79: The name tf.reset_default_graph is deprecated. Please use tf.compat.v1.reset_default_graph instead.\n",
            "\n",
            "WARNING:tensorflow:From /usr/local/lib/python3.6/dist-packages/keras/backend/tensorflow_backend.py:82: The name tf.placeholder is deprecated. Please use tf.compat.v1.placeholder instead.\n",
            "\n",
            "WARNING:tensorflow:From /usr/local/lib/python3.6/dist-packages/keras/backend/tensorflow_backend.py:84: The name tf.get_default_graph is deprecated. Please use tf.compat.v1.get_default_graph instead.\n",
            "\n",
            "WARNING:tensorflow:From /content/keras_utils.py:75: The name tf.ConfigProto is deprecated. Please use tf.compat.v1.ConfigProto instead.\n",
            "\n",
            "WARNING:tensorflow:From /content/keras_utils.py:77: The name tf.InteractiveSession is deprecated. Please use tf.compat.v1.InteractiveSession instead.\n",
            "\n"
          ],
          "name": "stdout"
        }
      ]
    },
    {
      "cell_type": "code",
      "metadata": {
        "id": "Vqo9wdZ-PzHm",
        "colab_type": "code",
        "colab": {}
      },
      "source": [
        "# Model parameters: W and b\n",
        "W = tf.get_variable(\"w\", shape=(784,10), dtype=tf.float64) ### YOUR CODE HERE ### tf.get_variable(...) with shape[0] = 784\n",
        "b = tf.get_variable(\"b\", shape=(10,), dtype=tf.float64) ### YOUR CODE HERE ### tf.get_variable(...)"
      ],
      "execution_count": 0,
      "outputs": []
    },
    {
      "cell_type": "code",
      "metadata": {
        "id": "3P8R0KmZPzHp",
        "colab_type": "code",
        "colab": {}
      },
      "source": [
        "# Placeholders for the input data\n",
        "input_X = tf.placeholder(tf.float64, shape=(None, 784)) ### YOUR CODE HERE ### tf.placeholder(...) for flat X with shape[0] = None for any batch size\n",
        "input_y = tf.placeholder(tf.float64, shape=(None, 10)) ### YOUR CODE HERE ### tf.placeholder(...) for one-hot encoded true labels"
      ],
      "execution_count": 0,
      "outputs": []
    },
    {
      "cell_type": "code",
      "metadata": {
        "id": "fyN-YAC6PzHs",
        "colab_type": "code",
        "colab": {
          "base_uri": "https://localhost:8080/",
          "height": 153
        },
        "outputId": "4de1e347-4c03-4f91-d2e9-232b73568eab"
      },
      "source": [
        "# Compute predictions\n",
        "logits = tf.add(tf.matmul(input_X, W), b)### YOUR CODE HERE ### logits for input_X, resulting shape should be [input_X.shape[0], 10]\n",
        "probas = tf.nn.softmax(logits) ### YOUR CODE HERE ### apply tf.nn.softmax to logits\n",
        "classes = tf.argmax(probas, 1) ### YOUR CODE HERE ### apply tf.argmax to find a class index with highest probability\n",
        "\n",
        "# Loss should be a scalar number: average loss over all the objects with tf.reduce_mean().\n",
        "# Use tf.nn.softmax_cross_entropy_with_logits on top of one-hot encoded input_y and logits.\n",
        "# It is identical to calculating cross-entropy on top of probas, but is more numerically friendly (read the docs).\n",
        "loss = tf.reduce_mean(tf.nn.softmax_cross_entropy_with_logits(labels=input_y, logits=logits)) ### YOUR CODE HERE ### cross-entropy loss\n",
        "\n",
        "# Use a default tf.train.AdamOptimizer to get an SGD step\n",
        "optimize = tf.train.AdamOptimizer()\n",
        "step =  optimize.minimize(loss) ### YOUR CODE HERE ### optimizer step that minimizes the lossB"
      ],
      "execution_count": 12,
      "outputs": [
        {
          "output_type": "stream",
          "text": [
            "WARNING:tensorflow:From <ipython-input-12-377db7ca9224>:8: softmax_cross_entropy_with_logits (from tensorflow.python.ops.nn_ops) is deprecated and will be removed in a future version.\n",
            "Instructions for updating:\n",
            "\n",
            "Future major versions of TensorFlow will allow gradients to flow\n",
            "into the labels input on backprop by default.\n",
            "\n",
            "See `tf.nn.softmax_cross_entropy_with_logits_v2`.\n",
            "\n"
          ],
          "name": "stdout"
        }
      ]
    },
    {
      "cell_type": "code",
      "metadata": {
        "scrolled": false,
        "id": "4aCblo1DPzHv",
        "colab_type": "code",
        "colab": {
          "base_uri": "https://localhost:8080/",
          "height": 309
        },
        "outputId": "e5508b40-69d4-40a2-9fbd-78cb87d61899"
      },
      "source": [
        "s.run(tf.global_variables_initializer())\n",
        "\n",
        "BATCH_SIZE = 512\n",
        "EPOCHS = 40\n",
        "\n",
        "# for logging the progress right here in Jupyter (for those who don't have TensorBoard)\n",
        "simpleTrainingCurves = matplotlib_utils.SimpleTrainingCurves(\"cross-entropy\", \"accuracy\")\n",
        "\n",
        "for epoch in range(EPOCHS):  # we finish an epoch when we've looked at all training samples\n",
        "    \n",
        "    batch_losses = []\n",
        "    for batch_start in range(0, X_train_flat.shape[0], BATCH_SIZE):  # data is already shuffled\n",
        "        _, batch_loss = s.run([step, loss], {input_X: X_train_flat[batch_start:batch_start+BATCH_SIZE], \n",
        "                                             input_y: y_train_oh[batch_start:batch_start+BATCH_SIZE]})\n",
        "        # collect batch losses, this is almost free as we need a forward pass for backprop anyway\n",
        "        batch_losses.append(batch_loss)\n",
        "\n",
        "    train_loss = np.mean(batch_losses)\n",
        "    val_loss = s.run(loss, {input_X: X_val_flat, input_y: y_val_oh})  # this part is usually small\n",
        "    train_accuracy = accuracy_score(y_train, s.run(classes, {input_X: X_train_flat}))  # this is slow and usually skipped\n",
        "    valid_accuracy = accuracy_score(y_val, s.run(classes, {input_X: X_val_flat}))  \n",
        "    simpleTrainingCurves.add(train_loss, val_loss, train_accuracy, valid_accuracy)"
      ],
      "execution_count": 13,
      "outputs": [
        {
          "output_type": "display_data",
          "data": {
            "text/html": [
              "<img src=\"data:image/jpeg;base64,/9j/4AAQSkZJRgABAQEASABIAAD/2wBDAAIBAQEBAQIBAQECAgICAgQDAgICAgUEBAMEBgUGBgYFBgYGBwkIBgcJBwYGCAsICQoKCgoKBggLDAsKDAkKCgr/2wBDAQICAgICAgUDAwUKBwYHCgoKCgoKCgoKCgoKCgoKCgoKCgoKCgoKCgoKCgoKCgoKCgoKCgoKCgoKCgoKCgoKCgr/wAARCAEgA2ADASIAAhEBAxEB/8QAHwAAAQUBAQEBAQEAAAAAAAAAAAECAwQFBgcICQoL/8QAtRAAAgEDAwIEAwUFBAQAAAF9AQIDAAQRBRIhMUEGE1FhByJxFDKBkaEII0KxwRVS0fAkM2JyggkKFhcYGRolJicoKSo0NTY3ODk6Q0RFRkdISUpTVFVWV1hZWmNkZWZnaGlqc3R1dnd4eXqDhIWGh4iJipKTlJWWl5iZmqKjpKWmp6ipqrKztLW2t7i5usLDxMXGx8jJytLT1NXW19jZ2uHi4%2BTl5ufo6erx8vP09fb3%2BPn6/8QAHwEAAwEBAQEBAQEBAQAAAAAAAAECAwQFBgcICQoL/8QAtREAAgECBAQDBAcFBAQAAQJ3AAECAxEEBSExBhJBUQdhcRMiMoEIFEKRobHBCSMzUvAVYnLRChYkNOEl8RcYGRomJygpKjU2Nzg5OkNERUZHSElKU1RVVldYWVpjZGVmZ2hpanN0dXZ3eHl6goOEhYaHiImKkpOUlZaXmJmaoqOkpaanqKmqsrO0tba3uLm6wsPExcbHyMnK0tPU1dbX2Nna4uPk5ebn6Onq8vP09fb3%2BPn6/9oADAMBAAIRAxEAPwD9/KKKKACiiigAooooAKKKKACiiigAooooAKKKKACiiigAooooAKKKKACiiigAooooAKKKKACiiigAooooAKKKKACiiigAooooAKKKKACiiigAooooAKKKKACiiigAooooAKKKKACiiigAooooAKKKKACiiigAooooAKKKKACiiigAooooAKKKKACiiigAooooAKKKKACiiigAooooAKKKKACiiigAooooAKKKKACiiigAooooAKKKKACiiigAooooAKKKKACiiigAooooAKKKKACiiigAooooAKKKKACiiigAooooAKKKKACiiigAooooAKKKKACiiigAooooAKKKKACiiigAooooAKKKKACvPfjt%2B1J8FP2b5NGsfil4g1Maj4ilnTQNB8OeF9R1zVNR8lVed4bHTbee5kjiVkMkixlI96biu5c%2BhV4N%2B0P8D/j5/wANJ%2BDv2tv2bLLwfrWueH/B2seFNX8KeOdcutLtLywv7mwuxcQXtraXj288U2noCpt3WVJSCUKK1ABpf/BTL9izWLvxPb2nxXv0h8FWsk/jLUrvwXrEFjoIS0iu9l5dy2iwWsrQzRskMjrJIWKorMrKL2n/APBQ/wDZK1HwBrXxFTx/q9vB4f1ay0vVdE1DwNrNrrkV5ebfscC6PNaLqEr3AYGER27eaAxTcFYjy2b9gH4y%2BMf2a/jn8NfGHinwppHin4o/FS38daHc6U1xeWFpeW0OiywQ3IkihkkiN3pRRwoyYHGDuJVaPi79i/8AaV%2BLmr/Ef45fG34S/CjWvFnjWx8KaPp/gKy%2BI2s2Wm6fY6Hcaldw3qa7b6al5DqDXOqTOksVoPJSKNFZiWcgHsviH9vv9mzwv4a8OeI9XvvG3meK0v5NE8P2vwm8SXGuSRWUscV3NJpMWntf28MLzQq8s0CIpmiy37xM%2Bmaz8RPBHhv4e3XxX8T%2BJbbSvDljo76rf6vqrfZYbSySIzPPMZdvlKsYLNvxtAOcYNfGHin9hH9s/WPgX4X8Nay3hfxV470a58RHRfGV/wDHbxNpGr%2BCLW%2BuUktLO11q1sJLzXIYkjhEy3qw/aTbReYCFGPUfjR/wTotfj1%2Bzb4n%2BHHxD%2BOfjW78d%2BMPhfH4Z17xS3jbWho818tpDE2oJoS3y2FuzzQLK3kRRSEPIBIrSM5AOkg/4KUfsZf8K58V/FbWPite6Jo3giysr7xQ/ifwdq%2Bk3NlZXkxhtb37LeWsVxJaSyK6pcxxtC3luQ%2BEYjj/AI3f8FZP2d/hn8ENU%2BMfgPRfFXiqbQfiD4X8L674Y/4QXXbHU7A6zqVrax3T2cmnNdeV5Fw88DeT5d48aW8MhknjB8r1T/gmJ8ZPHfwq8faR4i8DeG9G8Y%2BI9D0fR7DxDqv7RfjPxut3aWusW%2BoTRyf27AfsEZ8likUSzHe%2BGkxknv8A9qH9gz40/GD4g/F/4g%2BBfEPheOTxfB8LbzwlZ6tfXMSvf%2BE/EdzrUsN40dvJ5ENwGt4VljEzrl2MfyKrgHqFh/wUE/Zb1H4m2XwZh8T%2BJo/Fd5oun6xLoF38N9egudO0%2B9adILu/SSyU6dDut5VeS68pYiFEhQum6j4a/wCCmH7FPi3wZ4s%2BIWkfGC4TR/Bfgi68Zaxe6h4S1W0Fx4et0Z5tWsVntUbVLNVQ4nsxPGxZArEugbB0P9kP4ofEP4mfG74g/G9fD2gxfGj4O%2BHfCF1Y%2BE9duNRl0u4tE11Ltlnns7XzYwNViMT7FZikm6OPA3fN37Y37Kn7UOj/ALDHxS%2BJv7TF34AtIfhD%2BxT8QfBHhePwFqF5cNrzXukWxn1G6W5toBYqE0i3CWcbXAVppCZ22oKAPrPw9/wUl/Yy8TaHrHiPT/i1dQWehppU1/JqnhLVbJmtNSu1s7HUIUuLVGubCWdgovoQ9qoDO0qorMPT9E%2BLvw88R/FLX/gvofiH7T4k8LaXp%2Boa/YR2k22zgvmuBa7pinlF3%2ByzHy1cyKoRmVVkjLfJOofsz%2BIPFegeKfjb/wAFIvF/wz8J%2BBbf9nu5%2BHUlx4f8QTLay6beyQyXmq3k17BbpYOTBbCG2QzCAmT/AEiQsuOw/wCCPngP4u2f7I9r8f8A9pDUDf8AxJ%2BL15H4n8V6g9nJbtJCLSCy01fKl%2BeH/iX2lpI0TYKSzTZAYtkA%2BqqKKKACiiigAooooAKKKKACiiigAooooAKKKKACiiigAooooAKKKKACiiigAooooAKKKKACiiigAooooAKKKKACiiigAooooAK8R0j/AIKMfse6ld69Z6n8Urzw83hzw5c%2BINQk8a%2BEdV0GObSbd0jnv7WTUrWBb63R5IlaW2MqAyxjOXXPtN7FczWcsNndCCZ4mWKYx7/LYjhtp64POO9fmJq//BHL9uX4v6t4X1z43fHHQ31vw14P1Cz1DxRqHxW8TeJx4h1v7ZpV9a6idLvoobLSbaS50xfPsLIBRHJtWWQKgUA%2B2X/b/wD2YbX4aN8WNY8QeKtK0ttcg0axs9c%2BGWv2GqanfzIZIYLLTbixS9v2kQM6/Z4ZAyo7AkIxHReA/wBqz4H/ABH1%2By8J%2BHPEOqQ6vf8AhSfxJDpGteFdS0y7TTYbv7JLLLDeW8UkDrP8hhkVZe%2BzbzXk3xO%2BDn7bvxib4e/G3XPBvwq0P4h/Cjx1NrHh/wAM2vjjUr/Rdcs7jSbvTLmO4vn0qGaxmKXskkbpa3AjMQU%2BYJGxV%2BJPwG/bg1/4y%2BHf2mvA%2BjfCu08WX3ww1XwX4x0LUvFepSWGkLcX8N1a39lcJpwk1AxCN1kt5YrQSlxiWLHIB3Gk/wDBRv8AZA8R694F8LeFfiNqus6n8SfBuleLfBunaJ4H1m9nvND1F9lrqMiQWjNa2%2B7HmSTiNbcMpm8oMCdj4a/tufs3fFf4jXPwn8M%2BL9Ws9ft9LudThsvE/gzVtEW/sbeRI57uyl1G1gjv4I3liDy2zSIvmISQGUnyj9hT9hL4sfsw6/8ADjWfHniDw1dnwd%2Byl4R%2BGN%2B%2BkXM8rNq2lvM1zNF5kEe61bemxmKu235o0wK8a%2BGn/BKv9sbxP8UfC/ib9qb4w2eqRaf4A8V%2BF/GniaD4v%2BJNavPEUur2KW39p2umX0Men6EcqWNpaKUXKgTOI1WgD6l8J/8ABRf9kfxrosfirQfHeuf2Hcarpen6f4lvfh/rdrpWoy6lex2VlJaX09mlteQS3M0UYuIJHhBlQs4VgT6X4W%2BLvw88a/EDxT8LvC/iH7XrnguSzj8T2iWkwWxkuoPtEEZlZBG7tCVkKIzMiyRlgokTd8w%2BOPAnxF8K/wDBPbxp8CP%2BChnif4VeCPAWg/DSLQLb4meHfFt2GadI0trXUntLqzgTTZlmFvJDBHcXTGcoiOTtDdr/AMEr/h98WPDf7ImlfFX9oqwS3%2BJ3xYvpfHXxEhW3aL7Pf36xmG02N8yfZbGOys9pyQLXBoA%2BjaKKKACiiigAooooAKKKKACiiigAooooAKKKKACiiigAooooAKKKKACiiigAooooAKKKKACiiigAooooAKKKKACiiigAooooAKKKKACvF/j14/8A2i/%2BGi/AvwI%2BAvjPwV4fTX/BXiXXtX1Pxf4Lu9aJOnXeh28MMMdvqVj5Yb%2B1JWZmZ8%2BWgAXkn2ivCviLrSWX/BSr4Q6LIoxe/BP4hsjZ53R6t4NOPyZj%2BFJtLcuEJVHaPZv7tWX/APhB/wDgoX/0dB8Gf/DD6t/81FH/AAg//BQv/o6D4M/%2BGH1b/wCaivZqKZB4z/wg/wDwUL/6Og%2BDP/hh9W/%2Baij/AIQf/goX/wBHQfBn/wAMPq3/AM1FezUUAeM/8IP/AMFC/wDo6D4M/wDhh9W/%2Baij/hB/%2BChf/R0HwZ/8MPq3/wA1FezUUAeM/wDCD/8ABQv/AKOg%2BDP/AIYfVv8A5qKP%2BEH/AOChf/R0HwZ/8MPq3/zUV7NRQB4z/wAIP/wUL/6Og%2BDP/hh9W/8Amoo/4Qf/AIKF/wDR0HwZ/wDDD6t/81FezUUAeM/8IP8A8FC/%2BjoPgz/4YfVv/moo/wCEH/4KF/8AR0HwZ/8ADD6t/wDNRXs1FAHjP/CD/wDBQv8A6Og%2BDP8A4YfVv/moo/4Qf/goX/0dB8Gf/DD6t/8ANRXs1FAHjP8Awg//AAUL/wCjoPgz/wCGH1b/AOaij/hB/wDgoX/0dB8Gf/DD6t/81FWtf%2BN/7InwptNI0n46fGH4c%2BHNc1DRYNQNt4u8Q2Fpd3EcmR5%2B24dXZGdJAG6ZRhnggZv/AA1//wAE4P8Ao6L4I/8AhbaP/wDHa5p4zB05OM6sU10cop/c5JntYfhviTF0I1qGBrzhJXUo0a0otd1KNGUWtHqm1puWP%2BEH/wCChf8A0dB8Gf8Aww%2Brf/NRR/wg/wDwUL/6Og%2BDP/hh9W/%2Baiq//DX/APwTg/6Oi%2BCP/hbaP/8AHa9O0DRfhZ4r0Ky8U%2BFtJ8P6lpmpWkd1p2o6fBBNBdQSKHjljkQFXRlIZWUkEEEHBq6WJw9dtU5xlbtJP8mznx2TZzlcIzxuFq0lJ2TqU6lNN72TnTgm7a2Tbtra2p5z/wAIP/wUL/6Og%2BDP/hh9W/8Amoo/4Qf/AIKF/wDR0HwZ/wDDD6t/81FeefD7/go1%2Bxf4v8D2fjDxD8PfE%2Bgz6p441rwtomjXPwe1ue81a9064v45FtIodPZ7omHT552WJXMIBjk2SKyjsviF%2B1R%2By14FsvHtpeaJFp%2BseAvCGteIby28WeBNW0mzu7PTF/0ue3upNOcXtvEzRCSWyS6KiaNgj70V9jzTR/4Qf/goX/0dB8Gf/DD6t/8ANRR/wg//AAUL/wCjoPgz/wCGH1b/AOaiqth%2B1Z%2BxhqHxnk/Z%2BhvLf/hKLfxBHoN1H/wg1%2BLCHVX06PUo7FtQa0Fos72kqTJGZQzg4UFgVGz8a/ir8FfhJ%2Bzzrv7Q%2Bj%2BEdG8Uadpdg0mm2%2BhrbSDVbppRBBaxTAFA0lwyQ7idqsxLdDQBQ/4Qf/goX/0dB8Gf/DD6t/8ANRR/wg//AAUL/wCjoPgz/wCGH1b/AOain/s4fEC2%2BLl54y8D/FH4FeG/CvjDwH4gh0zX9K0fUV1WxkWextr23uba6ktLZ5Y3iuVU74I2WWKVcMoV38k%2BJn7aPiH4DeGfifL8cv2Q/BGneIPAHwsHjuy03QvHQvrO6sjPPAILy6k0uBrCbfA3Kw3EbKshR38phQB6x/wg/wDwUL/6Og%2BDP/hh9W/%2Baij/AIQf/goX/wBHQfBn/wAMPq3/AM1FeaeNP22/h18Pv2fPC3xc8Q%2BF/gbd6h438VyaJ4au9E%2BLME/hT93bXF1Lc3WuyabELeNIbS4DbbaQ%2Bb5US7mkGOn8T/HPXfCfiX4J2t1%2Bzj8P9S0L4r6umk6p4j0HxqLuHS7uTTb2/iayH9nKNSt3SyYCZmtjiRGCHlaAOk/4Qf8A4KF/9HQfBn/ww%2Brf/NRR/wAIP/wUL/6Og%2BDP/hh9W/8Amorj/hP%2B1B4b%2BK37ZPxA/ZZs/hr8JrKHwBrg067Sf4go3ia8Q6TYX4vI9EGnYFrvv1g803WMxO2M4SuIv/8AgoHoPhPT/i3a%2BMf2e/hzqOq/CfS7C61l/h74%2BXW9LsJrm%2Bks3tdVvG0y3bSprbyzc3CmGYxWqvLg7NhAPZ/%2BEH/4KF/9HQfBn/ww%2Brf/ADUUf8IP/wAFC/8Ao6D4M/8Ahh9W/wDmor5/1X/gp/8ADvTPgro/xWufg98I7O21Xx1qnhyPxlq/xSitvAswsrT7Sbm28Q/2Y3nrKd1vEv2VN9xb3Mef3QZ%2Bo8F/t06D8QP2iPA3wIsvgL8OPC8/i/4VeE/G82n/ABH8epo/iBU1qbU0k0%2By0tdOm%2B33NoumMZV8%2BIbp0U7Bl6APWP8AhB/%2BChf/AEdB8Gf/AAw%2Brf8AzUUf8IP/AMFC/wDo6D4M/wDhh9W/%2BaivPfh3%2B2P4a8dfGWx%2BHlz%2Bz54T0/SPFPizxd4W8AajJ4jjk1HUtX8OzXMV5Hd2IsgLKB/sVy8cqTTtsWIyRxtKqVzVp/wUW%2BGuk%2BC/iPq/jf4Q/DObUfAOtaHoy3vgn4gwat4dudT1S5e2Syn1aawtRZzWroJb1HhY21vLFL%2B8L%2BWAD2f/AIQf/goX/wBHQfBn/wAMPq3/AM1FH/CD/wDBQv8A6Og%2BDP8A4YfVv/mory34/fty%2BEP2fv2Gbn9rC5%2BCHw98a6%2B2i6tqmieFvhx43i1TS9WtdOt7i8up4tWawixDHaW0sjyG2wsm2Ab3kj39l%2B0F8WviL8FPjN4A8DaJ%2By18PNe8PfEDx1Y%2BG9N1FvGs1tq6F7ea7vbkWA0eSFktrW1u58fa18wQgZQuMAHQf8IP/wAFC/8Ao6D4M/8Ahh9W/wDmoo/4Qf8A4KF/9HQfBn/ww%2Brf/NRXj/gP/goH4A8ReCvjl8VPEXwg%2BGK6F8EW8Z/2poXhj4gRap4pdfD%2Bp31lvu9LbT4E09bpLCSaMtcyACSIHIJdfVP2a/jBpHxi8aeMfhD8Svg34M8P%2BM/BMWlXerab4Y15NcsjZalBJLZzLctZ2rB28idWjaEY8tWVnWRWIBc/4Qf/AIKF/wDR0HwZ/wDDD6t/81FUPA/jj9qzwd%2B1Z4c%2BCPxu%2BI/w98TaN4m%2BHviHXIZvCvw8vtFurS602%2B0S3RWe41e%2BSWN01SUlQiMGiQhsZB9Q8WeE/C2m%2BFtS1LTfDljbXNtYyy29xb2iI8bqhZWVlAIIIFefeOP%2BUhfwv/7Iz48/9O3hCgD2aiiigAooooAKKKKACvnH4TeKv27/AI66Pr3jvwv8b/hJoGl2/wAQvFWh6XpV/wDB/VL%2B4itdL16/0yFpbhPEUCyyPHZq7MsUa7nICgAV9HV4z%2Bwf/wAkQ1z/ALLN8R//AFNdboAP%2BEH/AOChf/R0HwZ/8MPq3/zUUf8ACD/8FC/%2BjoPgz/4YfVv/AJqK9mooA8Z/4Qf/AIKF/wDR0HwZ/wDDD6t/81FH/CD/APBQv/o6D4M/%2BGH1b/5qK9mooA8Z/wCEH/4KF/8AR0HwZ/8ADD6t/wDNRR/wg/8AwUL/AOjoPgz/AOGH1b/5qK9mooA8Z/4Qf/goX/0dB8Gf/DD6t/8ANRR/wg//AAUL/wCjoPgz/wCGH1b/AOaivZqKAPGf%2BEH/AOChf/R0HwZ/8MPq3/zUUf8ACD/8FC/%2BjoPgz/4YfVv/AJqK9mooA8Z/4Qf/AIKF/wDR0HwZ/wDDD6t/81FH/CD/APBQv/o6D4M/%2BGH1b/5qK9mooA8Z/wCEH/4KF/8AR0HwZ/8ADD6t/wDNRR/wg/8AwUL/AOjoPgz/AOGH1b/5qK9mooA8Z/4Qf/goX/0dB8Gf/DD6t/8ANRR/wg//AAUL/wCjoPgz/wCGH1b/AOaivZqKAPGf%2BEH/AOChf/R0HwZ/8MPq3/zUUf8ACD/8FC/%2BjoPgz/4YfVv/AJqK9mooA8Z/4Qf/AIKF/wDR0HwZ/wDDD6t/81FH/CD/APBQv/o6D4M/%2BGH1b/5qK9mooA8Z/wCEH/4KF/8AR0HwZ/8ADD6t/wDNRR/wg/8AwUL/AOjoPgz/AOGH1b/5qK9mooA8Z/4Qf/goX/0dB8Gf/DD6t/8ANRR/wg//AAUL/wCjoPgz/wCGH1b/AOaivZqKAPGf%2BEH/AOChf/R0HwZ/8MPq3/zUUf8ACD/8FC/%2BjoPgz/4YfVv/AJqK9d1fWtG0CybUtd1a2srdPv3F3OsaL9WYgCvN/EH7b/7GHhS7aw8Tftb/AAzsLhPvW934709JB/wEzZ/SsqtehR/iTUfVpfm0YVsThsP/ABakY%2Bsor82jK/4Qf/goX/0dB8Gf/DD6t/8ANRR/wg//AAUL/wCjoPgz/wCGH1b/AOaioLv/AIKTf8E/7LPnftk/Dhsf88fFlrJ/6C5rLu/%2BCqn/AATqss%2Bd%2B194MbH/ADx1Eyf%2Bgqa5nmeWR3rw/wDA4/8AyRySznJ474mn/wCBw/8Akjb/AOEH/wCChf8A0dB8Gf8Aww%2Brf/NRR/wg/wDwUL/6Og%2BDP/hh9W/%2BaiuK1n/gsl/wTO0GIzX37WGjOB2stMvrk/lFAxrF/wCH1X7FGsfL8NE%2BIHjRj9xPC/w51GUv9PNijrGWd5PF2eIhfykm/uV2YS4iyCDs8VTv2U0390eZ/gen/wDCD/8ABQv/AKOg%2BDP/AIYfVv8A5qKP%2BEH/AOChf/R0HwZ/8MPq3/zUV5Ve/wDBVfxPeWz3vg3/AIJuftD3NuoyLzXfBkWlwMPXfNORt9zXE6v/AMFefj9cztZeG/2JPDmnMpw8/jT9oHw/pZh92idi5%2Bg5rKfEGVU95t%2BkJ/8AyKOnC5jTzBtYKlVrf9eqGIqf%2BkUGfRf/AAg//BQv/o6D4M/%2BGH1b/wCaij/hB/8AgoX/ANHQfBn/AMMPq3/zUV8pa3/wWD/aU8CIdT8UfDb9nnVoiNw0rRP2kdKju0H90mRmUn3AxXJ%2BIf8Ag5COgW5Dfsd6fPcIP3kdv8ZdOmQH/ZeGB9w9wK5Z8WZFS/iVHH1jL9LnvYXJeKsY0qOT45t7WwOMd/S2Ht%2BJ9s/8IP8A8FC/%2BjoPgz/4YfVv/moo/wCEH/4KF/8AR0HwZ/8ADD6t/wDNRXwRZ/8ABzB4puz5tl%2BwwL1GPypZ%2BPZiR7Z/s0g/hXS%2BH/8Ag4g%2BIniAhbL/AIJq%2BL7gntp/iSWf%2BWnCs4cZcOzdo1n/AOAT/wDkWdmI4V41wkebEZLjoL%2B9gsTH86Z9pf8ACD/8FC/%2BjoPgz/4YfVv/AJqKt/srfEb40%2BMNY%2BKHgT46a/4X1bVPAPxCi0Oz1Xwn4audJt7q1l0HR9TVnt7i9vGWRZNRlQsJdpWNDtU5z8lRf8FlP21vG6CH4S/8EgPiPdlxxe6jNerCp9CRp4X83Fez/wDBLP4h/GX4rWPxv8f/ALQPwpHgjxdqHxmjOq%2BF/ML/AGEJ4U8Oxwgkkkl4UikPu/bpXp4LOMDmNVwoOTsr3cJxX3yjFX8keRKhj6WtfDVaa71KcoK/b3mpX/7d%2Bff6pooor1CAooooAKKKKACiiigAooooAKKKKACiiigAooooAKKKKACiiigDmvjFJ8TYfhlrE/wc1rQdO8SxWu/TL3xNpU19YxFWBcywQT28ko8sPhVlj%2BYrlsZrivgJ8UfjB%2B0N%2BxH8P/jX4fufDWj%2BNfHHw40TXGlvNKuLjS7O8vLKC4lP2ZbhJpIlMj7Y/PViAoMnVq734meDtU%2BIPgPU/BejfEHWfCtxqNv5KeIPD8NnJeWYJBZolvbe4tySAVPmQuMMcAHBHkvhL9hqfwZ%2ByWn7Hmk/tb/FddBtfBCeFdK1%2BGfRLbWNNsY0SKJ4Li20uNVmSBBCspQnaS5zLiUAGt%2Bxp8bviL8bfCni%2BT4i3Xh/VJfCvj6%2B8O6f4t8J6bPZ6Z4jitooDLdW8E89w8QiuZLmydfPlBmsJSrYIUePfFv45fCzxP8A8FkPgH8OfBHxN8P6xrWkfDj4kWPifR9K1mC4utJkd/Dc0aXUUbl7dmFs5USBS3ltjODX0P8As5fA2P8AZy%2BFtj8I9P8AiPrXiTTNJVINFbWtN0m0OnWaRRxRWcMelWVnAsKBMrmMvl2y5AVV%2BbP2ztXOkf8ABYz9i7c2I7vw/wDE%2B2kP%2B9YaOVH/AH0q1y4yfs6HN5x/GUV%2Bp7vDmG%2Bt5p7LvTrP/wABoVpf%2B2n2dRRRXUeEFFFFABRRRQAUUUUAFFFFABRRRQAUUUUAeZ6l%2BzJ%2Bzb8aNH0HxT8Yv2e/A/izU7fw/a2sGo%2BJfCdnfzxwKpdYlknjZggZ3YKDgF2OMk1S/wCGB/2Ff%2BjLPhL/AOG50z/4xXJ/F7/gpB%2Bxf%2Bx9L4c%2BGn7Rfxl/4R3W77wpZ6na2X/CO6jd77V98Syb7W3kQZeGUbSwb5c4wQTyH/D83/gll/0dF/5ZOuf/ACFXi4jF8O068o150lNPXm9ne/ndXv6mi8Q8RlS%2BqRzidJU9ORYmpBR62UVXio77KK321PW/%2BGB/2Ff%2BjLPhL/4bnTP/AIxXp2gaBoXhTQrLwt4W0W003TNNtI7XTtO0%2B2WGC1gjUJHFHGgCoiqAqqoAAAAGBXyt/wAPzf8Agll/0dF/5ZOuf/IVfT3gHx14V%2BKHgTRfiX4F1T7doniLSLbU9HvfIeL7Ra3ESyxSbJFV03I6nayhhnBAPFdGBxGT1pyWDlTbS15OW9vPlS0v3FLi6rxJ%2B6nmMsTya2dedXlvpe0qtS19rpK%2B1%2Bh4T8MP2F/FfgDx54U1rU/jPpuoaD4H%2BKHirxf4a0uHwhJBdhdd/tZ57S4uTeukpil1VikqQxfu4QjIWYyDyPWv%2BCMMuveKfHviS8%2BO3h2K48ZeAvH/AIX/ALatfheia3cx%2BJpFcXGq6ib4vqj2W0RwoFt08sbdqYDD3aw/b8%2BEer6dYzaT4U8RzX11ovi3UrvSZfsFvLpaeHL1bDUY7uSe7SCBhdukCM0vlsSWLrGruvCeDf8Agp94H%2BO03w41H4CQWctjrvxn1HwN43gv76x1KXTzb%2BDdX8Qoba50q%2BuLOV2NpYHek8yBJpo2CSqfK9Ig66T9hgP4h1XXx8UMHU/jrpPxHMQ0T/V/YtI0/TfsGfP%2Bbf8AYPM87A2%2Bbt8ttu5u8%2BNfwO1D9oD9nnXfgl4/8YxW9/rVg0aeIND0swCyuklE1rdRQSyy5aGVIX2s7K7RnOA2B88eLf8AgqtK/wAEPCnjX4RfCnX/ABHe6pB8PZPEfimXw/Bb6NoreJLvTlSC5gGpNcx3DWt75qpAbqKBpoPNmZSS30h8Yfjx4f8AhJ8AvHnx9utG1K5sfAXh/WNUvrK40%2Ba0luBp0MssqxidFLK3ksElUNG4IZGZSCQDnfgL%2Bz/8UPhTq/iLx341%2BLWh%2BIfFXjjxbFq3jTUbLwfNYWklrBpkVhb2VjbtfTNabPs8EpklluSzNcDaolTyeL/Zx/ZL/an%2BB%2Bi%2BOL/xZ%2B0x8P8AxZ4x8a3Z1G78Z3PwivYJ5r4OBCLmM67IstnBABbw2kJtxGoDBy7SM%2B3%2By18bPj94h%2BKnib4DftKjwjc%2BItG8FeHfFdrqXgvSrmytBa6rJqUBsmjubm4d5befS5szh0WVJoyIoyGWua8ZftE/tUfDL48a/wDCO%2BufA3jSWT4X%2BIvF2j6V4X8KX9ve%2BHjaTQx6ZDfs19OL0XhkmjQxpauz2U3lo6q5iAK6f8E8/F4cfFGb4zeG5finF8YX%2BItr4hk%2BHj/2FBqL6APD7wrpQ1ATCI2A3Fvtvmm5PnGQj91UOpfsB/Gzw98Pvg18Pfgx%2B0h4U0iD4U%2BKrjxNdzeJPhjcakdX1KeO/SQRJb6taLZWoGp3OyACUoFhUSbYyH5bT/23/wBpq/8A2Q7/AOIeg69omvfEzT/FHhay8R%2BG7T9njxTaXfhSz1G8s47yW40CS/fUr7ybeW6njliaJJBASoYI1bfiH9sb49eMNC8IeF/2afiD8OPEuv33w/8AFHizXfE%2Bq%2BCtTs9PuP7GvLWyOlR6c2oC50%2B5e4u2hleeaVrZrOUPA7MI0APTPGv7NPxV%2BJv7QHhP4neO/jB4cPhrwF4nudf8JaDo3gSS21NbyXTLrTwt3qMl/Kk8IjvZmKRW0DOViDOVVlk4fxz%2BwP8AGP4z3XiHxl8aP2ltDn8V3%2BjaHp%2Bg3vhL4dyabp1uNL1qLWIWvrSfUrp9RWS4hSOSPz4UNvJPGoQzO9ef2v8AwU/%2BK3iz9oHwdoPhHwzo9n4R8U33g2O00/UvCeozyXNprljFdPcS6/FOunaXcwmUpHptzEbi7MKeV/x9w43PiZ%2B3J%2B0h8F/H/wAWfAupWXhjxZL4L%2BE2teL9JeTwLqfhOKC4tJoFgtBPqV5LFrcLpcMZbqyMccL26xybGuogoBvWf/BPz4w6J4l/4XN4e/aR8Nx/EW88a6v4h1m6vvhpLP4cna/0qx0uSOHSRqaSwOkGnW7LMbx2Mkt2W3C5ZRduP2AvHI%2BDHw8/ZX07466Mvwy8DWPheKe3uvAjS%2BIL6TRLm3uYXi1EXywWivJaxfKtmzRK0gjdCUaPzXVv29/2tL39hz4//H7wJqPgWXxH8E49Q1K1vPFPws1zQ01extPD8eqvDPoN7qCahp0zSOYElmm2yRgTpGyMgbqP%2BCiP7efxp/ZR8fxeHvhxouhNZWvgSbxE7at4S1HVU1OdLxIPsVxd2VxFF4ct9pBbVb9XtV8wkj9xICAdsf2F57/9qm4/ap1bWvh9a6xp41CbwlP4d%2BFiWGoLe3Nq9nFdavfG9kk1YwW0s0UaKtsmJ5CwJ2FMXxX/AME%2BvHfxYuPFfj741/G/w5qnjjWrvwhdaHqGifDySy0bS5/Dep3GpWEsmnzajcS3bvPcypOxukLQiNIzCyCQ7XjX9o341fD39uTwR8A7/UdE1Xwz46vbyOO0X4c6rp0ukW8Ol3d2sw12a7fT9SuDNarGbCCKO5EVwZ8eXbSM3M/sPftNftNftQfBi8g8d/EzwZ4a%2BLL%2BF9G1S48Hat8C/EGjP4VkuQ5mFxa6jqqTarAXjlgjubd4It8Eh3SfcUAyfif/AMEfvhx8bfgF468EfE34p6yvxB8caV4tt5PHHhLUdX0LT7CbX1X7Qq6RZ6msdzaB4bWR7W6lmE7QEyOfMY17n/wzNYH47eBPizP4yvrrS/hz4Jv9D8N6Dqcs97P9qu2tEfUp765mkmuZ1t7TyA0m6Qi5uHeR2kOPmrSv2%2Bv2nLb4PeGPGnxE%2BJfwi8M6f4w%2BJfibSNJ%2BLGt%2BDNQtvD8OkaYZobJ5bRtX3C41Ca2mkgc3qIYSmEeRlRuouf24Pj94l/Zx%2BEX7YXgJ/BVtoXxCi8L2rfDPVPDl/Lreq6pqN2kV3bWV6LuJYPJiaSVfMs5TstZXlMSBmQA9IH7LXxf8R/HdPjp8TfjL4R1C50Hwvr2ieCNP0b4cS2UdtHqcttJI%2BpNLqU7aiF%2ByQfu4/ssbsZGK5KeXN%2Bxz%2BxfoP7Kt34r8UkeDhrni%2BWzS%2Bi%2BH3gNPDWjWlpaLL9nt7awW4uCn7y4upnkeaR3kuXOVUIi%2BYa1/wUC%2BLPgnxc/xV8Y6J4bl%2BFN78RfF/grTdKsNMuF122uvD%2BnavdTX8t01yYJYppdC1CFbdbdGQS27mV/nUWPh5%2B3V8bfA9lqml/tNeHvC%2Br%2BIb74deHfFXgjSfAdjcWZvrzV7m4s4tAP2q4n82dLmKBBegxRyJcNI8MCwsSAfUXjn/kSdY/7BVx/6LavLfHH/ACkL%2BF//AGRnx5/6dvCFVf2UfjL8UPj5%2BxgvxK%2BNNpoMHimX/hIdO1pPC9vPFp5lsdRvbHdCk8kkgVltlb5mJyT06C144/5SF/C//sjPjz/07eEKAPZqKKKACiis3xh4y8IfDzwvf%2BOPH/ivTdD0XS7ZrjU9Y1i%2BjtrWzhUZaSWWQhI0A6sxAFAGlRXOaZ8YfhHrXwyHxr0f4peHLvwadPe/Hi221y3k0w2iAl7j7UrmLylCtl920bTk8Vzurftf/sl6D8NtN%2BMuuftRfDqy8H6xdNbaR4ru/G1hHpt9OpYNFDdNKIpXBRwVViRsbjg0Aei14z%2Bwf/yRDXP%2ByzfEf/1Ndbr2Gwv7HVbGHVNLvYrm2uYllt7i3kDxyxsAVdWHDKQQQRwQa8e/YP8A%2BSIa5/2Wb4j/APqa63QB7NRRRQAUUUUAFFFFABRRRQAUVHdXVrY2z3l7cxwwxKWkllcKqAdSSeAK8o%2BJH7e/7FPwjimf4g/tUeBLCWBS0tkviS3nugB1xBEzSsfYKTWNbEYfDx5qs1FebS/Nowr4rC4WPNWqRgu8pJfm0et0V8exf8FC/wBpb9pycWv/AAT0/ZDvtY0Vm4%2BJfxSaTRtElT%2B9bw/8fF2p6bl2lT1Wrv8AwnX/AAWvtvkm%2BBPwBuSeN9v4n1NAPfDjOK89Zzhp60oTnH%2BaMJOL9Hpf1Sa82eUuIMHU1o06lSP80KcnF%2Bj92/qk12bPrWivkk2v/BcLxN8s%2Bq/s1eGYH/itoNbvLmP3%2Bf8Admj/AIZE/wCCnPjf5viR/wAFRk0a3f8A1mm%2BCPhbYw4/3bmVzIPyp/2nWl/Dw1R%2BqjH/ANKn%2Bg/7Yrz/AIWDrP1jCH/pVT9D62or4z8V/wDBNj4caPZ/2z%2B0x/wUm%2BOOoREEuNb%2BK0emWA9SsSooX/vqvF/H/wAI/wDggl4Cd0%2BJ37Wl54iZDiVIvipqerEnuCLB3Ofauavm2Lw6vVpQh/jrQX5J/qe1lWTeIHEErZXk9St/hcp/%2BmqE1/5MfpXqGtaPpKhtV1a2tgehuJ1T%2BZrF1P4w/CPRYWuNY%2BKfhy0jQZeS51y3jVR7lnGK/MGw0X/ggXekv8If2MfiZ8SJX%2B43hjQfEt405/2ftNzGOfwrZ074C/BbxPKp%2BAX/AAb7eKLp2P7if4leIE0KNP8AakjuZ5SQOu3qelcX%2BsNeX8NU5f4ZVZ/%2BkUbfifTf8Qy8X4a4rLaOGXfEYmnQt6qrOnL/AMkPt7x//wAFHv2C/hlZTX3i39rrwCvkDMttp3iSC%2BuB/wBsbZpJCfYLXl4/4Kv/APC0T5X7Hf7F3xY%2BKMb/APHvro0P%2BxtGm9MXl5jGevMY45rzXwF%2Bwn%2B3JNew634N%2BBv7KnwTWIhrWbQPAA1jWIT/ALc8qCMkdirV6eP2Gv2%2BvFI3fEz/AIKyeKWDdYPCXw803SQg9A6FifqRml9c4gxPw03Ff3YRT%2B%2BtPT/wAHwBiY6ZlxJgMP3jQjiMVL/wKNH2d/Rv1YxPGv8AwWp%2BJh%2B2%2BHfgp8DvhlaMM/YvGHiK%2B1m9TPYPYAQkjvkUl38Gf%2BCvesWzXHiv9vT4ZeEIQMy3GgfDVbsRD1H2xwD%2BNSf8OoIde%2Bb4lf8ABQP9pHxAG/1lo/xK%2BzWrf9sooRj8DUtp/wAEUP8AgnvPcJf%2BOPhpr/iy6Q5W58TeOdUuGz6kLcIp/EU/qWbVfijP/t7EW/ClTVvkw/1I8NqOuL4ixdZ9fZYapFfL2lail8l8jznxZ8KNWsNyftIf8F9dRtB/y3TQdT0Pwy/uF2SMV/CvM/F3h3/gir4fR7j4y/8ABST4heO51/1t1qPxQ1LVZH9f%2BPCLn8BX2d4U/wCCZH/BPnwYFGjfse%2BApdn3Tqnh%2BK%2BP53IkNel%2BEfgd8FPh%2B6SeA/g/4W0Ro/uNpHh%2B2tiv08tBij%2Bw8VU%2BOFL/ALedap/6VOK/AP8AV/wQofHQx%2BKf9%2Bph6af3yxEl9zPzH0vQf%2BCIWoXi6l8Mv2JvjT8WZ1/1EujaB4gvxL9FubmJTn3WvSPDo%2BF0dosHwh/4N39Qu4B/qpfGfhjRtPnP%2B8btZXH4mv0ZorWlw7ya88I/4aNJfjLnZvRreFGX/wC5cMU5edbEVZv5qlSox%2B5nwFb%2BC/2rvFGLL4e/8ENvgd4HZv8AV6n4w8Q6Ndwj3MNjbLIPpmtOz/YN/wCChHi8C4134lfs6/Dpn62/gP4KwamsI/2W1BVJP1r7qorpWQYZ/wASpOXo4wX/AJTpx/M648Y5dg/%2BRbkWX0PP6sq8vvxNSr/6QfGGjf8ABK345ySi48Yf8FIPGySH77%2BB/B%2Bl%2BHj/AMB%2Bzo238K2x/wAEhvhnqnzePf2vv2h/E7n/AFh1v4rTMG9sRxpge1fWlFbRyHKkrOnf1lN/nO34G8fE/jairYbERoLtRoYWiv8AynhU18pHyhZf8EUP%2BCeb3SX/AIv%2BFmt%2BJ54zlJfEfjfVLjB9douFU/iDXbaR/wAEvf8AgnnokCW9l%2Bx94FdUHBvNES4b8Wl3E/ia95orWGTZRT%2BHDw/8Bj%2BqZzYrxI8Q8akq%2Bb4ppbL29VJeijOCXySPKNF/YP8A2I/DjibRP2QPhjbyDpKngWw3j/gRiz%2BtdpoHwf8AhJ4U2/8ACL/C7w5pu37v2DRLeHH02IK6OiuunhcLS%2BCnFekYr8oo8DF59n2P/wB6xlap/jq1Zf8ApVSQiqqgKoAA6AUtFFbnkhXjP7L/APyW/wDaO/7LNY/%2BoV4Xr2avGf2X/wDkt/7R3/ZZrH/1CvC9AHs1FFFABRRRQAUUUUAFFFFABRRRQAUUUUAFFFFABRRRQAUUUUAFFFFABRRRQAV8Gf8ABS3VP7D/AOCq/wCxBqm7bnVPGNrn/ruNEix%2BO6vvOvzr/wCCxt7Lo/8AwUI/Yl16PhLTx5qP2hv7sT6p4cjY/wDj9eZnEuTLZy7cr/8AJ6Z9x4b0FieNMLRf21Xj9%2BFxf%2BSP0Uooor0z4cKKKKACiiigAooooAKKKKACiiigAooooAyvA3/Ik6P/ANgu3/8ARa1q1lDwZoaZWBr6FMkiK31a5jRfZVWQKo9gAKX/AIQ/Sf8An71X/wAHl3/8doA1KKy/%2BEP0n/n71X/weXf/AMdo/wCEP0n/AJ%2B9V/8AB5d//HaAPD/EH/BNP9nzxL4j%2BM3iXUNX8TCX426dbWeuW6ajD5OiCJSWk01DCRA005FzMJfNSWZVLKV%2BQv8ABX/BO74c%2BFvF0fxC8QfGLx94p8QH4nSeO7zWPEF7p/mXept4Vn8L%2BWyWtlDEluLCcsscSR4mRGzs3Rt7b/wh%2Bk/8/eq/%2BDy7/wDjtH/CH6T/AM/eq/8Ag8u//jtAHzl/w6k%2BDFn4X0DwD4c%2BM/xI0jw7pFj4Qh1TQdO1PTxB4gm8NNanTLu8Z7FpRNtsrZJfs7wRypEoZPlXH0DrHw60jxb4H134dfEK%2BufEek%2BIob621K11SOFQ1ldB1ezHkRxgxLG5jUtmQqBvd2yxuf8ACH6T/wA/eq/%2BDy7/APjtH/CH6T/z96r/AODy7/8AjtAHmfwO/Y90v4FyalrOnfHPx34g1/VIdFsbrxR4mn02e%2BOkaVJK9ppI8uyji%2BzD7RdhnMZuWN5M5n8wrIud8Jf2Jrj4PeO/H/j/AEH9qv4l3118RdQvb/WY9Wg8Pym3upl8uCSGddJW422kQSK2hllkhjRAGjfnPrv/AAh%2Bk/8AP3qv/g8u/wD47R/wh%2Bk/8/eq/wDg8u//AI7QB5V4c/Y51DwuvifxHp/7VXxKfxt4tbTo9V%2BIs8WgtqYs7Hzvs1lHB/ZX9npApublsfZN5a4di%2BdpXnta/wCCa/wuvvBWleGtA%2BMfxD0HVbKHxFBq3jHR9TsRquuwa9dLeaxFdNNZyQqLm5jil3W8UDwNEgt2gUba92/4Q/Sf%2BfvVf/B5d/8Ax2j/AIQ/Sf8An71X/wAHl3/8doA8Xn/4J2/B5PHg8RaD428W6R4al8SeH/EOpfDfTbqzXQ7/AFXRIbGHTLuTfatdo0K6Zpv7uK5jic2EJdG%2BfezxZ/wT28EfFG61q%2B%2BOfxz%2BIXjm41LwjqHhvSJ9bu9NtW8PWN7cWtzP9j/s%2BxtszGawsXE1x58g%2ByoN2GkD%2B1/8IfpP/P3qv/g8u/8A47R/wh%2Bk/wDP3qv/AIPLv/47QB4V42/4J0%2BHfiF8DPiZ8F/FH7TPxMnvPi/A9n8QPHAOhDV9R09rA6ebBV/sv7Fbw/Zyygw2yShmZ/M3sWM3xV/4J5%2BF/jPazx%2BPP2iviTNc674FHg34g31pNo9vJ400QTXEgtL9Y9OEcOPtl2gksVtJQlzIN%2BdpX2//AIQ/Sf8An71X/wAHl3/8do/4Q/Sf%2BfvVf/B5d/8Ax2gDzrWf2T7bxV8YdI%2BKvjX46%2BONZsvDOszav4T8GXR0uLStFvpLOezE8Rt7GO6mKQ3VwES4uJo1Mu7blIykPgT9kRPCWveJfHfib9of4g%2BLPFviLwsvh2Hxdr0mlQ3mj2CtNIqWcdhYW1sjiWZpTJJDI7MkYYsqKo9L/wCEP0n/AJ%2B9V/8AB5d//HaP%2BEP0n/n71X/weXf/AMdoA4KT9l600D4CeEv2d/gr8Z/GPw40XwbpNppWm3fhAaY93LYW9r9mS3ka/srlACoVjJGiS70BV15B42b/AIJ4eC9L%2BJngD4h/DP47%2BP8Awda/DPwZD4Y8IeFdHGjXemWVkhAlkVdS026mS5niSOGW4SVZGiiChl3OX9v/AOEP0n/n71X/AMHl3/8AHaP%2BEP0n/n71X/weXf8A8doA8jg/YG%2BEP/C3Lj4lat4p8S6lo8muaprln8PL%2B4tG0Kw1fUrOWyv9QiRbcXJlmgubxWSS4eEG9uGWNWkJGd8Pf%2BCa37N/h3RL7w78X7K6%2BMFnc6PpOj2Vv8XdO03V4tO0vTPtBsLOGMWkcbCJrq4bz5VkuZDJmWaTau323/hD9J/5%2B9V/8Hl3/wDHaP8AhD9J/wCfvVf/AAeXf/x2gDzj4IfsqfBb9jX9nHVvgt8BvCdrpGhiXWNUaC2sLa33z3cs1w%2B5beKNCE3rCny5WKGJCTszVTxx/wApC/hf/wBkZ8ef%2BnbwhXqJ8GaG%2BFna%2BmTIJiuNWuZEb2ZWkKsPYgivLvHH/KQv4X/9kZ8ef%2BnbwhQB7NRRRQAV4h%2B394b8Ra78E9G1bRPCmpa/aeG/iX4V1/xBoej6dJeXV5ptjrVpc3BitolaS5eFY/tIhRWkk%2Bz7UV3Kqfb6KAPi7w18PbT4k/sn/Fvw94v0Lx14R07xP8S7/wAeeE7b/hWWqXV3Z2sWswXdrK%2Bmi38yZri9s3vJNOwty8N2Q8cbSHHI%2BDvih%2B0j%2Bz58HviV8XdU%2BGPinxZ4p%2BMnxreTwJqFv8Dtbjt9Asm0DS7CfV73RLeO6v7C0EunXUi20p8%2B5Z4Q7Rm5eSL7/ooA8s%2BAfw0Hw0/Y68FfCD9nnxLPYR%2BHvA2m6T4W1Xx54UuzKkdvbRxRyXmnO9lOrlUy0JaBlJxhQNtc9/wTpt/Etp%2BzdfWvjLVrG/1eP4t/ENdTvtM057S2uJx4z1rzJIoHmmaFC2SEaWQqCAXbGT7pXjP7B/8AyRDXP%2ByzfEf/ANTXW6APZqKKKACiiigAorlPjb8cPhZ%2Bzn8NNT%2BL3xm8Y2uh6BpMW%2B6vbpjyT92NFGWkkY8KigsxOAK%2BV18e/t9/8FFgI/hFYal%2Bz98IbvB/4S7V7cHxZr1ueQ1pBnFhGy9JWO/lXRmGVrgxWYUsNNUopzqPVRjq7d30iv70ml2u9DzMbmlDCVFRjF1KrV1COrt3b%2BGEf70ml2UnofQ37RP7ZP7MX7KGjnVvj78ZdG8Pu0Rkt9NmuPNvrkf9MrWMNNJzxlVIHcivn6P4rf8ABQb9v%2BRYvgH4cuvgF8LZyCfHPiuwWXxNrMPrZ2RO20Rh0kkOcFXRzyter/s7/wDBNr9kT9mrVv8AhMfCXw0XW/FjyebdeNvGNw2qatPN3l8%2BfPlOe5iVAfSvSfjZ8evg5%2Bzj4FuPiV8cfiJpnhrRbc7WvNRmx5j4yI40ALyucHCIrMcHArkqUcbiIOeMqKlTWrjB2dv71R2su/Io/wCIjC5RxBxBioYaV05tKNKhzSqTb2i5pczv/LSjG/8ANY%2BeLT/gjZ%2BzL4nuU1L9o74jfFD4vXasHLfEHx/dzRB%2Bvyx25iCqD0U5AHHNesfDv9gP9iT4UNHN4C/ZT8B2U8JBivX8NW89yuPSaVWk/wDHq8b/AOHgv7T37TB%2Bwf8ABPz9jvU7/S5uIviX8Vi%2BjaJtPSWGD/j4vIz6ptYd1p//AA7s/aP/AGgD9t/br/bo8Ua5ZS8y%2BBfhog0DRgveGV0Bmu4%2BvL7G6c8VxUf7M5r4DCe0f87ilH/wZUu3/wBuqXkz9GoeEmS5BL2nEFfD4GXWDX1nFfOlSdRwf/X6vTa6xWqPVvjx/wAFDP2LP2Z5X0v4tftBeH7LUom2f2Fp0xvr8N0Cm2tRJKmTwNyge9eXf8PNPi58U/3P7JP/AATr%2BKvjFH4t9Z8VwQ%2BGtMmB6PHcXRbev/AVPavZPgJ%2Bw/8Ask/swxR/8KN%2BAXhzQrqJdo1VLIT3zD0a6mLzMPYvivVa9H2GcV/4laNNdoR5n/4FP9IHpPNfDjKdMHl1XGSX28TW9lB/9wMKr28p4hvuz5H/ALL/AOC0Hxh5vPFHwc%2BDuny/dGn2Vz4g1WHP97zcWrY9sc0o/wCCX/xE%2BIhE/wC05/wUW%2BM3jBm5n0/w9qsXh7Tpj33W1qrcegDDFfW9FH9jYWf8eU6n%2BKcrf%2BAxcI/gL/iJWfYXTK6OGwa6eww1FT/8G1Y4irfz50%2BujPl/wn/wRq/4JzeF73%2B17z9nqLXr9iDNf%2BKNdvtReU%2BrLNM0Z/75r2nwB%2BzR%2Bzn8KFRfhh8BPBnh4p91tF8MWts31LRxgk%2B55rt6K6aGW5dhXejRhH0jFP77X/E8TNeNeMc9jy5jmVesu061Vx/8B51G3ly28gooortPmQooooAKKKKACiiigAooooAKKKKACiiigAooooAKKKKACiiigArxn9l//kt/7R3/AGWax/8AUK8L17NXjP7L/wDyW/8AaO/7LNY/%2BoV4XoA9mooooAKKKKACiiigAooooAKKKKACiiigAooooAKKKKACiiigAooooAKK5j40aH4t8R/C3W9I8C/ErUvB%2BqyWZe08R6RZWlxc2RRg7GOO8hmgZmVWT95G4G/OCQK8BT9pr4y23/BJfwH%2B0iviWCXx74r%2BG/g9p/EF1p8XlwanrA0%2B2k1BoEVYiI5bxrgxBVj%2BTbgLxQB9S1%2Bcv/Bco/2f8c/gH4v6f8I9Fquo7/7u3xF4PTP/AJEr6w/ZE8a/Eu78V/Fj4KfE34jX3jKb4b%2BPLbS9L8V6rY2dve31pdaJpmpql0tjBBb%2BdHJeyx5ihjBiWEldxZm%2BMv8AguT8RdB8ZXd1onh7SvEMep%2BCPhVr11czap4R1GwtJX/4S3wNg2t1c28cF6Aofc1u8oXjcRuXPlZ7/wAibEPtBv7rP9D7/wAKWv8AiJeTwe08RTh/4Mcqf/uQ/Teio7S5hvbWK8t23RzRq6N6gjIqSvVPgWmnZhRRRQIKKKKACiiigAooooAKKKKACiiigAooooAKKKKACiiigAooooAKKKKACiiigAooooAKKKKACiiigAooooAKKKKACvGfHH/KQv4X/wDZGfHn/p28IV7NXjPjj/lIX8L/APsjPjz/ANO3hCgD2aiiigAooooAKKKKACvGf2D/APkiGuf9lm%2BI/wD6mut17NXjP7B//JENc/7LN8R//U11ugD2aiiigAryX9qj9tn9n39j7Qbe/wDi34sZtW1IhNA8J6PD9q1bV5Sdqx29sp3NlsLvbagJALAkVxP7d/7XnjP4XXei/sv/ALMGmwa38aviCrReGrB8NDodpyJdXvOCEhiAYqGB3sp4YKwOj%2ByZ/wAE8/hJ%2BzVqb/FXxRqF749%2BKepxBvEHxJ8WTG6v5pSuHW335FrD1VUTnZhWZsCvKr4zE168sPg0rx%2BKb1jFvokvilbW10lpzPVI8TEY/F4nEywmAS5o/HOWsYN68qS%2BOdteW6jFNc71UX5t8E/2WvjJ%2B2Z8UNN/a/8A%2BCg3hz%2BzrDSp/tPww%2BCcrb7XQV/gvdRUgCe9IwdrDEfcA4jj%2Bxbi4gtIHurqZIookLySSMFVFAySSeAAO9cT%2B0V%2B0d8Iv2VfhXf/ABi%2BNXiqPS9HsQFQAb57ycg7LeCPrLK%2BDhR6EkhQSPl61%2BDv7V3/AAU7mj8RftQxar8J/gjKwl074V6fdmLW/E0Ocq%2Bqzrg28TDB%2BzrhucHBVZTgp0csboUIurXnq9dX05py2jHol2XLCLPveEOAITy6eZ4%2BusPg1K1TEVFzTq1Ek3CjTVpVqtmrQhy0qUXH2k6cdJ9P8S/%2BCk%2BsfE7xnefAn/gnH8M1%2BK3i22fydV8VvKYvC3h9j/HcXgwLhh1EUJ%2BYA7WLArV/4If8E2dOfx7bftFftv8AxDl%2BMPxLi%2Beym1aALonh8khvK0%2Bxx5aBSB%2B8ddxKhwqMST9DfDP4XfDn4NeDLP4d/CnwTpvh/Q9PTbaaZpVosMSepwo5Y9SxyzHkkk5reranls681Vx0vaSWqja1OL8ov4mv5p3fZRPoMXxtQyvCzwHC1F4SlJOM6zali60Xo1OrFJUoS60cPyRtpOpV1udOlFFFesfnoUUUUAFFFFABRRRQAUUUUAFFFFABRRRQAUUUUAFFFFABRRRQAUUUUAFFFFABRRRQAUUUUAFeM/sv/wDJb/2jv%2ByzWP8A6hXhevZq8Z/Zf/5Lf%2B0d/wBlmsf/AFCvC9AHs1FFFABRRRQAUUUUAFFFFABRRRQAUUUUAFFFFABRRRQAUUUUAFFFFAGJ8Rvh/wCH/ip4J1D4feKrnV4dO1SERXcmg%2BIb3SrsKGDYju7GWK4hJIAJjkUkEqcgkHgvBH7En7OfgD4It%2Bzfo3hrXbzwOfDL%2BH18OeIfHWsatBHppAUQJ9uu5WQIoCxspDRKqrGyqAB6xRQByPwY%2BBfw0%2BAHhq68K/DLSr6GHUNTk1HVLzV9dvNUvtQu3REae5vL6aa4uZPLiijDSyMVSKNBhUVR8ef8FpdF/t7Sryx2bvL/AGcfHtzj/rjrvgubP/jlfeNfHf8AwU70b%2B3/ABDqelhNzP8Asl/Fh419XS48LOv6qK4c0h7TLK8e8J/%2BkyPqeBcT9T43yqv/AC4nDv8A8r0v8z6b%2BButf8JH8FPB/iHfu%2B3%2BFtPud3rvto2z%2BtdTXlX7Cetf8JD%2BxL8INaL7muPhjoLSHP8AH/Z8Ab/x7Neq1thJ%2B0wlOfeMX98Yv9TzOIMN9Sz/ABmH/krVY/8AgNWrH/20KKKK6DyQooooAKKKKACiiigAooooAKKKKACiiigAooooAKKKKACiiigAooooAKKKKACiiigAooooAKKKKACiiigAooooAK8Z8cf8pC/hf/2Rnx5/6dvCFezV4z44/wCUhfwv/wCyM%2BPP/Tt4QoA9mooooAKKK8Q/b%2B8SeItC%2BCejaRonivUtAtPEnxL8K%2BH9f1zR9Qks7qz06%2B1q0trgRXMTK9s8yyfZhMjK8f2jcjI4VgAe30V8g%2BEIv2gfHH7GvxX%2BF/wX8f69quo%2BF/ivqWgeEtZvfFUn9q6jotrqlu13YR6pcOZPtYiN/psV3LJ5iSRRs8u9Gkryr4UeO/il8VPiNa/sxfEPW/iT4L%2BHx/aD1rQ9OS8%2BKV3Jr8lra%2BDLTVE0mfXbK%2BlnkZdQm1GZhFeSMosfszSMkMqEA/ROvGf2D/8AkiGuf9lm%2BI//AKmut1S/Yy%2BL3xG8V/sDeA/i94i0jWfHWvT%2BEIJ0GnSWkd94iRfkhu1a5mgt/MuIgk5ZpI0PmEggECk/4J06tf69%2Bzdfa3qvhi%2B0S5vPi38Q5rjR9Tkge5sXbxnrRMMrW8ssJdCdpMcjpkHazDBIB7pXk37af7V3hn9jv4FX/wAU9W099U1eeZNO8I%2BHLfJn1rVpsrb2kar8xy3zNgEhFYgEgA%2Bq3l3a6faS399cJDBBG0k00rBVRAMliT0AAzmvi79lvS9S/wCCif7UL/t%2BeO7CZfhn4GuLnSvgTol5GQt7MreXda86N/EzJsiyMrs6BogzebmOJqwUcPh/4tS6X91L4pvyinp3k4rueRmuLr01DC4X%2BNVuo9VFL4qj8oJ6L7U3GPc9K/YH/ZD8S/BbTdW/aB/aH1Vde%2BNHxF2XnjbW5MMNPQgGPSrXBIjt4QFXCnDMgPKrGF9L/ae/aW%2BGH7JXwa1X41/FjU2h0/T1CWtnbgNc6jdPkRWsCZ%2BeV2GAOgALMQqsR1njbxn4W%2BHPg/VPH/jfW4NN0fRdPmvdU1C5bEdvbxIXd29goJ45r4//AGafAPjH/gol8btO/b5/aA8PXOn/AA88OzM3wI8BaimN65/5D93H0M0mAYVOQoCsM7UkfnqtZfRhgsGr1JXtfW381Sb66u/eUmorry/oPA3CWVQwVTMMycoZdhWvaNP95XqyvKNCm3e9Ws05Tm01Sp89WW1OMtb9nD9lX4tftLfFHTf24f2/9LjTV7T9/wDDL4Tli9j4OgbDJPOpGJr9gFJZh%2B7IHAZUSH6%2BoorvweCpYKm4xu5PWUn8Un3b/JbJWSSSOfiXibH8TY2NWuo06dNclKlBWpUaad1CnG7suspO86k3KpUlKcm0UUUV1nzoUUUUAFFFFABRRRQAUUUUAFFFFABRRRQAUUUUAFFFFABRRRQAUUUUAFFFFABRRRQAUUUUAFFFFABXjP7L/wDyW/8AaO/7LNY/%2BoV4Xr2avGf2X/8Akt/7R3/ZZrH/ANQrwvQB7NRRRQAUUUUAFFFFABRRRQAUUUUAFFFFABRRRQAUUUUAFFFFABRRRQAUUUUAFfM/7Yejf8JH%2B0RpXh7Zu%2B3/ALM/xQt9vrvu/Ci4/WvpivEPihp0Wsft6fDnSLj/AFd18EPH8L59G1Twip/nWdWHtKUod0196a/U6sBiHg8dRxC%2BxOEv/AZRl/7aZn/BKjWf7e/4J0/CG%2B37vL8HQW%2Bf%2BuLNDj/xyvoKvlT/AIIlalNf/wDBMn4aw3XE9kNWtJlP8Jj1a8UD/vkLX1XXDk0/aZRh5d6cP/SV/kfV%2BJWHWE8Rc5or7OKxC/8AK1R/qFFFFekfFBRRRQAUUUUAFFFFABRRRQAUUUUAFFFFABRRRQAUUUUAFFFFABRRRQAUUUUAFFFFABRRRQAUUUUAFFFFABRRRQAV4z44/wCUhfwv/wCyM%2BPP/Tt4Qr2avGfHH/KQv4X/APZGfHn/AKdvCFAHs1FFFABWb4x8GeD/AIieFr/wP8QPCmm67omqWzW%2Bp6PrFjHdWt5Cww0csUgKSIR1VgQa0qKAOKt/2a/2c7TwW/w3tfgD4Ki8OyaH/YsmgR%2BFbNbJtN8xpPsRgEflm33u7%2BVjZudjjJJqPU/2YP2ada%2BEtt8AtY/Z48DXfgSzdXs/BVz4Ss5NJgZXLqUs2iMKkOzMCF4JJ6mu5ooAh07TtP0jT4NJ0mxhtbW1hWG2treIJHDGoCqiquAqgAAAcACvH/2D/wDkiGuf9lm%2BI/8A6mut17NXjP7B/wDyRDXP%2ByzfEf8A9TXW6AOV/wCCsPxc1z4WfsS%2BJtF8FFn8T%2BPZrfwd4Wt42w895qT%2BQVQ9QwhM7gjnKCvYvgH8I9D%2BAfwS8J/BXw4FNn4W8P2mmRSKuPNMMSo0h/2nYFye5Y183/tCf8ZG/wDBU74SfAKL9/onwk0C7%2BIPiaMco1/IwtdNRvSSN8zAdSrk/T3v9rD9oPw7%2Byr%2Bzn4u%2BP8A4nCPB4b0eS4t7aRsC6umwlvBn1kmeNPbdmvFo1abxmJxlR2hTXIn2UVzzf8A4E0v%2B3Tz8gwGM4g4mnTwsHOpOcMNSit3JyXMl61KkY/9uu%2BiZ88ftuapqX7bH7Sug/8ABNbwNfzL4Y09bfxL8ddTtJCvlaajq9ppO4fdkuHCORwwTY4yA4r7D0vS9N0PTLbRdGsIbWzs4EgtbW3jCRwxooVUVRwqgAAAcACvn/8A4Jrfs3%2BIfgf8B28ffFiWS7%2BJfxNvP%2BEn%2BImpXKYlN7cDelpj%2BFLdGEYQfKreYVwGxX0PWuWUakoyxdZWqVbO38sV8EPkneX96T7I/TeOcxwVKrR4ey2alhMDzR5ltWrya%2BsV/NTnHkpX2oUqa055BRRRXqnwQUUUUAFFFFABRRRQAUUUUAFFFFABRRRQAUUUUAFFFFABRRRQAUUUUAFFFFABRRRQAUUUUAFFFFABRRRQAV4z%2By//AMlv/aO/7LNY/wDqFeF69mrxn9l//kt/7R3/AGWax/8AUK8L0AezUUUUAFFFFABRRRQAUUUUAFFFFABRRRQAUUUUAFFFFABRRRQAUUUUAeYftp/F7xV8A/2TPiH8Y/A0dqdb8P8AhS8utHe%2BiL28N0IyIpZVBBaJHKu65GVVhkZyPMvBfxi%2BMPwk0j9oL4e/EL45xeKLn4VeHYNc0Lx943020tRDFcaTJcGPUF0y3giaOCe2lkLRQq/kTIpDsu9/onxp4N8K/EXwdq3w%2B8daBa6romu6bPp%2BsaXexB4by1mjaOWGRTwyOjMpHcE1wXgP9jX9nv4c%2BGtU8IaD4V1W70/XhdDxHF4h8X6pqza2Li1itJFvnvrmZ74C2gihQTmQRRoEj2AkEA8f/wCCbvxt/aS8f%2BMvGXw9/aU1LxjFf6Z4R8La3YaN8RtM0S31mI6guoLcXKHQ0W0bT5JbTZAkh%2B2RyW9yLhUDQg9Tf/E7w34x/wCCm3gvwZpOm%2BIYbzw98HvHEd/NqvhHUbG0lL6t4Swba6uYI4L0DactbvIFyNxG5c%2Bi/Av9lv4K/s4SaldfCrQNUiu9XtrS21DUde8U6jrN3JbWokFrbC41G4nlS3h86YxwKwjQzSFVBdieb8cf8pC/hf8A9kZ8ef8Ap28IUAeY/wDBGL/QP2RtV8IdP%2BEf%2BJ/iXTtv93bfu%2BP/ACJX1pXyX/wSa/4lul/tA%2BEG4/sf9pzxXDCvpEzW7ofx3GvrSvJyLTKKK7K33Smv0P0DxV97xEzKp/PUU/8AwZSw9T/3IFFFFesfn4UUUUAFFFFABRRRQAUUUUAFFFFABRRRQAUUUUAFFFFABRRRQAUUUUAFFFFABRRRQAUUUUAFFFFABRRRQAUUUUAFeM%2BOP%2BUhfwv/AOyM%2BPP/AE7eEK9mrxnxx/ykL%2BF//ZGfHn/p28IUAezUUUUAFFFFABRRRQAV4z%2BwgQPghrhJ/wCazfEf/wBTXW69mr5g%2BFvjn/hWH/BP74u/EgTeWdA8YfFzUEfPIaHxVr8gx75UVFWpGlSlOWyTf3Jv9DOtVjQoyqS2im36JN/oYP8AwSwVvjR4g%2BMn7eOoKZB8U/iBNZ%2BF5253aBpWbO0K/wB3cwl3AcExg81B%2B2H/AMZcft0fDH9h6x/0jwz4NK/EL4oqvMciQNs02xfsfMmYs8Z6oysPu13H/BNvStH%2BBP8AwTJ%2BGV94hkFpY2Hw8j13UJGGPKjnR7%2BRj9BKxNcz/wAEm/CeueM/hv4s/bk%2BIlps8U/HTxLLrRjkOWsdHhZoNOswe6pErMD3WRc8ivmKNOVbA4XBPeovaVPS6nL/AMCnKMfRM%2By8Kab4d4UxHE9XSrRpqFHu8XjIzfOv%2BvNGVeqn0l7LqkfWVFFFfVHyIUUUUAFFFFABRRRQAUUUUAFFFFABRRRQAUUUUAFFFFABRRRQAUUUUAFFFFABRRRQAUUUUAFFFFABRRRQAUUUUAFeM/sv/wDJb/2jv%2ByzWP8A6hXhevZq8Z/Zf/5Lf%2B0d/wBlmsf/AFCvC9AHs1FFFABRRRQAUUUUAFFFFABRRRQAUUUUAFFFFABRRRQAUUUUAFFFFABRRRQAV4z44/5SF/C//sjPjz/07eEK9mr57%2BLnjmx8Nf8ABTz4GeFb5lDeI/hB8Rba0z1M0V/4SuMD28uKU/gKmUowV3/V9CZzjBXl5fi7fmcf/wAE5f8AiUftI/tU%2BEOnkfGX%2B0dv/X3Zo%2Bfx2V9aV8l/sbf8Sf8A4KYftceGD8qSXngzUYB/e87SZN5/76AFfWleXkumA5e06i%2B6pP8AzP0LxN97iv23/PzD4Of/AIFgsM//AG0KKKK9Y/PwooooAKKKKACiiigAooooAKKKKACiiigAooooAKKKKACiiigAooooAKKKKACiiigAooooAKKKKACiiigAooooAK8Z8cf8pC/hf/2Rnx5/6dvCFezV4z44/wCUhfwv/wCyM%2BPP/Tt4QoA9mooooAK8w/a2%2BMnjL4MfDCwvvhrZ6ZL4l8SeMNF8NaBJrcEktla3GoX8NsbqeOKSN5Y4Y5JJvKWSMymIRh49%2B9fT64348fBLw1%2B0D8Opfh34m1jU9L26lY6npetaJNHHe6XqFldRXdpdwNLHJHvjnhjbbIjxuAUdHRmUgHiWq/tk/Gbwp%2Bxr8UPinrnh/wAOX/j34W%2BJtQ8P6k9hZTxaZeyw3EIjvorVrh52BtbmGf7Es7yvKGt45XZkc%2BW3H/BSr9oj/hWVpexx6Il6/wAXNS8KT%2BKIPgp4ju7v7LbaIupJI/g2K7GtW07yM0JSSQ7IY0vGUQ3EePoCP9g7wDJ8FtY%2BCOr/ABV8a39pr2p/21qetXNzYJqMuvjU11NNaEsVoirdJcxwFIwgtUS2ijW3CKVOUn/BOzwpa3a%2BN9K/aK%2BJNn8QW8VXevXnxOgm0dtWvJ7jTbbTJYZIH01tP8j7JZWcYjS0XabVHBEhd2AO3%2BBn7Rel%2BMP2QfBv7UXxr1jw14Tg1rwPp2u%2BIrs%2BIYG0rTXuLaOSQC8Z/KMSu5UPvIIx8x6n5A%2BO3xY0Fv8AgiV8XfHXgDxFZaxY%2BJ/iP45tND1DSbtLiDUIb/4ganCrwyRkrIjRzFgykgryCa%2B5/gv8I/BvwE%2BE3h34L/D6C4TRfDOkw6fp32y5M0zxxqF3ySNy8jHLMx6sxPevgr9oL/iqP2Xvhr8FI/n/AOE4/bk8R6feQ%2BtnH451%2BeZiO4Xy0Jry86k45TX5d3FxXrK0V/6UeNxFOUMixCjvKDivWdoL8ZntP/BSjVdQ%2BAH/AATEv/hB4Lw2s65ouleAfD1vG2PPlu/Ks2jX/th5xH0r6R%2BEPw50j4P/AAo8M/CfQAPsPhnQLPSrQhcZjt4UiU/UhM/jXzR%2B2p/xej/goF%2Bzj%2BzPGPOsdC1W/wDiJ4ji6%2BULCIx6e5HcG5eRefWvrms8FFVMyr1FtBQpr5Lml%2BMor5H6znsI5RwBk2Vx0dZ1sXJeUpLDUL/9wqFRryn2YUUUV7B%2BfhRRRQAUUUUAFFFFABRRRQAUUUUAFFFFABRRRQAUUUUAFFFFABRRRQAUUUUAFFFFABRRRQAUUUUAFFFFABRRRQAV4z%2By/wD8lv8A2jv%2ByzWP/qFeF69mrxn9l/8A5Lf%2B0d/2Wax/9QrwvQB7NRRRQAUUUUAFFFFABRRRQAUUUUAFFFFABRRRQAUUUUAFFFFABRRRQAUV5h%2B2n8XvFXwD/ZM%2BIfxj8DR2p1vw/wCFLy60d76Ivbw3QjIillUEFokcq7rkZVWGRnI8y8FfHb4s/AfSf2gvDHxN8f6l8TJPg94eg8R6PrerafY2d9fwTaTJdNYzjT7eC3LrNaylXSFT5VxErB2Qu4B9OV8C/wDBUTx3P8Kv%2BCn37FHxGV2SGHVvFmk3so%2B7HDqMmg2TM3oo84cn2r2L/gnn8cvHPxKttR8O/Gfx78Qr7xlN4V0TxLPpHjjw5omn2sVjfi5Ed1pa6WhcWkksE6CG9lkvIRAglCl8v84/8FnNa034t%2BLpNI8EaZ4ig8RfDD4QeKvEEN5qnhDUrG1E1r4h8GzGS1urmCOC9Ahjmy1tJIEyNxG4Z83OHOOWVZw3iuZf9utS/wDbWeRnzqRyavOn8UI8y/7ccZ/ioNfM9y%2BCf/Ek/wCCxHxv0v7v9ufDLw1qOP73kl7fP64r60r4s1rxzYeD/wDgpt8Fv2lbFwPDfx9%2BEkvhsSscxwXkOzU7Vi396RJBEo7nNfadZZPKPLWgulSb%2BU%2BWcX81K5%2BrcfNYtZTmNN3p18DhrPu6MalCa9YypxT8mns0FFFFeufABRRRQAUUUUAFFFFABRRRQAUUUUAFFFFABRRRQAUUUUAFFFFABRRRQAUUUUAFFFFABRRRQAUUUUAFFFFABRRRQAV4z44/5SF/C/8A7Iz48/8ATt4Qr2avGfHH/KQv4X/9kZ8ef%2BnbwhQB7NRRRQAUUUUAFFFFABX5x%2BE/%2BK5/a%2B/Z2%2BGC/Pb6X8bPjd4m1NP7nkeJ9YS2b/v6WFfo5X5s/sM6raeIP%2BCl3jfxNqD5034aeG/iKJv%2BmV3d/EfXJi3tm3Uj8K8nOGnRpU39qpTXyUud/hA8XO4yrU6GHirupWpRt3tPm/8AbF957b%2ByeP8Ahdf/AAUx/aC/aGk/e2Pgu00z4deHbjrtMK/atRjz223JTgf3ua%2Bua%2BUf%2BCLui3b/ALCWk/FbXFzrfxH8Ta14q1%2BTH%2Bturi/lTfnqcxQxda%2BrqMkTeWwqvepeo/8At9uS%2B5cq%2BR%2BteKE40%2BNcRl9N%2B5g1Twse1sNTjSk1/iqKtLz5r9WFFFFesfn4UUUUAFFFFABRRRQAUUUUAFFFFABRRRQAUUUUAFFFFABRRRQAUUUUAFFFFABRRRQAUUUUAFFFFABRRRQAUUUUAFeM/sv/APJb/wBo7/ss1j/6hXhevZq8Z/Zf/wCS3/tHf9lmsf8A1CvC9AHs1FFFABRRRQAUUUUAFFFFABRRRQAUUUUAFFFFABRRRQAUUUUAFFFFAGZ408G%2BFfiL4O1b4feOtAtdV0TXdNn0/WNLvYg8N5azRtHLDIp4ZHRmUjuCa4v4U/sn/BD4LWdzY%2BBNE1rbf3M0%2BrSa34x1TVZdVklt4bYm9kvrmZ73bBbwxRicyCJIwsewZB9HooA87%2BBX7KvwN/Zum1C7%2BEfhe%2BtLjU7O0srm61XxJqGqTJZWvm/ZbKKS%2BnmeC1h86byraIrDGZXKou4585/ac%2BH1n8Wv2rfDHwr1EL9n8Tfs7fErSpt442XF/wCE4Tn8Hr6Krxnxx/ykL%2BF//ZGfHn/p28IVM4RqQcZbNNP0en6kVIRq03CSummn6NNP8Gz4tNx4q%2BK3/BDD4dfG/wAO2zf8Jp8BNRtNZsYX4e3l0K%2BktZY3I5CizRnI6YVc%2B36QfDvxzoHxP8AaH8SfCtz52l%2BIdHttS06X%2B/BPEssZ/FWFfJ//AATy8LaJaeKf2pf2NPFNms2m6b8Vr%2B8/s9%2Bi6TrlqJo4cf3Sqy4/3jW5/wAEgPFOt2f7Mup/s2%2BNL1pfEHwY8a6p4O1BpOGlhgmMltKB/cMMiop6ERV8vk05Ua1FS/5eU%2BR/46DcfvcPyPreHZyzzwYpQm71csr8r7%2BxxF6UvlHE4aL8vbeZ9WUUUV9UfKhRRRQAUUUUAFFFFABRRRQAUUUUAFFFFABRRRQAUUUUAFFFFABRRRQAUUUUAFFFFABRRRQAUUUUAFFFFABRRRQAV4z44/5SF/C//sjPjz/07eEK9mrxnxx/ykL%2BF/8A2Rnx5/6dvCFAHs1FFFABRRXHfHj42eGv2fvh1L8RPE2kanqm7UrHTNM0XRIY5L3VNQvbqK0tLSBZZI4/MknmjXdI6RoCXd0RWYAHY0V45/w258LrX9mzXv2lde8L%2BI9LtvDGp3Gk6/4VvbW3/tay1WG8FmbBljna3MjTtGqSCcwMsqS%2Bb5bb6x7L/goB4L1DQJI7T4I%2BPX8aR%2BPZfBw%2BGSRaW2sPqsWnpqciCUX50/ylsZEuGnN2I1DCMsJiIqAPe6/Kj9jK6uPB%2Bif8FGfj1cyH/iXeMvGel6VIf%2BWb299rszIp/wBqW4jP1xX6keFdZvfEXhnTtf1Lwxf6Jc31jFPcaNqrQm6sXdAzQTGCSWIyISVYxyOmVO12GCfy71iwl%2BFX/BJz9snxikZ%2B0eMf2nvHyQED5pVm8Xf2btHqP3cnH1rw8%2BvHDKr/ACKpL7qU0vxkevwllH9ueIWQ4Rq6li6N/nKK/Js%2B7P8AgnT4S/4Qf9g74QeHmi2Ovw70q4mTH3ZJrZJnH13SGvZ6xvh14Wj8D/D7QvBUIATR9GtbFAvQCKJYx/6DWzXqYSl7DC06X8sYr7kl%2BgcQZh/a2f4zHXv7arVqf%2BB1Kk1%2BEkFFFFdB5AUUUUAFFFFABRRRQAUUUUAFFFFABRRRQAUUUUAFFFFABRRRQAUUUUAFFFFABRRRQAUUUUAFFFFABRRRQAUUUUAFeM/sv/8AJb/2jv8Ass1j/wCoV4Xr2avGf2X/APkt/wC0d/2Wax/9QrwvQB7NRRRQAUUUUAFFFFABRRRQAUUUUAFFFFABRRRQAUUUUAFFFFABRRRQAUUUUAFeM%2BOP%2BUhfwv8A%2ByM%2BPP8A07eEK9mrxnxx/wApC/hf/wBkZ8ef%2BnbwhQB5F4l1T/hlb/grfb%2BMvE8PkeFP2hfCNrotvqgbEcfiPTciCGXsPMt2CRnOWdtoHBNVvHesTfsGf8FIJ/jB4lhWL4Y/tDpp%2BkavqwO2LQ/E9pG0dq038KR3EWV38ZfczYCZPtX7d/7Llv8Atdfs2a18LLK9%2BweIbdo9V8F6yrlH03WLYmS1mVxynzZjZhyEkfHOK8/%2BBviTwJ/wVS/YFvfAPx20H7PrE8M/hz4h6SYwlxo2v2hCySKv/LORZBHcRjnAZVOcMK%2BYr4arTxMqFN2lzOtSb25v%2BXkH5O//AIDO/wBk9Dw/z3BcL8TYnLczi5YHHQnGol8ShOUJVHDp7ShVjTxFNP4lzwekm19RUV8sf8E7v2j/ABoJ9Z/YY/ag12MfFn4YMLX7TPJtPijRgB9k1SHccy5j2iTqwbDPhnIH1PXu4LF08bh1Vhp0ae8WtHF%2Bad0/v2aO7iXh7G8MZxUwGIala0oTjfkq05Lmp1ab6wqQalF9LuLtKEkiiiiuo8EKKKKACiiigAooooAKKKKACiiigAooooAKKKKACiiigAooooAKKKKACiiigAooooAKKKKACiiigAooooAK8Z8cf8pC/hf/ANkZ8ef%2BnbwhXs1eM%2BOP%2BUhfwv8A%2ByM%2BPP8A07eEKAPZqKKKACvL/wBrf4N%2BM/jP8MLCx%2BGt5pkXibw14w0XxLoEetzyRWV1caffw3JtZ5Io5HiSaNJIfNWOQxGQSBJNmxvUKKAPlPUf2QP2jPE/7L/xK%2BFWvS%2BCrbxF8TfEs/ibW4oNcu59Mlkl1CFpNBkLWaSNZS6baxWct4FEjG4ndbZMKp88X/glp4s/4RjTNXuvgZ8HbiHRvitqPiXRvgM2s3KeCrDS7zQ4dNmsI5hph5N5EdV/5B4i8%2BaVRGGIuK%2B76KAPLPgN%2Bz1rHgb9kjwx%2Bzf8VvHOpateaZ4Zg03VtY0PXr%2BwnLKB8tvdwypdxqnEaSeYJSiAsck18UfHHw3pulf8E9vBnwC0eW9ltfFP7ZuteGof7S1Oe9uZ0Pj3XJAZbi4d5p3IgBaSR2djyzEkmv0qr85Nd/4qn4hfs2/Cv732z9rr4pa95fr/AGZ4n1ybd%2BHm15Oea5XUh/Nyx/8AApwj%2BTZ%2BgeFv7vjvCYn/AJ8KtW9PY4bE1E/lKMH8j9G6KKK9Y/PwooooAKKKKACiiigAooooAKKKKACiiigAooooAKKKKACiiigAooooAKKKKACiiigAooooAKKKKACiiigAooooAKKKKACvGf2X/wDkt/7R3/ZZrH/1CvC9ezV4z%2By//wAlv/aO/wCyzWP/AKhXhegD2aiiigAooooAKKKKACiiigAooooAKKKKACiiigAooooAKKKKACiiigDyL9vr4heNPhR%2BxR8U/iR8PNZk0zWdF8DajdWWrwxhn00rA268UMCpMC7phuBXMfIIyK86%2BBvjnUv2fta/aE8KeHb/AMefEXwt8M7TTtX0DTZ9avvEutS3UujC7udJtp7mSa5upH2W88cLO7BtQCrtjMaL9O3tlZ6lZy6dqNpFcW9xE0c8E0YdJEYYZWU8EEEgg8EGuU%2BHP7PPwB%2BD2n2Gk/CP4HeD/C1rpctzJplt4c8M2tjHZvcBBcNEsMaiMyhE3lcF9i7s4FAHzL/wSj%2BNvj34o%2BPvjtonxP8AGnj3WNZs/G2l6hNB4u8I67pVnpBvNC0%2BaXT9Pi1a1gMFtFO0yxwhVkaPZPIpNx5knod/408SeIf%2BCm3gvw7q3wj8Q6FZ6T8HvHCWGvarc6c9prQbVvCWXtltruWdAm0Z%2B0RQH5xtDfNj3jSvCvhfQtW1PXtE8N2Fnfa3cx3Gs3trZpHLfzJCkKSTOoBldYo44wzEkJGqjhQB5R44/wCUhfwv/wCyM%2BPP/Tt4QoA9mr4y/aN8E/Fv9gX9oHxD%2B3n8A/Cs/if4f%2BLlgf42eAdPizd27QqVGt2IzhnVCTNHxu%2BZmOGLw/ZtBAYFWAII5BrjxuDjjKaSk4yi7xkt4vv5prRp6NNrs1wZjgI4%2BkkpOE4vmhJbxltfs002pRekotp9Gvm342fAD4Bf8FKPhH4Z%2BPvwV%2BJX9l%2BJbCEX/wAN/in4abbeaZMCf3Tjhni3bklt3wQd4%2BVs1z/7Pv8AwUK1fwR4zg/ZW/4KIafaeAfibA/kaX4hlBi0HxhGMBLqzuWAjR3yN0LFcOQAAxMSZ/jr9i39of8AZM8faz8df%2BCauv6WNO1u8N/4r%2BB3iEiPSNTnIw82nzAj7BOwH3eIycZIRFjq34c/a/8A2H/289Duv2X/ANrDwFbeFPF/mCHV/hd8T4BaXkNzjAezmfaJickxywsspX5tqg14LqVaWK5m1RxD0d7%2ByrW2s%2Bku21SOzU4o%2Bu4e8QsA8vp8OcY0ZSoxb9lOLSqUW3eTw1SfuTpzfvTwlVxTl70HTqe/P63BBGQaK%2BN7T9ln9vj9ihCn7FHxjsfiT4Dtm3W3wq%2BKVyy3djF/zxsNUGCAOAiTYjQD%2BI5J2vB//BXH4GaLrcPgD9rvwF4q%2BB3ip38s2HjrSpP7PncdTb6hEphlj/6aN5anFenHN6NJqGMi6Mv73wv0mvdfzcX5H0lbw6zLHQliOHKscxorW1G6rxW/7zCytXi11cI16ejtO1j6uorL8G%2BOfBXxF0CHxX8PvGGl67pdyM2%2BpaPqEdzBKP8AZkjYqfwNaletGUZRTi7pnwFWlVoVHTqxcZJ2aaaaa3TTSaa7NJ%2BQUUUUzMKKKKACiiigAooooAKKKKACiiigAooooAKKKKACiiigAooooAKKKKACiiigAooooAKKKKACvGfHH/KQv4X/APZGfHn/AKdvCFezV4z44/5SF/C//sjPjz/07eEKAPZqKKKACiiigAooooAK/N/4G39nrv8AwUO%2BFulX0wEXgrWvjZr7kgny/tfjbV7AHA5ySAoxyTxX6QV%2BaH7An/FY/wDBSX4p6%2BfnXwc3iXRPZGu/ijq95%2BZA/KvJzb3o0Kf81WH4OUv/AG1H6B4ffuaua4z/AJ9YDFP51I0qC%2B/20kfo1/wmGk/8%2Bmqf%2BCO7/wDjVL/wmGk/8%2Bmq/wDgju//AI1Xzt4%2B/wCCyP8AwTe%2BF/jvWvhp45/aN%2Bw634d1a50zWLL/AIRDWJfs91bytFLHvjtGR9row3KSpxkEjmsn/h%2BX/wAEtP8Ao6H/AMsnW/8A5CqpZ5ksJOMsTTTX9%2BP%2BZnR8LfEzEUY1aWSYuUZJNNYeq000mmmoWaaaafVNPqfT/wDwmGk/8%2Bmq/wDgju//AI1R/wAJhpP/AD6ar/4I7v8A%2BNV87eAf%2BCyP/BN74oeO9F%2BGngb9o37drfiLVrbTNHsv%2BEQ1iL7RdXEqxRR75LRUTc7qNzEKM5JA5rvv2/vjB8TP2ff2Jvin8cfg3aabN4n8JeB9Q1XR11eZkt1lghaTe%2B2OTdtUMwTbh2UIWQMXXrwuNweNi5YepGaW/K07etj5/POGeJOGK0KWcYKrhpTTcVVpzpuSTs2lNJtJ6Nrroel/8JhpP/Ppqv8A4I7v/wCNUf8ACYaT/wA%2Bmq/%2BCO7/APjVfPep/tufG3wr8Q/HPgv4hfArwJoWn/DL4eWnibxz4nu/ipdGxt3u4tUa3trbGjiWdQ%2BnxiWV0iKJcFo45nQRScz8Nv8AgpVq/wAVdU8M6Hq3wn1fwvrcXxol8HeIdIWW8toZEPg/UNfhn26xo9pevC6QxJt%2Bz2kglQMsskKlbjpPDPqr/hMNJ/59NV/8Ed3/APGqP%2BEw0n/n01X/AMEd3/8AGq%2Bef2Sv2%2BfiT%2B0Pp%2BiXHjn9mD/hH7vxZ8JtF%2BIPhPS/D3jWHVZ7rTr5gjwTm4gsore4hLxMVDyI6PkOGUx11P7Vfiz4q6l8Wvhf%2Bzx8LfivqHgRvG11rF1q3ivRtNsbq9it7CyEi20C39vcW6tJNNCzM8TnyoJVXazCRAD13/hMNJ/59NV/8Ed3/wDGqP8AhMNJ/wCfTVf/AAR3f/xqvnKD9oT9pH4n/wDBMjwh8f8A4fWlz/wnOu6R4dm8Q3fhXQ1vbi3tJb%2B0i1jUNOspFkE8qWZvLm3gKy7mWNdk5xG/A%2BFf2l/iD41/Zl%2BIXjfxn%2B1V8S/BUPws%2BI1/4e07xEfh/pEPiLxh5lpY3Gmwy6beaYyC5kkv0tktoLa3mmdY1KxOzJQB9l/8JhpP/Ppqv/gju/8A41R/wmGk/wDPpqv/AII7v/41Xw5%2B0D%2B1X%2B3b8CLDQ/iL8XbTxTo13pXgTwVezeF/BXgeHUfD%2Bv61c3Zi8RWd/qLW0zWAhUxrbgXFrkurIbtiYV6HQP2lP2p9C/bJ0D4R/EfXPG9q/j34leLfDMeh3ngC3i8OaHpNtp%2Bqahomq2GpfZVa%2BuZrbTrdpomuZ1WS6nR4oDHGGAPsH/hMNJ/59NU/8Ed3/wDGqv2F/aanaJfWM4kikGVYAjvgjB5BByCDyCK8B/Y38bfFTxD8XPif4P1H44a18TPAnheTTNO0Xxt4h0nTbaeTxAjXq6zYRPptrawXFtbBdOXzBEWS4ku4WkdoWWP2/wAH/wDIJm/7Cl9/6Vy0AatFFFABRRRQAUUUUAFFFFABRRRQAUUUUAFFFFABRRRQAUUUUAFFFFABRRRQAV4z%2By//AMlv/aO/7LNY/wDqFeF69mrxn9l//kt/7R3/AGWax/8AUK8L0AezUUUUAFFFFABRRRQAUUUUAFFFFABRRRQAUUUUAFFFFABRRRQAUUUUAFFFFABXjPjj/lIX8L/%2ByM%2BPP/Tt4Qr2avGfHH/KQv4X/wDZGfHn/p28IUAezUUUUAFef/H79lb9nb9qTw5/wi/x%2B%2BEOi%2BJrZUK28t/a4uLYHqYZ02ywn3RlNegUVnVpUq9NwqRUovdNJr7ncyrUKOJpOnVipRe6aTT9U00fH8P/AAT/AP2tv2dV/wCMGP26tXtNGgObT4f/ABWsRremovaGK64uLaIdlQMfc96Xin9p39uDwhoM/g39tH/gl6vj7QmXbf6t8K9Qt9ctb1R126VdDz8d8O3Oa%2BzaK8x5RCmrYarKmv5bqUP/AACfMreSaXkeXSyiWBqKpl2IqUHF3XLLmimtrRnflt05Zxt0sfllLqf/AARM8Q%2BMZL/wj8RPiJ%2BzJ45mbdMmmHVPDNxC2eAyMklnGAeCq7R1%2Btex/Dq2/bZijjf9kT/grB8KPjHY4zZaL4%2B061mkA/uPeaZK08jepYAj0r7Y8U%2BDfCHjjTG0Txr4U03WLJ/vWmqWMdxEfqkgIP5V4Z8Qv%2BCUP/BOn4nPJL4k/ZJ8KW7ynLSaDbyaUc%2BoNk8WDXlvI8ZRfNR5L94OpRf3Qc4f%2BSH3lLxL8UqdNUsdXw%2BY00rKOLoqo7LopzVSov8At2srdLHGj9q7/gp/8Mf3Xxf/AOCb1h4qto/9drXwy%2BINu4OP7lncr5zZ%2BtKP%2BCwvwT8K/u/jx%2Bzv8a/hsycTzeLfhtcC3X1KyW5k3L/tAc0f8Oefgt4b5%2BC/7Sfxz%2BHoT/UweEvidcJCnouydZMr7Zo/4YN/bp8Kf8ks/wCCtHja3VP9XH4v8DabrZI9GaUoT9etFuI6Hw8z9XRqf/KZfqX/AK8ZLif%2BRnwpBPrLCYypS%2B6FX2sPlovI7DwP/wAFYf8AgnL8QQh0H9rnwlb%2BZ93%2B3LmTTMfX7YkWPxr1zwf8dPgl8Qwh8AfGPwrrgk/1Z0fxDbXO76eW5zXyJ43/AGJ/%2BCkPiIv/AMJT8QP2bPiZuzub4h/CERmb/e%2Bzq/X2ryTxh/wTL/aR1Tf/AMJp/wAE1f2WNfz98%2BBvEms6Fu/3fnTbR/aufUvjw9/%2B3Jr/ANJlUQv7a8KsR/Ewua4V/wDXvCYqK%2BcKlCb%2B5H6gUV%2BSw/YR/aU8DfL4S/4JnfEHw6idLj4b/tZxweX/ALkd0JGP50Dwj%2B3x4H50vw7%2B27pezoknxA0vxMiewUxx7h7Uf6yYmH8TCS%2BXN/7dSQX8La38PO61Lyr5bi4/fKjKtH8z9aaK/Jb/AIaS/wCCmngw4t/iT%2B1bbRp1j139k/StSiP%2B9cJdhh%2BA5o/4edf8FEvCX/H/AOPbifb1/wCEz/Z11Sxz/vfY3fH4Uf63YKP8SlUj8k/8g/s3gqp/B4mwT/6%2BLGUX8/a4Gy%2B9%2Bp%2BtNFfkwv8AwXN/a28MDPjHVfgdKq9Q3g/xlZyEe%2B%2B2dQfpxVvT/wDg4s8fW%2BBd/C34Z6yR1/s7xbqVhu%2Bn2uxGPxprjPIftTkvWP8Ak2C4fyuq7UM9yyfpmFCP/p2NE/VyivzE0b/g4zuZ8DWv2RdGiA6yWnxs0x8%2B4WSFCPoa6Gz/AODi34PRKG8Q/s8apB/e%2BweO9GucfT9%2Bua3jxdw9L/l/b1Ul%2BhquEcdN2pYvB1P8GYYCX5YtH6NUV%2Belp/wcj/sXrKttq/wj%2BJcUjf8APlZaXdKPxS/z%2BldNpP8AwcGfsK6oAZfDXxJtQe8/hFWx/wB%2B53rWPFHD09sTD73/APImr4E4pSvGjCS/u4jBy/8AScbL8j7lor45sf8Agu5/wT0uADfeMPFViO5uvBN9x/3xG1adp/wXH/4Jg3DCK5/aRktHP8F14M1hT%2Bf2Qj9a3Wf5HL/mJh/4El%2BdiVwHxpL4Mvqy/wAKjP8A9IqTPrOivmWw/wCCyP8AwTP1LH2f9q/Rlz08/S7%2BL/0O3FbNj/wVW/4J1ajj7P8Ate%2BDVz/z3vzF/wChqK2jnGUy2xEP/A4//JCfAXHK/wCZViflQqv8oSPoGivFrL/go7%2BwJqGPI/bK%2BGq5/wCe/jG0i/8AQ5BWtZ/tzfsTajj7B%2B2F8LZs9oviBprH9Jq2jmGAltWh/wCBx/8Akjkq8IcXUf4mW4heuHr/APyk9TorgbP9qz9l3UMf2f8AtJeAZ89PJ8Y2TfylrUtPjp8Er/H2D4x%2BFZ89PJ8Q2zfyetVicNLacX/28v8AM4KmS51R/iYWrH1pVF%2BdNHVUVkWnj/wHf4%2Bw%2BNtImz08rUom/k1aVtfWV4N1peRSj1jkDfyrRSjLZnFUoV6Xxwa9U1%2BaRLRRRVGQUUUUAFeM%2BOP%2BUhfwv/7Iz48/9O3hCvZq8Z8cf8pC/hf/ANkZ8ef%2BnbwhQB7NRRRQAVm%2BMPGXhD4eeF7/AMceP/Fem6Houl2zXGp6xrF9HbWtnCoy0ksshCRoB1ZiAK0q8Q/b%2B8N%2BItd%2BCejatonhTUtftPDfxL8K6/4g0PR9OkvLq802x1q0ubgxW0StJcvCsf2kQorSSfZ9qK7lVIB6Zpvxh%2BEes/DIfGvR/in4cu/Bh0978eLbbXLeTTPsiAl7j7UrmLylCtl920bTk8VS0T9oX4BeJvhVefHbw38cfB%2BoeCNOtri41DxlY%2BJrWXSrWGAEzySXayGFFjCsXYsAm05xivkLxH4V8aeMP2GfjT4f0X4PeNYj41%2BJN54q8NaC/hC/ttR0/Rp9ctjJqMNtJCpN8rQXerR6c48%2BRnjWWHMzIfPfFX7PX7X/AMUf2cvirp/w48C3HjfwrrHxH1rxFqVx8XFvvCfiXx2IvDmmRafcS6fb6MwPkX8MsaW4tLHz/wCyLFsFZJXnAP0o0vVNM1zTLbWtF1GC8s7yBJ7S7tZlkinidQyujKSGUgggg4IIIr86P%2BCRGgyz/tJ/tieO58ssv7Rtzpdqx/gEHiXU5HUfUzqTX2V%2Bz/pHxrj/AGN/BOg3NrovhHxxD4F023eHUbS51az065S2jUrLETYzTYAwyZhYNkZ%2BXJ%2BaP%2BCPPg7xJ4e%2BFfx717xtqFlfa1q37YnjE6hqGm6e9pb3Lw%2BIFhZ4oXllaGMypMVjaWQqGCl3ILHz8XT9pisP/dlJ/dCS/U%2Bv4dxqweQZzG%2BtWjSp/fiqUn%2BFM%2B66K%2BYvH/8AwU1/4QLx3rfgX/h3z%2B09rX9i6vc2H9saB8J/tNhf%2BTK0fn20v2kebC%2B3ej4G5WU4GayP%2BHsP/WNT9rT/AMM3/wDdVZyzrLIycXU1X92f/wArPzeXEOTQk4yq6rT4anTT/n0fWlYvxH%2BHngz4ufD7XPhV8RtBi1Xw/wCJdIudL1zTJ2ZUurS4iaKaIlCGAZGYZUgjOQQea%2BfPAP8AwU1/4T3x3ovgX/h3z%2B09ov8AbWr21h/bGv8Awn%2BzWFh50qx%2Bfcy/aT5UKbt7vg7VVjg4r2b9pPxh8Tvh58AvF/xB%2BDPhy01nxPoOgXOpaPot7C7pqUkCGU2oCOhDyqjRo27Cu6sQwBU9eGxmGxkXKjK6W%2Bkl/wClRj%2Bp24PH4PMIuWHlzJaPSS8/tRj%2BFzGg/Y1/Z4Xwr4p8Han4Q1LV7Pxr4bt9B8VS%2BIvFep6ndalYQfafJjkubu5kn3p9rnxKHEo3L8/yJtzvA/7BX7LXw91Jdc8P%2BAtSm1IeLh4ol1bWvGOraleXGrjSJtGF3NcXl1LLOw0%2BeW3xIzLtKnG5EZfDfEf/AAUf%2BJvxI8LXPjH9lxtD1Ww8R%2BO5tI%2BFEsXhJdUbxBp1hpC3Wq3sjXOt6VbQxxXfnwB2uF2izcBJWkHl8T4N/bq%2BI3xc8R6J8eLL7Ta6d48%2BGX7O%2Bqx%2BFG1%2B9%2Bw6VP4i8Xa7bX8kH2aeLc5i8lGY5SdbWFZkliXyj0nYfYfhj9k74EeCbHRLDwd4TvdKXw54GtPB2iTad4j1CGa00W1eN4LVZUnDnaYo8yFjIwBDOwZgdH43/s9fCn9onRNP0P4paPqMw0jUTfaRf6J4ivtIvrG4MMsDPDeWE0NxFuhmmicJIA6SMrAqSK%2BTfgn%2B1T%2B1B8bv2pPhB4w1PxV4R/sTx38LfH%2Bt%2BHPh7pV1e6e1rJZ3%2BjQW0GrSma4S6lj80o1wltEbaR7hFikzk%2B3ftv6t4kn0z4UfDeXxVqvh3SPHfxXsND8Z6l4b1240%2B6hszp9/dJBDe27RT2/n3trZ2vmRtHIy3BVSpcUAehSfs7/CxPAY%2BGGjWOsaLoEXhyw0Ky0zwz4r1HSo9PsbMk26Wn2O4iNm6g7TLAUldERGdljRV4vxL/wT1/ZV8V%2BFPCfg7UfCXiS3tvBOvXeueHbvSPiPr1hfRapdLKtxfzXltex3N3cyCeYNPPJJIfOk%2Bb52zwPwi1H9oX4p/wDBNvxvofwn%2BJN3P40s9S8d%2BHPAPizWNVLXFxb6fr2qafplxJeShy0ptbaAfa3Dl2xO2/cc8V%2Bz7Z/FX4s6d8b/AIFnwX4%2BsLDwl4p0Y%2BCfD3jj9oTVrTVYb%2BXSop7vT7vxBpN1fXSRjcl0IVmutq3SblVWWKIA%2BlfEH7JfwU8XeIPDHiPxdaeJtWk8IW9hFo9lqvj/AFm5sXeyk821uLq0ku2t7%2B6jlxKLq6jln8xEcyFkVhJH%2Byp8F1%2BJWp/F250/xBd6/qdld2gu9R8b6tcx6bFdBRcDT4JbpotLaQIm5rNIWO0c8V8AT/Gr4ueL/wBmjUtf8YftJeMtM1f4Xfs1%2BIvFPhq/0vxZd2wvfE%2BnaxqNnM1w8Mw/t2CzewsrZftHmxXaXglkjL3C7fUtV/ax%2BKHif/gqH8MvDfi23%2BK3hTRY9Y1fw1Z%2BEB4D8QQaPq5XSGmm1Se6W1FleKbvZHCfMkW3itDOWj%2B0yBAD6o/Zr/ZK%2BCf7I3hUeBfgVZ%2BJrDRI7OC1tNI1rx/rOs21lDDu2JbRajdzraj5znygm/5d27auO28H/wDIJm/7Ct9/6Vy1qVl%2BD/8AkEzf9hW%2B/wDSuWgDUooooAKKKKACiiigAooooAKKKKACiiigAooooAKKKKACiiigAooooAKKKKACvGf2X/8Akt/7R3/ZZrH/ANQrwvXs1eM/sv8A/Jb/ANo7/ss1j/6hXhegD2aiiigAooooAKKKKACiiigAooooAKKKKACiiigAooooAKKKKACiiigAooooAK8Z8cf8pC/hf/2Rnx5/6dvCFezV84ftH6v8a9H/AG8PhPP8Dvh/4W8Rak3wj8drd2nivxhc6LBHB/anhIl0lt9PvWd920bDGowSd%2BQFIB9H0V4z/wAJx/wUL/6Nf%2BDP/h%2BNW/8AmXo/4Tj/AIKF/wDRr/wZ/wDD8at/8y9AHs1FeM/8Jx/wUL/6Nf8Agz/4fjVv/mXo/wCE4/4KF/8ARr/wZ/8AD8at/wDMvQB7NRXzjpP7R37dusfGfX/gdb/sofCRdU8O%2BF9I128uX%2BOuqeRJBqNzqVvCiEeGNxdW0ucsCoADx4LEsF6j/hOP%2BChf/Rr/AMGf/D8at/8AMvQB7NRXjP8AwnH/AAUL/wCjX/gz/wCH41b/AOZej/hOP%2BChf/Rr/wAGf/D8at/8y9AHs1FeM/8ACcf8FC/%2BjX/gz/4fjVv/AJl65fwD%2B0d%2B3b8RPFfjfwho/wCyh8JIbjwH4oi0LVZLn466oEnnk0rT9TDxbfDBJTydRhUlgp3o4xgBmAPo6ivGf%2BE4/wCChf8A0a/8Gf8Aw/Grf/MvR/wnH/BQv/o1/wCDP/h%2BNW/%2BZegD2aivGf8AhOP%2BChf/AEa/8Gf/AA/Grf8AzL0f8Jx/wUL/AOjX/gz/AOH41b/5l6APZqK%2BcfhF%2B0d%2B3b8ZfCl34v8ADn7KHwktrez8Ua3oUkd78ddUVzPpeq3WmTuNvhhhsaa0kZDnJRlJCnKjqP8AhOP%2BChf/AEa/8Gf/AA/Grf8AzL0AezVT1Dw54e1bI1XQrO5z1%2B0WqPn8wa8l/wCE4/4KF/8ARr/wZ/8AD8at/wDMvR/wnH/BQv8A6Nf%2BDP8A4fjVv/mXpNJrUTSkrNHfX/wP%2BCuq5/tP4QeF7nPXz/D9s%2BfzSsW%2B/ZJ/ZU1PP9pfsy/D24z18/wXYvn84q5v/hOP%2BChf/Rr/AMGf/D8at/8AMvXL/BH9o79u348fBjwh8cfCv7KHwktdL8Z%2BF9P13TbbUPjrqizwwXdtHcRpIE8MMocLIAwVmGQcEjmspYbDS%2BKEX/26v8jCWEwk/ipxfrGL/OJ215%2BwX%2Bw3qGTefsa/CqQnqx%2BH2m5/Pyc1lXf/AATZ/wCCf97nzv2Nvhwuf%2BePhO1j/wDQUFT/APCcf8FC/wDo1/4M/wDh%2BNW/%2BZej/hOP%2BChf/Rr/AMGf/D8at/8AMvWLy/L5b0Yf%2BAR/%2BRMJZVlct8PTf/bkP/kDFu/%2BCVn/AATrvc%2Bd%2ByB4LXP/ADy03y//AEEis65/4JB/8E2LvPm/sleHBn/nlNcp/wCgyiur/wCE4/4KF/8ARr/wZ/8AD8at/wDMvXL/ABu/aO/bt%2BA/wY8X/HHxV%2Byh8JLrS/BnhfUNd1K20/466o080FpbSXEiRh/DCqXKxkKGZRkjJA5rN5TlUt8PD/wCP/yJk8jySW%2BFp/8AguH/AMiZlz/wRe/4Jj3X%2Bt/ZS0wZ/wCeeuakn/oNyKoXH/BDz/glxc8yfstxj/rn4w1lP/QbwV6V/wAJx/wUL/6Nf%2BDP/h%2BNW/8AmXo/4Tj/AIKF/wDRr/wZ/wDD8at/8y9ZvJMme%2BGp/wDgEf8AIyfDnD8t8JS/8Fw/yPKrj/ghP/wS9mGI/wBna5i/65%2BNNXP/AKFdGqU//BBH/gmTL/q/gtqsX%2B54w1H%2Bsxr2L/hOP%2BChf/Rr/wAGf/D8at/8y9H/AAnH/BQv/o1/4M/%2BH41b/wCZeoeQZG/%2BYWn/AOAIuGQ5JT%2BDDQXpG35NHiM//BAD/gmrL/q/hr4gi/3PFt3/AFY1Vm/4N7/%2BCcEn3PCfiqP/AHPFUv8AUGvUPi7%2B0d%2B3b8GvClp4v8R/sofCS5t7zxRomhRx2Xx11RnE%2Bqara6ZA53eGFGxZruNnOchFYgMcKeo/4Tj/AIKF/wDRr/wZ/wDD8at/8y9Q%2BHMgf/MLD/wFHRHLcFD4Y29JTX5VEfP0v/BvD/wTrk%2B5pvjSP/c8UH%2BsZqtJ/wAG6n/BPZzmO48exnsU8TR8fnAa%2Biv%2BE4/4KF/9Gv8AwZ/8Pxq3/wAy9H/Ccf8ABQv/AKNf%2BDP/AIfjVv8A5l6l8M8Pv/mFh/4D/wAE3jh4w%2BGc16Vay/Kuj5zX/g3c/YZh/wCPHx38Ubb08jxVbjH52pqaL/g33/ZKtj/oPx3%2BNNvjp5HjO2XH/knX0N/wnH/BQv8A6Nf%2BDP8A4fjVv/mXrl/H37R37dvw78V%2BCPCGsfsofCSa48eeKJdC0qS2%2BOuqFIJ49K1DUy8u7wwCE8nTplBUMd7oMYJZT/VnIFtho/c//khuhzb1Kn/g6v8A/NB5ZB/wQd/Z8s/%2BPH9q/wDaAt8dPJ8f2y4/8kqvW3/BEn4X2I/0D9uP9pWDHTyviZCv8rOvbf8AhOP%2BChf/AEa/8Gf/AA/Grf8AzL0f8Jx/wUL/AOjX/gz/AOH41b/5l6pcO5JHagvvl/8AJnPPLsNU%2BJzf/cWv/wDNB47F/wAEcdDtf%2BPD/gof%2B1BDjpt%2BKaj%2BVsKX4D/siy/srf8ABQnwaj/tL/FP4iLrvwZ8ZbR8S/Ff9p/2d5OreFv%2BPb5E8rzPN%2Bfru8qP%2B7XsP/Ccf8FC/wDo1/4M/wDh%2BNW/%2BZeqHgfwP%2B1Z4x/as8OfG743fDj4e%2BGdG8M/D3xDocMPhX4h32tXV3dalfaJcIzJcaRYpFGiaXKCwd2LSoAuMkdOHyjLsLVVSlTtJecvyc2vwJo5XgqFVVYRfMu86j/CVSS%2B9M91ooor0T0AooooAKKKKACvnL9iDwxpvhb9nnxZe2IkIvf2hvH%2Bp3zsM4I8eapvbgdFSMfgtfRtfJX7JXiz9s7T/h74os/hj8A/hhq%2BhJ8afiL/AGfqOvfF3UdNu5l/4TPWSxktotAuUiIbcABM%2BQAcgnaE0m0%2BxcalSMJQT0la/nZ3X3PU%2BoP%2BE58E/wDQ4aX/AODCP/4ql/4TnwT/ANDhpX/gwj/%2BKry3/hOP%2BChf/Rr/AMGf/D8at/8AMvR/wnH/AAUL/wCjX/gz/wCH41b/AOZemQepf8Jz4J/6HDSv/BhH/wDFUf8ACc%2BCf%2Bhw0r/wYR//ABVeW/8ACcf8FC/%2BjX/gz/4fjVv/AJl6P%2BE4/wCChf8A0a/8Gf8Aw/Grf/MvQBqX3wM/Yo1T4caT8HdT%2BDvwtuPCOgXv2zQvCs/h7TX03TbndI3nQWxTyoZN0sp3ooOZHOfmOdDT/hx%2ByjpNra2WleA/h7bQ2VppNpZQ2%2Bl2KLbwaXPJcaZEgCgIlpPLLLbqMCCSR3jCsxJ8z%2BCP7R37dvx4%2BDHhD44%2BFf2UPhJa6X4z8L6frum22ofHXVFnhgu7aO4jSQJ4YZQ4WQBgrMMg4JHNdR/wnH/BQv8A6Nf%2BDP8A4fjVv/mXoA1bH4H/ALFWl%2BKdb8c6Z8IPhdb634lguofEesQeH9NS61WO6x9pS5lCb51l2r5gckPgbs4roPG%2BlfAD4meCLn4ZfEjTfB3iDw3eQpFd%2BHtchtLuxnjRlZEeCUNGyqyqQCuAVBHQVxX/AAnH/BQv/o1/4M/%2BH41b/wCZej/hOP8AgoX/ANGv/Bn/AMPxq3/zL0AdUPBP7MI8PW/hEeEfAY0m08Nz%2BHrXS/sFl9nh0icRrNpyR7dq2sghiDwAeWwiQFTtGMO6/Z8/YYvvhba/A69%2BCHwnm8FWV%2Bb6z8Hy%2BGtMbS4Lo78zpaGPyUk/eP8AOFDfO3PJrifjd%2B0d%2B3b8B/gx4v8Ajj4q/ZQ%2BEl1pfgzwvqGu6lbaf8ddUaeaC0tpLiRIw/hhVLlYyFDMoyRkgc11H/Ccf8FC/wDo1/4M/wDh%2BNW/%2BZegDd8QfCb9kDxZY%2BGNL8VfDT4banbeCZY5fBlvqGjafNHoDoECNZK6EWpURpgxbSNi46Cul1K/%2BEWs61pviTV7zw3d6jo7yvpF/cyW8k1i0kZjkaF2y0RdCUYqRuUkHIrz3/hOP%2BChf/Rr/wAGf/D8at/8y9H/AAnH/BQv/o1/4M/%2BH41b/wCZegD1H/hOfBP/AEOGl/8Agwj/APiqPBh36GZ1B2TX13LESMbke5kZW%2BhUgj2NeXf8Jx/wUL/6Nf8Agz/4fjVv/mXrl/i7%2B0d%2B3b8GvClp4v8AEf7KHwkube88UaJoUcdl8ddUZxPqmq2umQOd3hhRsWa7jZznIRWIDHCkA%2BjqK8Z/4Tj/AIKF/wDRr/wZ/wDD8at/8y9H/Ccf8FC/%2BjX/AIM/%2BH41b/5l6APZqK8Z/wCE4/4KF/8ARr/wZ/8AD8at/wDMvR/wnH/BQv8A6Nf%2BDP8A4fjVv/mXoA9mor5x8fftHft2/DvxX4I8Iax%2Byh8JJrjx54ol0LSpLb466oUgnj0rUNTLy7vDAITydOmUFQx3ugxgll6j/hOP%2BChf/Rr/AMGf/D8at/8AMvQB7NRXjP8AwnH/AAUL/wCjX/gz/wCH41b/AOZej/hOP%2BChf/Rr/wAGf/D8at/8y9AHs1FeM/8ACcf8FC/%2BjX/gz/4fjVv/AJl65fVv2jv27dH%2BM%2BgfA64/ZQ%2BEjap4i8L6vrtncp8ddU8iODTrnTbeZHJ8Mbg7NqkBUBSCEkyVIUMAfR1FeM/8Jx/wUL/6Nf8Agz/4fjVv/mXo/wCE4/4KF/8ARr/wZ/8AD8at/wDMvQB7NRXjP/Ccf8FC/wDo1/4M/wDh%2BNW/%2BZej/hOP%2BChf/Rr/AMGf/D8at/8AMvQB7NRXzjpP7R37dusfGfX/AIHW/wCyh8JF1Tw74X0jXby5f466p5EkGo3OpW8KIR4Y3F1bS5ywKgAPHgsSwXqP%2BE4/4KF/9Gv/AAZ/8Pxq3/zL0AezUV4z/wAJx/wUL/6Nf%2BDP/h%2BNW/8AmXo/4Tj/AIKF/wDRr/wZ/wDD8at/8y9AHs1FeM/8Jx/wUL/6Nf8Agz/4fjVv/mXrl/AP7R37dvxE8V%2BN/CGj/sofCSG48B%2BKItC1WS5%2BOuqBJ55NK0/Uw8W3wwSU8nUYVJYKd6OMYAZgD6Oorxn/AITj/goX/wBGv/Bn/wAPxq3/AMy9H/Ccf8FC/wDo1/4M/wDh%2BNW/%2BZegD2avGf2X/wDkt/7R3/ZZrH/1CvC9H/Ccf8FC/wDo1/4M/wDh%2BNW/%2BZerf7K3w5%2BNPg/WPih47%2BOmgeF9J1Tx98Qotcs9K8J%2BJbnVre1tYtB0fTFV7i4srNmkaTTpXKiLaFkQbmOcAHrdFFFABRRRQAUUUUAFFFFABRRRQAUUUUAFFFFABRRRQAUUUUAFFFFABRRRQAV8r/tPftafFz4YfGPxZrXgHw74Pk8MfB/w/wCH73xqda0i4m1XVLfV7%2BVLmCwuI7iNLLyLazjuMyRTi5kKRkQ%2BX5p%2BqK8Z%2BM/7EPw4%2BN3xSPxM1zxz4q0uLUbXSLXxf4a0a6tU07xTBpd7Je2MV8stvJMFjmmlz9nlgMschimMsYVAAezUUUUAFFFFAHzH4c/aV%2BJkP7f/AIo%2BD/xG1jw94T8Nr4gtNE8GRaj8ItZS68YwDQINRxB4ja7XTmlju7nUALQQvJ5dpMAoLNIv05Xlfiz9lqDx/wDGTSPin49%2BN/jXV9K8Pa7HrWgeALg6ZFo1jqEdu8Ec4aGyS9l2eZJIqTXUkYkfds%2BRAvqlABRRRQB4v/wUF%2BLvxw/Z%2B/ZH8afHr4BXvhSPWPBOhXeuXUHjDRbm%2Btru0tbaWZ7dEtrq2ZJXZEUSFyqAsSj8CvP/AB5%2B1p8XPBfx48W6n4U8O%2BEIvh54Q%2BMfhH4feMrObSLg63quq67BoqR6hDdpcLDHHB/bmkxmKS3leRIZ8Sx7UFew/tY/s42X7WnwI179n3Wvir4p8I6T4nspbHXL/wAILp32u5spYnimtt1/aXUaI6vyyIsgKja6854uD9gHwdP8RbP4i%2BKvjj4%2B11jrOk654m0bUJdKisfE%2BuaYkaWOrXsdtYRMtxEILTC2zQQMbG2LxMY8kA97ooooAK8X/bJ%2BLvxw%2BCVr4B8Y/Cy98Kf2NqHxM8OeHvF9j4g0W5ubq5tdV1mx00GzlhuoUtpI1uZZN8iTqSiLs5Jr2ivKv2rv2W3/AGqvDeheF5/j7438DW%2BheJLDXUbwXDo7Pd3tjeQXlm0p1LT7wbYri3jcLGEDcrJvU7QAecfs8/tK/EzW/wBqrxb8Efihq/h7wnp0PinW7fwT4Sk%2BEWs6Zc69bQukpv7fWri7%2Bwag7GSaWWK2gL8l2K4Yn6cryXSf2UQ/xk0X4y/Ef9oDx341m8L3d5d%2BE9C8QjSYbDR7q5t5LWS4iWw0%2B2llf7PNPCvnySqizvtAJBHrVABRRRQB4f8At3fFz48fs/fBrV/jr8KPGPgWx0/wtotzeXui%2BLPDN7f3PiG9yi2emWcltewfZ5riUi3RvKumaWeILCx%2BVvP/AII/tffGfXPiX4K/tbwZ4S0j4aeN/if4o%2BG3hXw1p2lzR6vol/oEOrb557kXDW80EjeH9TRYY7eIxq1sfMkywHp/7Sv7IMH7SXjzwR8QJv2gfHfhC58A3dze6LY%2BGItGns5L2VBGt5NBqenXiPPDH5iwyAKYxPKR8zZFXwH%2Bw18PfAfxlt/i7D8RfF2pQadrup69onhDUrmy/snStb1GN49Q1SBIrVJ/PnE92WV5nhRr65McUfmcAHtdFFFABXy/%2B1z8eP2l/gt8RNP8KaVD4A8a6P45h1q20X4cxeD76TWEtbTQ7q7kv7icXrxXVsLqK3tpIRaxA/b4UExkZEk%2BoK8Om/YmuI/2j/Ff7TWiftV/EvTtX8W6bDp1zpcMHh%2Be00%2BzhgaOG2s2udJlubeJZXe62LNtedy7hwdtADP2EP2g/G/x7%2BHt5dfFfx9o194u04Wba/4bsvhdq/hG80B57ZZRBc2Wr3U9w4Lb/LuAEjkVDtDbSa90rzf4Hfs3ad8GfE/iT4h6x8UvFPjjxV4risbfWPE/i5rBbl7SzE32W1SLT7W1to4o2ublxthDM1xIWZsjHpFABRRRQB8c/wDBQT9uP4qfsYeOf7T1zRdA8Y%2BEX0bUdbt/Csvw51Oylt003Rr7Ukk/4SKa6fTJ7v7Xpo2WKwJdCOZZQNsLSN69%2BzR8Xfjnq3xU8b/s9ftHXPhTUPE/hHSdD1qPWvBWkXNhY3NjqgvI0iMFzc3LrLFcaddqX83EiGJtkZJUVvjr%2Bwl4I/ac1q6tfj/8W/GvijwXcyXEi/DK8k02HRYpJrGayZt9vZR30gEdxMwSW6dA77tvyIF6f9nz9mbSPgHea94iu/ih4s8ceI/Ehs49W8VeNbize%2BltrSIxWtqPsdtbwrFEHlYYj3s88ruzs5NAHpVFFFABXxH%2B1P8AtlftZ/Bv41eIPhR4O8N%2BHPGup2Gi3Gu%2BGAnwP8QRyaKBqOmWqGFvtzjxNILHVLjzv7L8p4WhKyiMTCOvtyvD9e/Yt1PxL49PxO1r9rn4oza3p8F5F4NvCmgAeFVupoZJ/skY0nZOzRwLb7r1bpliZwpV3ZyAdV%2Byx8WH%2BMnwjg8WXvxM0bxVfw6jdWWqX2jeDL7w6La4ilZWtZtN1C4nurOeMYV45nD5%2BbaoYCvRq4b4B/AXw98APDOp6NpXinW/EGo6/r1xrfiTxJ4jmga91W/mCI08ot4oYExHFDEqQxRxqkSAKMEnuaACiiigAooooAKKKKACiiigCj4o8Q2HhLw1qPivVQ5tdMsZru5ES5by40LtgdzhTXzn%2BxN%2B0n8a/H/inR/Bnxs8PeDLMeOvhbZfEbwzD4M0q4tBpkd5cE3en3ZmuJRdzRvc2z/bEEAnaWYmCPaC/wBLXdpa39rLY3tuk0M0bRzRSqGV1IwVIPBBHGK8h/Zm/Yr8Bfswaq%2Br6B8QfFviWW28MWPhnw6PFl7azDQNCs3ke3021Nvbwlo1MnzSzma4kEcXmTP5a4APYqKKKACuF/ag8efEX4Wfs0fET4nfB/wouveLfDngXV9U8LaG1jNdDUdRt7OWW2tjDAyyzCSVETy42DtuwpBINd1Wd4t0S/8AEvhjUPD%2Bl%2BK9R0K5vbSSG31rSFga6sXZSBNELiKWIup5AkjdMj5lYZBAPLv2Kfi1P8UPhnfWWrfELw/rOp%2BHdVXTrzTNE%2BGGp%2BDn0NBbQSRWdxpWqXM9zC4RxIrt5aPFLFsTA3v7FXnnwH/Z20n4HXniXxHc/ETxJ4x8SeL9RhvPEXinxW9mLu6MNulvBEI7G2traKKONAFWOFMlnZizMzH0OgAooooA%2BXP2qP2sfih%2Bzh8XvHFl8StG8JeIvhfYfs7%2BL/HttoVvolwmqu2iDS1ntri5kuXt5op1vpwEFshUImXfLCu3/Zn%2BL/x81T4ueMv2df2ln8JXnijwx4Y8PeJY9V8FaTc2NlJZas%2BpW62xhubm5cyw3GkXYMokCyI8TeXGdy1B8Y/2FfDvx0%2BOrfGXx58dvHMumzeCtT8I33w9hg0X%2BxLvRtSW2%2B32khfTWvSJ2tIHZxdB1KEIyIzIek/Z3/Zd0P8AZ9vta8Rz/FDxb438Q6/a2Flf%2BJ/G1zaSXpsLFJFs7MfZLa3j8qIz3DglDI73Mru7s2aAPT6KKKACvkT41/tL/tbeDNd/aA8CW/hXwZ4svfAXh/wp4k%2BG1jpPw/1O/nWPUdV1KEJeWsV48uozwLpsc6m2FuS5IVflVq%2Bu68Ll/Yo8QxfHTxt8f9C/bQ%2BK2lat430ix0y5sbKz8MNaabbWVxcz2aWwl0V5P3RvLpQZnlLrORJ5hVCoB1f7Knxbm%2BMvwpHibUfido3inUbXVbmx1a60fwRf%2BGzZ3ETfNaz6ZqNxPdWk6KV3JMwYhlbaqsK9JrhPgH8A9A%2BAOhazY6f4t1zxHqvibxBLrnifxN4klt2vdVv5IYYPNkFtDDBGFgt7eFUiijRUhQBc5J7ugAooooA%2BNv2lv2u/2lv2ePjNB8NtZT4Z%2BNb7W4IJvCMOneFr20l8F3mpeIdM8PaRNqcr30wuop21ecFols5HFjdLGGXzDF7j%2Byr8X/iR8Rh4/wDh98Yjok/ir4aePG8NazqvhrTprOw1PzNL07Vre4ht5p55LfNrqlujxtNLiSOTDEEY4W2/4Jq%2BEmuviG/iH9pf4nazb/EnXjrmsW%2BpHQvMs9SiuIZ9Puba6i0tLpTYPb24tI3mkiiWFAyPzn1j4B/AXQ/gH4e1bTbLxfrniTVvEWvTa14n8UeJXtjf6vfSRxQ%2BdMLWCCBdkEFvAiRRRoscEaheCSAd1RRRQAy5%2B0/ZpPsezzth8rzc7d2OM45xmviD4rftc/tp/DT4ia58Nre28B%2BM9e8MXvhq31bx14I%2BCuv6tH4ct9Wa8e9sJdKs9Snu7maOGysbomKdP3d1C0sCAxNJ9vXcMlxay28N1JA8kbKs8QUvGSMBl3ArkdRkEeoNfPfwY/YC8QfAT4bXHw0%2BHf7dXxiijutWfU5tZvLLwnPqEt3K8slzPNM%2BhH7TJO8u6SScSPmNNhQDBAPWfgJ8Q7L4rfB3w/8AEKw%2BIGjeKk1PTxI%2Bv%2BH9JmsLS7kBKyFLWeaaW2KurI0MkjvGysrHcpA6%2BuS%2BBfwX8Jfs%2B/C/TvhT4Kub%2B4srCW6uJr7VbkTXV9d3VzLdXV1M4VQ0s1xPNK%2B1VXdIdqquFHW0AFUfE8PiS58N6hb%2BDdTsbLV5LKVdLvNTsHuraC4KERySwxyxNNGrYLIskZYAgOpO4XqzfGOg3/ijwtf%2BHdL8W6loNzeWrxQa1o4gN1YuRxNELiKWIup5AkjdDj5lYZFAHw98N/27P2tfjB8U9b%2BCXws034fJ4z02112%2Bk8Z%2BK/hdrWhrqmmaRa6LKljLol5fJqGnyvd%2BIdiTTzPH5UMlwkLrOgP2N8Avi1pvx8%2BBPgr466NpstnZ%2BNfCWm69aWcz7ngivLWO4WNiAMlRIAT6ivFtX/4JkeB9a1y%2B%2BIt3%2B0p8U0%2BIGrJeWutfEm2vdIh1a/0y6trW2m0wommizhtillaMPItopVkgWVZQ5Zj9B%2BC/B/hr4eeDtJ8AeDNJi0/R9D0yDT9JsIc7La2hjWOKNc84VFVR9KANOiiigDl/jTqPjjRvhbrWt/DnxDY6Xq1hZm6hvtQ8H3viBEjjIeUDTrGeC5vJGiV1SKGQOXZcK5%2BRvi34S/8ABRH4/eJPGmh6n43uPCPgTwZqU86%2BIPHF58DPEU1trF/Dr91pCJcyrfRp4ZnktbS1/cao0ksDyrG%2BdgSvtv4meDNd8e%2BEpvDnhv4pa/4NvJJY3i1/wzFYvdwbWBKqt/bXMDBgCpDxNwTjBwR4rdf8E5vCmoeD7j4bat%2B0h8TbvwxrmoTX/jzQJrjRxF4wu57xrq4mvpV00XEXmllhaOzltYhDEkaoo3bgD6JooooAKKKKACiiigAooooAKKKKACiiigAooooAKKKKACiiigAooooAKKKKACiiigAooooAKKKKACiiigAooooAKKKKACiiigAooooAKKKKACiiigAooooAKKKKACiiigAooooAKKKKACiiigAooooAKKKKACiiigAooooAKKKKACiiigAooooAKKKKACiiigAooooAKKKKACiiigAooooAKKKKACiiigAooooAKKKKACiiigAooooAKKKKACiiigAooooAKKKKACiiigAooooAKKKKACiiigAooooAKKKKACiiigAooooAKKKKACiiigAooooA/9k%3D\">"
            ]
          },
          "metadata": {
            "tags": []
          }
        }
      ]
    },
    {
      "cell_type": "markdown",
      "metadata": {
        "id": "n-W10KP4PzHy",
        "colab_type": "text"
      },
      "source": [
        "# Submit a linear model"
      ]
    },
    {
      "cell_type": "code",
      "metadata": {
        "id": "uIH9vuLvPzHz",
        "colab_type": "code",
        "colab": {}
      },
      "source": [
        "## GRADED PART, DO NOT CHANGE!\n",
        "# Testing shapes \n",
        "grader.set_answer(\"9XaAS\", grading_utils.get_tensors_shapes_string([W, b, input_X, input_y, logits, probas, classes]))\n",
        "# Validation loss\n",
        "grader.set_answer(\"vmogZ\", s.run(loss, {input_X: X_val_flat, input_y: y_val_oh}))\n",
        "# Validation accuracy\n",
        "grader.set_answer(\"RMv95\", accuracy_score(y_val, s.run(classes, {input_X: X_val_flat})))"
      ],
      "execution_count": 0,
      "outputs": []
    },
    {
      "cell_type": "code",
      "metadata": {
        "id": "wm4RVKwUPzH1",
        "colab_type": "code",
        "colab": {
          "base_uri": "https://localhost:8080/",
          "height": 34
        },
        "outputId": "dd58c588-491b-455d-bc30-216003cb6566"
      },
      "source": [
        "# you can make submission with answers so far to check yourself at this stage\n",
        "grader.submit(COURSERA_EMAIL, COURSERA_TOKEN)"
      ],
      "execution_count": 15,
      "outputs": [
        {
          "output_type": "stream",
          "text": [
            "Submitted to Coursera platform. See results on assignment page!\n"
          ],
          "name": "stdout"
        }
      ]
    },
    {
      "cell_type": "markdown",
      "metadata": {
        "id": "cDbAbIC9PzH6",
        "colab_type": "text"
      },
      "source": [
        "# MLP with hidden layers"
      ]
    },
    {
      "cell_type": "markdown",
      "metadata": {
        "id": "__kwlhThPzH7",
        "colab_type": "text"
      },
      "source": [
        "Previously we've coded a dense layer with matrix multiplication by hand. \n",
        "But this is not convenient, you have to create a lot of variables and your code becomes a mess. \n",
        "In TensorFlow there's an easier way to make a dense layer:\n",
        "```python\n",
        "hidden1 = tf.layers.dense(inputs, 256, activation=tf.nn.sigmoid)\n",
        "```\n",
        "\n",
        "That will create all the necessary variables automatically.\n",
        "Here you can also choose an activation function (remember that we need it for a hidden layer!).\n",
        "\n",
        "Now define the MLP with 2 hidden layers and restart training with the cell above.\n",
        "\n",
        "You're aiming for ~0.97 validation accuracy here."
      ]
    },
    {
      "cell_type": "code",
      "metadata": {
        "id": "ETxDP38jreC7",
        "colab_type": "code",
        "colab": {}
      },
      "source": [
        "#s = reset_tf_session()"
      ],
      "execution_count": 0,
      "outputs": []
    },
    {
      "cell_type": "code",
      "metadata": {
        "id": "D9xXRZykPzH8",
        "colab_type": "code",
        "colab": {}
      },
      "source": [
        "# write the code here to get a new `step` operation and then run the cell with training loop above.\n",
        "# name your variables in the same way (e.g. logits, probas, classes, etc) for safety.\n",
        "### YOUR CODE HERE ###\n",
        "hidden1 = tf.layers.dense(input_X, 256, activation=tf.nn.sigmoid)\n",
        "\n",
        "hidden2 = tf.layers.dense(hidden1, 256, activation=tf.nn.sigmoid)\n",
        "\n",
        "logits = tf.layers.dense(hidden2, 10)\n",
        "\n",
        "probas = tf.nn.softmax(logits)\n",
        "\n",
        "classes = tf.argmax(probas, 1)\n",
        "\n",
        "loss = tf.reduce_mean(tf.nn.softmax_cross_entropy_with_logits(logits = logits, labels = input_y))\n",
        "\n",
        "step = tf.train.AdamOptimizer().minimize(loss)\n"
      ],
      "execution_count": 0,
      "outputs": []
    },
    {
      "cell_type": "code",
      "metadata": {
        "id": "VNYZwfsBrvMc",
        "colab_type": "code",
        "colab": {
          "base_uri": "https://localhost:8080/",
          "height": 309
        },
        "outputId": "4cd04b0b-c429-446f-f80b-e1ad643bd3ba"
      },
      "source": [
        "s.run(tf.global_variables_initializer())\n",
        "\n",
        "BATCH_SIZE = 512\n",
        "EPOCHS = 40\n",
        "\n",
        "# for logging the progress right here in Jupyter (for those who don't have TensorBoard)\n",
        "simpleTrainingCurves = matplotlib_utils.SimpleTrainingCurves(\"cross-entropy\", \"accuracy\")\n",
        "\n",
        "for epoch in range(EPOCHS):  # we finish an epoch when we've looked at all training samples\n",
        "    \n",
        "    batch_losses = []\n",
        "    for batch_start in range(0, X_train_flat.shape[0], BATCH_SIZE):  # data is already shuffled\n",
        "        _, batch_loss = s.run([step, loss], {input_X: X_train_flat[batch_start:batch_start+BATCH_SIZE], \n",
        "                                             input_y: y_train_oh[batch_start:batch_start+BATCH_SIZE]})\n",
        "        # collect batch losses, this is almost free as we need a forward pass for backprop anyway\n",
        "        batch_losses.append(batch_loss)\n",
        "\n",
        "    train_loss = np.mean(batch_losses)\n",
        "    val_loss = s.run(loss, {input_X: X_val_flat, input_y: y_val_oh})  # this part is usually small\n",
        "    train_accuracy = accuracy_score(y_train, s.run(classes, {input_X: X_train_flat}))  # this is slow and usually skipped\n",
        "    valid_accuracy = accuracy_score(y_val, s.run(classes, {input_X: X_val_flat}))  \n",
        "    simpleTrainingCurves.add(train_loss, val_loss, train_accuracy, valid_accuracy)"
      ],
      "execution_count": 32,
      "outputs": [
        {
          "output_type": "display_data",
          "data": {
            "text/html": [
              "<img src=\"data:image/jpeg;base64,/9j/4AAQSkZJRgABAQEASABIAAD/2wBDAAIBAQEBAQIBAQECAgICAgQDAgICAgUEBAMEBgUGBgYFBgYGBwkIBgcJBwYGCAsICQoKCgoKBggLDAsKDAkKCgr/2wBDAQICAgICAgUDAwUKBwYHCgoKCgoKCgoKCgoKCgoKCgoKCgoKCgoKCgoKCgoKCgoKCgoKCgoKCgoKCgoKCgoKCgr/wAARCAEgA2ADASIAAhEBAxEB/8QAHwAAAQUBAQEBAQEAAAAAAAAAAAECAwQFBgcICQoL/8QAtRAAAgEDAwIEAwUFBAQAAAF9AQIDAAQRBRIhMUEGE1FhByJxFDKBkaEII0KxwRVS0fAkM2JyggkKFhcYGRolJicoKSo0NTY3ODk6Q0RFRkdISUpTVFVWV1hZWmNkZWZnaGlqc3R1dnd4eXqDhIWGh4iJipKTlJWWl5iZmqKjpKWmp6ipqrKztLW2t7i5usLDxMXGx8jJytLT1NXW19jZ2uHi4%2BTl5ufo6erx8vP09fb3%2BPn6/8QAHwEAAwEBAQEBAQEBAQAAAAAAAAECAwQFBgcICQoL/8QAtREAAgECBAQDBAcFBAQAAQJ3AAECAxEEBSExBhJBUQdhcRMiMoEIFEKRobHBCSMzUvAVYnLRChYkNOEl8RcYGRomJygpKjU2Nzg5OkNERUZHSElKU1RVVldYWVpjZGVmZ2hpanN0dXZ3eHl6goOEhYaHiImKkpOUlZaXmJmaoqOkpaanqKmqsrO0tba3uLm6wsPExcbHyMnK0tPU1dbX2Nna4uPk5ebn6Onq8vP09fb3%2BPn6/9oADAMBAAIRAxEAPwD9/KKKKACiiigAooooAKKKKACiiigAooooAKKKKACiiigAooooAKKKKACiiigAooooAKKKKACiiigAooooAKKKKACiiigAooooAKKKKACiiigAooooAKKKKACiiigAooooAKKKKACiiigAooooAKKKKACiiigAooooAKKKKACiiigAooooAKKKKACiiigAooooAKKKKACiiigAooooAKKKKACiiigAooooAKKKKACiiigAooooAKKKKACiiigAooooAKKKKACiiigAooooAKKKKACiiigAooooAKKKKACiiigAooooAKKKKACiiigAooooAKKKKACiiigAooooAKKKKACiiigAooooAKKKKACvPfjt%2B1J8FP2b5NGsfil4g1Maj4ilnTQNB8OeF9R1zVNR8lVed4bHTbee5kjiVkMkixlI96biu5c%2BhV4N%2B0P8D/j5/wANJ%2BDv2tv2bLLwfrWueH/B2seFNX8KeOdcutLtLywv7mwuxcQXtraXj288U2noCpt3WVJSCUKK1ABpf/BTL9izWLvxPb2nxXv0h8FWsk/jLUrvwXrEFjoIS0iu9l5dy2iwWsrQzRskMjrJIWKorMrKL2n/APBQ/wDZK1HwBrXxFTx/q9vB4f1ay0vVdE1DwNrNrrkV5ebfscC6PNaLqEr3AYGER27eaAxTcFYjy2b9gH4y%2BMf2a/jn8NfGHinwppHin4o/FS38daHc6U1xeWFpeW0OiywQ3IkihkkiN3pRRwoyYHGDuJVaPi79i/8AaV%2BLmr/Ef45fG34S/CjWvFnjWx8KaPp/gKy%2BI2s2Wm6fY6Hcaldw3qa7b6al5DqDXOqTOksVoPJSKNFZiWcgHsviH9vv9mzwv4a8OeI9XvvG3meK0v5NE8P2vwm8SXGuSRWUscV3NJpMWntf28MLzQq8s0CIpmiy37xM%2Bmaz8RPBHhv4e3XxX8T%2BJbbSvDljo76rf6vqrfZYbSySIzPPMZdvlKsYLNvxtAOcYNfGHin9hH9s/WPgX4X8Nay3hfxV470a58RHRfGV/wDHbxNpGr%2BCLW%2BuUktLO11q1sJLzXIYkjhEy3qw/aTbReYCFGPUfjR/wTotfj1%2Bzb4n%2BHHxD%2BOfjW78d%2BMPhfH4Z17xS3jbWho818tpDE2oJoS3y2FuzzQLK3kRRSEPIBIrSM5AOkg/4KUfsZf8K58V/FbWPite6Jo3giysr7xQ/ifwdq%2Bk3NlZXkxhtb37LeWsVxJaSyK6pcxxtC3luQ%2BEYjj/AI3f8FZP2d/hn8ENU%2BMfgPRfFXiqbQfiD4X8L674Y/4QXXbHU7A6zqVrax3T2cmnNdeV5Fw88DeT5d48aW8MhknjB8r1T/gmJ8ZPHfwq8faR4i8DeG9G8Y%2BI9D0fR7DxDqv7RfjPxut3aWusW%2BoTRyf27AfsEZ8likUSzHe%2BGkxknv8A9qH9gz40/GD4g/F/4g%2BBfEPheOTxfB8LbzwlZ6tfXMSvf%2BE/EdzrUsN40dvJ5ENwGt4VljEzrl2MfyKrgHqFh/wUE/Zb1H4m2XwZh8T%2BJo/Fd5oun6xLoF38N9egudO0%2B9adILu/SSyU6dDut5VeS68pYiFEhQum6j4a/wCCmH7FPi3wZ4s%2BIWkfGC4TR/Bfgi68Zaxe6h4S1W0Fx4et0Z5tWsVntUbVLNVQ4nsxPGxZArEugbB0P9kP4ofEP4mfG74g/G9fD2gxfGj4O%2BHfCF1Y%2BE9duNRl0u4tE11Ltlnns7XzYwNViMT7FZikm6OPA3fN37Y37Kn7UOj/ALDHxS%2BJv7TF34AtIfhD%2BxT8QfBHhePwFqF5cNrzXukWxn1G6W5toBYqE0i3CWcbXAVppCZ22oKAPrPw9/wUl/Yy8TaHrHiPT/i1dQWehppU1/JqnhLVbJmtNSu1s7HUIUuLVGubCWdgovoQ9qoDO0qorMPT9E%2BLvw88R/FLX/gvofiH7T4k8LaXp%2Boa/YR2k22zgvmuBa7pinlF3%2ByzHy1cyKoRmVVkjLfJOofsz%2BIPFegeKfjb/wAFIvF/wz8J%2BBbf9nu5%2BHUlx4f8QTLay6beyQyXmq3k17BbpYOTBbCG2QzCAmT/AEiQsuOw/wCCPngP4u2f7I9r8f8A9pDUDf8AxJ%2BL15H4n8V6g9nJbtJCLSCy01fKl%2BeH/iX2lpI0TYKSzTZAYtkA%2BqqKKKACiiigAooooAKKKKACiiigAooooAKKKKACiiigAooooAKKKKACiiigAooooAKKKKACiiigAooooAKKKKACiiigAooooAK8R0j/AIKMfse6ld69Z6n8Urzw83hzw5c%2BINQk8a%2BEdV0GObSbd0jnv7WTUrWBb63R5IlaW2MqAyxjOXXPtN7FczWcsNndCCZ4mWKYx7/LYjhtp64POO9fmJq//BHL9uX4v6t4X1z43fHHQ31vw14P1Cz1DxRqHxW8TeJx4h1v7ZpV9a6idLvoobLSbaS50xfPsLIBRHJtWWQKgUA%2B2X/b/wD2YbX4aN8WNY8QeKtK0ttcg0axs9c%2BGWv2GqanfzIZIYLLTbixS9v2kQM6/Z4ZAyo7AkIxHReA/wBqz4H/ABH1%2By8J%2BHPEOqQ6vf8AhSfxJDpGteFdS0y7TTYbv7JLLLDeW8UkDrP8hhkVZe%2BzbzXk3xO%2BDn7bvxib4e/G3XPBvwq0P4h/Cjx1NrHh/wAM2vjjUr/Rdcs7jSbvTLmO4vn0qGaxmKXskkbpa3AjMQU%2BYJGxV%2BJPwG/bg1/4y%2BHf2mvA%2BjfCu08WX3ww1XwX4x0LUvFepSWGkLcX8N1a39lcJpwk1AxCN1kt5YrQSlxiWLHIB3Gk/wDBRv8AZA8R694F8LeFfiNqus6n8SfBuleLfBunaJ4H1m9nvND1F9lrqMiQWjNa2%2B7HmSTiNbcMpm8oMCdj4a/tufs3fFf4jXPwn8M%2BL9Ws9ft9LudThsvE/gzVtEW/sbeRI57uyl1G1gjv4I3liDy2zSIvmISQGUnyj9hT9hL4sfsw6/8ADjWfHniDw1dnwd%2Byl4R%2BGN%2B%2BkXM8rNq2lvM1zNF5kEe61bemxmKu235o0wK8a%2BGn/BKv9sbxP8UfC/ib9qb4w2eqRaf4A8V%2BF/GniaD4v%2BJNavPEUur2KW39p2umX0Men6EcqWNpaKUXKgTOI1WgD6l8J/8ABRf9kfxrosfirQfHeuf2Hcarpen6f4lvfh/rdrpWoy6lex2VlJaX09mlteQS3M0UYuIJHhBlQs4VgT6X4W%2BLvw88a/EDxT8LvC/iH7XrnguSzj8T2iWkwWxkuoPtEEZlZBG7tCVkKIzMiyRlgokTd8w%2BOPAnxF8K/wDBPbxp8CP%2BChnif4VeCPAWg/DSLQLb4meHfFt2GadI0trXUntLqzgTTZlmFvJDBHcXTGcoiOTtDdr/AMEr/h98WPDf7ImlfFX9oqwS3%2BJ3xYvpfHXxEhW3aL7Pf36xmG02N8yfZbGOys9pyQLXBoA%2BjaKKKACiiigAooooAKKKKACiiigAooooAKKKKACiiigAooooAKKKKACiiigAooooAKKKKACiiigAooooAKKKKACiiigAooooAKK5z4u%2BI/iB4R%2BG%2BreJfhZ4J03xHr9nbiTT9G1fXm0y2uTuXd5l0lvcNEqpubIhkJ24C81y3wp%2BOXjb43/si%2BD/ANo74cfDOxk1zxp4F0nxBpvhTU/EbW9vDJe2sNx9nlvVtnYJGJSDKsDEhMiPJC0AemV4v8evH/7Rf/DRfgX4EfAXxn4K8Ppr/grxLr2r6n4v8F3etEnTrvQ7eGGGO31Kx8sN/akrMzM%2BfLQALyTtfsw/H7xB8dtM8XWHjXwFZeHvEPgXxpP4a8QWmj682qafLcx2trd%2BZa3bW9u08fl3kSNuhjZJo5oyuY8nmfiLrS2f/BSr4Q6LIoxe/BP4hsjd90ereDTj8mY/hSbS3LhCVR2j2b%2B7Vl7/AIQf/goX/wBHQfBn/wAMPq3/AM1FH/CD/wDBQv8A6Og%2BDP8A4YfVv/mor2aimQeM/wDCD/8ABQv/AKOg%2BDP/AIYfVv8A5qKP%2BEH/AOChf/R0HwZ/8MPq3/zUV7NRQB4z/wAIP/wUL/6Og%2BDP/hh9W/8Amoo/4Qf/AIKF/wDR0HwZ/wDDD6t/81FezUUAeM/8IP8A8FC/%2BjoPgz/4YfVv/moo/wCEH/4KF/8AR0HwZ/8ADD6t/wDNRXs1FAHjP/CD/wDBQv8A6Og%2BDP8A4YfVv/moo/4Qf/goX/0dB8Gf/DD6t/8ANRXs1FAHjP8Awg//AAUL/wCjoPgz/wCGH1b/AOaij/hB/wDgoX/0dB8Gf/DD6t/81FezUUAeM/8ACD/8FC/%2BjoPgz/4YfVv/AJqKP%2BEH/wCChf8A0dB8Gf8Aww%2Brf/NRXs1effEDx/8AAz4aDU/GHx98ceFPD%2BnnWotPstS8YapbWkHmG0jlWCOS5ZV3kCV9oOSFY44OJnOFOLlNpJdW7L73ZG2Hw%2BIxdeNGhCU5ydlGKcpN9lGKlJvR6JN6bHNf8IP/AMFC/wDo6D4M/wDhh9W/%2Baij/hB/%2BChf/R0HwZ/8MPq3/wA1FV/%2BGv8A/gnB/wBHRfBH/wALbR//AI7R/wANf/8ABOD/AKOi%2BCP/AIW2j/8Ax2ub6/gP%2Bf0P/A4f/JHtf6pcWf8AQuxH/hPX/wDlBY/4Qf8A4KF/9HQfBn/ww%2Brf/NRR/wAIP/wUL/6Og%2BDP/hh9W/8AmorsPhp4k/Zy%2BNGhS%2BKfg7r/AIJ8WaZb3bWs%2Bo%2BGrqzv4I51VXaJpICyhwroxUnIDqcYIryf4g/ts/snfCH41/ET4RfFjwPqGh2nw08Dad4p8Q%2BLZPh/f3GlRWVyL5mLXMFo8UflpZE5Z/3jO0ce54ZVXphOFSKlBpp9U7r71dHi4jD4jCV5Ua8JQnF2cZJxkn2cZKMk9Vo0nrsdR/wg/wDwUL/6Og%2BDP/hh9W/%2Baij/AIQf/goX/wBHQfBn/wAMPq3/AM1FRN%2B03%2ByhbTeG49Y8J69pUPiu4ht9Iv8AXPg/rdhaLNNevZW8dzc3FgkNk81woSJbh4ml82FkDLNEz8zrv7dP7FPgK0J%2BJM1jb3bXvitYbXw34H1bWCLPw/qp03UbqUW%2Bm74UglaITMy%2BUhdiks0SidqMTq/%2BEH/4KF/9HQfBn/ww%2Brf/ADUUf8IP/wAFC/8Ao6D4M/8Ahh9W/wDmorvtAj%2BDHiu4ntPC8fhjUZraGCa5hsVt5XhjnTzIXdVyVEifMpONy8jIrw/9n79qrRPjR8UtG8L65%2Bzdomh%2BGPHOm67qHwz8SQ6ql3Pq1vpV7DazG7tTaRixaZJ47mBUluN0IfzDC6iMgHZf8IP/AMFC/wDo6D4M/wDhh9W/%2Baij/hB/%2BChf/R0HwZ/8MPq3/wA1Fcb4s/aq0Tw18eNR8D2/7N2h3PgTw98RNF8B%2BJ/Graqkd5aa/qtpZ3FokWn/AGQrPa51LTYXnNyjLJdECJxE7Vt/CH4r%2BLfiTr/xg8Bax%2Byz4S0vxJ8NdTjtdC0%2B28Trcwa6J9PS8tGmnNhH9iZ/MRHUJOI8khpMYoA1/wDhB/8AgoX/ANHQfBn/AMMPq3/zUUf8IP8A8FC/%2BjoPgz/4YfVv/mornvhL8Wvib8dP2Y9C%2BMnw2/ZO8AHxVf8AiDUtM1nwzrPjd7bTdPFjfXtlNMmoR6TLLODJaLsX7IhImGdoUmue0z9r2LxL4A%2BBnxd8K/sreHpvC/xc1y10nWLy98QxxXGh3Fx5gja2ijs5E1GJmikIl8yBWj2Oud%2B0AHoX/CD/APBQv/o6D4M/%2BGH1b/5qKP8AhB/%2BChf/AEdB8Gf/AAw%2Brf8AzUVyumftS/Dvxb%2B2Jqn7KvgnwN8MG/4RzUU0/X31/wAcQWOu3FydPhv3OmaQtnK1/BFFc24kmaaBQ5lVQxhbOj8Hvj1oXiGb4xL%2B0F8E/CPgGD4Qa8LbVNQt9cXUraXTjpVrqa3srtZ2/kMIbkb4gJApQ4kbNAGz/wAIP/wUL/6Og%2BDP/hh9W/8Amoo/4Qf/AIKF/wDR0HwZ/wDDD6t/81FeS%2BAf239T%2BKfgTR5PB/7FmkWXjrxN8UdW8JaB4N8VeIVsY4YbGzmvpL3ULmOwmezb7NEFa3jgnKXEqRb2XdMtG/8A%2BCinhG78Hx/EjwX%2Bylpl5oPhn4fad4x%2BLsmp6zFa3Xhexub6%2BspIraJLSVNSuLeTStTeRDJbpstVKuxlRaAPaP8AhB/%2BChf/AEdB8Gf/AAw%2Brf8AzUUf8IP/AMFC/wDo6D4M/wDhh9W/%2BaioPBfxKu9a/a68V/sz%2BMP2d/DOlado/hKy8QeHvElnrK3c2qW89zPbMs1obOMWjK8DEYmm3KQTsPFee/sUftZ6x%2B23%2Bymv7Rnw4%2BA/wXvNU1Lw9peo6J4T8N/FsaobW4u7dJ3sdWuF0eP%2BzJ4VkQMix3DZDjA2jcAek/8ACD/8FC/%2BjoPgz/4YfVv/AJqKP%2BEH/wCChf8A0dB8Gf8Aww%2Brf/NRXmuj/tj/APCdfBP4F%2BOfhv8Asu%2BEJvFXxu8DnxPa6B4j8WLp2m6TbRadBe3MTagunzPNKv2hFjUWy%2BYqySN5SxtjnD/wUw%2BD2t%2BH9J%2BLPgj4C%2BHbj4eDwV4N8UeLPEGt67DY32nWXiS5e3s/stmtrKt60TRsZt08A4KQmeQFAAe2/wDCD/8ABQv/AKOg%2BDP/AIYfVv8A5qKP%2BEH/AOChf/R0HwZ/8MPq3/zUV5H4f/4KA%2BA9e/al1/8AZvh%2BAHhBptEvdftp7O28URSeIbFdLtzN/aGo6T9iH2HTbrCLb3f2iXzPtNqfLHnHZs/sw/tTa7%2B1T%2ByRdftJfDT4E/BXWNVl0uyvNH8M%2BF/i4NTt45JoY5pbXUrxdHQ2FxCknzRrDOcqRxkUAeh/8IP/AMFC/wDo6D4M/wDhh9W/%2BaiqHgfxx%2B1Z4O/as8OfBH43fEf4e%2BJtG8TfD3xDrkM3hX4eX2i3VpdabfaJborPcavfJLG6apKSoRGDRIQ2Mg7fwY8aeFvjn%2ByZ4S/aQ034dWPh%2B58YfDyw8S29jb7JH057qxjuliWdY4y5jMgXftXdtztGcVT8cf8AKQv4X/8AZGfHn/p28IUAezUUUUAFebftZftK6V%2ByN8EdW%2BPXiP4X%2BK/Fek6DDJc61aeD4bN7mzs44pJprtxeXNuhijSM5CuXJKhUYnFek14z/wAFBPhP8avj5%2Bx/48%2BA3wE0bwtd69438N3uhed4v8R3OmWllDdW0sTXPmW9ldvI6FlIi8tQwJ/eLgZAOw%2BPXx08P/AHwdaeJ9X8Naxr17qut2mj%2BH/Dnh6OBr7Vr%2B5fbFbw/aJYYVOA8jPLLHGkcTuzqFJryfxH/wAFNfhBofgfTvGem/Cnx/rM0mk69qnifQdI0yye/wDCllol59h1aa/SS7RCba63Q%2BVavcSzmNzbpOqlq2PjZ8Mf2l/jN4K8JeKB4O8C6P428B%2BMdM8T6JpI8aXl1pl/OkNxbXlnNd/2ZHLAht7qdY51t5DvKO0QClD41e/sB/tW%2BGfDWoa/8Odc%2BH8/i74geGvGukfECPV9WvY7DR5Nf1iTU4rqwdLR3vRY%2BfNB5MqW32obHMtsQVIB9qabqWn6zp1vq%2Bk3sVza3cCTW1xC4ZJY2AZXUjggggg%2B9fPHwm8Vft3/AB10fXvHfhf43/CTQNLt/iF4q0PS9Kv/AIP6pf3EVrpevX%2BmQtLcJ4igWWR47NXZlijXc5AUACvZrf4R%2BGIvg/Z/BN7/AFiPSLPQ7fSkuNM1y60%2B9EMMaxqyXVpJFNC%2BEHzxup688149%2Bw54d0/wr%2Byle%2BD9Mub%2BWztPjT44sUk1LVbi9uZYf%2BE81aMiW4uHead2TIaSR2dySWYkk0AdH/wg/wDwUL/6Og%2BDP/hh9W/%2Baij/AIQf/goX/wBHQfBn/wAMPq3/AM1FP1/9qD/gn74U1298LeKf2iPg5pup6bdyWuo6dqHi7SoZ7WeNikkUkbyhkdWBVlYAgggjIqp/w1//AME4P%2Bjovgj/AOFto/8A8drleOwKdnVh/wCBx/8Akj3ocK8U1IKcMvxDTSaaoV2mnqmmqDTTTTTTaaaabTTLH/CD/wDBQv8A6Og%2BDP8A4YfVv/moo/4Qf/goX/0dB8Gf/DD6t/8ANRT9A/ag/wCCfvivXbLwt4W/aI%2BDmpanqV3Ha6dp2n%2BLdKmnup5GCRxRxpKWd2YhVVQSSQAMmr37VfxL%2BFX7KH7N/jX9pLxT8Ll1bT/BXh641W603SNEE1xcrEudiLHGxGTjLkbUXLuVVWYa0q9Cum6c1K3Zp/k2efjsrzPK5xhjcPUpOSulUhOm2trpThBtX0uk1fS99DO/4Qf/AIKF/wDR0HwZ/wDDD6t/81FH/CD/APBQv/o6D4M/%2BGH1b/5qKoaT%2B1n%2Bx/rnjeX4a6X4a1%2BXxDbeHF17UNF/4U1rq3Wn2Dx3bxS3UbaeGtWl%2Bw3KxRzBJJnjEcau7orO0z9pz9mDxNJ4d/4RXTLBDrPjqbwre2HiXwlqOj6jY30ejXWrmFrK5sBMkptbdZlW4W3jeGTzFlZjFHNqcJd/4Qf/AIKF/wDR0HwZ/wDDD6t/81FH/CD/APBQv/o6D4M/%2BGH1b/5qKofBT9r/APYX/aC0abxH8NvE2l/2dF4f0/XUv/EXhG70WC50u%2BZltb2CTUbaBbm3kdSgliLqHwhIYgVd/aN%2BIjfCvX/B/wANPhB8APDXi7xn42vbxNK0vWtVXSLGC1s7Vri5uZ7pLO6dAP3MSqsLlpLiPOxA7qAO/wCEH/4KF/8AR0HwZ/8ADD6t/wDNRR/wg/8AwUL/AOjoPgz/AOGH1b/5qK57X/2pPhbB%2Bxb4a/a/8J/BSyvB4vHh230bw7qhgs/Iv9Yv7TT4ILu5Eci28cVzeIs0qrJtWOQosh2q3FWv7bi%2BIr6y%2BFngn9mbwFefEpPF3iDQPEWjX3jlbbQtOn0e1t7u52aoNNeSdmgvLR0jNpG3zTeZ5Qgc0Aerf8IP/wAFC/8Ao6D4M/8Ahh9W/wDmoo/4Qf8A4KF/9HQfBn/ww%2Brf/NRXl3i39sbV7v4P/Cf9oz4F/steAfFPgn4uSeFoNBGreNZNO1kT6zNEpRbSLSLmCRbaCRriRvtK/Jbz4A2AtZ8N/txfDW5%2BLMHh3x18E/Cug%2BDdY8Z%2BLPCnhvxC2uxz6pcal4dW9fUDc6YLRRbWxj029kjlW4mZkWAtHH9oTAB6R/wg/wDwUL/6Og%2BDP/hh9W/%2Baij/AIQf/goX/wBHQfBn/wAMPq3/AM1FYH7E37Q3hL9sXwzqXjq0%2BHPwystKSGzm06z8N%2BObfXNVsxOjyfZ9XtYrOOPTLtUERMCzXA3NIu/93lvcPBg2aGYFJ2Q313FECc7US5kVV%2BgUAD2FAHl3/CD/APBQv/o6D4M/%2BGH1b/5qKP8AhB/%2BChf/AEdB8Gf/AAw%2Brf8AzUV7NRQB4z/wg/8AwUL/AOjoPgz/AOGH1b/5qKP%2BEH/4KF/9HQfBn/ww%2Brf/ADUV7NRQB4z/AMIP/wAFC/8Ao6D4M/8Ahh9W/wDmoo/4Qf8A4KF/9HQfBn/ww%2Brf/NRXs1FAHjP/AAg//BQv/o6D4M/%2BGH1b/wCaij/hB/8AgoX/ANHQfBn/AMMPq3/zUV7NRQB4z/wg/wDwUL/6Og%2BDP/hh9W/%2Baij/AIQf/goX/wBHQfBn/wAMPq3/AM1FezUUAeM/8IP/AMFC/wDo6D4M/wDhh9W/%2Baij/hB/%2BChf/R0HwZ/8MPq3/wA1FezUUAeM/wDCD/8ABQv/AKOg%2BDP/AIYfVv8A5qKP%2BEH/AOChf/R0HwZ/8MPq3/zUV7NRQB4z/wAIP/wUL/6Og%2BDP/hh9W/8Amoo/4Qf/AIKF/wDR0HwZ/wDDD6t/81FezUUAeM/8IP8A8FC/%2BjoPgz/4YfVv/moo/wCEH/4KF/8AR0HwZ/8ADD6t/wDNRXsskkcSGWVwqqMszHAA9a4Dx/8AtX/sv/CuNn%2BJP7RXgjQinWPVPFNpDIfYI0gZj7AE1nUrUqMeapJRXm0vzaOzBZfmGZVfZYSjOrLtCE5v7oRk/wADmf8AhB/%2BChf/AEdB8Gf/AAw%2Brf8AzUUf8IP/AMFC/wDo6D4M/wDhh9W/%2BaivP/Ef/BZ7/gnfo%2BoHRPD3xsuvFGpD7mn%2BE/C%2BoXzyf7rJB5Z/77qgP%2BCrF74j/wCSXf8ABPD9o3X0b/U30vw9FlaS%2BhWWWbp9VrznnmUJ2VaMn/dvL/0mMj7Kn4W%2BIcoKdTLKtKL2dXkoK3f9/Vo3Xomen/8ACD/8FC/%2BjoPgz/4YfVv/AJqKP%2BEH/wCChf8A0dB8Gf8Aww%2Brf/NRXmI/bs/bx1b5vCf/AASS8YzK3%2BrOsfEPS7Ake4dW20v/AA1f/wAFVbwbrX/gk5YWgPT7Z8dtJcj67IqX9tYN7RqP0pVP/kEV/wAQ04kj/Eq4WH%2BLHYJP7vrEmem/8IP/AMFC/wDo6D4M/wDhh9W/%2Bairf7K3xG%2BNPjDWPih4E%2BOmv%2BF9W1TwD8QotDs9V8J%2BGrnSbe6tZdB0fU1Z7e4vbxlkWTUZULCXaVjQ7VOc%2BTf8NAf8FedR4s/%2BCfPgTTc9DqHxXhmx9fKSuh/4J16t8Zdd1v486r%2B0F4R0fQvF8vxmg/tfStAv2urSDHhHw2ItkrAFswiNj6MzDtXRhsfSxU3GMJrS95QlFfe%2BvkePnfCeNyHCxr18Rh53fLy0sTSrT2bu4027R01le12l1PpOiiiu4%2BXCiiigAooooAKKKKACiiigAooooAKKKKACiiigAooooAKKKKAMD4o6J488S/D7VdA%2BGXinSNE128tTFYarr2hS6naW5JAZpLaK5tXlGzcABNHgkHJAKnxr4W/svftWfCj9ijTP2UvDP7V3hWy1zw98O7fwt4Y8e6b8LJkksHt4Y7aC%2Ba0m1aZJZFgj5QuFMuJOEHkn6EooA8y/ZG%2BBXif9m34K2Xwf8S%2BJPDOqjTLiU2V34Y8MXelpJHJiSSS5F3qF/Lc3cs7TzS3TzbpXmLMu7c7%2BG/Fb4ffCz4Zf8FjPgR4r8EfDbw/outeOfhp8R18T6vpWjQW91rEkMvhmSN7qWNQ9wyAPtMhYrvbGMmvr%2Bvjf9sLVzpf/AAWN/YzgLYW%2B8MfFC3Y/9uOjOB%2BaCubFz9nR5vOP4yiv1Pc4ew/1rM/Z/wDTus//AAGhWl/7afZFFFFdJ4YUUUUAFFFFABRRRQAUUUUAFFFFABXE%2BK/hF8J/jRBq/hb4xfDDw74s0y38QRXUGneJtFgv4I51soUWVY50ZQ4V3UMBkB2GcE121eT/AB3/AGrfgF%2Bx94a1H4l/tF%2BPf%2BEd0S%2B8Vw6Za3v9l3V3vun09JVj2WsUjjKQyncVC/LjOSAccRPD06EpV2lBLXmta3nfS3qNY%2BWVP63Gs6Tp686k4OPS6kpRcd91Jb76if8ADA/7Cv8A0ZZ8Jf8Aw3Omf/GKP%2BGB/wBhX/oyz4S/%2BG50z/4xXkn/AA/N/wCCWX/R0X/lk65/8hUf8Pzf%2BCWX/R0X/lk65/8AIVeL9e4V/wCflD/yn/kaf8RSxP8A0PZ/%2BFlX/wCaD6S%2BGnwi%2BE/wX0KXwt8Hfhh4d8J6ZcXbXU%2BneGtFgsIJJ2VUaVo4EVS5VEUsRkhFGcAV4r%2B0r%2Bwv4r%2BPHi74lan4f%2BM%2Bm6Fo/wAVfhfYeEPEunXvhCS%2BuIWspdTktru2nW9hVBnU5BJE8Um8RJteMlifSf2aP2rfgF%2B2D4Eu/iX%2Bzp49/wCEi0Sx1eTTLq9/su6tNl0kUUrR7LqKNzhJojuClfmxnIIGP8Sv2y/hh8K/FniXwL4l0HXn1jw5L4Yjj0%2B1tYGk1b%2B3799O09rTdMocG7imicuY9nkux%2BQBj7WHnh6lCMqDTg1py2tbytpb0M3j5Zq/rcqzquprzuTm5dLuTlJy23cntvoeVftff8Ex5f2rPj1b/GW5%2BKXh2zihl8MTW8ev/DtNY1LR5NH1Y6gRpN693GNNS7yIrjbC7uFBDjAUbHh3/gnYug67qutn4vib%2B09B%2BJmm%2BX/wj23yv%2BEu8RQ6zvz9oOfsnleRt48/dvzFjYea%2BPX/AAVj%2BHfg7w38e/A3w00q3j%2BJfwj%2BEvi3xfpOma3rWk6haagdFh%2BczQ6XqU11bJ50trmG6W0mdJjsGUk8vvNW/bw0Hw/8R/Enwp034deK/GviXT/iBc%2BH9L8M%2BE9Gs4Low22iaZql1cmW81BIZYYl1GEGVmgdnnjhSB2USS7CPVPgz8PvEfws8CaR8O9T8U2WqWGg%2BH9O0zTZINJe2mP2e2WGSSVjPIr72QMqqqbAdpMn3q8c%2BDv7Cvjn4P8AjWz8QWXx00zUNM8FaF4i034RaNdeDHUaENWu4rlm1CRb4HUxbiCK3iWMWZ8jzA7PIwmXsv2IP2kdU/ae/Zl%2BHnxd8WaObPXPFvgHTfEWoxWOiXlvYRm6QnZFJMGUMCrZhMjSoCpcAMpPnfgn9sb42a98edBl1bTfCw%2BG3jH4xeJPhtoOn2%2Bm3K61Z3%2Bj2mqSvqM901yYZYZZ9Ev4hbrboyLLbuZX%2BdQAbnij9hvxB4j%2BOl/43X4yW0HgfxB8QtE8eeKfBn/CMFru88QaVaWdvayQ3/2oLb2pOm6bM8Bt5HaS1JEyiVxV/wCEv7OH7S/w3%2BNnxb%2BLmqftBeBdSh%2BI2y40bTLf4XXtu2jXlvaxWllJNKdakF5EkMQ82JUt2lclkkgHyVyn7TX7Y3xt%2BFfxT8Yv8PNM8LN4N%2BE2i%2BG9T8d22s6bczajrEeqX1xFNHYzR3Mcdo1ta2/nhpIrgTySiLEIUyHZvfil%2B1zZfty2P7O9j8RfhxqfhrUPBet%2BJb9Yvh1fwX3h%2B2W4htdJjmuDrLx3TzTSzE7YIRImnXG3yiy4AOPi/YB/auH7HE37Jrftj%2BD4Pt3ja81PWdZ074TX1vHqWjXl5dX17o8sK695yCae5KNcRXEbC2DRBd7%2BcOx%2BOf7Kf7SnxO8B/C3wt4C%2BPPw08K3Xw88QWus3RX4PXlxp95PaKUtIbW0j12E2NukburRmWYt8m14wpDeaa1%2B2b%2B1/8ONP%2BMN1408W/C/WNJ8A%2BOfCvhG08dWXgLUdM07R7q%2BNvLq1/qED6vcmezsra/sWLJNbgSLcLJJGqM6ct4m/4Kr/ABZuPhPo%2Bt/D/UvCuo3UXibxbo%2Bt%2BM/D3w01rxNYam2jxxTW09jpGnXn2xbW7gnSRrwzTW9ttCtJIs0MpAPbfEH7AM2q/H%2B/%2BJmlfEzS7DwvrvxO0n4heItAj8IbtUuNe07T7axhMOpfagsFq6WduZITbSSNmdRMqTFRH4e/YS8beJ/GHxhj/aY%2BLnh3xd4L%2BLetWOq3Ph3wp4V1Xw3f6dcWUNhBaFdSg1qWQhY9PhZvLSJnlJYMifujkeNv2kP2uTP8AvE3gLxT8MUt/jHrGhW914Mk8LXWqz21s%2BnvqerzwaxbatHBJHFaW9z5MwtWjaRrcEuJBlP2bP26vEv7SXxp8ReGtI%2BInhPSdPGr%2BJ9G8HeFNQ%2BH2sLdX0%2Bj30tjJdDWnuEsbw%2BZA00ljbRGaGKVA8isj0AR%2BD/%2BCYlx8Grb/hIPgP8AtAapZeK7H4r6l4z0HWPHb6r4otoY72xmsZtPuYbzVBNcKYZ2czJcQyPNFC77grI9S/8A%2BCWVzaeDo/ht4L%2BP5s9B8TfD3TvB3xdj1PwqLq68UWNtfX17JNbSpcxJptxcSarqaSOY7hNl0oVFMSNXQ/Dr4%2B/tZeOf2K/HvxDfXvh3D8SPBnirxTpKamPCV/8A2HOmj6pc23mGx/tH7RmSC3PH2sDzGzkL8tU/2hP2s/j18P8A9hjwn%2B174O1XQLO6ufAsGta7or/CvWvESX13Np6XaQRvp95GdJttyzK97dCWCEPG0jKFO8A7aP8AZz/aCh/bU1P9p6H47%2BD18N3/AINi8OReEv8AhXF0b%2BG3ie4nikOof2t5bSC6uC7f6IFaJRGArfvqreAf2Yvj74X8eeMvjvr/AMdPBN58Q/EXhDTfDmj3umfDG5stF0%2B1sp7ueJ7ix/taSe8kL3koz9siVUCqipmQvg/Fr9qT46fDT45fCvRY30C50D4j6tptlJ4cHgTU2NgtxC5mlPidbv8AsvzEdC0do0AmuVASLcXVqwPih%2B258bf2WPE/xMi%2BON74I8aaX4F%2BC%2Bq%2BP71fBeiXWkyaC1vMq2WmX0tzeXSStep9pMU4WDb/AGdOxi2su0AueGP2Afi7pH7EfgH9j3xX8VPhF4sfwFZ2WnWOueLfgO%2Bo2rWVpZrbW0qWFxrDrFfpt3/aTI8Z3EfZwDTvH3/BMDwL4y8N/DP4QQXPgz/hA/hz4d0jR4W1n4dR3/iqa3sZUdorfWmulFnFcrFFHOq2rO6tPtkRpA0fMar%2B21%2B0gPgV/wAJH4H8c%2BGfFXiyH4g6VpXiSPRP2d/FjS%2BGdMurdpnnl0Nr3%2B0r1cKHiuk8qKVG3CPCmtP9on/goT4w%2BH/7OnhLxZ%2Bz7r3g74heKdWs7TVtc1yPRbu00iz0Zb%2BGzurprM3TT280k8otYbaScyLKJ3beLSaOgDpPDv7BPjrw/wDF6x8bD49abcaB4c8feKfGvhHS5vBBOpQavrkGoRTR3t/9txe2MP8Aadx5dssEDbYrRWlYW6k7XhL9lj4%2BaDrvxH%2BL2q/HjwXc/Efx74a0fQbfVLL4ZXNroen2enSXzxNJp39rPPdTt/aN0rSG9QbVgCqojYSRfFr4q/tTeCf2yfhn8IPCfjnwBqPhnx3qepXWo%2BH5/AV8uq6XoOn2G%2B6vP7QXVvJkf7dPp1uv%2BhqoF%2BuclMva%2BB3xm/aCn/aj8Rfs4/GHxB4I8TrpPgy01271bwP4cvNNXQJ7i5kjh067Fxe3YnkliR5o5FMLbYHLQqJIzQBsfs5/BLx5%2BzZ%2BxhoX7PvxB%2BI2keK7rwT4Hi0Ky1zRvDMukR3FnaWa28Be3lvLsiXZGN7CXazEkIg%2BWofHH/KQv4X/APZGfHn/AKdvCFepeOf%2BRJ1j/sFXH/otq8t8cf8AKQv4X/8AZGfHn/p28IUAezUUUUAFFFFABRRRQAV4L%2Bx//wAm9av/ANl78c/%2BrA1Wveq8F/Y//wCTetX/AOy9%2BOf/AFYGq0AdZr/7E37GXivXb3xT4p/ZH%2BGOpanqV3JdajqOoeAdOmnup5GLySySPCWd2YlmZiSSSScmqn/DA/7Cv/Rlnwl/8Nzpn/xivO/H/wDwWU/4JufC/wAd638NPHX7R32HW/Dur3OmaxZf8IhrEv2e6t5Wilj3x2jI%2B10YblYqcZBI5rI/4fm/8Esv%2Bjov/LJ1z/5CrwZ43hhTalOje7vf2d79b6b3vc0/4ibiaH7pZ5OPLpb63VVraWt9YVrWtayta1lay9m0D9ib9jLwprtl4p8Lfsj/AAx03U9Nu47rTtR0/wAA6dDPazxsHjljkSEMjqwDKykEEAg5Fa37TXwTsv2k/wBnTx3%2Bz3qGvy6TD438I6hob6rBAJXs/tVu8ImCEgOULhtpIDbcZGc1414B/wCCyn/BNz4oeO9F%2BGngX9o77drfiLV7bTNHsv8AhENYi%2B0XVxKsUUe%2BS0VE3O6jczBRnJIHNe4/HX4w%2BHP2ffg94j%2BN/jLTNRutG8K6VLqesppUKSTxWcQ3TzBXdAyxxh5WGc7Y22hmwp9DA1strQk8HKDSevJy2v58qWtu5MuJKnEn72eNeJ5NLurKry31teVSpa%2B9k1fe3U8j8RfsTfELx/oPxdl8e/H21i8SfFv4d6b4Zvta8J%2BFZtNh02SzGohbmKKS%2BnkZHF%2BA0RmBxE2JB5g2cN8Ef%2BCU0Xwi8RQ%2BJofiT4QsNvxcHjl9B8BfC%2BPQNIgYeEbzw4bO2tUvJTCG%2B1C7aVnkZnRlI%2BcOnovxn/4KIfB34LaX4u1zVPDep6hY%2BCvFtn4b1jUR4g0HSrR7%2B402LUQkNxq%2BpWcMmyCeAMA%2B/fMFRX2SFORtf%2BCjuk%2BKfH0d/wCCbi0uPAWueDPhJrvhHVYtCknvLr/hMPEGraaVmR7uFY4xFZ2ZVgC8DSTOyXOFgruJOr%2BBv7FHiH4BR%2BBLvwj8XLK5v/A3wN0r4dW8uoeF3aG7%2BxyQMb5o0u1Zd6wsBCHOwuD5jbdrdZ%2B0b8AvHHxU8QeD/iZ8H/ifp3hHxn4Jvbx9K1TWvDT6vYz2t5atb3NtPapdWruD%2B5lVlmQrJbx53oXRvMPBv/BRo/Ez9orwf4I8IfB/xNZeAfEfgrxZr9p4s1TQlnbxDDpNxp0Mc%2Blx2VzNOY3%2B1St5U9uk8waBoUIJz6T%2B1J8aPiB8PdG8C%2BFvg4mkQ%2BKPiT43t/Duhah4n0ue4stNzZXmoT3M9rHNbyzbbWwuAsQliJkZAWUZoAp%2BHf2WNY8Bfsu2v7K3gzxT4X1DQ9M8D2GhWP8AwnfgltYjvJ49wu7nUIFvII7uO4TbmBBDscyNvdXVE87s/wDgmvF4b/Z5f4L%2BEb34SPeat4ym8SeI5/E3wPh1HRku3gS3iOmaSL%2BKPTjbwQ20UBeS42pB84lZ2c9DpX7XXxTf9gnxr%2B0e/wAO7LWPHHgX/hK9MvtE0eG4FnqGp6HqV9pss0MYMk628slkZxEDJKsb7Mu4yeT%2BCP7ZnxH%2BPXg/4maP4K/aa%2BEF1f8Aww1Cyu9Q%2BKWl%2BBr2%2B8M6jo8%2Bnm6Zo7ZNZVklhkSeN5FvZox5ByodmjiAPSPCv7FHhPwVe/A3RPD/AIruP%2BET%2BBOgXNr4f0C8tRLNe6gdPj0211GW43Ab4rOTUUK%2BWfMe/L7k8va%2BBrf/AAT88MfEL9qGb9oT4rJ4Dura3%2B3tpdp4Z%2BG66Xq91JdafNppfVNV%2B1zSaj5dldXcMarHbqPtBZgxRNvnfjP9p3/goFpn/BPLwR%2B1Tp/iH4W6V478UaLpgg8G6v8ADLU549S1fWb2G30izXZrkb2X/H3apcBjclGEzghV21d8Z/8ABQ/xv8Of2wh8E/Guv%2BCbPTh8TtG8GWvgl9Jul8SarBqGnW0sfiOCb7V5S2Avbn7KU%2BzugMEgN0JiIAAeg/sg/sSa5%2BzR4kg8Q%2BKfitpviL%2BxPhzpHgTwrBo3hAaOtvounSTPAbvFzOLu7Pm4MqCCJcN5cEfmPn23wf8A8gmb/sK33/pXLWpWX4P/AOQTN/2Fb7/0rloA1KKKKACiiigAoqDVNV0vQ9Pm1fWtSt7O0t0L3F1dTLHHEo6szMQFHua%2Bc/ib/wAFbf2EPhxrp8Iad8ZB4x10kiPRfh/ps2tTORwQHtlaIEHjBcHNc2JxuDwcb16kYerSv6Ld/JM9vJeGeIuJKrp5Vg6tdrf2cJSUfOUkuWK85Tij6Tor5IP/AAUQ/al%2BJg8r9mv/AIJf/E7UFl4h1D4j3dr4YgA/56YnZ2de%2BBgkdKT/AIQz/gsz8Y%2BfEPxk%2BEfwdsJfuJ4X0CfX9ShU/wB83ZFuze6nFcX9sUKn8CnOp/hg0v8AwKfIvzPpv%2BIcZphNc2xmFwa6qriKcp/%2BCsP9ZqX8vdPriuO%2BIn7Q/wAAfhEWHxW%2BN/hHw0yDLJr3iS1tG/KV1NfPI/4JRj4gf6T%2B0/8Atv8Axp%2BITv8A6/TB4q/srS39cWlqo259n6V2Xw7/AOCUX/BOz4YhW8P/ALJvhW8kU5M3iK3fVnZv7xN68vOeaPb5zV%2BChGH%2BOd390I/%2B3B/ZPhrgP95zSviH2w%2BGUI/Kpiqqfz9l8kZHjH/gsZ/wTq8I3f8AZNp%2B0Nb%2BINQc7YNO8KaPealJM3orQRMh/FhWKP8AgqF4%2B8cfL8Av%2BCcXxz8TI3%2Bpv9c8PxaJZTehSa4dsr7lR9K%2BnfB3w4%2BHnw7tP7P%2BH/gPRtCg248jR9LhtUx6YjUCtmj6tnFT48RGP%2BCmvznJ/kH9teHOC/3XKKtd98Ri5Jf%2BAYalTXy9o/U%2BSh8f/wDgrz4x/f8Ahj9gPwH4Rif/AFaeLvihHeuB2LCyQY%2BnUUotv%2BC4HiHmbUv2aPDsLdBBDrl3On13YQ/hX1pRR/ZdSXx4mq/%2B3lH/ANJghf694Sl/u2SYCC86NSq/vrYmV/mj5LP7P/8AwV58U/u9e/4KCeBPCyt95/DPwpivWX6fa3FIf%2BCcX7R/jP5PjP8A8FT/AIx6hG3%2BtTwYLTw7u9R%2B4R8D2r61oo/sXBy/iOcv8VSo/wAFKKD/AIiZxLS/3SnhqHnSweEi16SlRqy/FnyXH/wRW/Yg1hxP8VbTx149nBy9x4x%2BIWozs59W8mWIH8q77wF/wTF/4J9/DWRZ/C/7I3glpEwY5dW0hdQdSO4a78wg%2B45r3aitKeTZTSlzRw8L9%2BVN/e%2BZ/icmM8SPELMKXsq%2BbYlw/lVacY/%2BA03TivlFGf4c8J%2BFvB2njSfCPhrT9KtV%2B7babZpBGP8AgKACtCiivRSUVZKyPjalSpVm5zk23u222/Vttv5thRRRTICvGf2X/wDkt/7R3/ZZrH/1CvC9ezV4z%2By//wAlv/aO/wCyzWP/AKhXhegD2aiiigAooooAKKKKACiiigAooooAKKKKACiiigAooooAKKKKACiiigAornPi74j%2BIHhH4b6t4l%2BFngnTfEev2duJNP0bV9ebTLa5O5d3mXSW9w0Sqm5siGQnbgLzXm0f7Zlin7Bfh39tu8%2BHs/meJvA2ia3p3hG21FXd77VYrb7Jp4uGRVO64uoofOKKBneVA%2BWgD2yvhT/govqf9i/8FaP2IdT3YzceObXP/XaLRYsf%2BPV9P/s3fHfxR8YX8Y%2BEfiT8PrHwv4v8A%2BJ10XxJpOk6%2B%2BqWReWwtNQgntrqS2tnmie3vYcl4I2WRZU2kIGb4/8A%2BCuepf2L/wAFJP2HNU3Yz451i2J/67X3h6L/ANmrzc3lyZfOXZx/9Lpn2vh3Q%2BtcYYej/NGuvvwuL/yP0Mooor0j4oKKKKACiiigAooooAKKKKACiiigArK8P/8AIW1z/sKJ/wCklvWrWfe%2BGNIv7t7%2BQXMUsgAke1v5oN%2BBgFhG6hiBxk84oA0KKy/%2BEP0n/n71X/weXf8A8do/4Q/Sf%2BfvVf8AweXf/wAdoA1K8p%2BKv7Hnwq%2BMH7Rvw9/ac8UX%2Bsxa58ORef2fp9jdxpYaoZoysRvomjZp/szNJLBtdPLkkZvm4x6F/wAIfpP/AD96r/4PLv8A%2BO0f8IfpP/P3qv8A4PLv/wCO0AfNWof8EkvghrGl%2BIfDOsfGj4k3Oh638PfGfgzTtCfUtNW20HS/E80U2pfZNliJHmEkKGOa5e4ZeQ5kGAO18VfsE%2BAdZ8far8WfCXxY8b%2BEvFmqeM7nxEfEXh27sDPbNc6TYaVc2UaXVnNEbWWDTbR2V43kWWMOkiEKF9g/4Q/Sf%2BfvVf8AweXf/wAdo/4Q/Sf%2BfvVf/B5d/wDx2gDk/wBnL9njw/8AsxfCvwt8FfAfjXxBfeG/CHhOy0HSLHW5raZvLtgyrcySpAkkk7qVVyW8siNSqKxZm5fQP2Hvh14d%2BOa/Gqz8e%2BK5Le08Saj4k0TwVNdWh0bSNdv7WS1vNUt1FsLnz5Yri7BSSd4Va8uGWJWkJr1T/hD9J/5%2B9V/8Hl3/APHaP%2BEP0n/n71X/AMHl3/8AHaAPIfiR%2Bwf4E%2BKvjSz8a%2BLfiz41Z5tK0TT/ABvp9tPp8Vr41j0m7e7sjqSLZ5UrPLMz/YzarKsrRSBogsa%2BgeEPgh4U8HfGTxl8dLXUNRu9d8bWul2d%2B99LG0dnZ6fHMtva24VFKRCS5u5yHLky3UpyFKqu9/wh%2Bk/8/eq/%2BDy7/wDjtH/CH6T/AM/eq/8Ag8u//jtAHD%2BEf2ZdO%2BHPwb1f4S/DH4seK/D93rXiTUdevPGdn/Z8%2Brfbr7UpNQuZP9KtJbVgXlaEK8DKkO1FA2Kw4uf/AIJ6eB7Kw8P3/gX45/EPwv4s0L%2B3hcfEDRr3TX1bVxrVxb3Oqfa/tVjNbN509paSDyoI/J%2ByxJB5UahK9s/4Q/Sf%2BfvVf/B5d/8Ax2j/AIQ/Sf8An71X/wAHl3/8doA4LwH%2ByH8Ivhr4n%2BHev%2BEI9Rt7X4VfDubwZ4I0N7pZLOw0%2BQWKtJhkMj3Ai0%2B3iEjOcR%2BYAMyOTieE/wBhj4f%2BDPipH8TNH%2BJPi822navrmseFvCcs9idL8O6rrDzPqF/agWgneWR7m6YLczTxRm6lCRqpCr6x/wAIfpP/AD96r/4PLv8A%2BO0f8IfpP/P3qv8A4PLv/wCO0AeKfD79g29%2BHnwP8efA6x/bF%2BKt9D4%2B1a91K78QahaeGf7Q0y4vruW6vza%2BVoyW%2BLl5pFcTQzBFb9z5JAYWB%2BxBrMXwC8Pfs52f7ZnxZttD0Pw/NoV5d2yeHUvNZ050WJILiQaPtjMUK%2BUktqsEu1izO74cex/8IfpP/P3qv/g8u/8A47R/wh%2Bk/wDP3qv/AIPLv/47QB5drX7F3hnX/EXhxNQ%2BMPjX/hCfCWoaRfaB8LopNNTRLa40tYTYv5gsvt7iKWCKcRvdmMyoCVI%2BWsD4cf8ABO3wX4L8N/EnwJ40%2BPHj/wAeeHPizFqw8a6J4wXRSL2XUAI5ZjdWWm214zx24FtCrzskMCpGiARRbPcP%2BEP0n/n71X/weXf/AMdo/wCEP0n/AJ%2B9V/8AB5d//HaAPJfDn7F%2Bp%2BFLXXdX0T9rb4oR%2BMPEt5YPrHxBlj0CXU57SzhlitrDyn0k2K26efK/FsJWeRmMhJrm/H3/AASZ/Yb%2BKnwUs/g18Tfgto3iOayidY/G3iDQtPv9fLy6jJqVzJ9suLZ9hnu57mWRUVUzcyhUQNge/f8ACH6T/wA/eq/%2BDy7/APjtH/CH6T/z96r/AODy7/8AjtAHN6L%2Bz74C0D43t8d9P%2B1LqMXgi18K6Tpa%2BUlhpOnxXMlw4tYkjDRtMzQLJlmUrZWwVU2MX5H9lH9jlf2UJdc/sz9o74geM4PEWp3WqarB41h0R3n1G4lDyXklxY6ZbXE0u1ViUSyuiQokaIqxxhfUv%2BEP0n/n71X/AMHl3/8AHaP%2BEP0n/n71X/weXf8A8doATxz/AMiTrH/YLuP/AEW1eXeOP%2BUhfwv/AOyM%2BPP/AE7eEK9RPgzQ3ws7X0yZBMVxq1zIjezK0hVh7EEV5d44/wCUhfwv/wCyM%2BPP/Tt4QoA9mooooAK534r/ABX8A/BHwFe/Ez4m642n6PYPBHNNFZzXMsks0yQQQRQQI8s80s0scUcUaNJJJIiIrMwB6KvIP21/hv4%2B%2BIfwn0i%2B%2BGXhltd1jwn4/wDDvieHw6l3DA%2BrRafqdvcT20ck7pEsxhSQxea6RmVYw7opLqAbdl%2B1b8BL74F3X7SKeOmh8IWMk8N9e3mkXdvc21zDcm0ktJLKWJbpLoXKmD7K0QmMuIwhchTjXf7c/wCzZZeBrHx7J4m8QSR6j4gl0O00K28A61NrralFA9xLato8dmdQSRIEadg1uNsW2Q4RlY%2BWeFfgT478T/s7fFDw98ZP2fvGdtd%2BO/G95440/QPDmv6MupaXcJfwSadbwzte/Zl1KI2Freks5tBLJs86UBs%2BQN%2BxH%2B0U2lH4nfEj4b/E3xgnif46XnjLxB4f074haXpHjqxt/wDhFLbQbSRdT068sLOB2az3zQ2N1CnkXEcQaVY5UlAPvX4dfEPwV8W/AWj/ABP%2BHHiKDVtA1/TYb/SNSts7Lm3lQOjgMARkEZBAIOQQCCK8e/Y//wCTetX/AOy9eOf/AFYGq1r/ALLPwY%2BKXgX9iDwR8C/GniiXwl4o0nwbaabcah4VhsHl0lo0CokQltpLSSSNAqM3kNG7BmVcEVk/8E9/DUlp%2BzHqPhXxH4hvdfkt/i18QoLrVtUSBLm%2BdPGmtAzyC2jiiWRiNx8qONQx%2BVVGAAD3qisr/hD9J/5%2B9U/8Hl3/APHaX/hD9J/5%2B9V/8Hl3/wDHaANSqmvaFo/ijQ73wz4i02K80/UbSS1vrO4TdHPDIpR42HdWUkEehqt/wh%2Bk/wDP3qv/AIPLv/47R/wh%2Bk/8/eq/%2BDy7/wDjtAHz94J/4Jg/Cj4afCPwH8MPh58aviPpWofD7W9T1TS/HK6np9zrd5LfpNFdC6kubKSCTdFN5SusKSxpDEI3TaSbHgb/AIJifAP4f%2BGvD3hXRPFvjCS28NeGvh5odg13qVs8j23g3VbvVNLaRvs43SSz3kq3DcB0VBGIWBdvef8AhD9J/wCfvVf/AAeXf/x2j/hD9J/5%2B9V/8Hl3/wDHaAPEPht/wTu8C/Cn4iaX8QPCXx1%2BIir4X8N67oXgPQri802Sw8LWeqzW00yWiGx3ymJ7SDyTdPcbFTYdyfLXpHxz%2BAeifHfwbpfhzV/Gmu6Jqmga1a6x4e8WaA9quo6ZqEAZVuYhPBLbsWjkmidJIXjeOaRSmDx0/wDwh%2Bk/8/eq/wDg8u//AI7R/wAIfpP/AD96r/4PLv8A%2BO0AcX8Nv2bbD4RfDCH4V/D34q%2BKrC1TTtXW41EmwmvLrVNSumvLjWpHltGU3v2mW4mACi2L3Mm6BwIwnM3P7CvgDXfgr8Qfg747%2BJ/jLxHN8VW2%2BP8AxdqlzYx6pq1v5EVsbQ/ZrSK2gtzaxfZ/LhgjGyWVhiWR5T61/wAIfpP/AD96r/4PLv8A%2BO0f8IfpP/P3qv8A4PLv/wCO0AYHxN%2BBfg/4r%2BIvAuveJ7y/SLwB4o/t/SdLtJI0tbq8WyubSL7QpQl0iF08qKrJiWOJznYBWP4v/Zos/iD8ZdJ%2BKnjn4u%2BLtU0rQNUi1XQ/h/OdPTRbPUYoGhju/wB3ZreTOu95FSa5kiWVhIIwyRlO3/4Q/Sf%2BfvVf/B5d/wDx2j/hD9J/5%2B9V/wDB5d//AB2gDUrK8H/8gmb/ALCl9/6Vy1W1vSvB/hvSbjXvEfiO7sLG0iMl1e3viS5ihhQdWd2lCqB6k4r5q8Uf8FTvhTfa3L8I/wBhv4SeIvjl4lsz5ckXg2Py9GsnJPNzqkw8lFJOfMXzFJPLZrkxWOwmCS9tNJvZbt%2BkVeT%2BSPoMh4U4h4mnNZbh5TjDWc9I06a71Ks3ClTX%2BOovJPY%2Bs64H42ftUfs4fs42Qvfjn8bfDfhjem6G21XVI0uJh6xw5Mkn/AVNfPq/s4/8FLf2qD9r/aa/ahtPhD4bn5Pgn4Mqf7RZD/DNqs2WjkAyD5IZGz0FehfBH/gmF%2BxJ8CL8%2BIvD/wAEbDXNfkfzLnxP4ydtX1CaXvL5l0XEbnuYwlcf1vM8T/u9HkX81R2%2B6Eby/wDApR9D6R8P8D5J/wAjfM3iKi3pYKKmk%2B0sTW5KPr7KlV8pPc4W5/4K8/DL4gu%2Bmfsf/s7/ABQ%2BMV2zFLe98O%2BFJrPSg/T97eXaoIVz/EUIqNPCv/BX/wDaOb7R4n%2BIvgP9n3Q5fu6b4esF8Sa4FPVJZpSLZTjgPFgjrivrqGGK3iWCCJURFCoiLgKB0AA6CnUf2diq/wDvWIk12h%2B7X3q83/4Eif8AXLIcqVsjyelCX/PzEt4yp6qNRU8PF%2BlCZ8m6b/wR%2B%2BAniq/h179qX4s/Er4y38cglEfjzxjO1jHIP%2BeVrbmNUX/YJYfUV9F/C74K/B/4I6GPDfwd%2BF2geF7HADWug6TDaq%2BO7eWo3n3bJPrXT0V1YbLcBg5c1GmlLva8n6yd5fieJnXGnFnEVFUcxxtSpSW1Pm5aUf8ADSpqnSXyp/PqFFFFdp8wFFFFABRRRQAUUUUAFFFUNW8VeGNAUvrviOwsgOpu7xIwP%2B%2BiKTairsTlGKu3Yv0VwmtftR/szeG8/wDCRftFeBLDb977b4usosf99SiuW1P/AIKI/sFaQSt5%2B2Z8MSV6iDxvZSkf98SmueeNwVP4qsV6yiv/AG45KmY5fS%2BOtBes4L85HslFfPmo/wDBVv8A4Jz6Xn7T%2B174ObHX7NfNN/6LVq5fW/8AgtH/AME/re6GkeA/iZrPjfVGXMekeC/CGoXs7%2BmD5Kp%2BG6uaecZTD4sRD/wKL/BNv8Dknn%2BRU/ixVP8A8Di39ybb%2BSZ9V0V8kr/wUs%2BOfiweZ8Jf%2BCXPxw1GJ/8AUS%2BKNPttDWQdj%2B%2BkfAPr6Uo/bV/4KRwfv9Q/4JBausDco1v8ZdHlkK%2B6CMEH2qP7awD%2BHma7qnUa%2B/kM/wDWHLH8PPJd1Sqtff7NH1rXjP7L/wDyW/8AaO/7LNY/%2BoV4XrzD/h4t%2B0/oXzeO/wDglP8AF63UfePh%2B6stVOPYRsua6L/gnV8Vpvjdrfx5%2BJ9x8MvFXg59T%2BM0Afw3420r7FqdmYvCPhuH99DubYG8vzEOTujdG4ziujDZjhMXNwpt33s4yj/6VFfmdWEzXA46o6dJvmSvZwnHT/t6EV%2BN/I%2Bk6KKK7T0QooooAKKKKACiiigAooooAKKKKACiiigAooooAKKKKACiiigDA%2BKOiePPEvw%2B1XQPhl4p0jRNdvLUxWGq69oUup2luSQGaS2iubV5Rs3AATR4JByQCp8O8E/sP/FC0/Yd0f8AYp%2BJvx70LVLfw54K0zRdB8T%2BHfAc2m3Ftd6Y1u2m37RT6jdI7RNawO8eQsjqSDGp2D6QooA8y/Zu%2BA/in4PP4x8XfEr4g2Pijxf4%2B8TrrXiTVtJ0B9LsVeKwtNPggtrWS5uXhiS3soch55GaRpXyA4VfhH/gsb8I/hR8N/22/wBnX40eCfhj4e0bXbnxDe6p4l1zStFgt7vVHh13wskb3U0aB5yvnPguWI3nHU1%2BndfnL/wXo/0HVvAfivp/YPgjW9Q3f3dvirwQmf8AyJXk57pk1d9ot/c4v9D9A8KdfEjKofz1lD/wZGrT/wDch%2BjVFFFesfn4UUUUAFFFFABRRRQAUUUUAFFFFABRRRQAUUUUAFFFFABRRRQAUUUUAFFFFABRRRQAUUUUAFFFFABRRRQAUUUUAFFFFABXjPjj/lIX8L/%2ByM%2BPP/Tt4Qr2avGfHH/KQv4X/wDZGfHn/p28IUAezUUUUAFFFFABRRRQAV4z%2Bwf/AMkQ1z/ss3xH/wDU11uvZq8Z/YP/AOSIa5/2Wb4j/wDqa63QB7NRRRQAUUUUAFFFFABRRRQAUUV85ftMf8FGPAnwk8bf8M//AAJ8G3/xW%2BLdypW18C%2BFpAwsT/z01C55js41yC275gCCVVTuHNisXh8HS9pWlZbLu32SV22%2BiSbPZyLh7OeJcd9Uy2i6k0nJ7KMIredScnGFOEftTnKMV3bsn7t478f%2BB/hf4UvPHXxI8X6boOjafH5l7qmr3qW8EK9Ms7kAZPA55JAFfKuo/wDBRn4yftOalN4O/wCCaH7Ps3i63SVobn4q%2BOI5tN8MWjA4JiyFnvSp4KxhSODhhUnw/wD%2BCefxF/aE8X2Xx0/4KceO7TxvqtrL9o0H4W6QGTwt4fJ6Awk5vpgOC8uVOSp8wBSPcvib%2B1P%2ByZ%2BzPpI0v4nfG/wX4ShsIAkGk3Gr28MyIowEitlPmHAHCoh%2BleXUq47Ew56s/q9LzcfaNebb5afp70/Rn1eIxHAHA8L1HDMcVHeUpOGCpvslenVxTXWTlRoN/DGpHV%2BIaJ/wS61L40atb%2BOP%2BCin7RGv/F3UIpRNB4RtpG0rwzYv1ASzgKmYr08xyN4Hzqa%2BpPA/gLwP8M/DVt4M%2BHPg7S9B0izXba6Xo9hHbW8I/wBmOMBR%2BVfLP/D1TV/jFcGz/YV/Yx%2BIfxci3EJ4juIV8PaHKP8AYvb5eT/smNe1SyfFv/gsx43Q2/hn9kX4SeB2m%2BVLjxb49l1IQZ/iZbFRux6CssLicnwrcsLCVRveUYTm5etRrX/wKx8Jn3ihmXFEI069apVow%2BCnRpOOHh/17p0406C/xJSk%2BtSWrPreivkWL9gj9s74xONT/an/AOCl/jq03fNHofwZt4fDcFqf7ouQryzr/wBdFBqU/wDBIrwTdjytf/bi/aX1WFv9bbaj8XJGSUejBYFJH412/XcynrDCu396cIv7vet9583/AGhm9TWngnb%2B9UpxfzilO33tn1D4s8b%2BC/AOlPrvjrxfpei2MYJkvNW1CO2iUDuXkYAfnXzx4%2B/4LBfsAeCdZPhfRvjZ/wAJhq/OzTPAWkXOsPJjqVkt0aE9v4%2B9VvCv/BGX/gnZ4d1RPEOs/AuTxNqakF9Q8W%2BI7/UWkx/fSWYxN%2BKV9DfD/wCFfww%2BE2jjw/8ACz4c6F4asAABZaDpENnFx0%2BSJVFL/hbrf8%2B6a/7eqP8A9sj%2BYf8AGR1/%2BfVJf9v1X/7jj%2BZ8zj/gqJ4%2B8Y/L8E/%2BCbHx815T/qrzXPDEWjWsvoVlnkbI98Cj/hpr/grJ4w%2Bfwj/wTX8N%2BGYW/wBXN4u%2BLVpcMw9THaoGX6Hmvrain9Qx0/4mLl/27GEf0k/xD%2BzMyqfxcbP/ALdhTh/7bN/ifJP2v/guB4o%2BWHSf2bPC8Dfea4n1q9uU%2Bm392fxo/wCGcv8Agrn4q%2BbxD/wUc8H%2BFt33o/C/witr0D2DXbg/jX1tRR/ZNOXx1qsv%2B4kl/wCkqIf2HSl/ExFaXrVkv/SFA%2BSv%2BHfP7YGv/wDI/wD/AAVh%2BJtzu%2B//AMI74fsNJz9PLDbaT/h0n4f1j5viB%2B3j%2B0p4i3ffgv8A4pskB%2BiRwrtH419bUUf2Jlr%2BKDl6zm/zmH%2BruUP44OX%2BKdSX51P0Pkof8EUv2HLr974hsPHOr3B63epfETUmkP1KzKP0oP8AwRS/Yatf3vh/TvHOk3A%2B7d6d8RNTWRfoWmYfpX1rRR/YWTf9A8Pu/wCDf8Q/1b4f/wCgWH/gP63v%2BJ8lD/gkT4Fsv3fhn9t39pXRYR9230v4uSIi/QNCx/Wg/wDBJDw5ff6P4o/b6/af1u0/58NU%2BLrtEfqEt1J/OvrWij%2Bw8p/59L75/l7S34B/q5kf/Plf%2BBVLfd7W34HyUP8AgiV%2BwHfjf4x8H%2BLPEUp/1lxrfxB1R3f6%2BXOg/Sr%2Bkf8ABFP/AIJhaKwe0/ZWsZCP%2BfzxHqlxn8JbphX1NRTWR5Mnf6tD/wABT/O41w3w/F3%2BqU7%2BcIv87ngui/8ABLn/AIJ46Dj7D%2Bx74Fk29Ptuipc/%2Bjt2a6rS/wBiD9i7RFC6P%2ByL8MbbHQweAtOU/mIa9Qorohl2X0/howX/AG5H/wCROunlWV0vgw9NekIf/InG6d%2Bzr%2Bz7pGP7J%2BBXg21x0%2Bz%2BGLRMf98xium0bw9oHhy2Nn4e0OzsIWbLRWVskSk%2BuFAFXKK6IUqVP4YpeiS/JI6oUaNL4IpeiS/JIKKKK0NQrxn9l/8A5Lf%2B0d/2Wax/9QrwvXs1eM/sv/8AJb/2jv8Ass1j/wCoV4XoA9mooooAKKKKACiiigAooooAKKKKACiiigAooooAKKKKACiiigAooooAKK534ufFLwb8D/hb4i%2BMfxDv3tdC8LaLc6pq08ULSyLbwRNI%2BxFy0jkKQqKCzMQACSK4j4d/tgeCPGHgnxz4t8beBPFHgO8%2BG0TT%2BNPDfi22tXv9Pt/sS3yXAFhcXUM0bwNuUxSudySRkLJG6AA9Zr89/wDgu3pH9t%2BEpbPbny/gR4tuP%2B/XinwLLn/xyvq/9mn9rrwv%2B0rqmseHLL4Z%2BKvCWraNo2k6xLpfipbBnn03U1uGsruOSwu7qErJ9luB5bSLKnl5eNQ6Fvnn/gr1o/8Abg1Gy252fsv/ABKuMf8AXLU/CEv/ALJXnZxD2mU4iPeE/wD0mR9l4c4j6p4hZPX/AJcVh3/5Wp/5n2b4N1f/AISDwhpWv7t327TYLjd6741b%2BtaVcJ%2By3q//AAkH7Mnw51/fu%2B3eBNIuN3rvsomz%2Btd3XZQn7SjCfdJ/ek/1Pm8zw/1PM6%2BH/kqTj/4DOcf/AG0KKKK1OEKKKKACiiigAooooAKKKKACiiigAooooAKKKKACiiigAooooAKKKKACiiigAooooAKKKKACiiigAooooAKKKKACvGfHH/KQv4X/APZGfHn/AKdvCFezV4z44/5SF/C//sjPjz/07eEKAPZqKKKACud%2BK/xX8A/BHwFe/Ez4m642n6PYPBHNNFZzXMsks0yQQQRQQI8s80s0scUcUaNJJJIiIrMwB6KvIP21/hv4%2B%2BIfwn0i%2B%2BGXhltd1jwn4/8ADvieHw6l3DA%2BrRafqdvcT20ck7pEsxhSQxea6RmVYw7opLqAbdl%2B1b8BL74F3X7SKeOmh8IWMk8N9e3mkXdvc21zDcm0ktJLKWJbpLoXKmD7K0QmMuIwhchTnyftqfs6xfDNfivJ4q1dbB9fOhJpTeDNWGttqm0yfYRpH2X%2B0Dc%2BUDN5P2ff5I87Hl/PXkfhX4E%2BO/E/7O3xQ8PfGT9n7xnbXfjvxveeONP0Dw5r%2BjLqWl3CX8EmnW8M7Xv2ZdSiNha3pLObQSybPOlAbPkcP7CP7RZt7X49eNtJ%2BKviC%2B1D4%2B3njPX/AAbZ%2BPtL0zxbLpkvhCLw7Fuv9PurKxhuRLaQTtHaXMEa20rwrI5RklAPvvwl4o0vxt4X0/xfokV9HZ6nZx3NtHqel3FjcqjqGAlt7lI5oHAPMciK6nIZQQRXlX7B/wDyRDXP%2ByzfEf8A9TXW6v8A7P3gL4%2Bf8MkeHfAHxp%2BJWsaR48OhCHUvEWnT2V5qNi%2B8mPdLcQTW1xcJF5cckrROkkiu4B3A1hf8E6dJv9B/ZuvtE1XxPfa3c2fxb%2BIcNxrGpxwJc3zr4z1oGaVbeKKEO5G4iONEyTtVRgAA90ooooAKKKKACiiigArI8eePfBXwv8Iah4/%2BIvimx0TRNLtzPqOqalcrFDBGO7MxwOcADqSQBkkVwH7YH7ZfwQ/Yj%2BFM3xU%2BNOvmJXLRaPo1pte91a4AyIYIyRuPI3McKgOWI4z%2BZGmeJf28/wDgs18UIvF2l/Duyi8D6TqRbRbbX9//AAiWhspx50y4Da7fLk/LgwIQAymOVlHg5rntLAVVhqMfaV5bQWtvOVtl9zfktT6PLspyuhg45nntd0MK21BQip4jESjvTw1G652nZTrTcMNRvepVcrUpfQvxy/bc8f8A7Wvhq613wb8WD8BP2eIpWi1P4wa832XW/FqrndBolu37xFbBAlCmQ9hlWiNb9mO/%2BK%2BueEB8N/8Agkn%2By5a/DnwNdyB9V%2BOnxXsXN3rh73Fvatma8ZvmKyS/uhuK7IuMe4fAv/glZ8EfA3ie1%2BLP7Q3iHUvjH49t40WHxB44VZLTTwuNsdjp4zBaxrgFVw5THysvSvqEAKAqgAAcAVyYXKcxxNX6xjJ8sn2s527J6xpx8qacn9qo2cWfcV59xFgv7KwcP7NyxNNYelLmq1Wtp4rEWTq1PRclO7jSjTWr%2BRf%2BHXXj74qf6R%2B1/wDt/wDxX8eh%2BbjRdBvo/DukTZ6h7W0ByOww4r0T4Rf8Eyf2CPgdJFdeAP2W/Cou4WDRahrNkdTuUf8AvrLeGV1b3UivdqK9ellGWUp8/sk5d5Xm/vm5P8j5KjkOT0KntFRUpfzSvOX/AIFNzf3WEjjjhjWKKNVRVAVVGAAOgApaKK9I9cKKKKACiiigAooooAKKKKACiiigAooooAKKKKACiiigAooooAKKKKACiiigArxn9l//AJLf%2B0d/2Wax/wDUK8L17NXjP7L/APyW/wDaO/7LNY/%2BoV4XoA9mooooAKKKKACiiigAooooAKKKKACiiigAooooAKKKKACiiigAooooA8//AGq/grdftGfs3eNvgdp2vR6VeeJ/Dl1Y6dqc0JljtLpkJgmdAQXRZQjMgILKCMjOa8r8Kfs%2BftW63D8XfF/jnU/CPhDxf8WdBOlW9/4P8R3eox%2BFFtdMNtYXELXFjbm9lNzPdXD7lgEa%2BTGPNKs5%2BlKKAPmb/gn/APsceLf2W/EXi3XdQ%2BGPw5%2BHmka9oOg6fbeA/hZqFxc6Y19Yi8FzrUrzWdpi7u0uLaJwImbZp8RkmmYjZwP7dfwZ8N6d8aPFGr6RqHiGe98W/so/FYXsGq%2BLtRv7SJxN4ZCfZbW5nkgshlzlbdIw2F3A7Vx9r185/tRaP/wkP7U/hzQNm77d%2Bzn8S7fb6777wmuP1rDFQ9phakO8ZL74yX6nq5FiPqee4TEfyVaUv/AatOX/ALadR/wTu1f%2B3P2C/g1f7txHwz0WFj6mOyijP6pXslfOP/BIzWP7c/4Ju/CS93Z2eGjb5/65XEsX/slfR1c%2BVz9pllCXeEP/AEmJ63HmH%2Bqcc5rQ/lxOIX/ler/mFFFFd58oFFFFABRRRQAUUUUAFFFFABRRRQAUUUUAFFFFABRRRQAUUUUAFFFFABRRRQAUUUUAFFFFABRRRQAUUUUAFFFFABXjPjj/AJSF/C//ALIz48/9O3hCvZq8Z8cf8pC/hf8A9kZ8ef8Ap28IUAezUUUUAFFFFABRRRQAV4z%2Bwf8A8kQ1z/ss3xH/APU11uvZq8Z/YP8A%2BSIa5/2Wb4j/APqa63QB7NRRRQAUUVW1nWdI8O6RdeIPEGqW9jYWNs9xe3t3MscVvEilnkd2ICqqgkknAAJNJtJXYm0ldlmvA/26P%2BCgnwp/Yl8L2tnqNlceJ/HniDEPgz4faLmS/wBWndtkZ2oGaOIv8u/aSSCqK7fLXzf%2B01/wW2u/Evi7T/gB/wAE4/hbc%2BP/ABb4kvm07R/FN/aPHpZnGQ7WyNta6EeCXlYpDGAGLOte3/sP/wDBOjSP2fNduf2iv2gPFr/EX43eIlMviLxxqv7wWTOu02tgrACGJV/dhgFZlG0COPES%2BBPNZ5lUlh8sabWkqlrwh/h/nn2S91bydtHzuWYVMNTxOGo/uql%2BSrNNU58rtJ017sqyUvdco2pcycXVk1KK8H%2BBH/BKz4x/tffFiP8AbG/4Kwa4NT1Sba%2BgfCqxmK2OlW4O6OCfaxAQZz5CMdx5lkdmdK/QvQ9C0Twxo9r4d8NaPa6fp9lAsNnY2NusUMEajCoiKAqqBwAAAKtUV35fleEy2D9krylrKT1lJ95P9NEuiNeWpUrOvXm6lWSSc5au0dIxVkowhHaFOEYU4L4Y3blIooor0TQKKKKACiiigAooooAKKKKACiiigAooooAKKKKACiiigAooooAKKKKACiiigAooooAKKKKACvGf2X/%2BS3/tHf8AZZrH/wBQrwvXs1eM/sv/APJb/wBo7/ss1j/6hXhegD2aiiigAooooAKKKKACiiigAooooAKKKKACiiigAooooAKKKKACiiigAorN8Z%2BMfCvw78H6t8QPHOv2ulaJoWmz6hrGqXsoSGztYY2klmkY8KiIrMT2ANc18F/2i/hJ8f8Aw9qfiX4ba7fNDot99j1q017w/faPe6fN5EdwFntNQhhuId0M0Uql4wHjkV1JUg0AdvXivxDtob3/AIKA/DOzuFzHL8FfHqOPUHVfCANdh8D/ANo/4U/tGabda58JL3W73TrZYZItU1Hwhqem2l/DKGMU9lPeW8Ud/A4Qss1s0sZUqQ2HUnk/HH/KQv4X/wDZGfHn/p28IUDTad0ea/8ABEO5mb/gmj8P9JumzPpd3rVlN9U1e8wP%2B%2BSK%2BsK%2BS/8AgjR/oP7LHiLwp0/sH4s%2BJtP2/wB3bes%2BP/IlfWleVkX/ACJcOu0Ir7rr9D77xWS/4iZnEl9rEVZ/%2BDHGp/7kCiiivVPgAooooAKKKKACiiigAooooAKKKKACiiigAooooAKKKKACiiigAooooAKKKKACiiigAooooAKKKKACiiigAooooAK8Z8cf8pC/hf8A9kZ8ef8Ap28IV7NXjPjj/lIX8L/%2ByM%2BPP/Tt4QoA9mooooAKzfGHjLwh8PPC9/448f8AivTdD0XS7ZrjU9Y1i%2BjtrWzhUZaSWWQhI0A6sxAFaVeIft/eG/EWu/BPRtW0TwpqWv2nhv4l%2BFdf8QaHo%2BnSXl1eabY61aXNwYraJWkuXhWP7SIUVpJPs%2B1FdyqkA9M0z4w/CPWvhkPjXo/xS8OXfg06e9%2BPFttrlvJphtEBL3H2pXMXlKFbL7to2nJ4qDRfjr8EfEnwrn%2BOnh34x%2BFb/wAEW1lcXlz4xsvENtLpUVvBu8%2BZrtXMKxx7H3uWwuxskYNfLHhr4e2nxJ/ZP%2BLfh7xfoXjrwjp3if4l3/jzwnbf8Ky1S6u7O1i1mC7tZX00W/mTNcXtm95Jp2FuXhuyHjjaQ48v1L9nz9vD4ufAr4oeJbTwxoPirQvHfxW1DxZf%2BG/Ftnqngm41iytfDel2NkkGmGz1G5tom1OxluvsdwVln8iBpHxcTIQD9GNF1rR/Emj2niLw7q1tf6ff20dzY31lOssNzC6hkkjdSVdGUghgSCCCK8i/YP8A%2BSIa5/2Wb4j/APqa63Un7LOh/HCz/YV%2BHnhm/sdH8HeOrX4daVavb6pZXOqWum3MdrEm2eEmxmkYKvzx7oSjll3HbubN/wCCdNv4ltP2br618ZatY3%2Brx/Fv4hrqd9pmnPaW1xOPGeteZJFA80zQoWyQjSyFQQC7YyQD3SiiigAr8yv%2BCpn7bum/HLxJqH7MvgK4v774eeG9Zh0/x0dAlYXfjbXmYG38LWDJkkbwGuZFzsVSPvBEm9n/AOCp37dOofC3SLr9mD4HeMItL8Yalocmo%2BM/Fi5aPwR4fGFlvX2kH7TJuEdvECHZ5E24Z4t3Hf8ABJT9gy0s7LQv2t/in4Mk0u3tNOaL4PeDdQIeTRdPmGZNVujjEmo3mfMd8fKjBRtURxxfI5vi6%2BaYv%2By8G/8Ar5Lol1X%2Ba6u0P57evw9keX5662Y5vf8AsrCSUaqT5ZYqu1zQwVKS1SatPF1F/Boe6n7WtBHrn/BPD9hW%2B%2BAlpP8AH748Wmm3XxV8TafFb3MOnQKlj4U0xQPJ0bT0XKxQxgKHK/fZerY3N9R0UV9Jg8HQwGHVGkrJfe31bfVvr%2BiSSrP89x/EeZyxuLaTaUYxilGFOEVywpU4LSFOnFKMIrRJXd5OUpFFFFdR4wUUUUAFFFFABRRRQAUUUUAFFFFABRRRQAUUUUAFFFFABRRRQAUUUUAFFFFABRRRQAUUUUAFFFFABXjP7L//ACW/9o7/ALLNY/8AqFeF69mrxn9l/wD5Lf8AtHf9lmsf/UK8L0AezUUUUAFFFFABRRRQAUUUUAFFFFABRRRQAUUUUAFFFFABRRRQAUUUUAeYftqfCHxV8fP2TPiH8HfAr2o1vxB4UvLXR476UpbzXRjJiilYAlYncKjtg4VmODjB8i8OfCH45fGofHjV/G/wc174dyfGnwwPD%2Bj22p6rpd1NoiW2kPbLe3hsbyZN8s93MI1gaYiO0RpDEXCD6sooA%2BXv%2BCd/wr/aP%2BGOoavp/wAT/DXjXw94Xh8F%2BH7C10Tx546g16ebxBbi7XU7%2ByeG6uRa2EsbWKxwboVBhcra2wz5m1f%2BC/Enh7/gpt4L8Rat8XPEOu2erfB7xw9hoOq22nJaaKF1bwllLZra0incPuGftEs5%2BQbSvzZ%2Bh68Z8cf8pC/hf/2Rnx5/6dvCFAHmP/BJz/iXWP7QvhNuP7K/ae8VxxL6RMbZ0P45NfWlfJf/AATi/wCJV%2B0X%2B1R4T6eT8aG1Db/19Wkb5/HbX1pXk5HplkI9nNfdUqI/QPFH3uOcTV/5%2BRw8/wDwPCYSX53CiiivWPz8KKKKACiiigAooooAKKKKACiiigAooooAKKKKACiiigAooooAKKKKACiiigAooooAKKKKACiiigAooooAKKKKACvGfHH/ACkL%2BF//AGRnx5/6dvCFezV4z44/5SF/C/8A7Iz48/8ATt4QoA9mooooAKKKKACiiigArxn9g/8A5Ihrn/ZZviP/AOprrdezV4z%2Bwf8A8kQ1z/ss3xH/APU11ugD2avIv24v2ptM/ZA/Z21j4sHT/wC0dclZNN8H6EilpNV1i4JS2tlVfmbLZdgOdkbkcgCvXa/KX9t39ozxj%2B1L%2B0qfEfwdJv7bwn4jfwF8CLNH/d6r4xuAq6hruRkGHToWGyXBVZWgkBwzivFz3Mnl2CfI/flpHq/N262T0XWTiupWGy7M8/zXDZJljSxOKnyQk/hpxs5Va030p0KUZ1Zt6JRS6pOT9kT9kfUf2qPj3e%2BBPiHqz%2BJND8KeIIdf/aF8XTOHTxl4yA3w6FG4%2BV7Cw3FWRfkLbvlAeIr%2BqqIkahEUKqjAAGABXnf7J/7Nvgn9kr4BeHfgT4FiVoNGsgL6/KYk1G8b5p7qTuXkkLNyTgYUcKBXotPJMsWW4T3l%2B8lrLr6Rv15bvX7UnKT1lp9RxNmWVz9hk%2BSpxy7BRdOgn8U7u9XEVO9bE1L1Zt3ai6dO9qYUUUV7J8qFFFFABRRRQAUUUUAFFFFABRRRQAUUUUAFFFFABRRRQAUUUUAFFFFABRRRQAUUUUAFFFFABRRRQAUUUUAFeM/sv/8AJb/2jv8Ass1j/wCoV4Xr2avGf2X/APkt/wC0d/2Wax/9QrwvQB7NRRRQAUUUUAFFFFABRRRQAUUUUAFFFFABRRRQAUUUUAFFFFABRRRQAUVm%2BM/GPhX4d%2BD9W%2BIHjnX7XStE0LTZ9Q1jVL2UJDZ2sMbSSzSMeFREVmJ7AGuc%2BCH7Qnwq/aI0TUNd%2BFusajMukagLHVrDW/Dt9pF9Y3BhinVJ7O/hhuIt0M0MqF4wHSVHUlWBoA7WvGfHH/KQv4X/APZGfHn/AKdvCFdj8JP2ifg18dtb8YeHvhN42j1m68A%2BJpPD3isQWk6JZalHFHJJbiSRFSYqsihmiLqrhkLB0dV%2Bcf2z/jifgd/wVV/ZON/OsWl%2BM/Dfj3wrqEjHo91N4bktgPdrm3gX6MfpWVetDD0/aT20/Fpfm0YYnEU8LRdWpsml97Ufzki/%2Bxb/AMSn/gpD%2B114XPCrq3g7UIx6/aNIkZiPxUV9aV8l/AH/AIk3/BXv9oHTen9teAvCmoY/veTFJBn9cV9aV52TaYWce1Sqv/Kkn%2Bp%2Bj%2BJPv59hq38%2BDwMv/LSlF/jTYUUUV6x%2BfhRRRQAUUUUAFFFFABRRRQAUUUUAFFFFABRRRQAUUUUAFFFFABRRRQAUUUUAFFFFABRRRQAUUUUAFFFFABRRRQAV4z44/wCUhfwv/wCyM%2BPP/Tt4Qr2avGfHH/KQv4X/APZGfHn/AKdvCFAHs1FFFABWb4w8ZeEPh54Xv/HHj/xXpuh6Lpds1xqesaxfR21rZwqMtJLLIQkaAdWYgCtKvEP2/vDfiLXfgno2raJ4U1LX7Tw38S/Cuv8AiDQ9H06S8urzTbHWrS5uDFbRK0ly8Kx/aRCitJJ9n2oruVUgHpmmfGH4R618Mh8a9H%2BKXhy78GnT3vx4tttct5NMNogJe4%2B1K5i8pQrZfdtG05PFc7q37X/7Jeg/DbTfjLrn7UXw6svB%2BsXTW2keK7vxtYR6bfTqWDRQ3TSiKVwUcFVYkbG44NfOfhr4e2nxJ/ZP%2BLfh7xfoXjrwjp3if4l3/jzwnbf8Ky1S6u7O1i1mC7tZX00W/mTNcXtm95Jp2FuXhuyHjjaQ45Hwd8UP2kf2fPg98Svi7qnwx8U%2BLPFPxk%2BNbyeBNQt/gdrcdvoFk2gaXYT6ve6Jbx3V/YWgl066kW2lPn3LPCHaM3LyRAH31YX9jqtjDqml3sVzbXMSy29xbyB45Y2AKurDhlIIII4INePfsH/8kQ1z/ss3xH/9TXW60/gH8NB8NP2OvBXwg/Z58Sz2Efh7wNpuk%2BFtV8eeFLsypHb20cUcl5pzvZTq5VMtCWgZScYUDbXPf8E6bfxLafs3X1r4y1axv9Xj%2BLfxDXU77TNOe0triceM9a8ySKB5pmhQtkhGlkKggF2xkgGd/wAFOv2h9f8A2ff2VNTi%2BHchbxv44vYfCngS3ik2yPqd8TEsinsY4/MlBPG5FB6187f8Ef8A9nPw/wCMPFaftKWtus3gj4c6RJ4J%2BDTGLal%2BUZv7X19Qf4ru6aYK3BCM8Z%2B4teef8FP/AIy678bf2hvFk3gjdeWPwmsYfAfgW2jb5dR8deIP3EpjPRntbITEcExzQqRjdmv0e/Z2%2BDWhfs8fAnwj8DvDe02nhbQLbT1lVcee8cYEkxH9533OfdzXyFFf2xxFKq9adFWXnK71/wDAlKX/AG5Hsj6nhqX9kcJ47iFaVsbOeBw76xw1HlnjakfOtWlSw3Mv%2BXdOrFP3pHZ0UUV9efLBRRRQAUUUUAFFFFABRRRQAUUUUAFFFFABRRRQAUUUUAFFFFABRRRQAUUUUAFFFFABRRRQAUUUUAFFFFABRRRQAV4z%2By//AMlv/aO/7LNY/wDqFeF69mrxn9l//kt/7R3/AGWax/8AUK8L0AezUUUUAFFFFABRRRQAUUUUAFFFFABRRRQAUUUUAFFFFABRRRQAUUUUAeYftqfCHxV8fP2TPiH8HfAr2o1vxB4UvLXR476UpbzXRjJiilYAlYncKjtg4VmODjB8w%2BGvgT9pbxz4l%2BM3xFm%2BH%2Bu/CLWvippNvpfhS%2B1OTSNVn8LyWOlmGLU7uG0v3imd7q5lMcMUkgaOzQytCZNq/T1FAHy3/wAE6v2Vf2g/2WvHHxZ0b4q6x4QuvDOp6zoY8GSeFvC0%2Bmi6htdBsLKScrPqt/KBut/KKykSPJDLMXZZlVfC/wDgrl%2Bzj4%2B8Y/FW28b6J8XPEetax4d%2BEHjDxl4J0nUbTThb%2BHrrS9Z8I3DCzNtaRXDl4fNX/SJZ2zt2lcsG/RivFPiPY2ep/t%2B/DXTdRtUnt7j4KePop4ZVysiNqvhAMpB6ggkYrmxmGjjMJUoS2kmvS60fydn8jkx%2BEhj8DVw0tpxa9LrR/J2fyPn74f8Axu0Wy/4KK/DL9qbU4Vg8IftH/BSy0jQdRST93a65DILsWcx/hZo38tMnLSZUDg4%2B7K/OH4B/s2Xvxu/Yu%2BLv/BON9Wez8a/Ab4lXT/DbVnm2z2WZXv8AR7sOeUEm%2BeMn%2BGNjjoMfXP7BX7UA/a1/Zr0b4lavZ/YfE1k8mkeN9IdNj6frNqRHcxMn8GWxIqnkJKuec14eR4qak6dTepea/wAStGrH1jOPMv7svI/QMTiXxj4eZbxDFfvsLCGDxUV9l0/aKhUt0U0qtGXRVaUdudI9looor6U%2BKCiiigAooooAKKKKACiiigAooooAKKKKACiiigAooooAKKKKACiiigAooooAKKKKACiiigAooooAKKKKACiiigArxnxx/wApC/hf/wBkZ8ef%2BnbwhXs1eM%2BOP%2BUhfwv/AOyM%2BPP/AE7eEKAPZqKKKACiiigAooooAK%2Bef2aPHtj8Kv2PfiF8T9T2/ZvDfxG%2BKeqXG44Gy38Xa9K2fwQ19DV%2Bfn7Tfj298Df8Ef8A4u22jtnUfEnxe8eeHtOhDYMz33j/AFa3dB/2yeU/hXJj8R9UwNWv/LGT%2BaTt%2BNjhzPFPBZbWxC3hCTXqk7fjY8o/4Jw/Di4%2BMfxn%2BB/gbWg94PBnh2/%2BMXxJv5ef7S8Sa1MRppm/6apa%2BROh4yoNfq1XxX/wRA%2BG9vH%2Bzprv7S88LC4%2BJniFjpPmriS30LTAdO062b/rmkEmPZxX2pXk8MYb2OUwqPepaXyslH/yVX9ZPufofGuGjkVfB8MU/hyuhTw0vOul7TFS828TVqpvr7JasKKKK%2BhPigooooAKKKKACiiigAooooAKKKKACiiigAooooAKKKKACiiigAooooAKKKKACiiigAooooAKKKKACiiigAooooAK8Z/Zf/5Lf%2B0d/wBlmsf/AFCvC9ezV4z%2By/8A8lv/AGjv%2ByzWP/qFeF6APZqKKKACiiigAooooAKKKKACiiigAooooAKKKKACiiigAooooAKKKKACio729s9Os5dQ1C7igt4ImknnmkCpGijLMzHgAAEknpXM%2BAfjp8Efit4Cn%2BKnwu%2BMfhXxJ4XtjMLnxJoHiG2vLCLyRmXdcQu0a7By2W%2BUdcUAdVXjPjj/AJSF/C//ALIz48/9O3hCu%2B%2BE/wAcPgt8etAm8V/Az4v%2BF/Gml290ba41Lwn4gttRt4pgqsYmkt3dVcKynaTnDA9xXA%2BOP%2BUhfwv/AOyM%2BPP/AE7eEKAPI/2svBXxo/Y%2B/aT1D/gox8B/Ccni3w5rOh2um/GfwNZxf6dLZ2uRFqtmc/vJYYztaM/wKezFo%2BNuPFniT4G%2BNdU/4KZfsLWcXxN%2BDfxPig1D4oeCNEUjULK4iUpJqtkhPMyjd9ot2AfcG3f34fvSvkP4h/sOfHn9nD4j61%2B0B/wTV8b6Vo767dfbfFfwe8SQ/wDEg1ufHzzWzqQbC4Yd1wjHbllUbT81mGXVqM/a0OZx5nO0bOUJvecE9JRl9um99XHXQ14dz7MOBsyr16GHWKwWJTjicNK/vRclJuDTUlLmipxcWp06iVSne9SnU%2BjPgR8e/hL%2B0t8M9P8Ai98FfGdrrmhakmYrm3bDROAN0UqH5opVzhkYAj05FdhX5baf4/8ABFr8cNR8V/Ajx5dfsnfH%2B9mWXxV8JviRHt8J%2BLp8n51kAELeYSQtxFtdiWKJljIfpn4Xf8FR/DHhrxPbfBn9vT4e3XwW8cSny7a51l/M8PazjH76z1EZi2HriRgFyF3s2a0wWf4epFRxLUXtzL4G%2B2tnTl/cqKLvonI%2B1jwvlvFWGnmPBVf65SWs6G2ModXGpRspVYx1XtaMZJpXnSpO59YUVFY31lqdlFqOm3kVxbzxrJBPBIHSRCMhlYcEEcgipa%2Bh3PhmnF2e4UUUUCCiiigAooooAKKKKACiiigAooooAKKKKACiiigAooooAKKKKACiiigAooooAKKKKACiiigAooooAK8Z8cf8pC/hf/2Rnx5/6dvCFezV4z44/wCUhfwv/wCyM%2BPP/Tt4QoA9mooooAKKK%2Bfv%2BClx0wfs12v/AAmnl/8ACFf8LC8L/wDCyPtH/Hv/AMI9/bNp9t%2B1Z4%2Bx%2BX/x87v3f2bz/M/d76APoGivgvwRafC/x9%2BwF8Wvhf8AD/4y%2BCvC3gSPx3qWreAm1bWo7XRD4Rh1iKR4nZG/c6HdTwahZiaMGEWsx8oNGEU%2BTfDqX4YXel6Zqv7TugfC3Sf2Ybz9obWJNF03S72O58AQWw8H2qWwjnuIILefTzq6auySvDHA9%2BytGu425IB%2Bptfkr/wUM%2BIMunfsk%2BDvhjZXfl3F1%2B0V8WvFZQNjzU0TxF4hufLP%2By0ksf4gV94/sQ3fxisv%2BCe3w8vLXQRqnidPBVsdH0/xnq1xYNPb4/0Nby4%2Bz3E8Un2byd7NDJJvzvXdur8of2ovEXjP4san4g8DazptjZa14el8Zaa9npmoveW1nr2ufFDUopoIpnhhaZDZxygSNFGzAZKL0HzfFtZ0sjqRW8rR/G7/AAiehkWWQz3izKMpn8OJxmFpyvtye3hUqX8vZ0Z38rn64/8ABO3wF/wrP9hT4S%2BD3h8uWHwFps91HjG2eeBZ5R/33I1ezVU0HRbDw3odl4d0uLZa2FpHbWyf3Y0UKo/ICrde7hqKw2GhSX2Ypfckv0NM8zKec53iswnvWq1Kj/7fqTn/AO3JfIKKKK3PLCiiigAooooAKKKKACiiigAooooAKKKKACiiigAooooAKKKKACiiigAooooAKKKKACiiigAooooAKKKKACiiigArxn9l/wD5Lf8AtHf9lmsf/UK8L17NXjP7L/8AyW/9o7/ss1j/AOoV4XoA9mooooAKKKKACiiigAooooAKKKKACiiigAooooAKKKKACiiigAooooA8i/b7%2BH3jT4rfsUfFP4cfDzRpdT1nWfA2o2tlpEDhX1MtA26zUsQoM67oRuIX95yQMmvOP2d/GulTfFL41/HGb4Q%2BO9N8GeL47CXR9G1T4Y6ta3eqvpmjxx31wbCW1WZGkRreziSVEe5NiVhWRVQn6kooA%2BY/%2BCeXiPUPjH4k%2BIf7UPjfwH4t8J%2BKfHEulx3PhDxL8P8AVtD/ALC0q0juE0%2B0aTULWBb%2B8xLcSXMsBkjjeZIVZo4opJdW/wBN%2BK9p/wAFNvBd5428aeHtQ0K4%2BD3jg%2BGtO0rwxPZ3dgg1bwl5i3NzJezJdk5TBSG3C7TkNuG36Hrxnxx/ykL%2BF/8A2Rnx5/6dvCFAHs1FFFAHI/GX4B/Bb9ofwo/gj43/AAw0XxRpbZ2W2r2KymFiMF4nI3RP/toVYdjXyf8AET/gkr468H%2BFLvwd%2ByV%2B0nPB4Sn5b4S/FrTE8SeG2HaOEzhprNR13pvkB5DCvt6ivPxeV4HHPmqw961uZaSt2utWvJ8y8jiq4DD1MVDFQvTrQs41KcpU6kWtnGpBxkrPbVryPyCm8Af8FMf%2BCfF1NqXwq%2BEvjXwnpUMrSzaV4Fuj4z8HXZJyxSwuG%2B3aZGTy0m%2BR8DgDFep/AX/g4o%2BHEt3H4S/au%2BFc2jX0c5t5vEHgxnurRpFHzu9lcCO8tlHIxtlPFfpVXB/F/wDZc/Zw%2BP8AA0Pxq%2BBnhXxOzJtW51jRIZp4xjHyTFfMQ47qwNeGsgzPAO%2BXYpxX8k480fwtb5Jeh9jPjPiHGw5M7hRzL/p5Xi6WK/8ACvCqE6j88RQrt9ZvVlT4D/tffsxftOael/8AAf44eHvEjNHvaxsr9VvIl9ZLaTbNH/wNBXo9fDnxO/4N9v2CfGN9/bfw4Txf4A1COTzbabwz4iaSOKTOQwW7WZgM84Rlx2Iqton7Bv8AwVc/Z3jjt/2bP%2BCldr4t02KQGPQfizoLzIIx0jNz/pMwGOP3fl8dMYrsp4/PMPpisLzf3qUk/wDyWfLL7mz53GY7L2%2Bajhq1PycqVZL0nB0Zv/t6ld/ifdlFfEF5%2B2X/AMFdvgdbzzfHX/gmtpPjm0hl2jV/hR4r%2B%2Bv95LN/tNw/4qn4Vl2X/BwV%2Byx4e1ceF/jv8EPip8P9WX/j4tdd8MxlY%2Bx4Eol4/wCuQrV8RZVTdq83Sf8AfjKH4uNvukcdPFe0i5KlVSW79jVaXq406iSXVtpLufedFfL3gn/gs7/wTR8dhE079qPTLGV8botc0u9sdh9C08Kp%2BIYj3r1zwf8Atf8A7J3xBCDwN%2B038P8AV2f7seneMLKV8%2BhVZSQfYjNd1HM8txH8KtCXpKP%2BZjQzfKsS7UsRCT8pxv8AdzJ/gei0VHaXlpqFut5YXUc8TjKSwuGVh7EcGpK7dz0NwooooAKKKKACiiigAooooAKKKKACiiigAooooAKKKKACiiigAooooAKKKKACvGfHH/KQv4X/APZGfHn/AKdvCFezV4z44/5SF/C//sjPjz/07eEKAPZqKKKACiiigAooooAK/E/4IeBZvHP7ZniG2uUaQeLP%2BCgWsxIj87rPw7qWq3lxGB/cLagjN6lR6V%2B2FfmP%2ByH4E0u8/wCClXhHw7p7%2BdJ4f8YfGvx5qA2Y2y3/AIz1PSFYjnolvGufavn%2BIcP9Yo0I/wDTyC%2B9pfkpH2fh7hb8WwzF7YKhjMR6Sjg61OD/APA8RH711sfpxRRRX0B8YFFFFABRRRQAUUUUAFFFFABRRRQAUUUUAFFFFABRRRQAUUUUAFFFFABRRRQAUUUUAFFFFABRRRQAUUUUAFFFFABRRRQAV4z%2By/8A8lv/AGjv%2ByzWP/qFeF69mrxn9l//AJLf%2B0d/2Wax/wDUK8L0AezUUUUAFFFFABRRRQAUUUUAFFFFABRRRQAUUUUAFFFFABRRRQAUUUUAFFFFABXjPjj/AJSF/C//ALIz48/9O3hCvZq8Z8cf8pC/hf8A9kZ8ef8Ap28IUAezUUUUAFFFFABRRRQAUUUUAFZfi7wR4L8f6Q/h/wAeeENL1uwk%2B/Zavp8dzC31SRSp/KtSilKMZKzV0aUqtWhUVSnJxktU02mn3TTTT800fMnxP/4I6/8ABOf4pSvfXn7N2m6FeNkpeeEbufSjET3WO2dYvwKEV8/%2BN/8Ag3H%2BBLC4l%2BDfx917RZJ2LbfFXhrTddRSewLRQuB/wMn3r9G6K8bE8OZFineph437pcr/APJbfkfTrjfiepHkxddYmP8ALiadHFKy6f7TRryt5Koj8mLz/ghX%2B038LZ2vfhpa/CvxGobMl1beIvEXh/UZfQoIbl7ZD9RgVGP2cP29PhL/AMhz4UftXaPBF0ufhp%2B0ZZa3bSD1FlJAJPoGfNfrXRXnf6oZbT/gTlD0aa/Hlf4mX9q8I4r/AH/hzAzfWVKFbCS9b4TE04X/AO4Vv7p%2BSg/aR%2BLHw7%2BXxh%2B3l%2B1T8L/L%2B/J8VPgFBqMcfuWQvvHvjkV13gj9tj4seIQn/CF/8F2PhJrG7Gz/AITn4TRaFn/e3%2BXtr9Pa5Lxt8AfgR8S94%2BI/wU8JeIPM/wBZ/bfhu1u93182Ns0f2Bj6X8PEX9XVj/6TVkv/ACUX1LwixXx5fjsM/wDpxmEqkV6RxNJv75nyX4N%2BK3/BUvxTsPwr/ax/ZC8dBseXi61DMn0%2BxyN%2BldZ/wm//AAWx0j/kI/A/9n7WMdf7J8S6pb7vp54OPxrrPGX/AASX/wCCcXjvf/bf7I/hWDf1/saKXTsfT7JJHj8K5P8A4cxfsl6H/wAkq8ZfFLwJj/V/8Ij8Sr6Hy/8Ad85paPqGd0/tSfpXf5VKL/MP9U/DDEfwM8zGh5VaNKql86VVN/KAD9oX/grzpf8Ax/8A/BPDwPqmOv8AZnxaggz9POQ0f8Ni/wDBT7T%2BNY/4JCzOo6y6f8ctHlz9F8vNL/w7R%2BNfhkf8Wx/4Kj/Hiz2/6seKNZt9aA%2BoliTIo/4ZW/4Kp%2BF%2BfC3/AAVE0vXI1/1dr4n%2BDunpj2MsEm9vrijlziHxe3%2BUsPP84xYf8Q8yKt/unF0PSrQr03%2BOFrJfOQn/AA3r%2B3DZ/wDIZ/4JK%2BO0x1%2Bw%2BN9Nufy2gZo/4eOftI2v/IV/4JV/GZMdfsn2Of8Ak4pf7A/4Lc%2BGf%2BQb4/8A2cvE8a9f7Y0rWbKVx7eQSoP14oPxh/4LIeHP%2BQz%2Bx18JvEm3r/wj3xBls930%2B1KcfjR9Yx0fiqV160YS/wDSbh/xCzOqn%2B68R4Op/wBzGHi/uq0KNvmxP%2BHnnxOtv%2BQl/wAEvv2ik9fsvhGGb%2BUwo/4esavB/wAf/wDwTN/aoX1%2Bz/CpZf5XIpf%2BG0f%2BCkGh8eMf%2BCSOqlV6zaD8XdJvd3uECBh9DR/w8t%2BNOjf8jp/wS4%2BPUGPv/wBh6Jb6l%2BXlyrmj69UW%2BLnH/Fh2v/bQ/wCIReI0v4GMo1f8FbLp/li4Cf8AD2rR4%2Bb3/gnp%2B1Rbevn/AAfYY/K5NL/w928AR/8AH1%2BxV%2B0lB6%2Bb8JJRj8pjR/w93%2BHdh/yOH7Gf7R3h7H3v7Z%2BE0qbfrslaj/h9V%2Bw7Y/8AI2X/AI50HH3v7Y%2BHepJt%2BuyFqP7Sgt8xivWlFfnyh/xBzxjf8OhVn/goUKn/AKaxNT8BP%2BHwXwgT/j5/ZX/aBh/66/Ci4H8pDS/8PivgKv8Ar/2fPjlF/wBdPhZdD%2BTVc0v/AILX/wDBMTVm2Q/tR2sLZwVvPDOqwEH0PmWoFdJpf/BV3/gnPq%2BPsn7XfhBM9PtV28H/AKMRa0jj1P4cypP/ALdp/wDyxHJX8KfGLC/xcFiY%2BuBqfomcf/w%2BR/ZtT/X/AAe%2BMsX/AF0%2BF94KT/h83%2Bygn/Hz4G%2BK0PqZfhnfD%2BS16lpv/BQ79gzVgPsn7ZfwwBPQT%2BOLGI/k8orf079r39k3WMf2T%2B1D8O7rPT7N42sHz/3zKa6I1cVP4cdTf/bsP0qnkVuCvEfDfxaVWP8AiwVVf%2B2r8zw//h9P%2BxVHzeR/EG39fP8AhxqQx%2BURpP8Ah9x/wT3i/wCQh8QvEtp6/afAGrDH5W5r6N0/43/BfVsf2V8XvC9znp9n1%2B2fP5PW1YeJvDeqY/szxBY3OenkXaPn8jW8YZrL4cTTf/cP/KoeXVyji3D/AMWqo/4sPNfnNHyyv/Bcn/gmArBLz9pCa2Y/w3HgjWgf0szVyD/gtl/wS/uRmP8Aapsx/wBdPDOqp/6FaCvqdlR12uoIPYiqk/hzw9dHN1oVlIf%2Bmlqh/mKv2Odr/l9T/wDBcv8A5YcvsOI1/wAxFJ/9wp//AC0%2BbE/4LO/8EyXXcv7Vulfjouoj%2BdtTJf8AgtJ/wTGiXc/7VmmnH93QtSb%2BVtX0a3gTwQ7bn8G6UT6nTov/AImnReC/B0LbofCemIfVbCMf0o9lnn/P2n/4BP8A%2BWB7HiP/AJ/Uv/Bc/wD5afMVz/wXC/4Jc2x2t%2B1Ejt2WHwfrL5/KzNZ/wT/bi/Zq/bN/4KF%2BDG/Z28cXWtp4c%2BDPjL%2B1pLjQryyEf2jVvCvlbftMUe/PkSZ25xgZxkZ%2Bu7axsbMYtLOKIf8ATOML/KvHvHH/ACkL%2BF//AGRnx5/6dvCFa0KeaRqp1qsHHqlBp/e5v8jfDUc6jWTxFanKHVRpyi/vdSVtfI9mooor0D1Aoor5%2B/4KXHTB%2BzXa/wDCaeX/AMIV/wALC8L/APCyPtH/AB7/APCPf2zafbftWePsfl/8fO7939m8/wAz93voA%2BgaK/O/UfFHw5f/AIJmfGjwR8MfE%2Bnw%2BCpvHF%2B/w7t9HuI2s7HwpPrcFub/AMhMl9Ajuft7uIwIXsIpUiYRlCPGJNJ%2BFdx8PbLwTqXxL%2BCVl4Ai/aG12aw8d654Nim%2BD16v/CJWjJHa6O18kMQ8%2BaWONBfsgv7TUJhI8j/ZgAfrvX5zf8EloZfHX/BQ39pbxnPGSvgbxN4g8MW8jDjF54y13UXVT9QCfcivqP8AYk1D4hW//BOj4V3fhLwhNdeIoPhho8dlpXjrxDPbvcSpaRIDdXgtJJV3gb95tt3zDManIHhn/BD3wj4kgsv2lPih440Sy0/W/EH7UnjO21C006%2Be6t4ja6pOGSKd4ommjWWaZVdooywXJRCdo83HU3VxOGXRTcn/ANuwlb8Wj7XhXGU8BkudVH8U8NGlH/uLiaCl98KbTPumiiivSPigooooAKKKKACiiigAooooAKKKKACiiigAooooAKKKKACiiigAooooAKKKKACiiigAooooAKKKKACiiigAooooAKKKKACvGf2X/wDkt/7R3/ZZrH/1CvC9ezV4z%2By//wAlv/aO/wCyzWP/AKhXhegD2aiiigAooooAKKKKACiiigAooooAKKKKACiiigAooooAKKKKACiiigDx7/goOfHI/Yc%2BLB%2BG/wDaf9sf8IFqf2f%2BxN/27Z9nfzfs3l/P5/leZ5ez59%2B3b82K%2BbPhF4l%2BHmnfDH9p7w1/wTk1/wANQeHdS8LTP8FbDwLdW62F14li8O5vDpKQny3CSvpplMAKrctLvxKZa%2B9KKAPjf/gmWf2fD8Y/Hv8AwxadI/4VP/wrfwV5n/CObfsP/CVb9Z/tLzNnH9o/Y/7I%2B17v3u7yfM/eb69Bv9S%2BK93/AMFNvBdn428F%2BHtP0K3%2BD3jgeGtR0rxPPeXd%2Bh1bwl5jXNtJZQpaEYTASa4DbjkrtG76Hr5w/aP1f416P%2B3h8J5/gd8P/C3iLUm%2BEfjtbu08V%2BMLnRYI4P7U8JEuktvp96zvu2jYY1GCTvyApAPo%2BivGf%2BE4/wCChf8A0a/8Gf8Aw/Grf/MvR/wnH/BQv/o1/wCDP/h%2BNW/%2BZegD2aivGf8AhOP%2BChf/AEa/8Gf/AA/Grf8AzL0f8Jx/wUL/AOjX/gz/AOH41b/5l6APZqK%2BcdJ/aO/bt1j4z6/8Drf9lD4SLqnh3wvpGu3ly/x11TyJINRudSt4UQjwxuLq2lzlgVAAePBYlgvUf8Jx/wAFC/8Ao1/4M/8Ah%2BNW/wDmXoA9morxn/hOP%2BChf/Rr/wAGf/D8at/8y9H/AAnH/BQv/o1/4M/%2BH41b/wCZegD2aivGf%2BE4/wCChf8A0a/8Gf8Aw/Grf/MvXL%2BAf2jv27fiJ4r8b%2BENH/ZQ%2BEkNx4D8URaFqslz8ddUCTzyaVp%2Bph4tvhgkp5OowqSwU70cYwAzAH0dRXjP/Ccf8FC/%2BjX/AIM/%2BH41b/5l6P8AhOP%2BChf/AEa/8Gf/AA/Grf8AzL0AezUV4z/wnH/BQv8A6Nf%2BDP8A4fjVv/mXo/4Tj/goX/0a/wDBn/w/Grf/ADL0AezUV84/CL9o79u34y%2BFLvxf4c/ZQ%2BEltb2fijW9CkjvfjrqiuZ9L1W60ydxt8MMNjTWkjIc5KMpIU5UdR/wnH/BQv8A6Nf%2BDP8A4fjVv/mXoA9morxn/hOP%2BChf/Rr/AMGf/D8at/8AMvR/wnH/AAUL/wCjX/gz/wCH41b/AOZegD2aivGf%2BE4/4KF/9Gv/AAZ/8Pxq3/zL1y/wR/aO/bt%2BPHwY8IfHHwr%2Byh8JLXS/GfhfT9d0221D466os8MF3bR3EaSBPDDKHCyAMFZhkHBI5oA%2BjqK8Z/4Tj/goX/0a/wDBn/w/Grf/ADL0f8Jx/wAFC/8Ao1/4M/8Ah%2BNW/wDmXoA9morxn/hOP%2BChf/Rr/wAGf/D8at/8y9cv8bv2jv27fgP8GPF/xx8VfsofCS60vwZ4X1DXdSttP%2BOuqNPNBaW0lxIkYfwwqlysZChmUZIyQOaAPo6ivGf%2BE4/4KF/9Gv8AwZ/8Pxq3/wAy9H/Ccf8ABQv/AKNf%2BDP/AIfjVv8A5l6APWtT8PaBra7NZ0OzuwRgi6tkk/8AQga5vVP2e/gFrmf7a%2BB/g%2B8z1%2B1eGrWTP/fUZrif%2BE4/4KF/9Gv/AAZ/8Pxq3/zL0f8ACcf8FC/%2BjX/gz/4fjVv/AJl6zlSpT%2BKKfqk/zTOuhj8fhf4FacP8M5R/9JlE1dS/Yf8A2LdZydW/ZD%2BGFyT1afwDpzH8zDWDqP8AwTT/AOCfuqZ%2B0/scfDtc/wDPv4Xt4f8A0WorA%2BLv7R37dvwa8KWni/xH%2Byh8JLm3vPFGiaFHHZfHXVGcT6pqtrpkDnd4YUbFmu42c5yEViAxwp6j/hOP%2BChf/Rr/AMGf/D8at/8AMvXPLL8vn8VGD/7cj/8AInr0eMOLsP8AwsyxEfTEV1/7mOZ1D/gkh/wTf1PP2n9kjwwuf%2BfcTw/%2BgSCsW/8A%2BCKX/BMLUc/aP2V7Jc/88PEmqxf%2BgXQr0D/hOP8AgoX/ANGv/Bn/AMPxq3/zL0f8Jx/wUL/6Nf8Agz/4fjVv/mXrGWS5PPfDU/8AwCP%2BR6lLxL8R6H8POcWvTE1v/ljPMv8AhyB/wTct/wDkD/BXVtOx0%2BxeO9YXH/fV0aP%2BHLX7FkHGky/EGwx0%2Bx/EbURj/vqU16b/AMJx/wAFC/8Ao1/4M/8Ah%2BNW/wDmXrl/H37R37dvw78V%2BCPCGsfsofCSa48eeKJdC0qS2%2BOuqFIJ49K1DUy8u7wwCE8nTplBUMd7oMYJZc/7CyXph4L0il%2BVjq/4iv4mv4s5xMv8VWUv/SlI5r/hzj%2BzpB/yC/jT8aLH0%2ByfFC7GPzzR/wAOh/hrD/yDv2w/2i7P0%2BzfFmYY/OI16b/wnH/BQv8A6Nf%2BDP8A4fjVv/mXo/4Tj/goX/0a/wDBn/w/Grf/ADL0f2FlHSiv/Jl%2BU0H/ABFTxFe%2BZVH6qlL/ANKw8jzH/h0zp0X/ACD/APgol%2B1Ta%2Bgg%2BMBA/W2NU/gr%2Byrefsyf8FC/Ba3P7THxT%2BIq618GfGWwfEzxUNTOn%2BTq3hXP2ciNPL8zzRv67vKj6befWv8AhOP%2BChf/AEa/8Gf/AA/Grf8AzL1Q8D%2BB/wBqzxj%2B1Z4c%2BN3xu%2BHHw98M6N4Z%2BHviHQ4YfCvxDvtauru61K%2B0S4RmS40ixSKNE0uUFg7sWlQBcZI2oZVl%2BGqqpShaS85/k5tfgefmnH3F%2Bd4GeDx2K9pTna6dPDq9mmvehhqc1qltNdndXT91ooor0D48KKKKACiiigArwb/gnZ4U0vwv8FvF0%2Bmq2/Vfjz8Sr67ZsfNK3jPWE7dgqKPwr3mvkr9krxZ%2B2dp/w98UWfwx%2BAfww1fQk%2BNPxF/s/Ude%2BLuo6bdzL/wmesljJbRaBcpEQ24ACZ8gA5BO0JxTab6FxqVIQlBPSVrrvZ3X3PU%2BtaK8Z/4Tj/goX/0a/wDBn/w/Grf/ADL0f8Jx/wAFC/8Ao1/4M/8Ah%2BNW/wDmXpkHs1FeM/8ACcf8FC/%2BjX/gz/4fjVv/AJl6P%2BE4/wCChf8A0a/8Gf8Aw/Grf/MvQB7NRXzj8Ef2jv27fjx8GPCHxx8K/sofCS10vxn4X0/XdNttQ%2BOuqLPDBd20dxGkgTwwyhwsgDBWYZBwSOa6j/hOP%2BChf/Rr/wAGf/D8at/8y9AHs1FeM/8ACcf8FC/%2BjX/gz/4fjVv/AJl6P%2BE4/wCChf8A0a/8Gf8Aw/Grf/MvQB7NRXzj8bv2jv27fgP8GPF/xx8VfsofCS60vwZ4X1DXdSttP%2BOuqNPNBaW0lxIkYfwwqlysZChmUZIyQOa6j/hOP%2BChf/Rr/wAGf/D8at/8y9AHs1FeM/8ACcf8FC/%2BjX/gz/4fjVv/AJl6P%2BE4/wCChf8A0a/8Gf8Aw/Grf/MvQB7NRXjP/Ccf8FC/%2BjX/AIM/%2BH41b/5l65f4u/tHft2/BrwpaeL/ABH%2Byh8JLm3vPFGiaFHHZfHXVGcT6pqtrpkDnd4YUbFmu42c5yEViAxwpAPo6ivGf%2BE4/wCChf8A0a/8Gf8Aw/Grf/MvR/wnH/BQv/o1/wCDP/h%2BNW/%2BZegD2aivGf8AhOP%2BChf/AEa/8Gf/AA/Grf8AzL0f8Jx/wUL/AOjX/gz/AOH41b/5l6APZqK%2BcfH37R37dvw78V%2BCPCGsfsofCSa48eeKJdC0qS2%2BOuqFIJ49K1DUy8u7wwCE8nTplBUMd7oMYJZeo/4Tj/goX/0a/wDBn/w/Grf/ADL0AezUV4z/AMJx/wAFC/8Ao1/4M/8Ah%2BNW/wDmXo/4Tj/goX/0a/8ABn/w/Grf/MvQB7NRXjP/AAnH/BQv/o1/4M/%2BH41b/wCZeuX1b9o79u3R/jPoHwOuP2UPhI2qeIvC%2Br67Z3KfHXVPIjg065023mRyfDG4OzapAVAUghJMlSFDAH0dRXjP/Ccf8FC/%2BjX/AIM/%2BH41b/5l6P8AhOP%2BChf/AEa/8Gf/AA/Grf8AzL0AezUV4z/wnH/BQv8A6Nf%2BDP8A4fjVv/mXo/4Tj/goX/0a/wDBn/w/Grf/ADL0AezUV846T%2B0d%2B3brHxn1/wCB1v8AsofCRdU8O%2BF9I128uX%2BOuqeRJBqNzqVvCiEeGNxdW0ucsCoADx4LEsF6j/hOP%2BChf/Rr/wAGf/D8at/8y9AHs1FeM/8ACcf8FC/%2BjX/gz/4fjVv/AJl6P%2BE4/wCChf8A0a/8Gf8Aw/Grf/MvQB7NRXjP/Ccf8FC/%2BjX/AIM/%2BH41b/5l65fwD%2B0d%2B3b8RPFfjfwho/7KHwkhuPAfiiLQtVkufjrqgSeeTStP1MPFt8MElPJ1GFSWCnejjGAGYA%2BjqK8Z/wCE4/4KF/8ARr/wZ/8AD8at/wDMvR/wnH/BQv8A6Nf%2BDP8A4fjVv/mXoA9mrxn9l/8A5Lf%2B0d/2Wax/9QrwvR/wnH/BQv8A6Nf%2BDP8A4fjVv/mXq3%2Byt8OfjT4P1j4oeO/jpoHhfSdU8ffEKLXLPSvCfiW51a3tbWLQdH0xVe4uLKzZpGk06Vyoi2hZEG5jnAB63RRRQAUUUUAFFFFABRRRQAUUUUAFFFFABRRRQAUUUUAFFFFABRRRQAUUUUAFfK/7T37Wnxc%2BGHxj8Wa14B8O%2BD5PDHwf8P8Ah%2B98anWtIuJtV1S31e/lS5gsLiO4jSy8i2s47jMkU4uZCkZEPl%2BafqivGfjP%2BxD8OPjd8Uj8TNc8c%2BKtLi1G10i18X%2BGtGurVNO8UwaXeyXtjFfLLbyTBY5ppc/Z5YDLHIYpjLGFQAHs1FFFABRRRQB8x%2BHP2lfiZD%2B3/wCKPg/8RtY8PeE/Da%2BILTRPBkWo/CLWUuvGMA0CDUcQeI2u105pY7u51AC0ELyeXaTAKCzSL9OV5X4s/Zag8f8Axk0j4p%2BPfjf411fSvD2ux61oHgC4OmRaNY6hHbvBHOGhskvZdnmSSKk11JGJH3bPkQL6pQAUUUUAeL/8FBfi78cP2fv2R/Gnx6%2BAV74Uj1jwToV3rl1B4w0W5vra7tLW2lme3RLa6tmSV2RFEhcqgLEo/Arz/wAeftafFzwX8ePFup%2BFPDvhCL4eeEPjH4R%2BH3jKzm0i4Ot6rquuwaKkeoQ3aXCwxxwf25pMZikt5XkSGfEse1BXsP7WP7ONl%2B1p8CNe/Z91r4q%2BKfCOk%2BJ7KWx1y/8ACC6d9rubKWJ4prbdf2l1GiOr8siLICo2uvOeLg/YB8HT/EWz%2BIvir44%2BPtdY6zpOueJtG1CXSorHxPrmmJGljq17HbWETLcRCC0wts0EDGxti8TGPJAPe6KKKACvF/2yfi78cPgla%2BAfGPwsvfCn9jah8TPDnh7xfY%2BINFubm6ubXVdZsdNBs5YbqFLaSNbmWTfIk6koi7OSa9oryr9q79lt/wBqrw3oXhef4%2B%2BN/A1voXiSw11G8Fw6Oz3d7Y3kF5ZtKdS0%2B8G2K4t43CxhA3Kyb1O0AHnH7PP7SvxM1v8Aaq8W/BH4oav4e8J6dD4p1u38E%2BEpPhFrOmXOvW0LpKb%2B31q4u/sGoOxkmllitoC/JdiuGJ%2BnK8l0n9lEP8ZNF%2BMvxH/aA8d%2BNZvC93eXfhPQvEI0mGw0e6ubeS1kuIlsNPtpZX%2BzzTwr58kqos77QCQR61QAUUUUAeH/ALd3xc%2BPH7P3wa1f46/Cjxj4FsdP8LaLc3l7ovizwze39z4hvcotnplnJbXsH2ea4lIt0byrpmlniCwsflbz/wCCP7X3xn1z4l%2BCv7W8GeEtI%2BGnjf4n%2BKPht4V8Nadpc0er6Jf6BDq2%2Bee5Fw1vNBI3h/U0WGO3iMatbHzJMsB6f%2B0r%2ByDB%2B0l488EfECb9oHx34QufAN3c3ui2PhiLRp7OS9lQRreTQanp14jzwx%2BYsMgCmMTykfM2RV8B/sNfD3wH8Zbf4uw/EXxdqUGna7qevaJ4Q1K5sv7J0rW9RjePUNUgSK1Sfz5xPdlleZ4Ua%2BuTHFH5nAB7XRRRQAV8v/tc/Hj9pf4LfETT/CmlQ%2BAPGuj%2BOYdattF%2BHMXg%2B%2Bk1hLW00O6u5L%2B4nF68V1bC6it7aSEWsQP2%2BFBMZGRJPqCvDpv2JriP9o/xX%2B01on7VfxL07V/Fumw6dc6XDB4fntNPs4YGjhtrNrnSZbm3iWV3utizbXncu4cHbQAz9hD9oPxv8e/h7eXXxX8faNfeLtOFm2v%2BG7L4Xav4RvNAee2WUQXNlq91PcOC2/y7gBI5FQ7Q20mvdK83%2BB37N2nfBnxP4k%2BIesfFLxT448VeK4rG31jxP4uawW5e0sxN9ltUi0%2B1tbaOKNrm5cbYQzNcSFmbIx6RQAUUUUAfHP8AwUE/bj%2BKn7GHjn%2B09c0XQPGPhF9G1HW7fwrL8OdTspbdNN0a%2B1JJP%2BEimun0ye7%2B16aNlisCXQjmWUDbC0jevfs0fF3456t8VPG/7PX7R1z4U1DxP4R0nQ9aj1rwVpFzYWNzY6oLyNIjBc3Ny6yxXGnXal/NxIhibZGSVFb46/sJeCP2nNaurX4//Fvxr4o8F3MlxIvwyvJNNh0WKSaxmsmbfb2Ud9IBHcTMElunQO%2B7b8iBen/Z8/Zm0j4B3mveIrv4oeLPHHiPxIbOPVvFXjW4s3vpba0iMVraj7HbW8KxRB5WGI97PPK7s7OTQB6VRRRQAV8R/tT/ALZX7Wfwb%2BNXiD4UeDvDfhzxrqdhotxrvhgJ8D/EEcmigajplqhhb7c48TSCx1S487%2By/KeFoSsojEwjr7crw/Xv2LdT8S%2BPT8Tta/a5%2BKM2t6fBeReDbwpoAHhVbqaGSf7JGNJ2Ts0cC2%2B69W6ZYmcKVd2cgHVfssfFh/jJ8I4PFl78TNG8VX8Oo3Vlql9o3gy%2B8Oi2uIpWVrWbTdQuJ7qznjGFeOZw%2Bfm2qGAr0auG%2BAfwF8PfADwzqejaV4p1vxBqOv69ca34k8SeI5oGvdVv5giNPKLeKGBMRxQxKkMUcapEgCjBJ7mgAooooAKKKKACiiigAooooAo%2BKPENh4S8Naj4r1UObXTLGa7uREuW8uNC7YHc4U185/sTftJ/Gvx/4p0fwZ8bPD3gyzHjr4W2XxG8Mw%2BDNKuLQaZHeXBN3p92ZriUXc0b3Ns/2xBAJ2lmJgj2gv8AS13aWt/ay2N7bpNDNG0c0UqhldSMFSDwQRxivIf2Zv2K/AX7MGqvq%2BgfEHxb4lltvDFj4Z8OjxZe2sw0DQrN5Ht9NtTb28JaNTJ80s5muJBHF5kz%2BWuAD2KiiigArhf2oPHnxF%2BFn7NHxE%2BJ3wf8KLr3i3w54F1fVPC2htYzXQ1HUbezlltrYwwMsswklRE8uNg7bsKQSDXdVneLdEv/ABL4Y1Dw/pfivUdCub20kht9a0hYGurF2UgTRC4iliLqeQJI3TI%2BZWGQQDy79in4tT/FD4Z31lq3xC8P6zqfh3VV0680zRPhhqfg59DQW0EkVncaVqlzPcwuEcSK7eWjxSxbEwN7%2BxV558B/2dtJ%2BB154l8R3PxE8SeMfEni/UYbzxF4p8VvZi7ujDbpbwRCOxtra2iijjQBVjhTJZ2YszMx9DoAKKKKAPlz9qj9rH4ofs4fF7xxZfErRvCXiL4X2H7O/i/x7baFb6JcJqrtog0tZ7a4uZLl7eaKdb6cBBbIVCJl3ywrt/2Z/i/8fNU%2BLnjL9nX9pZ/CV54o8MeGPD3iWPVfBWk3NjZSWWrPqVutsYbm5uXMsNxpF2DKJAsiPE3lxnctQfGP9hXw78dPjq3xl8efHbxzLps3grU/CN98PYYNF/sS70bUltvt9pIX01r0idrSB2cXQdShCMiMyHpP2d/2XdD/AGfb7WvEc/xQ8W%2BN/EOv2thZX/ifxtc2kl6bCxSRbOzH2S2t4/KiM9w4JQyO9zK7u7NmgD0%2BiiigAr5E%2BNf7S/7W3gzXf2gPAlv4V8GeLL3wF4f8KeJPhtY6T8P9Tv51j1HVdShCXlrFePLqM8C6bHOpthbkuSFX5VavruvC5f2KPEMXx08bfH/Qv20PitpWreN9IsdMubGys/DDWmm21lcXM9mlsJdFeT90by6UGZ5S6zkSeYVQqAdX%2Byp8W5vjL8KR4m1H4naN4p1G11W5sdWutH8EX/hs2dxE3zWs%2BmajcT3VpOildyTMGIZW2qrCvSa4T4B/APQPgDoWs2On%2BLdc8R6r4m8QS654n8TeJJbdr3Vb%2BSGGDzZBbQwwRhYLe3hVIoo0VIUAXOSe7oAKKKKAPjb9pb9rv9pb9nj4zQfDbWU%2BGfjW%2B1uCCbwjDp3ha9tJfBd5qXiHTPD2kTanK99MLqKdtXnBaJbORxY3Sxhl8wxe4/sq/F/4kfEYeP8A4ffGI6JP4q%2BGnjxvDWs6r4a06azsNT8zS9O1a3uIbeaeeS3za6pbo8bTS4kjkwxBGOFtv%2BCavhJrr4hv4h/aX%2BJ2s2/xJ1465rFvqR0LzLPUoriGfT7m2uotLS6U2D29uLSN5pIolhQMj859Y%2BAfwF0P4B%2BHtW02y8X654k1bxFr02teJ/FHiV7Y3%2Br30kcUPnTC1gggXZBBbwIkUUaLHBGoXgkgHdUUUUAMuftP2aT7Hs87YfK83O3djjOOcZr4g%2BK37XP7afw0%2BImufDa3tvAfjPXvDF74at9W8deCPgrr%2BrR%2BHLfVmvHvbCXSrPUp7u5mjhsrG6JinT93dQtLAgMTSfb13DJcWstvDdSQPJGyrPEFLxkjAZdwK5HUZBHqDXz38GP2AvEHwE%2BG1x8NPh3%2B3V8Yoo7rVn1ObWbyy8Jz6hLdyvLJczzTPoR%2B0yTvLukknEj5jTYUAwQD1n4CfEOy%2BK3wd8P/ABCsPiBo3ipNT08SPr/h/SZrC0u5ASshS1nmmltirqyNDJI7xsrKx3KQOvrkvgX8F/CX7Pvwv074U%2BCrm/uLKwluria%2B1W5E11fXd1cy3V1dTOFUNLNcTzSvtVV3SHaqrhR1tABVHxPD4kufDeoW/g3U7Gy1eSylXS7zU7B7q2guChEcksMcsTTRq2CyLJGWAIDqTuF6s3xjoN/4o8LX/h3S/FupaDc3lq8UGtaOIDdWLkcTRC4iliLqeQJI3Q4%2BZWGRQB8PfDf9uz9rX4wfFPW/gl8LNN%2BHyeM9NtddvpPGfiv4Xa1oa6ppmkWuiypYy6JeXyahp8r3fiHYk08zx%2BVDJcJC6zoD9jfAL4tab8fPgT4K%2BOujabLZ2fjXwlpuvWlnM%2B54Iry1juFjYgDJUSAE%2BorxbV/%2BCZHgfWtcvviLd/tKfFNPiBqyXlrrXxJtr3SIdWv9Mura1tptMKJpos4bYpZWjDyLaKVZIFlWUOWY/Qfgvwf4a%2BHng7SfAHgzSYtP0fQ9Mg0/SbCHOy2toY1jijXPOFRVUfSgDTooooA5f406j440b4W61rfw58Q2Ol6tYWZuob7UPB974gRI4yHlA06xngubyRoldUihkDl2XCufkb4t%2BEv/AAUR%2BP3iTxpoep%2BN7jwj4E8GalPOviDxxefAzxFNbaxfw6/daQiXMq30aeGZ5LW0tf3GqNJLA8qxvnYEr7b%2BJngzXfHvhKbw54b%2BKWv%2BDbySWN4tf8MxWL3cG1gSqrf21zAwYAqQ8TcE4wcEeK3X/BObwpqHg%2B4%2BG2rftIfE278Ma5qE1/480Ca40cReMLue8a6uJr6VdNFxF5pZYWjs5bWIQxJGqKN24A%2BiaKKKACiiigAooooAKKKKACiiigAooooAKKKKACiiigAooooAKKKKACiiigAooooAKKKKACiiigAooooAKKKKACiiigAooooAKKKKACiiigAooooAKKKKACiiigAooooAKKKKACiiigAooooAKKKKACiiigAooooAKKKKACiiigAooooAKKKKACiiigAooooAKKKKACiiigAooooAKKKKACiiigAooooAKKKKACiiigAooooAKKKKACiiigAooooAKKKKACiiigAooooAKKKKACiiigAooooAKKKKACiiigAooooAKKKKACiiigAooooAKKKKAP/Z\">"
            ]
          },
          "metadata": {
            "tags": []
          }
        }
      ]
    },
    {
      "cell_type": "markdown",
      "metadata": {
        "id": "wI5OW9kWPzH-",
        "colab_type": "text"
      },
      "source": [
        "# Submit the MLP with 2 hidden layers\n",
        "Run these cells after training the MLP with 2 hidden layers"
      ]
    },
    {
      "cell_type": "code",
      "metadata": {
        "id": "y8Eah_S-PzH_",
        "colab_type": "code",
        "colab": {}
      },
      "source": [
        "## GRADED PART, DO NOT CHANGE!\n",
        "# Validation loss for MLP\n",
        "grader.set_answer(\"i8bgs\", s.run(loss, {input_X: X_val_flat, input_y: y_val_oh}))\n",
        "# Validation accuracy for MLP\n",
        "grader.set_answer(\"rE763\", accuracy_score(y_val, s.run(classes, {input_X: X_val_flat})))"
      ],
      "execution_count": 0,
      "outputs": []
    },
    {
      "cell_type": "code",
      "metadata": {
        "id": "8-aquHJuPzIC",
        "colab_type": "code",
        "colab": {
          "base_uri": "https://localhost:8080/",
          "height": 34
        },
        "outputId": "c4c0f6ab-9074-47b2-9635-ff1f833e48e3"
      },
      "source": [
        "# you can make submission with answers so far to check yourself at this stage\n",
        "grader.submit(COURSERA_EMAIL, COURSERA_TOKEN)"
      ],
      "execution_count": 34,
      "outputs": [
        {
          "output_type": "stream",
          "text": [
            "Submitted to Coursera platform. See results on assignment page!\n"
          ],
          "name": "stdout"
        }
      ]
    },
    {
      "cell_type": "code",
      "metadata": {
        "id": "agYUuAGTPzIE",
        "colab_type": "code",
        "colab": {}
      },
      "source": [
        ""
      ],
      "execution_count": 0,
      "outputs": []
    }
  ]
}
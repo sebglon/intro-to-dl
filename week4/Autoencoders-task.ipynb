{
  "nbformat": 4,
  "nbformat_minor": 0,
  "metadata": {
    "kernelspec": {
      "name": "python3",
      "display_name": "Python 3"
    },
    "language_info": {
      "codemirror_mode": {
        "name": "ipython",
        "version": 3
      },
      "file_extension": ".py",
      "mimetype": "text/x-python",
      "name": "python",
      "nbconvert_exporter": "python",
      "pygments_lexer": "ipython3",
      "version": "3.6.5"
    },
    "toc": {
      "colors": {
        "hover_highlight": "#DAA520",
        "navigate_num": "#000000",
        "navigate_text": "#333333",
        "running_highlight": "#FF0000",
        "selected_highlight": "#FFD700",
        "sidebar_border": "#EEEEEE",
        "wrapper_background": "#FFFFFF"
      },
      "moveMenuLeft": true,
      "nav_menu": {
        "height": "192px",
        "width": "252px"
      },
      "navigate_menu": true,
      "number_sections": true,
      "sideBar": true,
      "threshold": 4,
      "toc_cell": false,
      "toc_section_display": "block",
      "toc_window_display": false,
      "widenNotebook": false
    },
    "colab": {
      "name": "Autoencoders-task.ipynb",
      "provenance": [],
      "include_colab_link": true
    },
    "accelerator": "GPU"
  },
  "cells": [
    {
      "cell_type": "markdown",
      "metadata": {
        "id": "view-in-github",
        "colab_type": "text"
      },
      "source": [
        "<a href=\"https://colab.research.google.com/github/sebglon/intro-to-dl/blob/master/week4/Autoencoders-task.ipynb\" target=\"_parent\"><img src=\"https://colab.research.google.com/assets/colab-badge.svg\" alt=\"Open In Colab\"/></a>"
      ]
    },
    {
      "cell_type": "markdown",
      "metadata": {
        "id": "RvXJVLv9xVsi",
        "colab_type": "text"
      },
      "source": [
        "# Denoising Autoencoders And Where To Find Them\n",
        "\n",
        "Today we're going to train deep autoencoders and apply them to faces and similar images search.\n",
        "\n",
        "Our new test subjects are human faces from the [lfw dataset](http://vis-www.cs.umass.edu/lfw/)."
      ]
    },
    {
      "cell_type": "code",
      "metadata": {
        "id": "5px_NsCZElZ3",
        "colab_type": "code",
        "colab": {
          "base_uri": "https://localhost:8080/",
          "height": 221
        },
        "outputId": "7e3c0d9e-7bdc-4038-cb07-128d0e3c0026"
      },
      "source": [
        "! shred -u setup_google_colab.py\n",
        "! wget https://raw.githubusercontent.com/hse-aml/intro-to-dl/master/setup_google_colab.py -O setup_google_colab.py\n",
        "import setup_google_colab\n",
        "# please, uncomment the week you're working on\n",
        "# setup_google_colab.setup_week1()\n",
        "# setup_google_colab.setup_week2()\n",
        "# setup_google_colab.setup_week3()\n",
        "setup_google_colab.setup_week4()\n",
        "# setup_google_colab.setup_week5()\n",
        "# setup_google_colab.setup_week6()\n",
        "\n",
        "# If you're using the old version of the course (check a path of notebook on Coursera, you'll see v1 or v2),\n",
        "# use setup_week2_old()."
      ],
      "execution_count": 0,
      "outputs": [
        {
          "output_type": "stream",
          "text": [
            "shred: setup_google_colab.py: failed to open for writing: No such file or directory\n",
            "--2019-11-05 23:15:30--  https://raw.githubusercontent.com/hse-aml/intro-to-dl/master/setup_google_colab.py\n",
            "Resolving raw.githubusercontent.com (raw.githubusercontent.com)... 151.101.0.133, 151.101.64.133, 151.101.128.133, ...\n",
            "Connecting to raw.githubusercontent.com (raw.githubusercontent.com)|151.101.0.133|:443... connected.\n",
            "HTTP request sent, awaiting response... 200 OK\n",
            "Length: 3792 (3.7K) [text/plain]\n",
            "Saving to: ‘setup_google_colab.py’\n",
            "\n",
            "setup_google_colab. 100%[===================>]   3.70K  --.-KB/s    in 0s      \n",
            "\n",
            "2019-11-05 23:15:31 (74.4 MB/s) - ‘setup_google_colab.py’ saved [3792/3792]\n",
            "\n"
          ],
          "name": "stdout"
        }
      ]
    },
    {
      "cell_type": "markdown",
      "metadata": {
        "id": "HsqFS6X1xVsn",
        "colab_type": "text"
      },
      "source": [
        "# Import stuff"
      ]
    },
    {
      "cell_type": "code",
      "metadata": {
        "ExecuteTime": {
          "end_time": "2018-01-04T16:38:45.815533Z",
          "start_time": "2018-01-04T16:38:45.767828Z"
        },
        "id": "qw8mcpnPxVsq",
        "colab_type": "code",
        "colab": {}
      },
      "source": [
        "import sys\n",
        "sys.path.append(\"..\")\n",
        "import grading"
      ],
      "execution_count": 0,
      "outputs": []
    },
    {
      "cell_type": "code",
      "metadata": {
        "ExecuteTime": {
          "end_time": "2018-01-04T16:38:56.825485Z",
          "start_time": "2018-01-04T16:38:46.131894Z"
        },
        "id": "Ug1S5F56xVsz",
        "colab_type": "code",
        "colab": {}
      },
      "source": [
        "import tensorflow as tf\n",
        "import keras, keras.layers as L, keras.backend as K\n",
        "import numpy as np\n",
        "from sklearn.model_selection import train_test_split\n",
        "from lfw_dataset import load_lfw_dataset\n",
        "%matplotlib inline\n",
        "import matplotlib.pyplot as plt\n",
        "import download_utils\n",
        "import keras_utils\n",
        "import numpy as np\n",
        "from keras_utils import reset_tf_session"
      ],
      "execution_count": 0,
      "outputs": []
    },
    {
      "cell_type": "code",
      "metadata": {
        "ExecuteTime": {
          "end_time": "2018-01-04T16:38:56.830804Z",
          "start_time": "2018-01-04T16:38:56.827147Z"
        },
        "id": "JL38eZSjxVs8",
        "colab_type": "code",
        "colab": {}
      },
      "source": [
        "# !!! remember to clear session/graph if you rebuild your graph to avoid out-of-memory errors !!!"
      ],
      "execution_count": 0,
      "outputs": []
    },
    {
      "cell_type": "markdown",
      "metadata": {
        "id": "0mUhenV4xVtG",
        "colab_type": "text"
      },
      "source": [
        "# Load dataset\n",
        "Dataset was downloaded for you. Relevant links (just in case):\n",
        "- http://www.cs.columbia.edu/CAVE/databases/pubfig/download/lfw_attributes.txt\n",
        "- http://vis-www.cs.umass.edu/lfw/lfw-deepfunneled.tgz\n",
        "- http://vis-www.cs.umass.edu/lfw/lfw.tgz"
      ]
    },
    {
      "cell_type": "code",
      "metadata": {
        "ExecuteTime": {
          "end_time": "2018-01-04T16:38:56.917476Z",
          "start_time": "2018-01-04T16:38:56.832132Z"
        },
        "id": "g94COox7xVtJ",
        "colab_type": "code",
        "colab": {}
      },
      "source": [
        "# we downloaded them for you, just link them here\n",
        "download_utils.link_week_4_resources()"
      ],
      "execution_count": 0,
      "outputs": []
    },
    {
      "cell_type": "code",
      "metadata": {
        "ExecuteTime": {
          "end_time": "2018-01-04T16:39:21.680162Z",
          "start_time": "2018-01-04T16:39:01.554782Z"
        },
        "id": "6ruQ30GgxVtQ",
        "colab_type": "code",
        "colab": {}
      },
      "source": [
        "# load images\n",
        "X, attr = load_lfw_dataset(use_raw=True, dimx=32, dimy=32)\n",
        "IMG_SHAPE = X.shape[1:]\n",
        "\n",
        "# center images\n",
        "X = X.astype('float32') / 255.0 - 0.5\n",
        "\n",
        "# split\n",
        "X_train, X_test = train_test_split(X, test_size=0.1, random_state=42)"
      ],
      "execution_count": 0,
      "outputs": []
    },
    {
      "cell_type": "code",
      "metadata": {
        "ExecuteTime": {
          "end_time": "2018-01-04T16:39:36.649891Z",
          "start_time": "2018-01-04T16:39:36.646605Z"
        },
        "id": "MZ-WRD7nxVtX",
        "colab_type": "code",
        "colab": {}
      },
      "source": [
        "def show_image(x):\n",
        "    plt.imshow(np.clip(x + 0.5, 0, 1))"
      ],
      "execution_count": 0,
      "outputs": []
    },
    {
      "cell_type": "code",
      "metadata": {
        "ExecuteTime": {
          "end_time": "2018-01-04T16:39:39.028360Z",
          "start_time": "2018-01-04T16:39:38.258425Z"
        },
        "id": "bYFNhlANxVtf",
        "colab_type": "code",
        "colab": {}
      },
      "source": [
        "plt.title('sample images')\n",
        "\n",
        "for i in range(6):\n",
        "    plt.subplot(2,3,i+1)\n",
        "    show_image(X[i])\n",
        "\n",
        "print(\"X shape:\", X.shape)\n",
        "print(\"attr shape:\", attr.shape)\n",
        "\n",
        "# try to free memory\n",
        "del X\n",
        "import gc\n",
        "gc.collect()"
      ],
      "execution_count": 0,
      "outputs": []
    },
    {
      "cell_type": "markdown",
      "metadata": {
        "id": "EfyaJQFBxVtm",
        "colab_type": "text"
      },
      "source": [
        "# Autoencoder architecture\n",
        "\n",
        "Let's design autoencoder as two sequential keras models: the encoder and decoder respectively.\n",
        "\n",
        "We will then use symbolic API to apply and train these models.\n",
        "\n",
        "<img src=\"https://github.com/sebglon/intro-to-dl/blob/master/week4/images/autoencoder.png?raw=1\" style=\"width:50%\">"
      ]
    },
    {
      "cell_type": "markdown",
      "metadata": {
        "id": "ITls1y1sxVto",
        "colab_type": "text"
      },
      "source": [
        "# First step: PCA\n",
        "\n",
        "Principial Component Analysis is a popular dimensionality reduction method. \n",
        "\n",
        "Under the hood, PCA attempts to decompose object-feature matrix $X$ into two smaller matrices: $W$ and $\\hat W$ minimizing _mean squared error_:\n",
        "\n",
        "$$\\|(X W) \\hat{W} - X\\|^2_2 \\to_{W, \\hat{W}} \\min$$\n",
        "- $X \\in \\mathbb{R}^{n \\times m}$ - object matrix (**centered**);\n",
        "- $W \\in \\mathbb{R}^{m \\times d}$ - matrix of direct transformation;\n",
        "- $\\hat{W} \\in \\mathbb{R}^{d \\times m}$ - matrix of reverse transformation;\n",
        "- $n$ samples, $m$ original dimensions and $d$ target dimensions;\n",
        "\n",
        "In geometric terms, we want to find d axes along which most of variance occurs. The \"natural\" axes, if you wish.\n",
        "\n",
        "<img src=\"https://github.com/sebglon/intro-to-dl/blob/master/week4/images/pca.png?raw=1\" style=\"width:30%\">\n",
        "\n",
        "\n",
        "PCA can also be seen as a special case of an autoencoder.\n",
        "\n",
        "* __Encoder__: X -> Dense(d units) -> code\n",
        "* __Decoder__: code -> Dense(m units) -> X\n",
        "\n",
        "Where Dense is a fully-connected layer with linear activaton:   $f(X) = W \\cdot X + \\vec b $\n",
        "\n",
        "\n",
        "Note: the bias term in those layers is responsible for \"centering\" the matrix i.e. substracting mean."
      ]
    },
    {
      "cell_type": "code",
      "metadata": {
        "ExecuteTime": {
          "end_time": "2018-01-04T16:39:42.058684Z",
          "start_time": "2018-01-04T16:39:42.046303Z"
        },
        "id": "m11LjcVGxVtq",
        "colab_type": "code",
        "colab": {}
      },
      "source": [
        "def build_pca_autoencoder(img_shape, code_size):\n",
        "    \"\"\"\n",
        "    Here we define a simple linear autoencoder as described above.\n",
        "    We also flatten and un-flatten data to be compatible with image shapes\n",
        "    \"\"\"\n",
        "    \n",
        "    encoder = keras.models.Sequential()\n",
        "    encoder.add(L.InputLayer(img_shape))\n",
        "    encoder.add(L.Flatten())                  #flatten image to vector\n",
        "    encoder.add(L.Dense(code_size))           #actual encoder\n",
        "\n",
        "    decoder = keras.models.Sequential()\n",
        "    decoder.add(L.InputLayer((code_size,)))\n",
        "    decoder.add(L.Dense(np.prod(img_shape)))  #actual decoder, height*width*3 units\n",
        "    decoder.add(L.Reshape(img_shape))         #un-flatten\n",
        "    \n",
        "    return encoder,decoder"
      ],
      "execution_count": 0,
      "outputs": []
    },
    {
      "cell_type": "markdown",
      "metadata": {
        "id": "jz4avDL7xVtw",
        "colab_type": "text"
      },
      "source": [
        "Meld them together into one model:"
      ]
    },
    {
      "cell_type": "code",
      "metadata": {
        "ExecuteTime": {
          "end_time": "2018-01-04T16:41:04.366409Z",
          "start_time": "2018-01-04T16:40:45.919042Z"
        },
        "scrolled": true,
        "id": "BbA5QSTqxVty",
        "colab_type": "code",
        "colab": {}
      },
      "source": [
        "s = reset_tf_session()\n",
        "\n",
        "encoder, decoder = build_pca_autoencoder(IMG_SHAPE, code_size=32)\n",
        "\n",
        "inp = L.Input(IMG_SHAPE)\n",
        "code = encoder(inp)\n",
        "reconstruction = decoder(code)\n",
        "\n",
        "autoencoder = keras.models.Model(inputs=inp, outputs=reconstruction)\n",
        "autoencoder.compile(optimizer='adamax', loss='mse')\n",
        "\n",
        "autoencoder.fit(x=X_train, y=X_train, epochs=15,\n",
        "                validation_data=[X_test, X_test],\n",
        "                callbacks=[keras_utils.TqdmProgressCallback()],\n",
        "                verbose=0)"
      ],
      "execution_count": 0,
      "outputs": []
    },
    {
      "cell_type": "code",
      "metadata": {
        "ExecuteTime": {
          "end_time": "2018-01-04T16:41:11.747674Z",
          "start_time": "2018-01-04T16:41:11.730725Z"
        },
        "id": "Nuznr6uoxVuC",
        "colab_type": "code",
        "colab": {}
      },
      "source": [
        "def visualize(img,encoder,decoder):\n",
        "    \"\"\"Draws original, encoded and decoded images\"\"\"\n",
        "    code = encoder.predict(img[None])[0]  # img[None] is the same as img[np.newaxis, :]\n",
        "    reco = decoder.predict(code[None])[0]\n",
        "\n",
        "    plt.subplot(1,3,1)\n",
        "    plt.title(\"Original\")\n",
        "    show_image(img)\n",
        "\n",
        "    plt.subplot(1,3,2)\n",
        "    plt.title(\"Code\")\n",
        "    plt.imshow(code.reshape([code.shape[-1]//2,-1]))\n",
        "\n",
        "    plt.subplot(1,3,3)\n",
        "    plt.title(\"Reconstructed\")\n",
        "    show_image(reco)\n",
        "    plt.show()\n"
      ],
      "execution_count": 0,
      "outputs": []
    },
    {
      "cell_type": "code",
      "metadata": {
        "ExecuteTime": {
          "end_time": "2018-01-04T16:41:18.700138Z",
          "start_time": "2018-01-04T16:41:17.026047Z"
        },
        "scrolled": true,
        "id": "9evCFtSLxVuM",
        "colab_type": "code",
        "colab": {}
      },
      "source": [
        "score = autoencoder.evaluate(X_test,X_test,verbose=0)\n",
        "print(\"PCA MSE:\", score)\n",
        "\n",
        "for i in range(5):\n",
        "    img = X_test[i]\n",
        "    visualize(img,encoder,decoder)"
      ],
      "execution_count": 0,
      "outputs": []
    },
    {
      "cell_type": "markdown",
      "metadata": {
        "id": "c-fKrSsQxVuT",
        "colab_type": "text"
      },
      "source": [
        "# Going deeper: convolutional autoencoder\n",
        "\n",
        "PCA is neat but surely we can do better. This time we want you to build a deep convolutional autoencoder by... stacking more layers.\n",
        "\n",
        "## Encoder\n",
        "\n",
        "The **encoder** part is pretty standard, we stack convolutional and pooling layers and finish with a dense layer to get the representation of desirable size (`code_size`).\n",
        "\n",
        "We recommend to use `activation='elu'` for all convolutional and dense layers.\n",
        "\n",
        "We recommend to repeat (conv, pool) 4 times with kernel size (3, 3), `padding='same'` and the following numbers of output channels: `32, 64, 128, 256`.\n",
        "\n",
        "Remember to flatten (`L.Flatten()`) output before adding the last dense layer!\n",
        "\n",
        "## Decoder\n",
        "\n",
        "For **decoder** we will use so-called \"transpose convolution\". \n",
        "\n",
        "Traditional convolutional layer takes a patch of an image and produces a number (patch -> number). In \"transpose convolution\" we want to take a number and produce a patch of an image (number -> patch). We need this layer to \"undo\" convolutions in encoder. We had a glimpse of it during week 3 (watch [this video](https://www.coursera.org/learn/intro-to-deep-learning/lecture/auRqf/a-glimpse-of-other-computer-vision-tasks) starting at 5:41).\n",
        "\n",
        "Here's how \"transpose convolution\" works:\n",
        "<img src=\"https://github.com/sebglon/intro-to-dl/blob/master/week4/images/transpose_conv.jpg?raw=1\" style=\"width:60%\">\n",
        "In this example we use a stride of 2 to produce 4x4 output, this way we \"undo\" pooling as well. Another way to think about it: we \"undo\" convolution with stride 2 (which is similar to conv + pool).\n",
        "\n",
        "You can add \"transpose convolution\" layer in Keras like this:\n",
        "```python\n",
        "L.Conv2DTranspose(filters=?, kernel_size=(3, 3), strides=2, activation='elu', padding='same')\n",
        "```\n",
        "\n",
        "Our decoder starts with a dense layer to \"undo\" the last layer of encoder. Remember to reshape its output to \"undo\" `L.Flatten()` in encoder.\n",
        "\n",
        "Now we're ready to undo (conv, pool) pairs. For this we need to stack 4 `L.Conv2DTranspose` layers with the following numbers of output channels: `128, 64, 32, 3`. Each of these layers will learn to \"undo\" (conv, pool) pair in encoder. For the last `L.Conv2DTranspose` layer use `activation=None` because that is our final image."
      ]
    },
    {
      "cell_type": "code",
      "metadata": {
        "ExecuteTime": {
          "end_time": "2018-01-04T16:43:33.562406Z",
          "start_time": "2018-01-04T16:43:33.426581Z"
        },
        "scrolled": true,
        "id": "NJuCPKtoxVuX",
        "colab_type": "code",
        "colab": {}
      },
      "source": [
        "# Let's play around with transpose convolution on examples first\n",
        "def test_conv2d_transpose(img_size, filter_size):\n",
        "    print(\"Transpose convolution test for img_size={}, filter_size={}:\".format(img_size, filter_size))\n",
        "    \n",
        "    x = (np.arange(img_size ** 2, dtype=np.float32) + 1).reshape((1, img_size, img_size, 1))\n",
        "    f = (np.ones(filter_size ** 2, dtype=np.float32)).reshape((filter_size, filter_size, 1, 1))\n",
        "\n",
        "    s = reset_tf_session()\n",
        "    \n",
        "    conv = tf.nn.conv2d_transpose(x, f, \n",
        "                                  output_shape=(1, img_size * 2, img_size * 2, 1), \n",
        "                                  strides=[1, 2, 2, 1], \n",
        "                                  padding='SAME')\n",
        "\n",
        "    result = s.run(conv)\n",
        "    print(\"input:\")\n",
        "    print(x[0, :, :, 0])\n",
        "    print(\"filter:\")\n",
        "    print(f[:, :, 0, 0])\n",
        "    print(\"output:\")\n",
        "    print(result[0, :, :, 0])\n",
        "    s.close()\n",
        "        \n",
        "test_conv2d_transpose(img_size=2, filter_size=2)\n",
        "test_conv2d_transpose(img_size=2, filter_size=3)\n",
        "test_conv2d_transpose(img_size=4, filter_size=2)\n",
        "test_conv2d_transpose(img_size=4, filter_size=3)"
      ],
      "execution_count": 0,
      "outputs": []
    },
    {
      "cell_type": "code",
      "metadata": {
        "ExecuteTime": {
          "end_time": "2018-01-04T16:44:43.582011Z",
          "start_time": "2018-01-04T16:44:43.516283Z"
        },
        "id": "F4w3hQeCxVuh",
        "colab_type": "code",
        "colab": {}
      },
      "source": [
        "def build_deep_autoencoder(img_shape, code_size):\n",
        "    \"\"\"PCA's deeper brother. See instructions above. Use `code_size` in layer definitions.\"\"\"\n",
        "    H,W,C = img_shape\n",
        "    \n",
        "    # encoder\n",
        "    encoder = keras.models.Sequential()\n",
        "    encoder.add(L.InputLayer(img_shape))\n",
        "    \n",
        "    ### YOUR CODE HERE: define encoder as per instructions above ###\n",
        "    ## Conv 1\n",
        "    encoder.add(L.Conv2D(32, (2, 2), activation='elu', padding=\"same\"))\n",
        "    encoder.add(L.MaxPooling2D(pool_size=(2, 2)))\n",
        "    ## Conv 2\n",
        "    encoder.add(L.Conv2D(64, (2, 2), activation='elu', padding=\"same\"))\n",
        "    encoder.add(L.MaxPooling2D(pool_size=(2, 2)))\n",
        "    ## Conv 3\n",
        "    encoder.add(L.Conv2D(128, (2, 2), activation='elu', padding=\"same\"))\n",
        "    encoder.add(L.MaxPooling2D(pool_size=(2, 2)))\n",
        "    ## Conv 4\n",
        "    encoder.add(L.Conv2D(256, (2, 2), activation='relu', padding=\"same\"))\n",
        "    encoder.add(L.MaxPooling2D(pool_size=(2, 2)))\n",
        "    ## Flatten before Dense\n",
        "    encoder.add(L.Flatten())\n",
        "    encoder.add(L.Dense(code_size))\n",
        "\n",
        "    # decoder\n",
        "    decoder = keras.models.Sequential()\n",
        "    decoder.add(L.InputLayer((code_size,)))\n",
        "    \n",
        "    ### YOUR CODE HERE: define decoder as per instructions above ###\n",
        "    decoder.add(L.Dense(2*2*256))\n",
        "    decoder.add(L.Reshape((2,2,256))) #un-flatten\n",
        "    # Conv 4\n",
        "    decoder.add(L.Conv2DTranspose(filters=128, kernel_size=(3, 3), strides=2, activation='elu', padding='same'))\n",
        "    # Conv 3\n",
        "    decoder.add(L.Conv2DTranspose(filters=64, kernel_size=(3, 3), strides=2, activation='elu', padding='same'))\n",
        "    # Conv 2\n",
        "    decoder.add(L.Conv2DTranspose(filters=32, kernel_size=(3, 3), strides=2, activation='elu', padding='same'))\n",
        "    # Conv 1\n",
        "    decoder.add(L.Conv2DTranspose(filters=3, kernel_size=(3, 3), strides=2, activation=None, padding='same'))\n",
        "\n",
        "    return encoder, decoder"
      ],
      "execution_count": 0,
      "outputs": []
    },
    {
      "cell_type": "code",
      "metadata": {
        "ExecuteTime": {
          "end_time": "2018-01-04T16:44:53.805124Z",
          "start_time": "2018-01-04T16:44:52.846510Z"
        },
        "id": "LaZGVLi8xVuz",
        "colab_type": "code",
        "colab": {}
      },
      "source": [
        "# Check autoencoder shapes along different code_sizes\n",
        "get_dim = lambda layer: np.prod(layer.output_shape[1:])\n",
        "for code_size in [1,8,32,128,512]:\n",
        "    s = reset_tf_session()\n",
        "    print(IMG_SHAPE)\n",
        "    encoder, decoder = build_deep_autoencoder(IMG_SHAPE, code_size=code_size)\n",
        "    print(\"Testing code size %i\" % code_size)\n",
        "    print(decoder.output_shape)\n",
        "    assert encoder.output_shape[1:]==(code_size,),\"encoder must output a code of required size\"\n",
        "    assert decoder.output_shape[1:]==IMG_SHAPE,   \"decoder must output an image of valid shape\"\n",
        "    assert len(encoder.trainable_weights)>=6,     \"encoder must contain at least 3 layers\"\n",
        "    assert len(decoder.trainable_weights)>=6,     \"decoder must contain at least 3 layers\"\n",
        "    \n",
        "    for layer in encoder.layers + decoder.layers:\n",
        "        assert get_dim(layer) >= code_size, \"Encoder layer %s is smaller than bottleneck (%i units)\"%(layer.name,get_dim(layer))\n",
        "\n",
        "print(\"All tests passed!\")\n",
        "s = reset_tf_session()"
      ],
      "execution_count": 0,
      "outputs": []
    },
    {
      "cell_type": "code",
      "metadata": {
        "ExecuteTime": {
          "end_time": "2018-01-04T16:45:16.966538Z",
          "start_time": "2018-01-04T16:45:16.804252Z"
        },
        "scrolled": true,
        "id": "U7U2W7BqxVvP",
        "colab_type": "code",
        "colab": {}
      },
      "source": [
        "# Look at encoder and decoder shapes.\n",
        "# Total number of trainable parameters of encoder and decoder should be close.\n",
        "s = reset_tf_session()\n",
        "encoder, decoder = build_deep_autoencoder(IMG_SHAPE, code_size=32)\n",
        "encoder.summary()\n",
        "decoder.summary()"
      ],
      "execution_count": 0,
      "outputs": []
    },
    {
      "cell_type": "markdown",
      "metadata": {
        "id": "jzuq79fwxVvW",
        "colab_type": "text"
      },
      "source": [
        "Convolutional autoencoder training. This will take **1 hour**. You're aiming at ~0.0056 validation MSE and ~0.0054 training MSE."
      ]
    },
    {
      "cell_type": "code",
      "metadata": {
        "ExecuteTime": {
          "end_time": "2018-01-04T16:48:32.365157Z",
          "start_time": "2018-01-04T16:46:03.202875Z"
        },
        "id": "UwkjvVQOxVvY",
        "colab_type": "code",
        "colab": {}
      },
      "source": [
        "s = reset_tf_session()\n",
        "\n",
        "encoder, decoder = build_deep_autoencoder(IMG_SHAPE, code_size=32)\n",
        "\n",
        "inp = L.Input(IMG_SHAPE)\n",
        "code = encoder(inp)\n",
        "reconstruction = decoder(code)\n",
        "\n",
        "autoencoder = keras.models.Model(inputs=inp, outputs=reconstruction)\n",
        "autoencoder.compile(optimizer=\"adamax\", loss='mse')"
      ],
      "execution_count": 0,
      "outputs": []
    },
    {
      "cell_type": "code",
      "metadata": {
        "ExecuteTime": {
          "end_time": "2018-01-04T16:48:32.365157Z",
          "start_time": "2018-01-04T16:46:03.202875Z"
        },
        "id": "IacmOd9HxVvp",
        "colab_type": "code",
        "colab": {}
      },
      "source": [
        "# we will save model checkpoints here to continue training in case of kernel death\n",
        "model_filename = 'autoencoder.{0:03d}.hdf5'\n",
        "last_finished_epoch = None\n",
        "\n",
        "#### uncomment below to continue training from model checkpoint\n",
        "#### fill `last_finished_epoch` with your latest finished epoch\n",
        "# from keras.models import load_model\n",
        "# s = reset_tf_session()\n",
        "# last_finished_epoch = 4\n",
        "# autoencoder = load_model(model_filename.format(last_finished_epoch))\n",
        "# encoder = autoencoder.layers[1]\n",
        "# decoder = autoencoder.layers[2]"
      ],
      "execution_count": 0,
      "outputs": []
    },
    {
      "cell_type": "code",
      "metadata": {
        "ExecuteTime": {
          "end_time": "2018-01-04T16:48:32.365157Z",
          "start_time": "2018-01-04T16:46:03.202875Z"
        },
        "scrolled": true,
        "id": "i9K022E4xVv7",
        "colab_type": "code",
        "colab": {}
      },
      "source": [
        "autoencoder.fit(x=X_train, y=X_train, epochs=25,\n",
        "                validation_data=[X_test, X_test],\n",
        "                callbacks=[keras_utils.ModelSaveCallback(model_filename),\n",
        "                           keras_utils.TqdmProgressCallback()],\n",
        "                verbose=0,\n",
        "                initial_epoch=last_finished_epoch or 0)"
      ],
      "execution_count": 0,
      "outputs": []
    },
    {
      "cell_type": "code",
      "metadata": {
        "ExecuteTime": {
          "end_time": "2018-01-04T16:49:25.084704Z",
          "start_time": "2018-01-04T16:49:23.236568Z"
        },
        "scrolled": true,
        "id": "jSqUKtvgxVwL",
        "colab_type": "code",
        "colab": {}
      },
      "source": [
        "reconstruction_mse = autoencoder.evaluate(X_test, X_test, verbose=0)\n",
        "print(\"Convolutional autoencoder MSE:\", reconstruction_mse)\n",
        "for i in range(5):\n",
        "    img = X_test[i]\n",
        "    visualize(img,encoder,decoder)"
      ],
      "execution_count": 0,
      "outputs": []
    },
    {
      "cell_type": "code",
      "metadata": {
        "ExecuteTime": {
          "end_time": "2018-01-04T16:49:54.273061Z",
          "start_time": "2018-01-04T16:49:54.230656Z"
        },
        "id": "_dJkYaKAxVwY",
        "colab_type": "code",
        "colab": {}
      },
      "source": [
        "# save trained weights\n",
        "encoder.save_weights(\"encoder.h5\")\n",
        "decoder.save_weights(\"decoder.h5\")"
      ],
      "execution_count": 0,
      "outputs": []
    },
    {
      "cell_type": "code",
      "metadata": {
        "ExecuteTime": {
          "end_time": "2018-01-04T16:50:01.657093Z",
          "start_time": "2018-01-04T16:50:01.067976Z"
        },
        "id": "KAkFddQdxVwe",
        "colab_type": "code",
        "colab": {}
      },
      "source": [
        "# restore trained weights\n",
        "s = reset_tf_session()\n",
        "\n",
        "encoder, decoder = build_deep_autoencoder(IMG_SHAPE, code_size=32)\n",
        "encoder.load_weights(\"encoder.h5\")\n",
        "decoder.load_weights(\"decoder.h5\")\n",
        "\n",
        "inp = L.Input(IMG_SHAPE)\n",
        "code = encoder(inp)\n",
        "reconstruction = decoder(code)\n",
        "\n",
        "autoencoder = keras.models.Model(inputs=inp, outputs=reconstruction)\n",
        "autoencoder.compile(optimizer=\"adamax\", loss='mse')\n",
        "\n",
        "print(autoencoder.evaluate(X_test, X_test, verbose=0))\n",
        "print(reconstruction_mse)"
      ],
      "execution_count": 0,
      "outputs": []
    },
    {
      "cell_type": "markdown",
      "metadata": {
        "id": "d6Om6FfWxVwk",
        "colab_type": "text"
      },
      "source": [
        "# Submit to Coursera"
      ]
    },
    {
      "cell_type": "code",
      "metadata": {
        "id": "HY5nwnpxxVwm",
        "colab_type": "code",
        "colab": {}
      },
      "source": [
        "from submit import submit_autoencoder\n",
        "submission = build_deep_autoencoder(IMG_SHAPE, code_size=71)\n",
        "\n",
        "# token expires every 30 min\n",
        "COURSERA_TOKEN = \"depLTjCfR1k4K6Lt\" ### YOUR TOKEN HERE\n",
        "COURSERA_EMAIL = \"sebglon@gmail.com\" ### YOUR EMAIL HERE\n",
        "\n",
        "submit_autoencoder(submission, reconstruction_mse, COURSERA_EMAIL, COURSERA_TOKEN)"
      ],
      "execution_count": 0,
      "outputs": []
    },
    {
      "cell_type": "markdown",
      "metadata": {
        "id": "-aDgb8VyxVwr",
        "colab_type": "text"
      },
      "source": [
        "# Optional: Denoising Autoencoder\n",
        "\n",
        "This part is **optional**, it shows you one useful application of autoencoders: denoising. You can run this code and make sure denoising works :) \n",
        "\n",
        "Let's now turn our model into a denoising autoencoder:\n",
        "<img src=\"https://github.com/sebglon/intro-to-dl/blob/master/week4/images/denoising.jpg?raw=1\" style=\"width:40%\">\n",
        "\n",
        "We'll keep the model architecture, but change the way it is trained. In particular, we'll corrupt its input data randomly with noise before each epoch.\n",
        "\n",
        "There are many strategies to introduce noise: adding gaussian white noise, occluding with random black rectangles, etc. We will add gaussian white noise."
      ]
    },
    {
      "cell_type": "code",
      "metadata": {
        "ExecuteTime": {
          "end_time": "2018-01-04T16:52:04.861818Z",
          "start_time": "2018-01-04T16:52:04.856134Z"
        },
        "id": "CSc0UTAfxVwy",
        "colab_type": "code",
        "colab": {}
      },
      "source": [
        "def apply_gaussian_noise(X,sigma=0.1):\n",
        "    \"\"\"\n",
        "    adds noise from standard normal distribution with standard deviation sigma\n",
        "    :param X: image tensor of shape [batch,height,width,3]\n",
        "    Returns X + noise.\n",
        "    \"\"\"\n",
        "    noise = ### YOUR CODE HERE ###\n",
        "    return X + noise"
      ],
      "execution_count": 0,
      "outputs": []
    },
    {
      "cell_type": "code",
      "metadata": {
        "ExecuteTime": {
          "end_time": "2018-01-04T16:52:06.264119Z",
          "start_time": "2018-01-04T16:52:06.223714Z"
        },
        "id": "uN5B70uKxVw8",
        "colab_type": "code",
        "colab": {}
      },
      "source": [
        "# noise tests\n",
        "theoretical_std = (X_train[:100].std()**2 + 0.5**2)**.5\n",
        "our_std = apply_gaussian_noise(X_train[:100],sigma=0.5).std()\n",
        "assert abs(theoretical_std - our_std) < 0.01, \"Standard deviation does not match it's required value. Make sure you use sigma as std.\"\n",
        "assert abs(apply_gaussian_noise(X_train[:100],sigma=0.5).mean() - X_train[:100].mean()) < 0.01, \"Mean has changed. Please add zero-mean noise\""
      ],
      "execution_count": 0,
      "outputs": []
    },
    {
      "cell_type": "code",
      "metadata": {
        "ExecuteTime": {
          "end_time": "2018-01-04T16:52:08.220681Z",
          "start_time": "2018-01-04T16:52:07.737460Z"
        },
        "id": "yGzh0FxwxVxC",
        "colab_type": "code",
        "colab": {}
      },
      "source": [
        "# test different noise scales\n",
        "plt.subplot(1,4,1)\n",
        "show_image(X_train[0])\n",
        "plt.subplot(1,4,2)\n",
        "show_image(apply_gaussian_noise(X_train[:1],sigma=0.01)[0])\n",
        "plt.subplot(1,4,3)\n",
        "show_image(apply_gaussian_noise(X_train[:1],sigma=0.1)[0])\n",
        "plt.subplot(1,4,4)\n",
        "show_image(apply_gaussian_noise(X_train[:1],sigma=0.5)[0])"
      ],
      "execution_count": 0,
      "outputs": []
    },
    {
      "cell_type": "markdown",
      "metadata": {
        "id": "DYWF4AyaxVxI",
        "colab_type": "text"
      },
      "source": [
        "Training will take **1 hour**."
      ]
    },
    {
      "cell_type": "code",
      "metadata": {
        "ExecuteTime": {
          "end_time": "2018-01-04T16:56:02.667408Z",
          "start_time": "2018-01-04T16:52:31.853874Z"
        },
        "scrolled": true,
        "id": "4q8z4stMxVxK",
        "colab_type": "code",
        "colab": {}
      },
      "source": [
        "s = reset_tf_session()\n",
        "\n",
        "# we use bigger code size here for better quality\n",
        "encoder, decoder = build_deep_autoencoder(IMG_SHAPE, code_size=512)\n",
        "assert encoder.output_shape[1:]==(512,), \"encoder must output a code of required size\"\n",
        "\n",
        "inp = L.Input(IMG_SHAPE)\n",
        "code = encoder(inp)\n",
        "reconstruction = decoder(code)\n",
        "\n",
        "autoencoder = keras.models.Model(inp, reconstruction)\n",
        "autoencoder.compile('adamax', 'mse')\n",
        "\n",
        "for i in range(25):\n",
        "    print(\"Epoch %i/25, Generating corrupted samples...\"%(i+1))\n",
        "    X_train_noise = apply_gaussian_noise(X_train)\n",
        "    X_test_noise = apply_gaussian_noise(X_test)\n",
        "    \n",
        "    # we continue to train our model with new noise-augmented data\n",
        "    autoencoder.fit(x=X_train_noise, y=X_train, epochs=1,\n",
        "                    validation_data=[X_test_noise, X_test],\n",
        "                    callbacks=[keras_utils.TqdmProgressCallback()],\n",
        "                    verbose=0)"
      ],
      "execution_count": 0,
      "outputs": []
    },
    {
      "cell_type": "code",
      "metadata": {
        "ExecuteTime": {
          "end_time": "2018-01-04T16:56:09.059164Z",
          "start_time": "2018-01-04T16:56:06.987995Z"
        },
        "scrolled": true,
        "id": "spBr3PLrxVxY",
        "colab_type": "code",
        "colab": {}
      },
      "source": [
        "X_test_noise = apply_gaussian_noise(X_test)\n",
        "denoising_mse = autoencoder.evaluate(X_test_noise, X_test, verbose=0)\n",
        "print(\"Denoising MSE:\", denoising_mse)\n",
        "for i in range(5):\n",
        "    img = X_test_noise[i]\n",
        "    visualize(img,encoder,decoder)"
      ],
      "execution_count": 0,
      "outputs": []
    },
    {
      "cell_type": "markdown",
      "metadata": {
        "id": "BwJquliHxVxn",
        "colab_type": "text"
      },
      "source": [
        "# Optional: Image retrieval with autoencoders\n",
        "\n",
        "So we've just trained a network that converts image into itself imperfectly. This task is not that useful in and of itself, but it has a number of awesome side-effects. Let's see them in action.\n",
        "\n",
        "First thing we can do is image retrieval aka image search. We will give it an image and find similar images in latent space:\n",
        "\n",
        "<img src=\"https://github.com/sebglon/intro-to-dl/blob/master/week4/images/similar_images.jpg?raw=1\" style=\"width:60%\">\n",
        "\n",
        "To speed up retrieval process, one should use Locality Sensitive Hashing on top of encoded vectors. This [technique](https://erikbern.com/2015/07/04/benchmark-of-approximate-nearest-neighbor-libraries.html) can narrow down the potential nearest neighbours of our image in latent space (encoder code). We will caclulate nearest neighbours in brute force way for simplicity."
      ]
    },
    {
      "cell_type": "code",
      "metadata": {
        "ExecuteTime": {
          "end_time": "2018-01-04T16:56:25.988163Z",
          "start_time": "2018-01-04T16:56:25.784071Z"
        },
        "id": "kHpOZ8L-xVx6",
        "colab_type": "code",
        "colab": {}
      },
      "source": [
        "# restore trained encoder weights\n",
        "s = reset_tf_session()\n",
        "encoder, decoder = build_deep_autoencoder(IMG_SHAPE, code_size=32)\n",
        "encoder.load_weights(\"encoder.h5\")"
      ],
      "execution_count": 0,
      "outputs": []
    },
    {
      "cell_type": "code",
      "metadata": {
        "ExecuteTime": {
          "end_time": "2018-01-04T16:56:30.368727Z",
          "start_time": "2018-01-04T16:56:29.246409Z"
        },
        "id": "1uKCwiBrxVx_",
        "colab_type": "code",
        "colab": {}
      },
      "source": [
        "images = X_train\n",
        "codes = ### YOUR CODE HERE: encode all images ###\n",
        "assert len(codes) == len(images)"
      ],
      "execution_count": 0,
      "outputs": []
    },
    {
      "cell_type": "code",
      "metadata": {
        "ExecuteTime": {
          "end_time": "2018-01-04T16:56:39.396176Z",
          "start_time": "2018-01-04T16:56:39.370156Z"
        },
        "id": "G6JYSs1nxVyE",
        "colab_type": "code",
        "colab": {}
      },
      "source": [
        "from sklearn.neighbors.unsupervised import NearestNeighbors\n",
        "nei_clf = NearestNeighbors(metric=\"euclidean\")\n",
        "nei_clf.fit(codes)"
      ],
      "execution_count": 0,
      "outputs": []
    },
    {
      "cell_type": "code",
      "metadata": {
        "ExecuteTime": {
          "end_time": "2018-01-04T16:56:42.213214Z",
          "start_time": "2018-01-04T16:56:42.206902Z"
        },
        "id": "WzAt4h-BxVyL",
        "colab_type": "code",
        "colab": {}
      },
      "source": [
        "def get_similar(image, n_neighbors=5):\n",
        "    assert image.ndim==3,\"image must be [batch,height,width,3]\"\n",
        "\n",
        "    code = encoder.predict(image[None])\n",
        "    \n",
        "    (distances,),(idx,) = nei_clf.kneighbors(code,n_neighbors=n_neighbors)\n",
        "    \n",
        "    return distances,images[idx]"
      ],
      "execution_count": 0,
      "outputs": []
    },
    {
      "cell_type": "code",
      "metadata": {
        "ExecuteTime": {
          "end_time": "2018-01-04T16:56:44.008658Z",
          "start_time": "2018-01-04T16:56:43.997658Z"
        },
        "id": "59osqg13xVyQ",
        "colab_type": "code",
        "colab": {}
      },
      "source": [
        "def show_similar(image):\n",
        "    \n",
        "    distances,neighbors = get_similar(image,n_neighbors=3)\n",
        "    \n",
        "    plt.figure(figsize=[8,7])\n",
        "    plt.subplot(1,4,1)\n",
        "    show_image(image)\n",
        "    plt.title(\"Original image\")\n",
        "    \n",
        "    for i in range(3):\n",
        "        plt.subplot(1,4,i+2)\n",
        "        show_image(neighbors[i])\n",
        "        plt.title(\"Dist=%.3f\"%distances[i])\n",
        "    plt.show()"
      ],
      "execution_count": 0,
      "outputs": []
    },
    {
      "cell_type": "markdown",
      "metadata": {
        "id": "PFPQA_nkxVyh",
        "colab_type": "text"
      },
      "source": [
        "Cherry-picked examples:"
      ]
    },
    {
      "cell_type": "code",
      "metadata": {
        "ExecuteTime": {
          "end_time": "2018-01-04T16:57:31.768260Z",
          "start_time": "2018-01-04T16:57:31.240174Z"
        },
        "id": "GeTSwhExxVyv",
        "colab_type": "code",
        "colab": {}
      },
      "source": [
        "# smiles\n",
        "show_similar(X_test[247])"
      ],
      "execution_count": 0,
      "outputs": []
    },
    {
      "cell_type": "code",
      "metadata": {
        "ExecuteTime": {
          "end_time": "2018-01-04T16:56:50.828404Z",
          "start_time": "2018-01-04T16:56:50.462822Z"
        },
        "id": "YmNw3pvmxVy1",
        "colab_type": "code",
        "colab": {}
      },
      "source": [
        "# ethnicity\n",
        "show_similar(X_test[56])"
      ],
      "execution_count": 0,
      "outputs": []
    },
    {
      "cell_type": "code",
      "metadata": {
        "ExecuteTime": {
          "end_time": "2018-01-04T16:56:52.939288Z",
          "start_time": "2018-01-04T16:56:52.576097Z"
        },
        "scrolled": false,
        "id": "x_K4yJG5xVy6",
        "colab_type": "code",
        "colab": {}
      },
      "source": [
        "# glasses\n",
        "show_similar(X_test[63])"
      ],
      "execution_count": 0,
      "outputs": []
    },
    {
      "cell_type": "markdown",
      "metadata": {
        "collapsed": true,
        "id": "39vhkSzQxVy_",
        "colab_type": "text"
      },
      "source": [
        "# Optional: Cheap image morphing\n"
      ]
    },
    {
      "cell_type": "markdown",
      "metadata": {
        "id": "0jwEoqtexVzB",
        "colab_type": "text"
      },
      "source": [
        "We can take linear combinations of image codes to produce new images with decoder."
      ]
    },
    {
      "cell_type": "code",
      "metadata": {
        "ExecuteTime": {
          "end_time": "2018-01-04T16:57:58.378044Z",
          "start_time": "2018-01-04T16:57:58.145544Z"
        },
        "id": "h5Cvnn71xVzL",
        "colab_type": "code",
        "colab": {}
      },
      "source": [
        "# restore trained encoder weights\n",
        "s = reset_tf_session()\n",
        "encoder, decoder = build_deep_autoencoder(IMG_SHAPE, code_size=32)\n",
        "encoder.load_weights(\"encoder.h5\")\n",
        "decoder.load_weights(\"decoder.h5\")"
      ],
      "execution_count": 0,
      "outputs": []
    },
    {
      "cell_type": "code",
      "metadata": {
        "ExecuteTime": {
          "end_time": "2018-01-04T16:58:03.396368Z",
          "start_time": "2018-01-04T16:58:00.359973Z"
        },
        "id": "6ZdG3zN2xVzZ",
        "colab_type": "code",
        "colab": {}
      },
      "source": [
        "for _ in range(5):\n",
        "    image1,image2 = X_test[np.random.randint(0,len(X_test),size=2)]\n",
        "\n",
        "    code1, code2 = encoder.predict(np.stack([image1, image2]))\n",
        "\n",
        "    plt.figure(figsize=[10,4])\n",
        "    for i,a in enumerate(np.linspace(0,1,num=7)):\n",
        "\n",
        "        output_code = code1*(1-a) + code2*(a)\n",
        "        output_image = decoder.predict(output_code[None])[0]\n",
        "\n",
        "        plt.subplot(1,7,i+1)\n",
        "        show_image(output_image)\n",
        "        plt.title(\"a=%.2f\"%a)\n",
        "        \n",
        "    plt.show()"
      ],
      "execution_count": 0,
      "outputs": []
    },
    {
      "cell_type": "markdown",
      "metadata": {
        "collapsed": true,
        "id": "4L4GokSCxVzs",
        "colab_type": "text"
      },
      "source": [
        "That's it!\n",
        "\n",
        "Of course there's a lot more you can do with autoencoders.\n",
        "\n",
        "If you want to generate images from scratch, however, we recommend you our honor track on Generative Adversarial Networks or GANs."
      ]
    }
  ]
}